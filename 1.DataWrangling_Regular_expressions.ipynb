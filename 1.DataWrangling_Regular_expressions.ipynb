{
 "cells": [
  {
   "cell_type": "markdown",
   "metadata": {},
   "source": [
    "# Data Wrangling using Regular expressions - Python"
   ]
  },
  {
   "cell_type": "markdown",
   "metadata": {},
   "source": [
    "A RegEx, or Regular Expression, is a search pattern and it helps to check and find if we have any patterns on the same.\n",
    "\n",
    "re is the inbuilt python package available"
   ]
  },
  {
   "cell_type": "code",
   "execution_count": 16,
   "metadata": {},
   "outputs": [],
   "source": [
    "#import the library\n",
    "import re # regular expressionss\n",
    "import numpy as np # numeric python\n",
    "import pandas as pd #pandas\n"
   ]
  },
  {
   "cell_type": "markdown",
   "metadata": {},
   "source": [
    "### Regular expression function"
   ]
  },
  {
   "cell_type": "markdown",
   "metadata": {},
   "source": [
    "### Get the counts\n",
    "\n",
    "1. Character count\n",
    "2. Word count\n",
    "3. Split the words using delimiters\n",
    "4. Data extraction in a specific format and # times\n",
    "5. Split the string into character\n",
    "6. change the text"
   ]
  },
  {
   "cell_type": "code",
   "execution_count": 20,
   "metadata": {},
   "outputs": [
    {
     "data": {
      "text/plain": [
       "'Great Learing is a great place to learn  things on analytics !!!, it creates a great environment to learn and play around data'"
      ]
     },
     "execution_count": 20,
     "metadata": {},
     "output_type": "execute_result"
    }
   ],
   "source": [
    "text = \"Great Learing is a great place to learn  things on analytics !!!, it creates a great environment to learn and play around data\"\n",
    "text"
   ]
  },
  {
   "cell_type": "markdown",
   "metadata": {},
   "source": [
    "#### 1. character count"
   ]
  },
  {
   "cell_type": "code",
   "execution_count": 21,
   "metadata": {},
   "outputs": [
    {
     "data": {
      "text/plain": [
       "126"
      ]
     },
     "execution_count": 21,
     "metadata": {},
     "output_type": "execute_result"
    }
   ],
   "source": [
    "\n",
    "# find how many characters are there in the input\n",
    "char_cnt = len(text)\n",
    "char_cnt\n",
    "\n",
    "## length of the character is 126"
   ]
  },
  {
   "cell_type": "markdown",
   "metadata": {},
   "source": [
    "#### 2. word count"
   ]
  },
  {
   "cell_type": "code",
   "execution_count": 22,
   "metadata": {},
   "outputs": [
    {
     "data": {
      "text/plain": [
       "['Great',\n",
       " 'Learing',\n",
       " 'is',\n",
       " 'a',\n",
       " 'great',\n",
       " 'place',\n",
       " 'to',\n",
       " 'learn',\n",
       " '',\n",
       " 'things',\n",
       " 'on',\n",
       " 'analytics',\n",
       " '!!!,',\n",
       " 'it',\n",
       " 'creates',\n",
       " 'a',\n",
       " 'great',\n",
       " 'environment',\n",
       " 'to',\n",
       " 'learn',\n",
       " 'and',\n",
       " 'play',\n",
       " 'around',\n",
       " 'data']"
      ]
     },
     "execution_count": 22,
     "metadata": {},
     "output_type": "execute_result"
    }
   ],
   "source": [
    "\n",
    "\n",
    "# split the sentence into words using the primitive tokenization ' '\n",
    "wrd_cnt =  text.split(' ')\n",
    "wrd_cnt"
   ]
  },
  {
   "cell_type": "code",
   "execution_count": 23,
   "metadata": {},
   "outputs": [
    {
     "data": {
      "text/plain": [
       "24"
      ]
     },
     "execution_count": 23,
     "metadata": {},
     "output_type": "execute_result"
    }
   ],
   "source": [
    "len(wrd_cnt)\n",
    "## length of the words are 24"
   ]
  },
  {
   "cell_type": "markdown",
   "metadata": {},
   "source": [
    "##### 3. split the words using delimiters"
   ]
  },
  {
   "cell_type": "code",
   "execution_count": 24,
   "metadata": {},
   "outputs": [
    {
     "name": "stdout",
     "output_type": "stream",
     "text": [
      "['great', 'learning', 'is', 'a', 'great', 'place', 'to', 'learn']\n"
     ]
    }
   ],
   "source": [
    "text = 'great learning is a great place to learn'\n",
    "  \n",
    "# Splits at space \n",
    "print(text.split()) "
   ]
  },
  {
   "cell_type": "code",
   "execution_count": 25,
   "metadata": {},
   "outputs": [
    {
     "name": "stdout",
     "output_type": "stream",
     "text": [
      "['great learning', ' is a great place to learn']\n"
     ]
    }
   ],
   "source": [
    "text = 'great learning, is a great place to learn'\n",
    "  \n",
    "# Splits at , \n",
    "print(text.split(','))"
   ]
  },
  {
   "cell_type": "code",
   "execution_count": 26,
   "metadata": {},
   "outputs": [
    {
     "name": "stdout",
     "output_type": "stream",
     "text": [
      "['great learning', ' is a great place', ' to learn']\n"
     ]
    }
   ],
   "source": [
    "text = 'great learning: is a great place: to learn'\n",
    "  \n",
    "# Splits at , \n",
    "print(text.split(':'))"
   ]
  },
  {
   "cell_type": "markdown",
   "metadata": {},
   "source": [
    "#### 4.Data extraction in a specific format and # times"
   ]
  },
  {
   "cell_type": "code",
   "execution_count": 27,
   "metadata": {},
   "outputs": [
    {
     "name": "stdout",
     "output_type": "stream",
     "text": [
      "['gre']\n",
      "['at ']\n",
      "['lea']\n",
      "['rni']\n",
      "['ng:']\n",
      "[' is']\n",
      "[' a ']\n",
      "['gre']\n",
      "['at ']\n",
      "['pla']\n",
      "['ce:']\n",
      "[' to']\n",
      "[' le']\n",
      "['arn']\n"
     ]
    }
   ],
   "source": [
    "# this for loop has been modified in the below cell\n",
    "for i in range(0, len(text), 3):\n",
    "    print([text[i:i+3]])"
   ]
  },
  {
   "cell_type": "code",
   "execution_count": 29,
   "metadata": {},
   "outputs": [
    {
     "name": "stdout",
     "output_type": "stream",
     "text": [
      "['gre', 'at ', 'lea', 'rni', 'ng:', ' is', ' a ', 'gre', 'at ', 'pla', 'ce:', ' to', ' le', 'arn']\n"
     ]
    }
   ],
   "source": [
    "# Modified version of the above code which returns as one list\n",
    "text = 'great learning: is a great place: to learn'\n",
    "\n",
    "# Splitting at 3 \n",
    "print([text[i:i+3] for i in range(0, len(text), 3)])"
   ]
  },
  {
   "cell_type": "code",
   "execution_count": 1,
   "metadata": {},
   "outputs": [
    {
     "name": "stdout",
     "output_type": "stream",
     "text": [
      "['great learning', ' is a great place: to learn']\n"
     ]
    }
   ],
   "source": [
    "# split level can be defined manualy as well, stop after identifying the first delimiter\n",
    "text = 'great learning: is a great place: to learn'\n",
    "\n",
    "# maxsplit: 0 \n",
    "print(text.split(':', 1))"
   ]
  },
  {
   "cell_type": "code",
   "execution_count": 31,
   "metadata": {},
   "outputs": [
    {
     "name": "stdout",
     "output_type": "stream",
     "text": [
      "['great learning', ' is a great place', ' to learn']\n"
     ]
    }
   ],
   "source": [
    "text = 'great learning: is a great place: to learn'\n",
    "\n",
    "# maxsplit: 3 \n",
    "print(text.split(':', 3))"
   ]
  },
  {
   "cell_type": "code",
   "execution_count": 32,
   "metadata": {},
   "outputs": [
    {
     "name": "stdout",
     "output_type": "stream",
     "text": [
      "['great learning', ' is a great place', ' to learn']\n"
     ]
    }
   ],
   "source": [
    "text = 'great learning: is a great place: to learn'\n",
    "\n",
    "#max delimiter is 3, so it cannot split more than 3\n",
    "\n",
    "# maxsplit: 4 \n",
    "print(text.split(':', 4))"
   ]
  },
  {
   "cell_type": "markdown",
   "metadata": {},
   "source": [
    "#### 5. Split the string into character"
   ]
  },
  {
   "cell_type": "code",
   "execution_count": 33,
   "metadata": {},
   "outputs": [
    {
     "ename": "ValueError",
     "evalue": "empty separator",
     "output_type": "error",
     "traceback": [
      "\u001b[0;31m---------------------------------------------------------------------------\u001b[0m",
      "\u001b[0;31mValueError\u001b[0m                                Traceback (most recent call last)",
      "\u001b[0;32m<ipython-input-33-f72fd590738d>\u001b[0m in \u001b[0;36m<module>\u001b[0;34m\u001b[0m\n\u001b[1;32m      1\u001b[0m \u001b[0mtext\u001b[0m \u001b[0;34m=\u001b[0m \u001b[0;34m'great learning: is a great place: to learn'\u001b[0m\u001b[0;34m\u001b[0m\u001b[0;34m\u001b[0m\u001b[0m\n\u001b[0;32m----> 2\u001b[0;31m \u001b[0mtext\u001b[0m\u001b[0;34m.\u001b[0m\u001b[0msplit\u001b[0m\u001b[0;34m(\u001b[0m\u001b[0;34m''\u001b[0m\u001b[0;34m)\u001b[0m\u001b[0;34m\u001b[0m\u001b[0;34m\u001b[0m\u001b[0m\n\u001b[0m\u001b[1;32m      3\u001b[0m \u001b[0;31m# it fails, because we have only one word\u001b[0m\u001b[0;34m\u001b[0m\u001b[0;34m\u001b[0m\u001b[0;34m\u001b[0m\u001b[0m\n",
      "\u001b[0;31mValueError\u001b[0m: empty separator"
     ]
    }
   ],
   "source": [
    "text = 'great learning: is a great place: to learn'\n",
    "text.split('')\n",
    "# it fails, because we have only one word"
   ]
  },
  {
   "cell_type": "code",
   "execution_count": 34,
   "metadata": {},
   "outputs": [],
   "source": [
    "## ways to split the letters from the word\n",
    "#  1. using for loop\n",
    "#  2. Using list"
   ]
  },
  {
   "cell_type": "code",
   "execution_count": 2,
   "metadata": {},
   "outputs": [
    {
     "name": "stdout",
     "output_type": "stream",
     "text": [
      "['g', 'r', 'e', 'a', 't', 'l', 'e', 'a', 'r', 'n', 'i', 'n', 'g']\n"
     ]
    }
   ],
   "source": [
    "#  1. using for loop\n",
    "\n",
    "# define a function to split the word into string\n",
    "def split(text): \n",
    "    return [char for char in text]  \n",
    "      \n",
    "text = \"greatlearning\"\n",
    "# call the function split \n",
    "print(split(text)) "
   ]
  },
  {
   "cell_type": "code",
   "execution_count": 38,
   "metadata": {},
   "outputs": [
    {
     "name": "stdout",
     "output_type": "stream",
     "text": [
      "['g', 'r', 'e', 'a', 't', ' ', 'l', 'e', 'a', 'r', 'n', 'i', 'n', 'g', ':', ' ', 'i', 's', ' ', 'a', ' ', 'g', 'r', 'e', 'a', 't', ' ', 'p', 'l', 'a', 'c', 'e', ':', ' ', 't', 'o', ' ', 'l', 'e', 'a', 'r', 'n']\n"
     ]
    }
   ],
   "source": [
    "#  2. Using list\n",
    "\n",
    "# define a function to split the word into string using list\n",
    "def split(text): \n",
    "    return list(text) \n",
    "      \n",
    "# call the function split \n",
    "print(split(text)) "
   ]
  },
  {
   "cell_type": "markdown",
   "metadata": {},
   "source": [
    "### Handling word\n",
    "\n",
    "1. finding specific words\n",
    "2. find unique words\n",
    "3. String operators\n",
    "4. words split and joins\n",
    "5. Simple data cleansing"
   ]
  },
  {
   "cell_type": "markdown",
   "metadata": {},
   "source": [
    "#### 1. finding specific words"
   ]
  },
  {
   "cell_type": "code",
   "execution_count": 39,
   "metadata": {},
   "outputs": [
    {
     "data": {
      "text/plain": [
       "['Great',\n",
       " 'Learing',\n",
       " 'great',\n",
       " 'place',\n",
       " 'learn',\n",
       " 'things',\n",
       " 'analytics',\n",
       " '!!!,',\n",
       " 'creates',\n",
       " 'great',\n",
       " 'environment',\n",
       " 'learn',\n",
       " 'play',\n",
       " 'around',\n",
       " 'data']"
      ]
     },
     "execution_count": 39,
     "metadata": {},
     "output_type": "execute_result"
    }
   ],
   "source": [
    "## find specific words\n",
    "# eg. long words more than 3 letter long\n",
    "\n",
    "[ w for w in wrd_cnt if len(w)>3 ]"
   ]
  },
  {
   "cell_type": "code",
   "execution_count": 40,
   "metadata": {},
   "outputs": [
    {
     "data": {
      "text/plain": [
       "['Great', 'Learing']"
      ]
     },
     "execution_count": 40,
     "metadata": {},
     "output_type": "execute_result"
    }
   ],
   "source": [
    "# capitalized words\n",
    "# find words which starts with capital letter nad returns only those\n",
    "\n",
    "## istitle, check if the first letter is capital and rest are on small case\n",
    "\n",
    "[ w for w in wrd_cnt if w.istitle() ]"
   ]
  },
  {
   "cell_type": "code",
   "execution_count": 41,
   "metadata": {},
   "outputs": [
    {
     "data": {
      "text/plain": [
       "['is', 'things', 'analytics', 'creates']"
      ]
     },
     "execution_count": 41,
     "metadata": {},
     "output_type": "execute_result"
    }
   ],
   "source": [
    "#words that ends with particular letter\n",
    "\n",
    "[ w for w in wrd_cnt if w.endswith('s') ]"
   ]
  },
  {
   "cell_type": "markdown",
   "metadata": {},
   "source": [
    "#### 2. find unique words"
   ]
  },
  {
   "cell_type": "code",
   "execution_count": 42,
   "metadata": {},
   "outputs": [],
   "source": [
    "# set function to get unique words\n"
   ]
  },
  {
   "cell_type": "code",
   "execution_count": 43,
   "metadata": {},
   "outputs": [
    {
     "data": {
      "text/plain": [
       "'To sell or not to sell'"
      ]
     },
     "execution_count": 43,
     "metadata": {},
     "output_type": "execute_result"
    }
   ],
   "source": [
    "t = \"To sell or not to sell\"\n",
    "t"
   ]
  },
  {
   "cell_type": "code",
   "execution_count": 44,
   "metadata": {},
   "outputs": [
    {
     "data": {
      "text/plain": [
       "6"
      ]
     },
     "execution_count": 44,
     "metadata": {},
     "output_type": "execute_result"
    }
   ],
   "source": [
    "t1 = t.split(\" \")\n",
    "len(t1)\n",
    "\n",
    "## 6 words"
   ]
  },
  {
   "cell_type": "code",
   "execution_count": 45,
   "metadata": {},
   "outputs": [
    {
     "data": {
      "text/plain": [
       "5"
      ]
     },
     "execution_count": 45,
     "metadata": {},
     "output_type": "execute_result"
    }
   ],
   "source": [
    "## to find the unique words\n",
    "len(set(t1))"
   ]
  },
  {
   "cell_type": "code",
   "execution_count": 46,
   "metadata": {},
   "outputs": [],
   "source": [
    "## though we have 2 to's we get the count of 5 but not 4\n",
    "# this is because of the case sensitive issue"
   ]
  },
  {
   "cell_type": "code",
   "execution_count": 47,
   "metadata": {},
   "outputs": [
    {
     "data": {
      "text/plain": [
       "['to', 'sell', 'or', 'not', 'to', 'sell']"
      ]
     },
     "execution_count": 47,
     "metadata": {},
     "output_type": "execute_result"
    }
   ],
   "source": [
    "# lets convert the all the letters into lower case\n",
    "[w.lower() for  w in t1]"
   ]
  },
  {
   "cell_type": "code",
   "execution_count": 48,
   "metadata": {},
   "outputs": [
    {
     "data": {
      "text/plain": [
       "{'not', 'or', 'sell', 'to'}"
      ]
     },
     "execution_count": 48,
     "metadata": {},
     "output_type": "execute_result"
    }
   ],
   "source": [
    "# apply set on top of the lower function\n",
    "set([w.lower() for  w in t1])"
   ]
  },
  {
   "cell_type": "code",
   "execution_count": 49,
   "metadata": {},
   "outputs": [
    {
     "data": {
      "text/plain": [
       "4"
      ]
     },
     "execution_count": 49,
     "metadata": {},
     "output_type": "execute_result"
    }
   ],
   "source": [
    "# we get the right length now\n",
    "\n",
    "len(set([w.lower() for  w in t1]))"
   ]
  },
  {
   "cell_type": "markdown",
   "metadata": {},
   "source": [
    "#### 3. String operators"
   ]
  },
  {
   "cell_type": "code",
   "execution_count": 50,
   "metadata": {},
   "outputs": [
    {
     "data": {
      "text/plain": [
       "' Great Learning. it is a wonderful place to learn '"
      ]
     },
     "execution_count": 50,
     "metadata": {},
     "output_type": "execute_result"
    }
   ],
   "source": [
    "s = ' Great Learning. it is a wonderful place to learn '\n",
    "s"
   ]
  },
  {
   "cell_type": "code",
   "execution_count": 51,
   "metadata": {},
   "outputs": [
    {
     "data": {
      "text/plain": [
       "' great learning. it is a wonderful place to learn '"
      ]
     },
     "execution_count": 51,
     "metadata": {},
     "output_type": "execute_result"
    }
   ],
   "source": [
    "# lower case\n",
    "s.lower()"
   ]
  },
  {
   "cell_type": "code",
   "execution_count": 52,
   "metadata": {},
   "outputs": [
    {
     "data": {
      "text/plain": [
       "' GREAT LEARNING. IT IS A WONDERFUL PLACE TO LEARN '"
      ]
     },
     "execution_count": 52,
     "metadata": {},
     "output_type": "execute_result"
    }
   ],
   "source": [
    "# upper case\n",
    "s.upper()"
   ]
  },
  {
   "cell_type": "code",
   "execution_count": 53,
   "metadata": {},
   "outputs": [
    {
     "data": {
      "text/plain": [
       "False"
      ]
     },
     "execution_count": 53,
     "metadata": {},
     "output_type": "execute_result"
    }
   ],
   "source": [
    "# check for capital letter\n",
    "s.istitle()"
   ]
  },
  {
   "cell_type": "code",
   "execution_count": 57,
   "metadata": {},
   "outputs": [
    {
     "data": {
      "text/plain": [
       "['Great', 'Learning.']"
      ]
     },
     "execution_count": 57,
     "metadata": {},
     "output_type": "execute_result"
    }
   ],
   "source": [
    "## check for capital letters and returns those words alone\n",
    "\n",
    "s = ' Great Learning. it is a wonderful place to learn '\n",
    "word = s.split(' ')\n",
    "\n",
    "[ w for w in word if w.istitle() ]"
   ]
  },
  {
   "cell_type": "code",
   "execution_count": 58,
   "metadata": {},
   "outputs": [
    {
     "data": {
      "text/plain": [
       "' Great Learning. it is a wonderful place to learn'"
      ]
     },
     "execution_count": 58,
     "metadata": {},
     "output_type": "execute_result"
    }
   ],
   "source": [
    "# right strip of white space\n",
    "s.rstrip()"
   ]
  },
  {
   "cell_type": "code",
   "execution_count": 59,
   "metadata": {},
   "outputs": [
    {
     "data": {
      "text/plain": [
       "'Great Learning. it is a wonderful place to learn '"
      ]
     },
     "execution_count": 59,
     "metadata": {},
     "output_type": "execute_result"
    }
   ],
   "source": [
    "# left strip of white space\n",
    "s.lstrip() "
   ]
  },
  {
   "cell_type": "code",
   "execution_count": 60,
   "metadata": {},
   "outputs": [
    {
     "data": {
      "text/plain": [
       "'Great Learning. it is a wonderful place to learn'"
      ]
     },
     "execution_count": 60,
     "metadata": {},
     "output_type": "execute_result"
    }
   ],
   "source": [
    "#  strip of white space both sides\n",
    "s.strip()"
   ]
  },
  {
   "cell_type": "markdown",
   "metadata": {},
   "source": [
    "#### 4. words split and joins"
   ]
  },
  {
   "cell_type": "code",
   "execution_count": 3,
   "metadata": {},
   "outputs": [],
   "source": [
    "# capital city of Burkina Faso\n",
    "tt = 'ouagadougou'"
   ]
  },
  {
   "cell_type": "code",
   "execution_count": 4,
   "metadata": {},
   "outputs": [
    {
     "data": {
      "text/plain": [
       "['ouagadougou']"
      ]
     },
     "execution_count": 4,
     "metadata": {},
     "output_type": "execute_result"
    }
   ],
   "source": [
    "tt1 =  tt.split()\n",
    "tt1 # it returns the entire word"
   ]
  },
  {
   "cell_type": "code",
   "execution_count": 5,
   "metadata": {},
   "outputs": [
    {
     "data": {
      "text/plain": [
       "['', 'agad', 'g', '']"
      ]
     },
     "execution_count": 5,
     "metadata": {},
     "output_type": "execute_result"
    }
   ],
   "source": [
    "tt1 =  tt.split('ou')\n",
    "tt1 # 4 different groups , 1st and last is empty"
   ]
  },
  {
   "cell_type": "code",
   "execution_count": 69,
   "metadata": {},
   "outputs": [
    {
     "data": {
      "text/plain": [
       "'ouagadougou'"
      ]
     },
     "execution_count": 69,
     "metadata": {},
     "output_type": "execute_result"
    }
   ],
   "source": [
    "## lets join the splitted words into a word\n",
    "'ou'.join(tt1)"
   ]
  },
  {
   "cell_type": "code",
   "execution_count": 70,
   "metadata": {},
   "outputs": [
    {
     "data": {
      "text/plain": [
       "'great learning: is a great place: to learn'"
      ]
     },
     "execution_count": 70,
     "metadata": {},
     "output_type": "execute_result"
    }
   ],
   "source": [
    "#input text\n",
    "text = 'great learning: is a great place: to learn'\n",
    "text"
   ]
  },
  {
   "cell_type": "code",
   "execution_count": 75,
   "metadata": {},
   "outputs": [
    {
     "data": {
      "text/plain": [
       "['great learning', ' is a great place', ' to learn']"
      ]
     },
     "execution_count": 75,
     "metadata": {},
     "output_type": "execute_result"
    }
   ],
   "source": [
    "# split based on delimiter\n",
    "a = text.split(':')\n",
    "a"
   ]
  },
  {
   "cell_type": "code",
   "execution_count": 78,
   "metadata": {},
   "outputs": [
    {
     "data": {
      "text/plain": [
       "'great learning: is a great place: to learn'"
      ]
     },
     "execution_count": 78,
     "metadata": {},
     "output_type": "execute_result"
    }
   ],
   "source": [
    "# join based on right delimiter\n",
    "':'.join(a)"
   ]
  },
  {
   "cell_type": "markdown",
   "metadata": {},
   "source": [
    "###### split a string into charaters and join charater into string"
   ]
  },
  {
   "cell_type": "code",
   "execution_count": 81,
   "metadata": {},
   "outputs": [
    {
     "data": {
      "text/plain": [
       "'great learning'"
      ]
     },
     "execution_count": 81,
     "metadata": {},
     "output_type": "execute_result"
    }
   ],
   "source": [
    "txt = \"great learning\"\n",
    "txt"
   ]
  },
  {
   "cell_type": "code",
   "execution_count": 83,
   "metadata": {},
   "outputs": [
    {
     "data": {
      "text/plain": [
       "['g', 'r', 'e', 'a', 't', ' ', 'l', 'e', 'a', 'r', 'n', 'i', 'n', 'g']"
      ]
     },
     "execution_count": 83,
     "metadata": {},
     "output_type": "execute_result"
    }
   ],
   "source": [
    "txt = list(txt)\n",
    "txt"
   ]
  },
  {
   "cell_type": "code",
   "execution_count": 84,
   "metadata": {},
   "outputs": [
    {
     "data": {
      "text/plain": [
       "'great learning'"
      ]
     },
     "execution_count": 84,
     "metadata": {},
     "output_type": "execute_result"
    }
   ],
   "source": [
    "''.join(txt)"
   ]
  },
  {
   "cell_type": "markdown",
   "metadata": {},
   "source": [
    "#### 6. change the text"
   ]
  },
  {
   "cell_type": "code",
   "execution_count": 85,
   "metadata": {},
   "outputs": [
    {
     "data": {
      "text/plain": [
       "'   A quick brown fox jumped over the lazy dog.'"
      ]
     },
     "execution_count": 85,
     "metadata": {},
     "output_type": "execute_result"
    }
   ],
   "source": [
    "text_c = '   A quick brown fox jumped over the lazy dog.'\n",
    "text_c"
   ]
  },
  {
   "cell_type": "code",
   "execution_count": 86,
   "metadata": {},
   "outputs": [
    {
     "data": {
      "text/plain": [
       "['A', 'quick', 'brown', 'fox', 'jumped', 'over', 'the', 'lazy', 'dog.']"
      ]
     },
     "execution_count": 86,
     "metadata": {},
     "output_type": "execute_result"
    }
   ],
   "source": [
    "ts = text_c.split()\n",
    "ts"
   ]
  },
  {
   "cell_type": "code",
   "execution_count": 87,
   "metadata": {},
   "outputs": [
    {
     "data": {
      "text/plain": [
       "13"
      ]
     },
     "execution_count": 87,
     "metadata": {},
     "output_type": "execute_result"
    }
   ],
   "source": [
    "## identifies the first occurance\n",
    "\n",
    "text_c.find('o') \n",
    "#index is 13"
   ]
  },
  {
   "cell_type": "code",
   "execution_count": 88,
   "metadata": {},
   "outputs": [
    {
     "data": {
      "text/plain": [
       "43"
      ]
     },
     "execution_count": 88,
     "metadata": {},
     "output_type": "execute_result"
    }
   ],
   "source": [
    "## identifies the last or reverse occurance\n",
    "\n",
    "text_c.rfind('o') "
   ]
  },
  {
   "cell_type": "code",
   "execution_count": 89,
   "metadata": {},
   "outputs": [
    {
     "data": {
      "text/plain": [
       "'   A quick brOwn fOx jumped Over the lazy dOg.'"
      ]
     },
     "execution_count": 89,
     "metadata": {},
     "output_type": "execute_result"
    }
   ],
   "source": [
    "# replace o with O\n",
    "text_c.replace('o','O')"
   ]
  },
  {
   "cell_type": "markdown",
   "metadata": {},
   "source": [
    "## Data Extraction"
   ]
  },
  {
   "cell_type": "markdown",
   "metadata": {},
   "source": [
    "\n",
    "- findall  :\tfind a match and returns as a list\n",
    "- search   : \tfind the patterns and returns the string\n",
    "- match    :    find the match and returns the pattern or the position\n",
    "- split    :\tfor a given word or sentence, split is done and it returns a list\n",
    "- sub      :\tsubtitute or replace one or more strings"
   ]
  },
  {
   "cell_type": "markdown",
   "metadata": {},
   "source": [
    "#### findall"
   ]
  },
  {
   "cell_type": "code",
   "execution_count": 95,
   "metadata": {},
   "outputs": [
    {
     "name": "stdout",
     "output_type": "stream",
     "text": [
      "['learning', 'learning']\n"
     ]
    }
   ],
   "source": [
    "## returns all the matching pattern\n",
    "import re\n",
    "\n",
    "str = \"Great learning is just amazing place for learning\"\n",
    "x = re.findall(\"learning\", str)\n",
    "print(x)"
   ]
  },
  {
   "cell_type": "code",
   "execution_count": 96,
   "metadata": {},
   "outputs": [
    {
     "name": "stdout",
     "output_type": "stream",
     "text": [
      "[]\n"
     ]
    }
   ],
   "source": [
    "## returns empty list when there is no match\n",
    "import re\n",
    "\n",
    "str = \"Great learning is just amazing place for learning\"\n",
    "x = re.findall(\"no\", str)\n",
    "print(x)"
   ]
  },
  {
   "cell_type": "markdown",
   "metadata": {},
   "source": [
    "#### search\n",
    "\n",
    "search looks for the paterns and returns the value\n",
    "\n",
    "if there is more than one match, returns the first match alone"
   ]
  },
  {
   "cell_type": "code",
   "execution_count": 6,
   "metadata": {},
   "outputs": [
    {
     "name": "stdout",
     "output_type": "stream",
     "text": [
      "The first white-space character is located in position: 0\n"
     ]
    }
   ],
   "source": [
    "# checks for the white space and returns the first position\n",
    "import re\n",
    "\n",
    "str = \"Great learning is just amazing place for learning\"\n",
    "x = re.search(\"\\s\", str)\n",
    "\n",
    "print(\"The first white-space character is located in position:\", x.start())"
   ]
  },
  {
   "cell_type": "code",
   "execution_count": 106,
   "metadata": {},
   "outputs": [
    {
     "name": "stdout",
     "output_type": "stream",
     "text": [
      "<re.Match object; span=(6, 14), match='learning'>\n"
     ]
    }
   ],
   "source": [
    "# checks for the white space and returns the last position\n",
    "import re\n",
    "\n",
    "str = \"Great learning is just amazing place for learning\"\n",
    "x = re.search(\"learning\", str)\n",
    "\n",
    "print(x)\n",
    "\n",
    "## returns if there is a match with the values and position"
   ]
  },
  {
   "cell_type": "code",
   "execution_count": 99,
   "metadata": {},
   "outputs": [
    {
     "name": "stdout",
     "output_type": "stream",
     "text": [
      "None\n"
     ]
    }
   ],
   "source": [
    "## returns none when there is no match\n",
    "import re\n",
    "\n",
    "str = \"Great learning is just amazing place for learning\"\n",
    "x = re.search(\"no\", str)\n",
    "print(x)"
   ]
  },
  {
   "cell_type": "markdown",
   "metadata": {},
   "source": [
    "#### match"
   ]
  },
  {
   "cell_type": "code",
   "execution_count": 113,
   "metadata": {},
   "outputs": [
    {
     "name": "stdout",
     "output_type": "stream",
     "text": [
      "great learning: is a great place: to learn\n"
     ]
    },
    {
     "data": {
      "text/plain": [
       "<re.Match object; span=(0, 5), match='great'>"
      ]
     },
     "execution_count": 113,
     "metadata": {},
     "output_type": "execute_result"
    }
   ],
   "source": [
    "import re\n",
    "text = \"great learning: is a great place: to learn\"\n",
    "print(text)\n",
    "result = re.match('great', text)\n",
    "result\n",
    "\n",
    "# pattern has been found"
   ]
  },
  {
   "cell_type": "code",
   "execution_count": 114,
   "metadata": {},
   "outputs": [
    {
     "name": "stdout",
     "output_type": "stream",
     "text": [
      "0\n",
      "5\n"
     ]
    }
   ],
   "source": [
    "# find the start and end position\n",
    "\n",
    "result = re.match('great', text)\n",
    "print(result.start())\n",
    "print(result.end())"
   ]
  },
  {
   "cell_type": "markdown",
   "metadata": {},
   "source": [
    "#### split"
   ]
  },
  {
   "cell_type": "code",
   "execution_count": 117,
   "metadata": {},
   "outputs": [
    {
     "data": {
      "text/plain": [
       "'Great learning is , just amazing place for learning'"
      ]
     },
     "execution_count": 117,
     "metadata": {},
     "output_type": "execute_result"
    }
   ],
   "source": [
    "str = \"Great learning is , just amazing place for learning\"\n",
    "str"
   ]
  },
  {
   "cell_type": "code",
   "execution_count": 118,
   "metadata": {},
   "outputs": [
    {
     "data": {
      "text/plain": [
       "['Great', 'learning', 'is', ',', 'just', 'amazing', 'place', 'for', 'learning']"
      ]
     },
     "execution_count": 118,
     "metadata": {},
     "output_type": "execute_result"
    }
   ],
   "source": [
    "str.split() # split by white space"
   ]
  },
  {
   "cell_type": "code",
   "execution_count": 119,
   "metadata": {},
   "outputs": [
    {
     "data": {
      "text/plain": [
       "['Great learning is ', ' just amazing place for learning']"
      ]
     },
     "execution_count": 119,
     "metadata": {},
     "output_type": "execute_result"
    }
   ],
   "source": [
    "str.split(',') # split by delimiter"
   ]
  },
  {
   "cell_type": "code",
   "execution_count": 128,
   "metadata": {},
   "outputs": [
    {
     "data": {
      "text/plain": [
       "['Great', 'learning', 'is , just amazing place for learning']"
      ]
     },
     "execution_count": 128,
     "metadata": {},
     "output_type": "execute_result"
    }
   ],
   "source": [
    "re.split(\"\\s\", str, 2)"
   ]
  },
  {
   "cell_type": "code",
   "execution_count": null,
   "metadata": {},
   "outputs": [],
   "source": [
    "re.split(\"\\s\", str, len(str))"
   ]
  },
  {
   "cell_type": "markdown",
   "metadata": {},
   "source": [
    "#### sub\n",
    "\n",
    "replace the value with the patern"
   ]
  },
  {
   "cell_type": "code",
   "execution_count": 130,
   "metadata": {},
   "outputs": [
    {
     "name": "stdout",
     "output_type": "stream",
     "text": [
      "Great#learning#is#,#just#amazing#place#for#learning\n"
     ]
    }
   ],
   "source": [
    "import re\n",
    "\n",
    "str = \"Great learning is , just amazing place for learning\"\n",
    "x = re.sub(\"\\s\", \"#\", str)\n",
    "print(x)"
   ]
  },
  {
   "cell_type": "code",
   "execution_count": 131,
   "metadata": {},
   "outputs": [
    {
     "name": "stdout",
     "output_type": "stream",
     "text": [
      "Great#learning#is , just amazing place for learning\n"
     ]
    }
   ],
   "source": [
    "## replace the first 2 occurance\n",
    "\n",
    "x = re.sub(\"\\s\", \"#\", str, 2)\n",
    "print(x)"
   ]
  },
  {
   "cell_type": "markdown",
   "metadata": {},
   "source": [
    "## Regular Expressions"
   ]
  },
  {
   "cell_type": "markdown",
   "metadata": {},
   "source": [
    "#### Basic patterns"
   ]
  },
  {
   "cell_type": "markdown",
   "metadata": {},
   "source": [
    "a, X, 9\n",
    "ordinary characters just match themselves exactly. "
   ]
  },
  {
   "cell_type": "code",
   "execution_count": 137,
   "metadata": {},
   "outputs": [
    {
     "name": "stdout",
     "output_type": "stream",
     "text": [
      "great learning is a great place to learn\n"
     ]
    },
    {
     "data": {
      "text/plain": [
       "['e', 'e', 'e', 'e', 'e']"
      ]
     },
     "execution_count": 137,
     "metadata": {},
     "output_type": "execute_result"
    }
   ],
   "source": [
    "\n",
    "text = \"great learning is a great place to learn\"\n",
    "print(text)\n",
    "result = re.findall('e', text)\n",
    "result"
   ]
  },
  {
   "cell_type": "code",
   "execution_count": 141,
   "metadata": {},
   "outputs": [
    {
     "name": "stdout",
     "output_type": "stream",
     "text": [
      "Great learning9: is a great place: to learn8\n"
     ]
    },
    {
     "data": {
      "text/plain": [
       "<re.Match object; span=(0, 1), match='G'>"
      ]
     },
     "execution_count": 141,
     "metadata": {},
     "output_type": "execute_result"
    }
   ],
   "source": [
    "text = \"Great learning9: is a great place: to learn8\"\n",
    "print(text)\n",
    "result = re.search('G', text)\n",
    "result"
   ]
  },
  {
   "cell_type": "code",
   "execution_count": 140,
   "metadata": {},
   "outputs": [
    {
     "name": "stdout",
     "output_type": "stream",
     "text": [
      "great learning9: is a great place: to learn8\n"
     ]
    },
    {
     "data": {
      "text/plain": [
       "<re.Match object; span=(14, 15), match='9'>"
      ]
     },
     "execution_count": 140,
     "metadata": {},
     "output_type": "execute_result"
    }
   ],
   "source": [
    "text = \"great learning9: is a great place: to learn8\"\n",
    "print(text)\n",
    "result = re.search('9', text)\n",
    "result"
   ]
  },
  {
   "cell_type": "code",
   "execution_count": null,
   "metadata": {},
   "outputs": [],
   "source": []
  },
  {
   "cell_type": "markdown",
   "metadata": {},
   "source": [
    "(+ ? . * ^ $ ( ) [ ] { } | \\)"
   ]
  },
  {
   "cell_type": "code",
   "execution_count": 144,
   "metadata": {},
   "outputs": [
    {
     "name": "stdout",
     "output_type": "stream",
     "text": [
      "great learning is a great place to learn\n"
     ]
    }
   ],
   "source": [
    "# . Match any character except newline\n",
    "\n",
    "text = \"great learning is a great place to learn\"\n",
    "print(text)\n",
    "\n",
    "out = re.findall(\".\",text)"
   ]
  },
  {
   "cell_type": "markdown",
   "metadata": {},
   "source": [
    "##### match digitis\n",
    "\n",
    "\n",
    "\"d+\": This expression matches the numeric character in the string\n",
    "\n",
    "Returns a match where the string contains digits (numbers from 0-9)"
   ]
  },
  {
   "cell_type": "code",
   "execution_count": 185,
   "metadata": {},
   "outputs": [],
   "source": [
    "#### \\d and \\D"
   ]
  },
  {
   "cell_type": "code",
   "execution_count": 163,
   "metadata": {},
   "outputs": [
    {
     "name": "stdout",
     "output_type": "stream",
     "text": [
      "great1 learning2 is a great place to learn\n",
      "['1', '2']\n"
     ]
    }
   ],
   "source": [
    "\n",
    "## extract only the numerics from the string\n",
    "text = \"great1 learning2 is a great place to learn\"\n",
    "print(text)\n",
    "\n",
    "out = re.findall(\"\\d+\",text)\n",
    "print(out)"
   ]
  },
  {
   "cell_type": "code",
   "execution_count": 165,
   "metadata": {},
   "outputs": [
    {
     "name": "stdout",
     "output_type": "stream",
     "text": [
      "great1 learning2 is a great place to learn\n",
      "['great', ' learning', ' is a great place to learn']\n"
     ]
    }
   ],
   "source": [
    "\n",
    "## split and extract the data which has numberic values in the words\n",
    "text = \"great1 learning2 is a great place to learn\"\n",
    "print(text)\n",
    "\n",
    "out = re.split(\"\\d+\",text)\n",
    "print(out)"
   ]
  },
  {
   "cell_type": "code",
   "execution_count": 166,
   "metadata": {},
   "outputs": [
    {
     "name": "stdout",
     "output_type": "stream",
     "text": [
      "great1 learning2 is a great place to learn\n",
      "['great', ' learning2 is a great place to learn']\n"
     ]
    }
   ],
   "source": [
    "\n",
    "## split only at the first occurance and extract the data which has numberic values in the words\n",
    "text = \"great1 learning2 is a great place to learn\"\n",
    "print(text)\n",
    "\n",
    "out = re.split(\"\\d+\",text,1)\n",
    "print(out)"
   ]
  },
  {
   "cell_type": "code",
   "execution_count": 184,
   "metadata": {},
   "outputs": [],
   "source": []
  },
  {
   "cell_type": "code",
   "execution_count": 176,
   "metadata": {},
   "outputs": [
    {
     "name": "stdout",
     "output_type": "stream",
     "text": [
      "great1 learn222ing2 is a great place to learn\n",
      "['g', 'r', 'e', 'a', 't', ' ', 'l', 'e', 'a', 'r', 'n', 'i', 'n', 'g', ' ', 'i', 's', ' ', 'a', ' ', 'g', 'r', 'e', 'a', 't', ' ', 'p', 'l', 'a', 'c', 'e', ' ', 't', 'o', ' ', 'l', 'e', 'a', 'r', 'n']\n"
     ]
    }
   ],
   "source": [
    "## extract only the numerics from the string\n",
    "#Return a match at every no-digit character:\n",
    "import re\n",
    "text = \"great1 learn222ing2 is a great place to learn\"\n",
    "print(text)\n",
    "\n",
    "out = re.findall(\"\\D\",text)\n",
    "print(out)"
   ]
  },
  {
   "cell_type": "code",
   "execution_count": 178,
   "metadata": {},
   "outputs": [
    {
     "name": "stdout",
     "output_type": "stream",
     "text": [
      "great1 learn222ing2 is a gr11eat place to learn\n",
      "['great', ' learn', 'ing', ' is a gr', 'eat place to learn']\n"
     ]
    }
   ],
   "source": [
    "## extract only the numerics from the string\n",
    "#Return a match at every no-digit character:\n",
    "import re\n",
    "text = \"great1 learn222ing2 is a gr11eat place to learn\"\n",
    "print(text)\n",
    "\n",
    "out = re.findall(\"\\D+\",text)\n",
    "print(out)"
   ]
  },
  {
   "cell_type": "code",
   "execution_count": 179,
   "metadata": {},
   "outputs": [
    {
     "name": "stdout",
     "output_type": "stream",
     "text": [
      "great1 learn222ing2 is a gr11eat place to learn\n",
      "['great', '', ' learn', '', '', '', 'ing', '', ' is a gr', '', '', 'eat place to learn', '']\n"
     ]
    }
   ],
   "source": [
    "## extract only the numerics from the string\n",
    "#Return a match at every no-digit character:\n",
    "\n",
    "## * is wildcard returns with empty space\n",
    "import re\n",
    "text = \"great1 learn222ing2 is a gr11eat place to learn\"\n",
    "print(text)\n",
    "\n",
    "out = re.findall(\"\\D*\",text)\n",
    "print(out)"
   ]
  },
  {
   "cell_type": "code",
   "execution_count": null,
   "metadata": {},
   "outputs": [],
   "source": []
  },
  {
   "cell_type": "code",
   "execution_count": null,
   "metadata": {},
   "outputs": [],
   "source": [
    "####  \\A"
   ]
  },
  {
   "cell_type": "code",
   "execution_count": 182,
   "metadata": {},
   "outputs": [
    {
     "name": "stdout",
     "output_type": "stream",
     "text": [
      "great1 learn222ing2 is a gr11eat place to learn\n",
      "['gr']\n"
     ]
    }
   ],
   "source": [
    "### \n",
    "\n",
    "import re\n",
    "text = \"great1 learn222ing2 is a gr11eat place to learn\"\n",
    "print(text)\n",
    "\n",
    "#Check if the string starts with \"gr\":\n",
    "\n",
    "x = re.findall(\"\\Agr\", text)\n",
    "\n",
    "print(x)"
   ]
  },
  {
   "cell_type": "code",
   "execution_count": 188,
   "metadata": {},
   "outputs": [],
   "source": [
    "#### \\b"
   ]
  },
  {
   "cell_type": "code",
   "execution_count": 191,
   "metadata": {},
   "outputs": [
    {
     "name": "stdout",
     "output_type": "stream",
     "text": [
      "great1 learn222ing2 is a gr11eat place to learn\n",
      "['lear', 'lear']\n"
     ]
    }
   ],
   "source": [
    "import re\n",
    "text = \"great1 learn222ing2 is a gr11eat place to learn\"\n",
    "print(text)\n",
    "\n",
    "#Check if \"lear\" is present at the beginning of a WORD:\n",
    "\n",
    "x = re.findall(\"\\blear\", text)\n",
    "\n",
    "print(x)"
   ]
  },
  {
   "cell_type": "code",
   "execution_count": 192,
   "metadata": {},
   "outputs": [],
   "source": [
    "### \\B"
   ]
  },
  {
   "cell_type": "code",
   "execution_count": 14,
   "metadata": {},
   "outputs": [
    {
     "name": "stdout",
     "output_type": "stream",
     "text": [
      "great people think muchgreater\n",
      "[]\n"
     ]
    }
   ],
   "source": [
    "import re\n",
    "text = \"great people think muchgreater\"\n",
    "print(text)\n",
    "\n",
    "#Check if \"lear\" is  present, but NOT at the beginning of a word:\n",
    "\n",
    "x = re.findall(\"\\bgre\", text)\n",
    "\n",
    "print(x)"
   ]
  },
  {
   "cell_type": "code",
   "execution_count": 195,
   "metadata": {},
   "outputs": [],
   "source": [
    "### \\s and \\S - check for white space"
   ]
  },
  {
   "cell_type": "code",
   "execution_count": 196,
   "metadata": {},
   "outputs": [
    {
     "name": "stdout",
     "output_type": "stream",
     "text": [
      "greatlearn222ing2 is a gr11eat place to learn\n",
      "[' lear']\n"
     ]
    }
   ],
   "source": [
    "import re\n",
    "text = \"greatlearn222ing2 is a gr11eat place to learn\"\n",
    "print(text)\n",
    "\n",
    "#Check if \"lear\" is  present, but NOT at the beginning of a word:\n",
    "\n",
    "x = re.findall(\"\\slear\", text)\n",
    "\n",
    "print(x)"
   ]
  },
  {
   "cell_type": "code",
   "execution_count": 197,
   "metadata": {},
   "outputs": [
    {
     "name": "stdout",
     "output_type": "stream",
     "text": [
      "greatlearn222ing2 is a gr11eat place to learn\n",
      "['tlear']\n"
     ]
    }
   ],
   "source": [
    "import re\n",
    "text = \"greatlearn222ing2 is a gr11eat place to learn\"\n",
    "print(text)\n",
    "\n",
    "#Check if \"lear\" is  present, but NOT at the beginning of a word:\n",
    "\n",
    "x = re.findall(\"\\Slear\", text)\n",
    "\n",
    "print(x)"
   ]
  },
  {
   "cell_type": "code",
   "execution_count": 198,
   "metadata": {},
   "outputs": [],
   "source": [
    "## \\w and \\\\W\n",
    "#Return a match at every word character (characters from a to Z, digits from 0-9, and the underscore _ character):"
   ]
  },
  {
   "cell_type": "code",
   "execution_count": 199,
   "metadata": {},
   "outputs": [
    {
     "name": "stdout",
     "output_type": "stream",
     "text": [
      "greatlearn222ing2 is a gr11eat place to learn\n",
      "['g', 'r', 'e', 'a', 't', 'l', 'e', 'a', 'r', 'n', '2', '2', '2', 'i', 'n', 'g', '2', 'i', 's', 'a', 'g', 'r', '1', '1', 'e', 'a', 't', 'p', 'l', 'a', 'c', 'e', 't', 'o', 'l', 'e', 'a', 'r', 'n']\n"
     ]
    }
   ],
   "source": [
    "import re\n",
    "text = \"greatlearn222ing2 is a gr11eat place to learn\"\n",
    "print(text)\n",
    "\n",
    "#Check if \"lear\" is  present, but NOT at the beginning of a word:\n",
    "\n",
    "x = re.findall(\"\\w\", text)\n",
    "\n",
    "print(x)"
   ]
  },
  {
   "cell_type": "code",
   "execution_count": 200,
   "metadata": {},
   "outputs": [
    {
     "name": "stdout",
     "output_type": "stream",
     "text": [
      "greatlearn222ing2 is a gr11eat place to learn\n",
      "['greatlearn222ing2', 'is', 'a', 'gr11eat', 'place', 'to', 'learn']\n"
     ]
    }
   ],
   "source": [
    "import re\n",
    "text = \"greatlearn222ing2 is a gr11eat place to learn\"\n",
    "print(text)\n",
    "\n",
    "#Check if \"lear\" is  present, but NOT at the beginning of a word:\n",
    "\n",
    "x = re.findall(\"\\w+\", text)\n",
    "\n",
    "print(x)"
   ]
  },
  {
   "cell_type": "code",
   "execution_count": 201,
   "metadata": {},
   "outputs": [
    {
     "name": "stdout",
     "output_type": "stream",
     "text": [
      "greatlearn222ing2 is a gr11eat place to learn\n",
      "['greatlearn222ing2', '', 'is', '', 'a', '', 'gr11eat', '', 'place', '', 'to', '', 'learn', '']\n"
     ]
    }
   ],
   "source": [
    "import re\n",
    "text = \"greatlearn222ing2 is a gr11eat place to learn\"\n",
    "print(text)\n",
    "\n",
    "#Check if \"lear\" is  present, but NOT at the beginning of a word:\n",
    "\n",
    "x = re.findall(\"\\w*\", text)\n",
    "\n",
    "print(x)"
   ]
  },
  {
   "cell_type": "code",
   "execution_count": 202,
   "metadata": {},
   "outputs": [
    {
     "name": "stdout",
     "output_type": "stream",
     "text": [
      "greatlearn222ing2 is a gr11eat place to learn\n",
      "[' ', ' ', ' ', ' ', ' ', ' ']\n"
     ]
    }
   ],
   "source": [
    "import re\n",
    "text = \"greatlearn222ing2 is a gr11eat place to learn\"\n",
    "print(text)\n",
    "\n",
    "#Check if \"lear\" is  present, but NOT at the beginning of a word:\n",
    "\n",
    "x = re.findall(\"\\W\", text)\n",
    "\n",
    "print(x)"
   ]
  },
  {
   "cell_type": "code",
   "execution_count": 203,
   "metadata": {},
   "outputs": [],
   "source": [
    "## \\Z\tReturns a match if the specified characters are at the end of the string"
   ]
  },
  {
   "cell_type": "code",
   "execution_count": 207,
   "metadata": {},
   "outputs": [
    {
     "name": "stdout",
     "output_type": "stream",
     "text": [
      "greatlearn222ing2 is a gr11eat place to learn\n",
      "['arn']\n"
     ]
    }
   ],
   "source": [
    "import re\n",
    "text = \"greatlearn222ing2 is a gr11eat place to learn\"\n",
    "print(text)\n",
    "\n",
    "\n",
    "#Check if the string ends with arn\n",
    "\n",
    "x = re.findall(\"arn\\Z\", text)\n",
    "\n",
    "print(x)"
   ]
  },
  {
   "cell_type": "markdown",
   "metadata": {},
   "source": [
    "### sets"
   ]
  },
  {
   "cell_type": "code",
   "execution_count": 211,
   "metadata": {},
   "outputs": [
    {
     "name": "stdout",
     "output_type": "stream",
     "text": [
      "great learning is a great place to learn\n",
      "['e', 'a', 'e', 'a', 'a', 'e', 'a', 'a', 'c', 'e', 'e', 'a']\n"
     ]
    }
   ],
   "source": [
    "import re\n",
    "text = \"great learning is a great place to learn\"\n",
    "print(text)\n",
    "\n",
    "\n",
    "\n",
    "#Check if the string has any a, r, or n characters:\n",
    "\n",
    "x = re.findall(\"[a-e]\", text)\n",
    "\n",
    "print(x)"
   ]
  },
  {
   "cell_type": "code",
   "execution_count": 212,
   "metadata": {},
   "outputs": [
    {
     "name": "stdout",
     "output_type": "stream",
     "text": [
      "Great Learning is a great place to learn\n",
      "['G', 'L']\n"
     ]
    }
   ],
   "source": [
    "import re\n",
    "text = \"Great Learning is a great place to learn\"\n",
    "print(text)\n",
    "\n",
    "\n",
    "\n",
    "#Check if the string has any a, r, or n characters:\n",
    "\n",
    "x = re.findall(\"[A-Z]\", text)\n",
    "\n",
    "print(x)"
   ]
  },
  {
   "cell_type": "code",
   "execution_count": 231,
   "metadata": {},
   "outputs": [
    {
     "name": "stdout",
     "output_type": "stream",
     "text": [
      "Great Learni123ng is a gr33eat place to learn\n",
      "['G', 'r', 'e', 'a', 't', 'L', 'e', 'a', 'r', 'n', 'i', 'n', 'g', 'i', 's', 'a', 'g', 'r', 'e', 'a', 't', 'p', 'l', 'a', 'c', 'e', 't', 'o', 'l', 'e', 'a', 'r', 'n']\n"
     ]
    }
   ],
   "source": [
    "## [a-zA-Z]\tReturns a match for any character alphabetically between a and z, lower case OR upper case\n",
    "\n",
    "import re\n",
    "text = \"Great Learni123ng is a gr33eat place to learn\"\n",
    "print(text)\n",
    "\n",
    "\n",
    "\n",
    "#Check if the string has any a, r, or n characters:\n",
    "\n",
    "x = re.findall(\"[a-zA-Z]\", text)\n",
    "\n",
    "print(x)"
   ]
  },
  {
   "cell_type": "code",
   "execution_count": 16,
   "metadata": {},
   "outputs": [
    {
     "name": "stdout",
     "output_type": "stream",
     "text": [
      "Great Learni123ng i**s a gr33eat place to learn\n",
      "['G', 'r', 'e', 'a', 't', 'L', 'e', 'a', 'r', 'n', 'i', '1', '2', '3', 'n', 'g', 'i', 's', 'a', 'g', 'r', '3', '3', 'e', 'a', 't', 'p', 'l', 'a', 'c', 'e', 't', 'o', 'l', 'e', 'a', 'r', 'n']\n"
     ]
    }
   ],
   "source": [
    "## [a-zA-Z0-9]\tReturns a match for any character alphabetically between a and z, lower case OR upper case nas numbers betwee\n",
    "# 0 - 9\n",
    "\n",
    "import re\n",
    "text = \"Great Learni123ng i**s a gr33eat place to learn\"\n",
    "print(text)\n",
    "\n",
    "\n",
    "\n",
    "#Check if the string has any a, r, or n characters:\n",
    "\n",
    "x = re.findall(\"[a-zA-Z0-9]\", text)\n",
    "\n",
    "print(x)"
   ]
  },
  {
   "cell_type": "code",
   "execution_count": 213,
   "metadata": {},
   "outputs": [
    {
     "name": "stdout",
     "output_type": "stream",
     "text": [
      "Great Learnin1g is a great place to learn\n",
      "['1']\n"
     ]
    }
   ],
   "source": [
    "#Returns a match for any digit between 0 and 9\n",
    "\n",
    "import re\n",
    "text = \"Great Learnin1g is a great place to learn\"\n",
    "print(text)\n",
    "\n",
    "\n",
    "\n",
    "#Check if the string has any a, r, or n characters:\n",
    "\n",
    "x = re.findall(\"[0-9]\", text)\n",
    "\n",
    "print(x)"
   ]
  },
  {
   "cell_type": "code",
   "execution_count": 217,
   "metadata": {},
   "outputs": [
    {
     "name": "stdout",
     "output_type": "stream",
     "text": [
      "Great Learnin0g is a g1reat pla4ce to le8arn\n",
      "['0', '1']\n"
     ]
    }
   ],
   "source": [
    "## [0123]\tReturns a match where any of the specified digits (0, 1, 2, or 3) are present\n",
    "\n",
    "import re\n",
    "text = \"Great Learnin0g is a g1reat pla4ce to le8arn\"\n",
    "print(text)\n",
    "\n",
    "\n",
    "\n",
    "#Check if the string has any a, r, or n characters:\n",
    "\n",
    "x = re.findall(\"[0-3]\", text)\n",
    "\n",
    "print(x)"
   ]
  },
  {
   "cell_type": "code",
   "execution_count": 229,
   "metadata": {},
   "outputs": [
    {
     "data": {
      "text/plain": [
       "['04', '45', '00']"
      ]
     },
     "execution_count": 229,
     "metadata": {},
     "output_type": "execute_result"
    }
   ],
   "source": [
    "# [0-5][0-9]\tReturns a match for any two-digit numbers from 00 and 59\n",
    "\n",
    "import re\n",
    "\n",
    "\n",
    "\n",
    "text = \"9 o clock we start our day wiht great learning and ends before  04:45:00 PM\"\n",
    "\n",
    "#Check if the string has any two-digit numbers, from 00 to 59:\n",
    "\n",
    "x = re.findall(\"[0-5][0-9]\", text)\n",
    "x"
   ]
  },
  {
   "cell_type": "code",
   "execution_count": null,
   "metadata": {},
   "outputs": [],
   "source": [
    "## extract the needed data"
   ]
  },
  {
   "cell_type": "code",
   "execution_count": 266,
   "metadata": {},
   "outputs": [
    {
     "name": "stdout",
     "output_type": "stream",
     "text": [
      "I would like to have 2 cup of coffee a day, however try to restrict 10 coffee in a week. however 2 is bbuffer\n",
      "['2', '10', '2']\n"
     ]
    }
   ],
   "source": [
    "# extract only the number in the sentence\n",
    "\n",
    "sent = \"I would like to have 2 cup of coffee a day, however try to restrict 10 coffee in a week. however 2 is bbuffer\"\n",
    "print(sent)\n",
    "\n",
    "# lst = re.findall('[0-9]+', sent) # splits the num without +\n",
    "lst = re.findall('[0-9]+', sent) ## will binds the digit together\n",
    "print(lst)"
   ]
  },
  {
   "cell_type": "code",
   "execution_count": 267,
   "metadata": {},
   "outputs": [],
   "source": [
    "## email id handling"
   ]
  },
  {
   "cell_type": "code",
   "execution_count": 268,
   "metadata": {},
   "outputs": [
    {
     "name": "stdout",
     "output_type": "stream",
     "text": [
      "['ann1@gmail.com', 'sam10@yahoo.com']\n"
     ]
    }
   ],
   "source": [
    "import re  \n",
    "  \n",
    "# Example string  \n",
    "s = 'Hello from ann1@gmail.com to sam10@yahoo.com about the meeting @2PM'\n",
    "  \n",
    "# \\S matches any non-whitespace character \n",
    "# @ for as in the Email \n",
    "# + for Repeats a character one or more times \n",
    "lst = re.findall('\\S+@\\S+', s)     \n",
    "  \n",
    "# Printing of List \n",
    "print(lst) "
   ]
  },
  {
   "cell_type": "code",
   "execution_count": 290,
   "metadata": {},
   "outputs": [
    {
     "data": {
      "text/plain": [
       "'ann1@gmail.com'"
      ]
     },
     "execution_count": 290,
     "metadata": {},
     "output_type": "execute_result"
    }
   ],
   "source": [
    "# get only with email\n",
    "str='ann1@gmail.com'\n",
    "match=re.search('\\w+@\\w+.\\w+',str) #return abc@example.com\n",
    "\n",
    "match.group(0)"
   ]
  },
  {
   "cell_type": "code",
   "execution_count": 299,
   "metadata": {},
   "outputs": [
    {
     "data": {
      "text/plain": [
       "'ann1'"
      ]
     },
     "execution_count": 299,
     "metadata": {},
     "output_type": "execute_result"
    }
   ],
   "source": [
    "# get only with username\n",
    "str='ann1@gmail.com'\n",
    "match=re.search('\\w+',str) #return abc@example.com\n",
    "\n",
    "match.group(0)"
   ]
  },
  {
   "cell_type": "code",
   "execution_count": 294,
   "metadata": {},
   "outputs": [
    {
     "data": {
      "text/plain": [
       "'@gmail'"
      ]
     },
     "execution_count": 294,
     "metadata": {},
     "output_type": "execute_result"
    }
   ],
   "source": [
    "# get only with username\n",
    "str='ann1@gmail.com'\n",
    "match=re.search('@\\w+',str) #return abc@example.com\n",
    "\n",
    "match.group(0)"
   ]
  },
  {
   "cell_type": "code",
   "execution_count": 300,
   "metadata": {},
   "outputs": [
    {
     "name": "stdout",
     "output_type": "stream",
     "text": [
      "['@gmail.com', '@gmail.com']\n"
     ]
    }
   ],
   "source": [
    "s='ann1@gmail.com and ag1@gmail.com'\n",
    "print(re.findall('@+\\S+[.in|.com|]',s))"
   ]
  },
  {
   "cell_type": "code",
   "execution_count": 313,
   "metadata": {},
   "outputs": [
    {
     "data": {
      "text/plain": [
       "'gmail.com'"
      ]
     },
     "execution_count": 313,
     "metadata": {},
     "output_type": "execute_result"
    }
   ],
   "source": [
    "# get only domain\n",
    "email = 'ann@gmail.com'\n",
    "domain = email.split('@')[1]\n",
    "domain"
   ]
  },
  {
   "cell_type": "code",
   "execution_count": 315,
   "metadata": {},
   "outputs": [
    {
     "data": {
      "text/plain": [
       "'ann'"
      ]
     },
     "execution_count": 315,
     "metadata": {},
     "output_type": "execute_result"
    }
   ],
   "source": [
    "# get only user name\n",
    "email = 'ann@gmail.com'\n",
    "domain = email.split('@')[0]\n",
    "domain"
   ]
  },
  {
   "cell_type": "code",
   "execution_count": 316,
   "metadata": {},
   "outputs": [
    {
     "data": {
      "text/plain": [
       "'com'"
      ]
     },
     "execution_count": 316,
     "metadata": {},
     "output_type": "execute_result"
    }
   ],
   "source": [
    "# get only .com\n",
    "email = 'ann@gmail.com'\n",
    "domain = email.split('.')[1]\n",
    "domain"
   ]
  },
  {
   "cell_type": "code",
   "execution_count": null,
   "metadata": {},
   "outputs": [],
   "source": []
  }
 ],
 "metadata": {
  "kernelspec": {
   "display_name": "Python 3",
   "language": "python",
   "name": "python3"
  },
  "language_info": {
   "codemirror_mode": {
    "name": "ipython",
    "version": 3
   },
   "file_extension": ".py",
   "mimetype": "text/x-python",
   "name": "python",
   "nbconvert_exporter": "python",
   "pygments_lexer": "ipython3",
   "version": "3.6.5"
  }
 },
 "nbformat": 4,
 "nbformat_minor": 2
}
