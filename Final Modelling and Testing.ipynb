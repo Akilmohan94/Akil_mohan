{
 "cells": [
  {
   "cell_type": "code",
   "execution_count": 1,
   "metadata": {},
   "outputs": [],
   "source": [
    "import pandas  as pd\n",
    "import numpy   as np\n",
    "import seaborn as sns\n",
    "import matplotlib.pyplot as plt\n",
    "\n",
    "import scipy.stats     as stats\n",
    "import statsmodels.api as sm\n",
    "\n",
    "\n",
    "from sklearn.model_selection       import train_test_split, KFold, GridSearchCV, cross_val_score\n",
    "from sklearn.feature_selection     import SelectKBest, chi2\n",
    "from sklearn.metrics               import auc, accuracy_score, confusion_matrix, roc_auc_score\n",
    "from sklearn.decomposition         import PCA\n",
    "from sklearn.discriminant_analysis import LinearDiscriminantAnalysis as LDA\n",
    "from sklearn.preprocessing         import StandardScaler, MinMaxScaler\n",
    "\n",
    "from sklearn.linear_model import LogisticRegression\n",
    "from sklearn.naive_bayes  import GaussianNB\n",
    "from sklearn.neighbors    import KNeighborsClassifier\n",
    "from sklearn.svm          import SVC\n",
    "from sklearn.tree         import DecisionTreeClassifier\n",
    "from sklearn.ensemble     import RandomForestClassifier, BaggingClassifier, AdaBoostClassifier, GradientBoostingClassifier, VotingClassifier\n",
    "\n",
    "\n",
    "%matplotlib inline\n",
    "import warnings\n",
    "warnings.filterwarnings('ignore')"
   ]
  },
  {
   "cell_type": "code",
   "execution_count": 2,
   "metadata": {},
   "outputs": [
    {
     "data": {
      "text/plain": [
       "(39839, 20)"
      ]
     },
     "execution_count": 2,
     "metadata": {},
     "output_type": "execute_result"
    }
   ],
   "source": [
    "# Importing Data\n",
    "df = pd.read_csv('Final_Prepared_Data.csv')\n",
    "df.shape"
   ]
  },
  {
   "cell_type": "code",
   "execution_count": 3,
   "metadata": {},
   "outputs": [],
   "source": [
    "# Encoding variables for modelling\n",
    "\n",
    "df.Target         = df.Target.map({'Drugs':0, 'Insulin':1})\n",
    "df.max_glu_serum  = df.max_glu_serum.map({'None': 0, 'Norm':1, '>200':2,'>300':3})\n",
    "df.A1Cresult      = df.A1Cresult.map({'None': 0, 'Norm':1, '>7':2, '>8':3})"
   ]
  },
  {
   "cell_type": "code",
   "execution_count": 4,
   "metadata": {},
   "outputs": [],
   "source": [
    "# Creating a KFold Cross Validation Function\n",
    "\n",
    "def Evaluate(Model_list, x, y):\n",
    "    kf = KFold(n_splits=5, shuffle=True, random_state=0)\n",
    "\n",
    "    Auc       = []\n",
    "    Name      = []\n",
    "\n",
    "    for name,model in Model_list:\n",
    "\n",
    "        roc_auc   = []\n",
    "        accur     = []\n",
    "        Name.append(name)\n",
    "\n",
    "        for train, test in kf.split(x,y):\n",
    "            xtrain, xtest = x.iloc[train,:],x.iloc[test,:]\n",
    "            ytrain, ytest = y.iloc[train],y.iloc[test]\n",
    "\n",
    "            model.fit(xtrain, ytrain)\n",
    "            y_predict = model.predict(xtest)\n",
    "            auc = roc_auc_score(ytest, y_predict)\n",
    "            roc_auc.append(auc)\n",
    "\n",
    "        Auc.append(np.mean(roc_auc))\n",
    "\n",
    "    Report = pd.DataFrame({'AUC Score':Auc}, index=Name)\n",
    "    return(Report.sort_values('AUC Score', ascending=False))"
   ]
  },
  {
   "cell_type": "code",
   "execution_count": 5,
   "metadata": {},
   "outputs": [],
   "source": [
    "# Creating a Grid Search function \n",
    "\n",
    "def Grid(model, par, x, y):\n",
    "    GS = GridSearchCV(model, par, cv = 5, scoring = 'roc_auc')\n",
    "    GS.fit(x,y)\n",
    "    return GS.best_params_"
   ]
  },
  {
   "cell_type": "markdown",
   "metadata": {},
   "source": [
    "# Baseline Model"
   ]
  },
  {
   "cell_type": "code",
   "execution_count": 6,
   "metadata": {},
   "outputs": [
    {
     "data": {
      "text/html": [
       "<div>\n",
       "<style scoped>\n",
       "    .dataframe tbody tr th:only-of-type {\n",
       "        vertical-align: middle;\n",
       "    }\n",
       "\n",
       "    .dataframe tbody tr th {\n",
       "        vertical-align: top;\n",
       "    }\n",
       "\n",
       "    .dataframe thead th {\n",
       "        text-align: right;\n",
       "    }\n",
       "</style>\n",
       "<table border=\"1\" class=\"dataframe\">\n",
       "  <thead>\n",
       "    <tr style=\"text-align: right;\">\n",
       "      <th></th>\n",
       "      <th>race</th>\n",
       "      <th>gender</th>\n",
       "      <th>age</th>\n",
       "      <th>admission_type_id</th>\n",
       "      <th>discharge_disposition_id</th>\n",
       "      <th>admission_source_id</th>\n",
       "      <th>time_in_hospital</th>\n",
       "      <th>num_lab_procedures</th>\n",
       "      <th>num_procedures</th>\n",
       "      <th>num_medications</th>\n",
       "      <th>number_outpatient</th>\n",
       "      <th>number_inpatient</th>\n",
       "      <th>number_emergency</th>\n",
       "      <th>number_diagnoses</th>\n",
       "      <th>diag_1</th>\n",
       "      <th>diag_2</th>\n",
       "      <th>diag_3</th>\n",
       "      <th>max_glu_serum</th>\n",
       "      <th>A1Cresult</th>\n",
       "      <th>Target</th>\n",
       "    </tr>\n",
       "  </thead>\n",
       "  <tbody>\n",
       "    <tr>\n",
       "      <th>0</th>\n",
       "      <td>Caucasian</td>\n",
       "      <td>Female</td>\n",
       "      <td>5</td>\n",
       "      <td>Unknown</td>\n",
       "      <td>Unknown</td>\n",
       "      <td>Referrel</td>\n",
       "      <td>1</td>\n",
       "      <td>41</td>\n",
       "      <td>0</td>\n",
       "      <td>1</td>\n",
       "      <td>0</td>\n",
       "      <td>0</td>\n",
       "      <td>0</td>\n",
       "      <td>1</td>\n",
       "      <td>Other</td>\n",
       "      <td>Other</td>\n",
       "      <td>Other</td>\n",
       "      <td>0</td>\n",
       "      <td>0</td>\n",
       "      <td>0</td>\n",
       "    </tr>\n",
       "    <tr>\n",
       "      <th>1</th>\n",
       "      <td>AfricanAmerican</td>\n",
       "      <td>Female</td>\n",
       "      <td>25</td>\n",
       "      <td>Emergency</td>\n",
       "      <td>Home</td>\n",
       "      <td>Emergency</td>\n",
       "      <td>2</td>\n",
       "      <td>11</td>\n",
       "      <td>5</td>\n",
       "      <td>13</td>\n",
       "      <td>2</td>\n",
       "      <td>1</td>\n",
       "      <td>0</td>\n",
       "      <td>6</td>\n",
       "      <td>Other</td>\n",
       "      <td>Diabetes</td>\n",
       "      <td>Other</td>\n",
       "      <td>0</td>\n",
       "      <td>0</td>\n",
       "      <td>0</td>\n",
       "    </tr>\n",
       "    <tr>\n",
       "      <th>2</th>\n",
       "      <td>Caucasian</td>\n",
       "      <td>Male</td>\n",
       "      <td>35</td>\n",
       "      <td>Emergency</td>\n",
       "      <td>Home</td>\n",
       "      <td>Emergency</td>\n",
       "      <td>2</td>\n",
       "      <td>44</td>\n",
       "      <td>1</td>\n",
       "      <td>16</td>\n",
       "      <td>0</td>\n",
       "      <td>0</td>\n",
       "      <td>0</td>\n",
       "      <td>7</td>\n",
       "      <td>Other</td>\n",
       "      <td>Other</td>\n",
       "      <td>Circulatory</td>\n",
       "      <td>0</td>\n",
       "      <td>0</td>\n",
       "      <td>1</td>\n",
       "    </tr>\n",
       "    <tr>\n",
       "      <th>3</th>\n",
       "      <td>Caucasian</td>\n",
       "      <td>Male</td>\n",
       "      <td>85</td>\n",
       "      <td>Emergency</td>\n",
       "      <td>Home</td>\n",
       "      <td>Emergency</td>\n",
       "      <td>10</td>\n",
       "      <td>55</td>\n",
       "      <td>1</td>\n",
       "      <td>31</td>\n",
       "      <td>0</td>\n",
       "      <td>0</td>\n",
       "      <td>0</td>\n",
       "      <td>8</td>\n",
       "      <td>Circulatory</td>\n",
       "      <td>Circulatory</td>\n",
       "      <td>Circulatory</td>\n",
       "      <td>0</td>\n",
       "      <td>0</td>\n",
       "      <td>1</td>\n",
       "    </tr>\n",
       "    <tr>\n",
       "      <th>4</th>\n",
       "      <td>AfricanAmerican</td>\n",
       "      <td>Male</td>\n",
       "      <td>65</td>\n",
       "      <td>Emergency</td>\n",
       "      <td>SC_facility</td>\n",
       "      <td>Emergency</td>\n",
       "      <td>12</td>\n",
       "      <td>75</td>\n",
       "      <td>5</td>\n",
       "      <td>13</td>\n",
       "      <td>0</td>\n",
       "      <td>0</td>\n",
       "      <td>0</td>\n",
       "      <td>9</td>\n",
       "      <td>Injury</td>\n",
       "      <td>Respiratory</td>\n",
       "      <td>Injury</td>\n",
       "      <td>0</td>\n",
       "      <td>0</td>\n",
       "      <td>1</td>\n",
       "    </tr>\n",
       "  </tbody>\n",
       "</table>\n",
       "</div>"
      ],
      "text/plain": [
       "              race  gender  age admission_type_id discharge_disposition_id  \\\n",
       "0        Caucasian  Female    5           Unknown                  Unknown   \n",
       "1  AfricanAmerican  Female   25         Emergency                     Home   \n",
       "2        Caucasian    Male   35         Emergency                     Home   \n",
       "3        Caucasian    Male   85         Emergency                     Home   \n",
       "4  AfricanAmerican    Male   65         Emergency              SC_facility   \n",
       "\n",
       "  admission_source_id  time_in_hospital  num_lab_procedures  num_procedures  \\\n",
       "0            Referrel                 1                  41               0   \n",
       "1           Emergency                 2                  11               5   \n",
       "2           Emergency                 2                  44               1   \n",
       "3           Emergency                10                  55               1   \n",
       "4           Emergency                12                  75               5   \n",
       "\n",
       "   num_medications  number_outpatient  number_inpatient  number_emergency  \\\n",
       "0                1                  0                 0                 0   \n",
       "1               13                  2                 1                 0   \n",
       "2               16                  0                 0                 0   \n",
       "3               31                  0                 0                 0   \n",
       "4               13                  0                 0                 0   \n",
       "\n",
       "   number_diagnoses        diag_1        diag_2        diag_3  max_glu_serum  \\\n",
       "0                 1         Other         Other         Other              0   \n",
       "1                 6         Other      Diabetes         Other              0   \n",
       "2                 7         Other         Other   Circulatory              0   \n",
       "3                 8   Circulatory   Circulatory   Circulatory              0   \n",
       "4                 9        Injury   Respiratory        Injury              0   \n",
       "\n",
       "   A1Cresult  Target  \n",
       "0          0       0  \n",
       "1          0       0  \n",
       "2          0       1  \n",
       "3          0       1  \n",
       "4          0       1  "
      ]
     },
     "execution_count": 6,
     "metadata": {},
     "output_type": "execute_result"
    }
   ],
   "source": [
    "df.head()"
   ]
  },
  {
   "cell_type": "code",
   "execution_count": 7,
   "metadata": {},
   "outputs": [],
   "source": [
    "df1 = df.copy()\n",
    "\n",
    "# Though numerical values age and time in hospital are categorical values\n",
    "# One-Hot Encoding Categorical values\n",
    "\n",
    "df1 = pd.get_dummies(df1, columns=['age','time_in_hospital'], drop_first=True)\n",
    "df1 = pd.get_dummies(df1, drop_first=True)"
   ]
  },
  {
   "cell_type": "code",
   "execution_count": 8,
   "metadata": {},
   "outputs": [],
   "source": [
    "# Splitting data into train and test\n",
    "\n",
    "x_base = df1.drop(['Target'],1)\n",
    "y_base = df1.Target\n",
    "xtrain_base, xtest_base, ytrain_base, ytest_base = train_test_split(x_base, y_base, test_size=0.3, random_state=0)"
   ]
  },
  {
   "cell_type": "code",
   "execution_count": 9,
   "metadata": {},
   "outputs": [
    {
     "data": {
      "text/html": [
       "<div>\n",
       "<style scoped>\n",
       "    .dataframe tbody tr th:only-of-type {\n",
       "        vertical-align: middle;\n",
       "    }\n",
       "\n",
       "    .dataframe tbody tr th {\n",
       "        vertical-align: top;\n",
       "    }\n",
       "\n",
       "    .dataframe thead th {\n",
       "        text-align: right;\n",
       "    }\n",
       "</style>\n",
       "<table border=\"1\" class=\"dataframe\">\n",
       "  <thead>\n",
       "    <tr style=\"text-align: right;\">\n",
       "      <th></th>\n",
       "      <th>AUC Score</th>\n",
       "    </tr>\n",
       "  </thead>\n",
       "  <tbody>\n",
       "    <tr>\n",
       "      <th>Baseline_Decision_Tree</th>\n",
       "      <td>0.567805</td>\n",
       "    </tr>\n",
       "  </tbody>\n",
       "</table>\n",
       "</div>"
      ],
      "text/plain": [
       "                        AUC Score\n",
       "Baseline_Decision_Tree   0.567805"
      ]
     },
     "execution_count": 9,
     "metadata": {},
     "output_type": "execute_result"
    }
   ],
   "source": [
    "# Using a non parametric model as data is not normalised\n",
    "\n",
    "from sklearn.tree import DecisionTreeClassifier\n",
    "tree = DecisionTreeClassifier(random_state=0)\n",
    "\n",
    "# Calling Evaluate function\n",
    "Evaluate([['Baseline_Decision_Tree',tree]], x_base, y_base)"
   ]
  },
  {
   "cell_type": "code",
   "execution_count": 10,
   "metadata": {},
   "outputs": [
    {
     "data": {
      "text/plain": [
       "<Figure size 720x1080 with 0 Axes>"
      ]
     },
     "metadata": {},
     "output_type": "display_data"
    },
    {
     "data": {
      "image/png": "[encoded data removed]",
      "text/plain": [
       "<Figure size 432x288 with 1 Axes>"
      ]
     },
     "metadata": {
      "needs_background": "light"
     },
     "output_type": "display_data"
    }
   ],
   "source": [
    "# Inportant Features\n",
    "\n",
    "imp_feat = pd.DataFrame(tree.feature_importances_, index = x_base.columns, columns= ['x']).sort_values(by='x', ascending=False)\n",
    "plt.figure(figsize=(10,15))\n",
    "imp_feat[imp_feat.x >0.01].plot(kind='bar');"
   ]
  },
  {
   "cell_type": "code",
   "execution_count": 11,
   "metadata": {},
   "outputs": [
    {
     "data": {
      "text/html": [
       "<div>\n",
       "<style scoped>\n",
       "    .dataframe tbody tr th:only-of-type {\n",
       "        vertical-align: middle;\n",
       "    }\n",
       "\n",
       "    .dataframe tbody tr th {\n",
       "        vertical-align: top;\n",
       "    }\n",
       "\n",
       "    .dataframe thead th {\n",
       "        text-align: right;\n",
       "    }\n",
       "</style>\n",
       "<table border=\"1\" class=\"dataframe\">\n",
       "  <thead>\n",
       "    <tr style=\"text-align: right;\">\n",
       "      <th></th>\n",
       "      <th>AUC Score</th>\n",
       "    </tr>\n",
       "  </thead>\n",
       "  <tbody>\n",
       "    <tr>\n",
       "      <th>Logistic</th>\n",
       "      <td>0.609503</td>\n",
       "    </tr>\n",
       "    <tr>\n",
       "      <th>Naive_Bayes</th>\n",
       "      <td>0.592473</td>\n",
       "    </tr>\n",
       "    <tr>\n",
       "      <th>RandomForest</th>\n",
       "      <td>0.591865</td>\n",
       "    </tr>\n",
       "    <tr>\n",
       "      <th>KNN</th>\n",
       "      <td>0.573781</td>\n",
       "    </tr>\n",
       "    <tr>\n",
       "      <th>DecisionTree</th>\n",
       "      <td>0.567805</td>\n",
       "    </tr>\n",
       "  </tbody>\n",
       "</table>\n",
       "</div>"
      ],
      "text/plain": [
       "              AUC Score\n",
       "Logistic       0.609503\n",
       "Naive_Bayes    0.592473\n",
       "RandomForest   0.591865\n",
       "KNN            0.573781\n",
       "DecisionTree   0.567805"
      ]
     },
     "execution_count": 11,
     "metadata": {},
     "output_type": "execute_result"
    }
   ],
   "source": [
    "# Evaluating other Classifiers\n",
    "\n",
    "lg  = LogisticRegression()\n",
    "nb  = GaussianNB()\n",
    "knn = KNeighborsClassifier()\n",
    "dt  = DecisionTreeClassifier(random_state=0)\n",
    "rf  = RandomForestClassifier(random_state=0)\n",
    "\n",
    "Models = [['Logistic',lg],['Naive_Bayes',nb],['KNN',knn],['DecisionTree',dt],['RandomForest',rf]]\n",
    "Evaluate(Models, x_base, y_base)"
   ]
  },
  {
   "cell_type": "markdown",
   "metadata": {},
   "source": [
    "# Outliers Treatment"
   ]
  },
  {
   "cell_type": "code",
   "execution_count": 12,
   "metadata": {},
   "outputs": [],
   "source": [
    "# Only taking in numerical features\n",
    "\n",
    "numeric = ['num_lab_procedures', 'num_procedures', 'num_medications', 'number_outpatient', 'number_inpatient',\n",
    "              'number_emergency', 'number_diagnoses']"
   ]
  },
  {
   "cell_type": "code",
   "execution_count": 13,
   "metadata": {},
   "outputs": [],
   "source": [
    "# Removing Outliers that are 3 STD away\n",
    "\n",
    "df_outlier = df1[(np.abs(stats.zscore(df1[numeric]))<3).all(axis=1)]"
   ]
  },
  {
   "cell_type": "markdown",
   "metadata": {},
   "source": [
    "# Normalisation"
   ]
  },
  {
   "cell_type": "code",
   "execution_count": 14,
   "metadata": {},
   "outputs": [],
   "source": [
    "df2 = df_outlier.copy()"
   ]
  },
  {
   "cell_type": "code",
   "execution_count": 15,
   "metadata": {},
   "outputs": [
    {
     "name": "stdout",
     "output_type": "stream",
     "text": [
      "num_lab_procedures   skew : -0.1726919907015699\n",
      "num_procedures       skew : 1.2767192816540736\n",
      "num_medications      skew : 1.3282148731589885\n",
      "number_outpatient    skew : 7.424510208026024\n",
      "number_inpatient     skew : 3.85188502844125\n",
      "number_emergency     skew : 12.186440703384932\n",
      "number_diagnoses     skew : -0.6895999375864704\n"
     ]
    }
   ],
   "source": [
    "for i in df1[numeric]:   \n",
    "    print(f'{i:<20} skew : {df1[i].skew()}')"
   ]
  },
  {
   "cell_type": "code",
   "execution_count": 16,
   "metadata": {},
   "outputs": [],
   "source": [
    "transform = ['num_procedures', 'num_medications', 'number_outpatient', 'number_inpatient', 'number_emergency']"
   ]
  },
  {
   "cell_type": "code",
   "execution_count": 17,
   "metadata": {},
   "outputs": [
    {
     "name": "stdout",
     "output_type": "stream",
     "text": [
      "num_procedures       : 0.3562292595924459\n",
      "num_medications      : 0.036293593287155694\n",
      "number_outpatient    : 2.8742859190032437\n",
      "number_inpatient     : 1.5561763217852764\n",
      "number_emergency     : 3.9893561775713646\n"
     ]
    }
   ],
   "source": [
    "for i in df2[transform]:\n",
    "    \n",
    "    df2[i] = np.sqrt(df2[i])\n",
    "    print(f'{i:<20} : {df2[i].skew()}')"
   ]
  },
  {
   "cell_type": "code",
   "execution_count": 18,
   "metadata": {},
   "outputs": [
    {
     "data": {
      "image/png": "[encoded data removed]",
      "text/plain": [
       "<Figure size 1152x432 with 4 Axes>"
      ]
     },
     "metadata": {
      "needs_background": "light"
     },
     "output_type": "display_data"
    }
   ],
   "source": [
    "# Number of Lab Procedures\n",
    "\n",
    "fig, axes = plt.subplots(2,2)\n",
    "fig.set_figwidth(16)\n",
    "fig.set_figheight(6)\n",
    "\n",
    "sns.boxplot(df1.num_lab_procedures, ax=axes[0][0]).set_title('Untreated')\n",
    "sns.boxplot(df2.num_lab_procedures, ax=axes[0][1]).set_title('Treated')\n",
    "sns.distplot(df1.num_lab_procedures, ax=axes[1][0]).set_title('Untreated')\n",
    "sns.distplot(df2.num_lab_procedures, ax=axes[1][1]).set_title('Treated')\n",
    "plt.tight_layout();"
   ]
  },
  {
   "cell_type": "code",
   "execution_count": 19,
   "metadata": {},
   "outputs": [
    {
     "data": {
      "image/png": "[encoded data removed]",
      "text/plain": [
       "<Figure size 1152x432 with 4 Axes>"
      ]
     },
     "metadata": {
      "needs_background": "light"
     },
     "output_type": "display_data"
    }
   ],
   "source": [
    "# Number of Medications\n",
    "\n",
    "fig, axes = plt.subplots(2,2)\n",
    "fig.set_figwidth(16)\n",
    "fig.set_figheight(6)\n",
    "\n",
    "sns.boxplot(df.num_medications, ax=axes[0][0]).set_title('Untreated')\n",
    "sns.boxplot(df_outlier.num_medications, ax=axes[0][1]).set_title('Treated')\n",
    "sns.distplot(df1.num_medications, ax=axes[1][0]).set_title('Untreated')\n",
    "sns.distplot(df_outlier.num_medications, ax=axes[1][1]).set_title('Treated')\n",
    "plt.tight_layout();"
   ]
  },
  {
   "cell_type": "code",
   "execution_count": 20,
   "metadata": {},
   "outputs": [
    {
     "data": {
      "image/png": "[encoded data removed]",
      "text/plain": [
       "<Figure size 1152x432 with 4 Axes>"
      ]
     },
     "metadata": {
      "needs_background": "light"
     },
     "output_type": "display_data"
    }
   ],
   "source": [
    "# Number of Medication\n",
    "fig, axes = plt.subplots(2,2)\n",
    "fig.set_figwidth(16)\n",
    "fig.set_figheight(6)\n",
    "\n",
    "sns.boxplot(df1.num_medications, ax=axes[0][0]).set_title('Untreated')\n",
    "sns.boxplot(df2.num_medications, ax=axes[0][1]).set_title('Treated')\n",
    "sns.distplot(df1.num_medications, ax=axes[1][0]).set_title('Untreated')\n",
    "sns.distplot(df2.num_medications, ax=axes[1][1]).set_title('Treated')\n",
    "plt.tight_layout();"
   ]
  },
  {
   "cell_type": "code",
   "execution_count": 21,
   "metadata": {},
   "outputs": [
    {
     "data": {
      "image/png": "[encoded data removed]",
      "text/plain": [
       "<Figure size 1152x432 with 4 Axes>"
      ]
     },
     "metadata": {
      "needs_background": "light"
     },
     "output_type": "display_data"
    }
   ],
   "source": [
    "# Number of Outpatient Visits\n",
    "\n",
    "fig, axes = plt.subplots(2,2)\n",
    "fig.set_figwidth(16)\n",
    "fig.set_figheight(6)\n",
    "\n",
    "sns.boxplot(df1.number_outpatient, ax=axes[0][0]).set_title('Untreated')\n",
    "sns.boxplot(df2.number_outpatient, ax=axes[0][1]).set_title('Treated')\n",
    "sns.distplot(df1.number_outpatient, ax=axes[1][0]).set_title('Untreated')\n",
    "sns.distplot(df2.number_outpatient, ax=axes[1][1]).set_title('Treated')\n",
    "plt.tight_layout();"
   ]
  },
  {
   "cell_type": "code",
   "execution_count": 22,
   "metadata": {},
   "outputs": [
    {
     "data": {
      "image/png": "[encoded data removed]",
      "text/plain": [
       "<Figure size 1152x432 with 4 Axes>"
      ]
     },
     "metadata": {
      "needs_background": "light"
     },
     "output_type": "display_data"
    }
   ],
   "source": [
    "# Number of Inpatient Visits\n",
    "\n",
    "fig, axes = plt.subplots(2,2)\n",
    "fig.set_figwidth(16)\n",
    "fig.set_figheight(6)\n",
    "\n",
    "sns.boxplot(df1.number_inpatient, ax=axes[0][0]).set_title('Untreated')\n",
    "sns.boxplot(df2.number_inpatient, ax=axes[0][1]).set_title('Treated')\n",
    "sns.distplot(df1.number_inpatient, ax=axes[1][0]).set_title('Untreated')\n",
    "sns.distplot(df2.number_inpatient, ax=axes[1][1]).set_title('Treated')\n",
    "plt.tight_layout();"
   ]
  },
  {
   "cell_type": "code",
   "execution_count": 23,
   "metadata": {},
   "outputs": [
    {
     "data": {
      "image/png": "[encoded data removed]",
      "text/plain": [
       "<Figure size 1152x432 with 4 Axes>"
      ]
     },
     "metadata": {
      "needs_background": "light"
     },
     "output_type": "display_data"
    }
   ],
   "source": [
    "# Number of Emergency Cases\n",
    "\n",
    "fig, axes = plt.subplots(2,2)\n",
    "fig.set_figwidth(16)\n",
    "fig.set_figheight(6)\n",
    "\n",
    "sns.boxplot(df1.number_emergency, ax=axes[0][0]).set_title('Untreated')\n",
    "sns.boxplot(df2.number_emergency, ax=axes[0][1]).set_title('Treated')\n",
    "sns.distplot(df1.number_emergency, ax=axes[1][0]).set_title('Untreated')\n",
    "sns.distplot(df2.number_emergency, ax=axes[1][1]).set_title('Treated')\n",
    "plt.tight_layout();"
   ]
  },
  {
   "cell_type": "code",
   "execution_count": 24,
   "metadata": {},
   "outputs": [],
   "source": [
    "x_normal = df2.drop('Target',1)\n",
    "y_normal = df2.Target"
   ]
  },
  {
   "cell_type": "code",
   "execution_count": 75,
   "metadata": {},
   "outputs": [
    {
     "data": {
      "text/html": [
       "<div>\n",
       "<style scoped>\n",
       "    .dataframe tbody tr th:only-of-type {\n",
       "        vertical-align: middle;\n",
       "    }\n",
       "\n",
       "    .dataframe tbody tr th {\n",
       "        vertical-align: top;\n",
       "    }\n",
       "\n",
       "    .dataframe thead th {\n",
       "        text-align: right;\n",
       "    }\n",
       "</style>\n",
       "<table border=\"1\" class=\"dataframe\">\n",
       "  <thead>\n",
       "    <tr style=\"text-align: right;\">\n",
       "      <th></th>\n",
       "      <th>AUC Score</th>\n",
       "    </tr>\n",
       "  </thead>\n",
       "  <tbody>\n",
       "    <tr>\n",
       "      <th>Logistic</th>\n",
       "      <td>0.598143</td>\n",
       "    </tr>\n",
       "    <tr>\n",
       "      <th>Naive_Bayes</th>\n",
       "      <td>0.594865</td>\n",
       "    </tr>\n",
       "    <tr>\n",
       "      <th>RandomForest</th>\n",
       "      <td>0.581145</td>\n",
       "    </tr>\n",
       "    <tr>\n",
       "      <th>KNN</th>\n",
       "      <td>0.575025</td>\n",
       "    </tr>\n",
       "    <tr>\n",
       "      <th>DecisionTree</th>\n",
       "      <td>0.563951</td>\n",
       "    </tr>\n",
       "  </tbody>\n",
       "</table>\n",
       "</div>"
      ],
      "text/plain": [
       "              AUC Score\n",
       "Logistic       0.598143\n",
       "Naive_Bayes    0.594865\n",
       "RandomForest   0.581145\n",
       "KNN            0.575025\n",
       "DecisionTree   0.563951"
      ]
     },
     "execution_count": 75,
     "metadata": {},
     "output_type": "execute_result"
    }
   ],
   "source": [
    "Evaluate(Models, x_normal, y_normal)"
   ]
  },
  {
   "cell_type": "markdown",
   "metadata": {},
   "source": [
    "# STATISTICAL TESTING"
   ]
  },
  {
   "cell_type": "code",
   "execution_count": 25,
   "metadata": {},
   "outputs": [],
   "source": [
    "from scipy.stats import chi2_contingency\n",
    "\n",
    "class ChiSquare:\n",
    "    def __init__(self, dataframe):\n",
    "        self.df = dataframe\n",
    "        self.p = None #P-Value\n",
    "        self.chi2 = None #Chi Test Statistic\n",
    "        self.dof = None\n",
    "        \n",
    "        self.dfTabular = None\n",
    "        self.dfExpected = None\n",
    "        \n",
    "    def _print_chisquare_result(self, colX, alpha):\n",
    "        result = \"\"\n",
    "        if self.p<alpha:\n",
    "            result=\"{0:<25} is IMPORTANT for Prediction\".format(colX)\n",
    "        else:\n",
    "            result=\"{0} is NOT an important predictor. (Discard {0} from model)\".format(colX)\n",
    "\n",
    "        print(result)\n",
    "        \n",
    "    def TestIndependence(self,colX,colY, alpha=0.05):\n",
    "        X = self.df[colX].astype(str)\n",
    "        Y = self.df[colY].astype(str)\n",
    "        \n",
    "        self.dfObserved = pd.crosstab(Y,X) \n",
    "        chi2, p, dof, expected = stats.chi2_contingency(self.dfObserved.values)\n",
    "        self.p = p\n",
    "        self.chi2 = chi2\n",
    "        self.dof = dof \n",
    "        \n",
    "        self.dfExpected = pd.DataFrame(expected, columns=self.dfObserved.columns, index = self.dfObserved.index)\n",
    "        \n",
    "        self._print_chisquare_result(colX, alpha)"
   ]
  },
  {
   "cell_type": "code",
   "execution_count": 26,
   "metadata": {},
   "outputs": [],
   "source": [
    "category = ['race', 'gender', 'age', 'admission_type_id', 'discharge_disposition_id', 'admission_source_id',\n",
    "            'time_in_hospital','diag_1', 'diag_2', 'diag_3', 'max_glu_serum', 'A1Cresult']"
   ]
  },
  {
   "cell_type": "code",
   "execution_count": 27,
   "metadata": {},
   "outputs": [
    {
     "name": "stdout",
     "output_type": "stream",
     "text": [
      "race                      is IMPORTANT for Prediction\n",
      "gender is NOT an important predictor. (Discard gender from model)\n",
      "age                       is IMPORTANT for Prediction\n",
      "admission_type_id         is IMPORTANT for Prediction\n",
      "discharge_disposition_id  is IMPORTANT for Prediction\n",
      "admission_source_id       is IMPORTANT for Prediction\n",
      "time_in_hospital          is IMPORTANT for Prediction\n",
      "diag_1                    is IMPORTANT for Prediction\n",
      "diag_2                    is IMPORTANT for Prediction\n",
      "diag_3                    is IMPORTANT for Prediction\n",
      "max_glu_serum             is IMPORTANT for Prediction\n",
      "A1Cresult                 is IMPORTANT for Prediction\n"
     ]
    }
   ],
   "source": [
    "#Initialize ChiSquare Class\n",
    "cT = ChiSquare(df)\n",
    "\n",
    "#Feature Selection\n",
    "testColumns = df[category]\n",
    "for var in testColumns:\n",
    "    cT.TestIndependence(colX=var,colY=\"Target\" )  "
   ]
  },
  {
   "cell_type": "markdown",
   "metadata": {},
   "source": [
    "# Chisquare Analysis on Diagnosis"
   ]
  },
  {
   "cell_type": "code",
   "execution_count": 30,
   "metadata": {},
   "outputs": [
    {
     "data": {
      "text/html": [
       "<div>\n",
       "<style scoped>\n",
       "    .dataframe tbody tr th:only-of-type {\n",
       "        vertical-align: middle;\n",
       "    }\n",
       "\n",
       "    .dataframe tbody tr th {\n",
       "        vertical-align: top;\n",
       "    }\n",
       "\n",
       "    .dataframe thead th {\n",
       "        text-align: right;\n",
       "    }\n",
       "</style>\n",
       "<table border=\"1\" class=\"dataframe\">\n",
       "  <thead>\n",
       "    <tr style=\"text-align: right;\">\n",
       "      <th></th>\n",
       "      <th>diag_1</th>\n",
       "      <th>diag_2</th>\n",
       "      <th>diag_3</th>\n",
       "    </tr>\n",
       "  </thead>\n",
       "  <tbody>\n",
       "    <tr>\n",
       "      <th>0</th>\n",
       "      <td>Other</td>\n",
       "      <td>Other</td>\n",
       "      <td>Other</td>\n",
       "    </tr>\n",
       "    <tr>\n",
       "      <th>1</th>\n",
       "      <td>Other</td>\n",
       "      <td>Diabetes</td>\n",
       "      <td>Other</td>\n",
       "    </tr>\n",
       "    <tr>\n",
       "      <th>2</th>\n",
       "      <td>Other</td>\n",
       "      <td>Other</td>\n",
       "      <td>Circulatory</td>\n",
       "    </tr>\n",
       "    <tr>\n",
       "      <th>3</th>\n",
       "      <td>Circulatory</td>\n",
       "      <td>Circulatory</td>\n",
       "      <td>Circulatory</td>\n",
       "    </tr>\n",
       "    <tr>\n",
       "      <th>4</th>\n",
       "      <td>Injury</td>\n",
       "      <td>Respiratory</td>\n",
       "      <td>Injury</td>\n",
       "    </tr>\n",
       "  </tbody>\n",
       "</table>\n",
       "</div>"
      ],
      "text/plain": [
       "         diag_1        diag_2        diag_3\n",
       "0         Other         Other         Other\n",
       "1         Other      Diabetes         Other\n",
       "2         Other         Other   Circulatory\n",
       "3   Circulatory   Circulatory   Circulatory\n",
       "4        Injury   Respiratory        Injury"
      ]
     },
     "execution_count": 30,
     "metadata": {},
     "output_type": "execute_result"
    }
   ],
   "source": [
    "Diag = df[['diag_1','diag_2','diag_3']]\n",
    "Diag.head()"
   ]
  },
  {
   "cell_type": "code",
   "execution_count": 31,
   "metadata": {},
   "outputs": [
    {
     "data": {
      "text/html": [
       "<div>\n",
       "<style scoped>\n",
       "    .dataframe tbody tr th:only-of-type {\n",
       "        vertical-align: middle;\n",
       "    }\n",
       "\n",
       "    .dataframe tbody tr th {\n",
       "        vertical-align: top;\n",
       "    }\n",
       "\n",
       "    .dataframe thead th {\n",
       "        text-align: right;\n",
       "    }\n",
       "</style>\n",
       "<table border=\"1\" class=\"dataframe\">\n",
       "  <thead>\n",
       "    <tr style=\"text-align: right;\">\n",
       "      <th></th>\n",
       "      <th>Diag</th>\n",
       "      <th>Observation</th>\n",
       "    </tr>\n",
       "  </thead>\n",
       "  <tbody>\n",
       "    <tr>\n",
       "      <th>0</th>\n",
       "      <td>diag_1</td>\n",
       "      <td>Other</td>\n",
       "    </tr>\n",
       "    <tr>\n",
       "      <th>1</th>\n",
       "      <td>diag_1</td>\n",
       "      <td>Other</td>\n",
       "    </tr>\n",
       "    <tr>\n",
       "      <th>2</th>\n",
       "      <td>diag_1</td>\n",
       "      <td>Other</td>\n",
       "    </tr>\n",
       "    <tr>\n",
       "      <th>3</th>\n",
       "      <td>diag_1</td>\n",
       "      <td>Circulatory</td>\n",
       "    </tr>\n",
       "    <tr>\n",
       "      <th>4</th>\n",
       "      <td>diag_1</td>\n",
       "      <td>Injury</td>\n",
       "    </tr>\n",
       "  </tbody>\n",
       "</table>\n",
       "</div>"
      ],
      "text/plain": [
       "     Diag   Observation\n",
       "0  diag_1         Other\n",
       "1  diag_1         Other\n",
       "2  diag_1         Other\n",
       "3  diag_1   Circulatory\n",
       "4  diag_1        Injury"
      ]
     },
     "execution_count": 31,
     "metadata": {},
     "output_type": "execute_result"
    }
   ],
   "source": [
    "f1 = pd.DataFrame({'Diag': 'diag_1', 'Observation':Diag.diag_1})\n",
    "f2 = pd.DataFrame({'Diag': 'diag_2', 'Observation':Diag.diag_2})\n",
    "f3 = pd.DataFrame({'Diag': 'diag_3', 'Observation':Diag.diag_3})\n",
    "\n",
    "Diagnosis = pd.concat([f1,f2,f3])\n",
    "Diagnosis.head()"
   ]
  },
  {
   "cell_type": "code",
   "execution_count": 32,
   "metadata": {},
   "outputs": [
    {
     "data": {
      "text/html": [
       "<div>\n",
       "<style scoped>\n",
       "    .dataframe tbody tr th:only-of-type {\n",
       "        vertical-align: middle;\n",
       "    }\n",
       "\n",
       "    .dataframe tbody tr th {\n",
       "        vertical-align: top;\n",
       "    }\n",
       "\n",
       "    .dataframe thead th {\n",
       "        text-align: right;\n",
       "    }\n",
       "</style>\n",
       "<table border=\"1\" class=\"dataframe\">\n",
       "  <thead>\n",
       "    <tr style=\"text-align: right;\">\n",
       "      <th>Observation</th>\n",
       "      <th>Circulatory</th>\n",
       "      <th>Diabetes</th>\n",
       "      <th>Digestive</th>\n",
       "      <th>Genitourinary</th>\n",
       "      <th>Injury</th>\n",
       "      <th>Musculoskeletal</th>\n",
       "      <th>Neoplasm</th>\n",
       "      <th>Other</th>\n",
       "      <th>Respiratory</th>\n",
       "    </tr>\n",
       "    <tr>\n",
       "      <th>Diag</th>\n",
       "      <th></th>\n",
       "      <th></th>\n",
       "      <th></th>\n",
       "      <th></th>\n",
       "      <th></th>\n",
       "      <th></th>\n",
       "      <th></th>\n",
       "      <th></th>\n",
       "      <th></th>\n",
       "    </tr>\n",
       "  </thead>\n",
       "  <tbody>\n",
       "    <tr>\n",
       "      <th>diag_1</th>\n",
       "      <td>11465</td>\n",
       "      <td>84</td>\n",
       "      <td>4128</td>\n",
       "      <td>2156</td>\n",
       "      <td>2812</td>\n",
       "      <td>3162</td>\n",
       "      <td>1621</td>\n",
       "      <td>9217</td>\n",
       "      <td>5194</td>\n",
       "    </tr>\n",
       "    <tr>\n",
       "      <th>diag_2</th>\n",
       "      <td>12269</td>\n",
       "      <td>2991</td>\n",
       "      <td>1795</td>\n",
       "      <td>3168</td>\n",
       "      <td>1362</td>\n",
       "      <td>1538</td>\n",
       "      <td>1049</td>\n",
       "      <td>11884</td>\n",
       "      <td>3783</td>\n",
       "    </tr>\n",
       "    <tr>\n",
       "      <th>diag_3</th>\n",
       "      <td>11683</td>\n",
       "      <td>5558</td>\n",
       "      <td>1629</td>\n",
       "      <td>2384</td>\n",
       "      <td>1286</td>\n",
       "      <td>1570</td>\n",
       "      <td>769</td>\n",
       "      <td>12414</td>\n",
       "      <td>2546</td>\n",
       "    </tr>\n",
       "  </tbody>\n",
       "</table>\n",
       "</div>"
      ],
      "text/plain": [
       "Observation   Circulatory  Diabetes  Digestive  Genitourinary  Injury  \\\n",
       "Diag                                                                    \n",
       "diag_1              11465        84       4128           2156    2812   \n",
       "diag_2              12269      2991       1795           3168    1362   \n",
       "diag_3              11683      5558       1629           2384    1286   \n",
       "\n",
       "Observation  Musculoskeletal  Neoplasm  Other  Respiratory  \n",
       "Diag                                                        \n",
       "diag_1                  3162      1621   9217         5194  \n",
       "diag_2                  1538      1049  11884         3783  \n",
       "diag_3                  1570       769  12414         2546  "
      ]
     },
     "execution_count": 32,
     "metadata": {},
     "output_type": "execute_result"
    }
   ],
   "source": [
    "Diag_crosstab = pd.crosstab(Diagnosis.Diag,Diagnosis.Observation)\n",
    "Diag_crosstab"
   ]
  },
  {
   "cell_type": "code",
   "execution_count": 33,
   "metadata": {},
   "outputs": [
    {
     "name": "stdout",
     "output_type": "stream",
     "text": [
      "P_value :  0.0 \n",
      "DOF :  16\n"
     ]
    }
   ],
   "source": [
    "chi_stats2, p_value2, deg_fr2,expected_value2 = stats.chi2_contingency(Diag_crosstab)\n",
    "print('P_value : ', p_value2, '\\nDOF : ',deg_fr2)"
   ]
  },
  {
   "cell_type": "markdown",
   "metadata": {},
   "source": [
    "Since p_value < 0.05, We reject the null hypothesis that there is no significant difference between the Diagnosis.\n",
    "So all three are considered for modelling"
   ]
  },
  {
   "cell_type": "code",
   "execution_count": 38,
   "metadata": {
    "scrolled": false
   },
   "outputs": [
    {
     "name": "stdout",
     "output_type": "stream",
     "text": [
      "Optimization terminated successfully.\n",
      "         Current function value: 0.589641\n",
      "         Iterations 6\n"
     ]
    },
    {
     "data": {
      "text/html": [
       "<table class=\"simpletable\">\n",
       "<caption>Logit Regression Results</caption>\n",
       "<tr>\n",
       "  <th>Dep. Variable:</th>      <td>Target</td>      <th>  No. Observations:  </th>  <td> 36565</td> \n",
       "</tr>\n",
       "<tr>\n",
       "  <th>Model:</th>               <td>Logit</td>      <th>  Df Residuals:      </th>  <td> 36493</td> \n",
       "</tr>\n",
       "<tr>\n",
       "  <th>Method:</th>               <td>MLE</td>       <th>  Df Model:          </th>  <td>    71</td> \n",
       "</tr>\n",
       "<tr>\n",
       "  <th>Date:</th>          <td>Wed, 10 Jul 2019</td> <th>  Pseudo R-squ.:     </th>  <td>0.08903</td>\n",
       "</tr>\n",
       "<tr>\n",
       "  <th>Time:</th>              <td>23:10:13</td>     <th>  Log-Likelihood:    </th> <td> -21560.</td>\n",
       "</tr>\n",
       "<tr>\n",
       "  <th>converged:</th>           <td>True</td>       <th>  LL-Null:           </th> <td> -23667.</td>\n",
       "</tr>\n",
       "<tr>\n",
       "  <th> </th>                      <td> </td>        <th>  LLR p-value:       </th>  <td> 0.000</td> \n",
       "</tr>\n",
       "</table>\n",
       "<table class=\"simpletable\">\n",
       "<tr>\n",
       "                    <td></td>                      <th>coef</th>     <th>std err</th>      <th>z</th>      <th>P>|z|</th>  <th>[0.025</th>    <th>0.975]</th>  \n",
       "</tr>\n",
       "<tr>\n",
       "  <th>num_lab_procedures</th>                   <td>    0.0018</td> <td>    0.001</td> <td>    2.549</td> <td> 0.011</td> <td>    0.000</td> <td>    0.003</td>\n",
       "</tr>\n",
       "<tr>\n",
       "  <th>num_procedures</th>                       <td>   -0.0452</td> <td>    0.017</td> <td>   -2.694</td> <td> 0.007</td> <td>   -0.078</td> <td>   -0.012</td>\n",
       "</tr>\n",
       "<tr>\n",
       "  <th>num_medications</th>                      <td>    0.4373</td> <td>    0.017</td> <td>   26.312</td> <td> 0.000</td> <td>    0.405</td> <td>    0.470</td>\n",
       "</tr>\n",
       "<tr>\n",
       "  <th>number_outpatient</th>                    <td>   -0.0351</td> <td>    0.031</td> <td>   -1.140</td> <td> 0.254</td> <td>   -0.095</td> <td>    0.025</td>\n",
       "</tr>\n",
       "<tr>\n",
       "  <th>number_inpatient</th>                     <td>    0.2183</td> <td>    0.026</td> <td>    8.467</td> <td> 0.000</td> <td>    0.168</td> <td>    0.269</td>\n",
       "</tr>\n",
       "<tr>\n",
       "  <th>number_emergency</th>                     <td>    0.1872</td> <td>    0.051</td> <td>    3.689</td> <td> 0.000</td> <td>    0.088</td> <td>    0.287</td>\n",
       "</tr>\n",
       "<tr>\n",
       "  <th>number_diagnoses</th>                     <td>    0.0566</td> <td>    0.007</td> <td>    7.715</td> <td> 0.000</td> <td>    0.042</td> <td>    0.071</td>\n",
       "</tr>\n",
       "<tr>\n",
       "  <th>max_glu_serum</th>                        <td>    0.3649</td> <td>    0.037</td> <td>    9.854</td> <td> 0.000</td> <td>    0.292</td> <td>    0.438</td>\n",
       "</tr>\n",
       "<tr>\n",
       "  <th>A1Cresult</th>                            <td>    0.1994</td> <td>    0.014</td> <td>   14.074</td> <td> 0.000</td> <td>    0.172</td> <td>    0.227</td>\n",
       "</tr>\n",
       "<tr>\n",
       "  <th>age_15</th>                               <td>   -0.3262</td> <td>    0.297</td> <td>   -1.098</td> <td> 0.272</td> <td>   -0.909</td> <td>    0.256</td>\n",
       "</tr>\n",
       "<tr>\n",
       "  <th>age_25</th>                               <td>   -1.0584</td> <td>    0.275</td> <td>   -3.842</td> <td> 0.000</td> <td>   -1.598</td> <td>   -0.518</td>\n",
       "</tr>\n",
       "<tr>\n",
       "  <th>age_35</th>                               <td>   -1.8245</td> <td>    0.269</td> <td>   -6.790</td> <td> 0.000</td> <td>   -2.351</td> <td>   -1.298</td>\n",
       "</tr>\n",
       "<tr>\n",
       "  <th>age_45</th>                               <td>   -2.0533</td> <td>    0.266</td> <td>   -7.713</td> <td> 0.000</td> <td>   -2.575</td> <td>   -1.531</td>\n",
       "</tr>\n",
       "<tr>\n",
       "  <th>age_55</th>                               <td>   -2.1566</td> <td>    0.266</td> <td>   -8.120</td> <td> 0.000</td> <td>   -2.677</td> <td>   -1.636</td>\n",
       "</tr>\n",
       "<tr>\n",
       "  <th>age_65</th>                               <td>   -2.2126</td> <td>    0.266</td> <td>   -8.328</td> <td> 0.000</td> <td>   -2.733</td> <td>   -1.692</td>\n",
       "</tr>\n",
       "<tr>\n",
       "  <th>age_75</th>                               <td>   -2.3502</td> <td>    0.266</td> <td>   -8.845</td> <td> 0.000</td> <td>   -2.871</td> <td>   -1.829</td>\n",
       "</tr>\n",
       "<tr>\n",
       "  <th>age_85</th>                               <td>   -2.4041</td> <td>    0.267</td> <td>   -9.019</td> <td> 0.000</td> <td>   -2.927</td> <td>   -1.882</td>\n",
       "</tr>\n",
       "<tr>\n",
       "  <th>age_95</th>                               <td>   -2.4819</td> <td>    0.273</td> <td>   -9.076</td> <td> 0.000</td> <td>   -3.018</td> <td>   -1.946</td>\n",
       "</tr>\n",
       "<tr>\n",
       "  <th>time_in_hospital_2</th>                   <td>   -0.0084</td> <td>    0.041</td> <td>   -0.206</td> <td> 0.837</td> <td>   -0.088</td> <td>    0.071</td>\n",
       "</tr>\n",
       "<tr>\n",
       "  <th>time_in_hospital_3</th>                   <td>   -0.0297</td> <td>    0.042</td> <td>   -0.716</td> <td> 0.474</td> <td>   -0.111</td> <td>    0.052</td>\n",
       "</tr>\n",
       "<tr>\n",
       "  <th>time_in_hospital_4</th>                   <td>   -0.0623</td> <td>    0.046</td> <td>   -1.364</td> <td> 0.173</td> <td>   -0.152</td> <td>    0.027</td>\n",
       "</tr>\n",
       "<tr>\n",
       "  <th>time_in_hospital_5</th>                   <td>   -0.1434</td> <td>    0.051</td> <td>   -2.806</td> <td> 0.005</td> <td>   -0.244</td> <td>   -0.043</td>\n",
       "</tr>\n",
       "<tr>\n",
       "  <th>time_in_hospital_6</th>                   <td>   -0.2097</td> <td>    0.057</td> <td>   -3.685</td> <td> 0.000</td> <td>   -0.321</td> <td>   -0.098</td>\n",
       "</tr>\n",
       "<tr>\n",
       "  <th>time_in_hospital_7</th>                   <td>   -0.1812</td> <td>    0.063</td> <td>   -2.877</td> <td> 0.004</td> <td>   -0.305</td> <td>   -0.058</td>\n",
       "</tr>\n",
       "<tr>\n",
       "  <th>time_in_hospital_8</th>                   <td>   -0.1084</td> <td>    0.071</td> <td>   -1.537</td> <td> 0.124</td> <td>   -0.247</td> <td>    0.030</td>\n",
       "</tr>\n",
       "<tr>\n",
       "  <th>time_in_hospital_9</th>                   <td>   -0.1478</td> <td>    0.083</td> <td>   -1.779</td> <td> 0.075</td> <td>   -0.311</td> <td>    0.015</td>\n",
       "</tr>\n",
       "<tr>\n",
       "  <th>time_in_hospital_10</th>                  <td>   -0.2886</td> <td>    0.093</td> <td>   -3.087</td> <td> 0.002</td> <td>   -0.472</td> <td>   -0.105</td>\n",
       "</tr>\n",
       "<tr>\n",
       "  <th>time_in_hospital_11</th>                  <td>   -0.2684</td> <td>    0.100</td> <td>   -2.692</td> <td> 0.007</td> <td>   -0.464</td> <td>   -0.073</td>\n",
       "</tr>\n",
       "<tr>\n",
       "  <th>time_in_hospital_12</th>                  <td>   -0.2380</td> <td>    0.112</td> <td>   -2.125</td> <td> 0.034</td> <td>   -0.458</td> <td>   -0.019</td>\n",
       "</tr>\n",
       "<tr>\n",
       "  <th>time_in_hospital_13</th>                  <td>   -0.2128</td> <td>    0.123</td> <td>   -1.724</td> <td> 0.085</td> <td>   -0.455</td> <td>    0.029</td>\n",
       "</tr>\n",
       "<tr>\n",
       "  <th>time_in_hospital_14</th>                  <td>   -0.5753</td> <td>    0.139</td> <td>   -4.138</td> <td> 0.000</td> <td>   -0.848</td> <td>   -0.303</td>\n",
       "</tr>\n",
       "<tr>\n",
       "  <th>race_Asian</th>                           <td>   -0.3681</td> <td>    0.139</td> <td>   -2.646</td> <td> 0.008</td> <td>   -0.641</td> <td>   -0.095</td>\n",
       "</tr>\n",
       "<tr>\n",
       "  <th>race_Caucasian</th>                       <td>   -0.3254</td> <td>    0.030</td> <td>  -10.895</td> <td> 0.000</td> <td>   -0.384</td> <td>   -0.267</td>\n",
       "</tr>\n",
       "<tr>\n",
       "  <th>race_Hispanic</th>                        <td>   -0.3157</td> <td>    0.085</td> <td>   -3.699</td> <td> 0.000</td> <td>   -0.483</td> <td>   -0.148</td>\n",
       "</tr>\n",
       "<tr>\n",
       "  <th>race_Other</th>                           <td>    0.0140</td> <td>    0.091</td> <td>    0.153</td> <td> 0.878</td> <td>   -0.165</td> <td>    0.193</td>\n",
       "</tr>\n",
       "<tr>\n",
       "  <th>gender_Male</th>                          <td>    0.0579</td> <td>    0.024</td> <td>    2.432</td> <td> 0.015</td> <td>    0.011</td> <td>    0.105</td>\n",
       "</tr>\n",
       "<tr>\n",
       "  <th>admission_type_id_Emergency</th>          <td>    0.3656</td> <td>    0.040</td> <td>    9.171</td> <td> 0.000</td> <td>    0.287</td> <td>    0.444</td>\n",
       "</tr>\n",
       "<tr>\n",
       "  <th>admission_type_id_Newborn</th>            <td>    0.6800</td> <td>    0.886</td> <td>    0.767</td> <td> 0.443</td> <td>   -1.057</td> <td>    2.417</td>\n",
       "</tr>\n",
       "<tr>\n",
       "  <th>admission_type_id_Unknown</th>            <td>    0.3794</td> <td>    0.062</td> <td>    6.139</td> <td> 0.000</td> <td>    0.258</td> <td>    0.501</td>\n",
       "</tr>\n",
       "<tr>\n",
       "  <th>discharge_disposition_id_Hospital</th>    <td>    0.1399</td> <td>    0.058</td> <td>    2.431</td> <td> 0.015</td> <td>    0.027</td> <td>    0.253</td>\n",
       "</tr>\n",
       "<tr>\n",
       "  <th>discharge_disposition_id_Outpatient</th>  <td>   -0.2595</td> <td>    0.489</td> <td>   -0.531</td> <td> 0.596</td> <td>   -1.218</td> <td>    0.699</td>\n",
       "</tr>\n",
       "<tr>\n",
       "  <th>discharge_disposition_id_SC_facility</th> <td>    0.2525</td> <td>    0.036</td> <td>    7.031</td> <td> 0.000</td> <td>    0.182</td> <td>    0.323</td>\n",
       "</tr>\n",
       "<tr>\n",
       "  <th>discharge_disposition_id_Unknown</th>     <td>   -1.0090</td> <td>    0.062</td> <td>  -16.268</td> <td> 0.000</td> <td>   -1.131</td> <td>   -0.887</td>\n",
       "</tr>\n",
       "<tr>\n",
       "  <th>admission_source_id_Emergency</th>        <td>   -0.8404</td> <td>    0.273</td> <td>   -3.075</td> <td> 0.002</td> <td>   -1.376</td> <td>   -0.305</td>\n",
       "</tr>\n",
       "<tr>\n",
       "  <th>admission_source_id_Facility</th>         <td>   -0.6396</td> <td>    0.275</td> <td>   -2.327</td> <td> 0.020</td> <td>   -1.178</td> <td>   -0.101</td>\n",
       "</tr>\n",
       "<tr>\n",
       "  <th>admission_source_id_Law</th>              <td>   -2.4511</td> <td>    1.194</td> <td>   -2.053</td> <td> 0.040</td> <td>   -4.791</td> <td>   -0.112</td>\n",
       "</tr>\n",
       "<tr>\n",
       "  <th>admission_source_id_Referrel</th>         <td>   -0.8439</td> <td>    0.272</td> <td>   -3.101</td> <td> 0.002</td> <td>   -1.377</td> <td>   -0.311</td>\n",
       "</tr>\n",
       "<tr>\n",
       "  <th>admission_source_id_Unknown</th>          <td>   -1.2557</td> <td>    0.282</td> <td>   -4.461</td> <td> 0.000</td> <td>   -1.807</td> <td>   -0.704</td>\n",
       "</tr>\n",
       "<tr>\n",
       "  <th>diag_1_Diabetes</th>                      <td>    0.6026</td> <td>    0.252</td> <td>    2.391</td> <td> 0.017</td> <td>    0.109</td> <td>    1.096</td>\n",
       "</tr>\n",
       "<tr>\n",
       "  <th>diag_1_Digestive</th>                     <td>    0.2276</td> <td>    0.044</td> <td>    5.121</td> <td> 0.000</td> <td>    0.140</td> <td>    0.315</td>\n",
       "</tr>\n",
       "<tr>\n",
       "  <th>diag_1_Genitourinary</th>                 <td>    0.0582</td> <td>    0.056</td> <td>    1.042</td> <td> 0.297</td> <td>   -0.051</td> <td>    0.168</td>\n",
       "</tr>\n",
       "<tr>\n",
       "  <th>diag_1_Injury</th>                        <td>   -0.0453</td> <td>    0.053</td> <td>   -0.863</td> <td> 0.388</td> <td>   -0.148</td> <td>    0.058</td>\n",
       "</tr>\n",
       "<tr>\n",
       "  <th>diag_1_Musculoskeletal</th>               <td>   -0.4933</td> <td>    0.054</td> <td>   -9.152</td> <td> 0.000</td> <td>   -0.599</td> <td>   -0.388</td>\n",
       "</tr>\n",
       "<tr>\n",
       "  <th>diag_1_Neoplasm</th>                      <td>    0.1164</td> <td>    0.067</td> <td>    1.734</td> <td> 0.083</td> <td>   -0.015</td> <td>    0.248</td>\n",
       "</tr>\n",
       "<tr>\n",
       "  <th>diag_1_Other</th>                         <td>    0.3117</td> <td>    0.036</td> <td>    8.564</td> <td> 0.000</td> <td>    0.240</td> <td>    0.383</td>\n",
       "</tr>\n",
       "<tr>\n",
       "  <th>diag_1_Respiratory</th>                   <td>    0.0173</td> <td>    0.040</td> <td>    0.429</td> <td> 0.668</td> <td>   -0.062</td> <td>    0.097</td>\n",
       "</tr>\n",
       "<tr>\n",
       "  <th>diag_2_Diabetes</th>                      <td>   -0.2284</td> <td>    0.055</td> <td>   -4.176</td> <td> 0.000</td> <td>   -0.336</td> <td>   -0.121</td>\n",
       "</tr>\n",
       "<tr>\n",
       "  <th>diag_2_Digestive</th>                     <td>    0.1458</td> <td>    0.061</td> <td>    2.398</td> <td> 0.016</td> <td>    0.027</td> <td>    0.265</td>\n",
       "</tr>\n",
       "<tr>\n",
       "  <th>diag_2_Genitourinary</th>                 <td>    0.2448</td> <td>    0.047</td> <td>    5.220</td> <td> 0.000</td> <td>    0.153</td> <td>    0.337</td>\n",
       "</tr>\n",
       "<tr>\n",
       "  <th>diag_2_Injury</th>                        <td>    0.0152</td> <td>    0.071</td> <td>    0.214</td> <td> 0.830</td> <td>   -0.124</td> <td>    0.155</td>\n",
       "</tr>\n",
       "<tr>\n",
       "  <th>diag_2_Musculoskeletal</th>               <td>   -0.1435</td> <td>    0.067</td> <td>   -2.144</td> <td> 0.032</td> <td>   -0.275</td> <td>   -0.012</td>\n",
       "</tr>\n",
       "<tr>\n",
       "  <th>diag_2_Neoplasm</th>                      <td>    0.0619</td> <td>    0.082</td> <td>    0.758</td> <td> 0.449</td> <td>   -0.098</td> <td>    0.222</td>\n",
       "</tr>\n",
       "<tr>\n",
       "  <th>diag_2_Other</th>                         <td>    0.2957</td> <td>    0.033</td> <td>    9.092</td> <td> 0.000</td> <td>    0.232</td> <td>    0.359</td>\n",
       "</tr>\n",
       "<tr>\n",
       "  <th>diag_2_Respiratory</th>                   <td>    0.1208</td> <td>    0.044</td> <td>    2.767</td> <td> 0.006</td> <td>    0.035</td> <td>    0.206</td>\n",
       "</tr>\n",
       "<tr>\n",
       "  <th>diag_3_Diabetes</th>                      <td>   -0.2319</td> <td>    0.042</td> <td>   -5.493</td> <td> 0.000</td> <td>   -0.315</td> <td>   -0.149</td>\n",
       "</tr>\n",
       "<tr>\n",
       "  <th>diag_3_Digestive</th>                     <td>    0.0902</td> <td>    0.062</td> <td>    1.453</td> <td> 0.146</td> <td>   -0.031</td> <td>    0.212</td>\n",
       "</tr>\n",
       "<tr>\n",
       "  <th>diag_3_Genitourinary</th>                 <td>    0.2052</td> <td>    0.052</td> <td>    3.969</td> <td> 0.000</td> <td>    0.104</td> <td>    0.306</td>\n",
       "</tr>\n",
       "<tr>\n",
       "  <th>diag_3_Injury</th>                        <td>   -0.0786</td> <td>    0.073</td> <td>   -1.082</td> <td> 0.279</td> <td>   -0.221</td> <td>    0.064</td>\n",
       "</tr>\n",
       "<tr>\n",
       "  <th>diag_3_Musculoskeletal</th>               <td>    0.0035</td> <td>    0.063</td> <td>    0.056</td> <td> 0.956</td> <td>   -0.120</td> <td>    0.127</td>\n",
       "</tr>\n",
       "<tr>\n",
       "  <th>diag_3_Neoplasm</th>                      <td>   -0.0417</td> <td>    0.091</td> <td>   -0.457</td> <td> 0.647</td> <td>   -0.220</td> <td>    0.137</td>\n",
       "</tr>\n",
       "<tr>\n",
       "  <th>diag_3_Other</th>                         <td>    0.2070</td> <td>    0.031</td> <td>    6.703</td> <td> 0.000</td> <td>    0.146</td> <td>    0.268</td>\n",
       "</tr>\n",
       "<tr>\n",
       "  <th>diag_3_Respiratory</th>                   <td>   -0.0008</td> <td>    0.051</td> <td>   -0.016</td> <td> 0.987</td> <td>   -0.100</td> <td>    0.099</td>\n",
       "</tr>\n",
       "</table>"
      ],
      "text/plain": [
       "<class 'statsmodels.iolib.summary.Summary'>\n",
       "\"\"\"\n",
       "                           Logit Regression Results                           \n",
       "==============================================================================\n",
       "Dep. Variable:                 Target   No. Observations:                36565\n",
       "Model:                          Logit   Df Residuals:                    36493\n",
       "Method:                           MLE   Df Model:                           71\n",
       "Date:                Wed, 10 Jul 2019   Pseudo R-squ.:                 0.08903\n",
       "Time:                        23:10:13   Log-Likelihood:                -21560.\n",
       "converged:                       True   LL-Null:                       -23667.\n",
       "                                        LLR p-value:                     0.000\n",
       "========================================================================================================\n",
       "                                           coef    std err          z      P>|z|      [0.025      0.975]\n",
       "--------------------------------------------------------------------------------------------------------\n",
       "num_lab_procedures                       0.0018      0.001      2.549      0.011       0.000       0.003\n",
       "num_procedures                          -0.0452      0.017     -2.694      0.007      -0.078      -0.012\n",
       "num_medications                          0.4373      0.017     26.312      0.000       0.405       0.470\n",
       "number_outpatient                       -0.0351      0.031     -1.140      0.254      -0.095       0.025\n",
       "number_inpatient                         0.2183      0.026      8.467      0.000       0.168       0.269\n",
       "number_emergency                         0.1872      0.051      3.689      0.000       0.088       0.287\n",
       "number_diagnoses                         0.0566      0.007      7.715      0.000       0.042       0.071\n",
       "max_glu_serum                            0.3649      0.037      9.854      0.000       0.292       0.438\n",
       "A1Cresult                                0.1994      0.014     14.074      0.000       0.172       0.227\n",
       "age_15                                  -0.3262      0.297     -1.098      0.272      -0.909       0.256\n",
       "age_25                                  -1.0584      0.275     -3.842      0.000      -1.598      -0.518\n",
       "age_35                                  -1.8245      0.269     -6.790      0.000      -2.351      -1.298\n",
       "age_45                                  -2.0533      0.266     -7.713      0.000      -2.575      -1.531\n",
       "age_55                                  -2.1566      0.266     -8.120      0.000      -2.677      -1.636\n",
       "age_65                                  -2.2126      0.266     -8.328      0.000      -2.733      -1.692\n",
       "age_75                                  -2.3502      0.266     -8.845      0.000      -2.871      -1.829\n",
       "age_85                                  -2.4041      0.267     -9.019      0.000      -2.927      -1.882\n",
       "age_95                                  -2.4819      0.273     -9.076      0.000      -3.018      -1.946\n",
       "time_in_hospital_2                      -0.0084      0.041     -0.206      0.837      -0.088       0.071\n",
       "time_in_hospital_3                      -0.0297      0.042     -0.716      0.474      -0.111       0.052\n",
       "time_in_hospital_4                      -0.0623      0.046     -1.364      0.173      -0.152       0.027\n",
       "time_in_hospital_5                      -0.1434      0.051     -2.806      0.005      -0.244      -0.043\n",
       "time_in_hospital_6                      -0.2097      0.057     -3.685      0.000      -0.321      -0.098\n",
       "time_in_hospital_7                      -0.1812      0.063     -2.877      0.004      -0.305      -0.058\n",
       "time_in_hospital_8                      -0.1084      0.071     -1.537      0.124      -0.247       0.030\n",
       "time_in_hospital_9                      -0.1478      0.083     -1.779      0.075      -0.311       0.015\n",
       "time_in_hospital_10                     -0.2886      0.093     -3.087      0.002      -0.472      -0.105\n",
       "time_in_hospital_11                     -0.2684      0.100     -2.692      0.007      -0.464      -0.073\n",
       "time_in_hospital_12                     -0.2380      0.112     -2.125      0.034      -0.458      -0.019\n",
       "time_in_hospital_13                     -0.2128      0.123     -1.724      0.085      -0.455       0.029\n",
       "time_in_hospital_14                     -0.5753      0.139     -4.138      0.000      -0.848      -0.303\n",
       "race_Asian                              -0.3681      0.139     -2.646      0.008      -0.641      -0.095\n",
       "race_Caucasian                          -0.3254      0.030    -10.895      0.000      -0.384      -0.267\n",
       "race_Hispanic                           -0.3157      0.085     -3.699      0.000      -0.483      -0.148\n",
       "race_Other                               0.0140      0.091      0.153      0.878      -0.165       0.193\n",
       "gender_Male                              0.0579      0.024      2.432      0.015       0.011       0.105\n",
       "admission_type_id_Emergency              0.3656      0.040      9.171      0.000       0.287       0.444\n",
       "admission_type_id_Newborn                0.6800      0.886      0.767      0.443      -1.057       2.417\n",
       "admission_type_id_Unknown                0.3794      0.062      6.139      0.000       0.258       0.501\n",
       "discharge_disposition_id_Hospital        0.1399      0.058      2.431      0.015       0.027       0.253\n",
       "discharge_disposition_id_Outpatient     -0.2595      0.489     -0.531      0.596      -1.218       0.699\n",
       "discharge_disposition_id_SC_facility     0.2525      0.036      7.031      0.000       0.182       0.323\n",
       "discharge_disposition_id_Unknown        -1.0090      0.062    -16.268      0.000      -1.131      -0.887\n",
       "admission_source_id_Emergency           -0.8404      0.273     -3.075      0.002      -1.376      -0.305\n",
       "admission_source_id_Facility            -0.6396      0.275     -2.327      0.020      -1.178      -0.101\n",
       "admission_source_id_Law                 -2.4511      1.194     -2.053      0.040      -4.791      -0.112\n",
       "admission_source_id_Referrel            -0.8439      0.272     -3.101      0.002      -1.377      -0.311\n",
       "admission_source_id_Unknown             -1.2557      0.282     -4.461      0.000      -1.807      -0.704\n",
       "diag_1_Diabetes                          0.6026      0.252      2.391      0.017       0.109       1.096\n",
       "diag_1_Digestive                         0.2276      0.044      5.121      0.000       0.140       0.315\n",
       "diag_1_Genitourinary                     0.0582      0.056      1.042      0.297      -0.051       0.168\n",
       "diag_1_Injury                           -0.0453      0.053     -0.863      0.388      -0.148       0.058\n",
       "diag_1_Musculoskeletal                  -0.4933      0.054     -9.152      0.000      -0.599      -0.388\n",
       "diag_1_Neoplasm                          0.1164      0.067      1.734      0.083      -0.015       0.248\n",
       "diag_1_Other                             0.3117      0.036      8.564      0.000       0.240       0.383\n",
       "diag_1_Respiratory                       0.0173      0.040      0.429      0.668      -0.062       0.097\n",
       "diag_2_Diabetes                         -0.2284      0.055     -4.176      0.000      -0.336      -0.121\n",
       "diag_2_Digestive                         0.1458      0.061      2.398      0.016       0.027       0.265\n",
       "diag_2_Genitourinary                     0.2448      0.047      5.220      0.000       0.153       0.337\n",
       "diag_2_Injury                            0.0152      0.071      0.214      0.830      -0.124       0.155\n",
       "diag_2_Musculoskeletal                  -0.1435      0.067     -2.144      0.032      -0.275      -0.012\n",
       "diag_2_Neoplasm                          0.0619      0.082      0.758      0.449      -0.098       0.222\n",
       "diag_2_Other                             0.2957      0.033      9.092      0.000       0.232       0.359\n",
       "diag_2_Respiratory                       0.1208      0.044      2.767      0.006       0.035       0.206\n",
       "diag_3_Diabetes                         -0.2319      0.042     -5.493      0.000      -0.315      -0.149\n",
       "diag_3_Digestive                         0.0902      0.062      1.453      0.146      -0.031       0.212\n",
       "diag_3_Genitourinary                     0.2052      0.052      3.969      0.000       0.104       0.306\n",
       "diag_3_Injury                           -0.0786      0.073     -1.082      0.279      -0.221       0.064\n",
       "diag_3_Musculoskeletal                   0.0035      0.063      0.056      0.956      -0.120       0.127\n",
       "diag_3_Neoplasm                         -0.0417      0.091     -0.457      0.647      -0.220       0.137\n",
       "diag_3_Other                             0.2070      0.031      6.703      0.000       0.146       0.268\n",
       "diag_3_Respiratory                      -0.0008      0.051     -0.016      0.987      -0.100       0.099\n",
       "========================================================================================================\n",
       "\"\"\""
      ]
     },
     "execution_count": 38,
     "metadata": {},
     "output_type": "execute_result"
    }
   ],
   "source": [
    "logit = sm.Logit(y_normal, x_normal).fit()\n",
    "logit.summary()"
   ]
  },
  {
   "cell_type": "code",
   "execution_count": 44,
   "metadata": {},
   "outputs": [],
   "source": [
    "df3 = df2.copy()\n",
    "df3.drop(['gender_Male','number_outpatient'],1,inplace=True)\n",
    "\n",
    "x_tests = df3.drop('Target',1)\n",
    "y_tests = df3.Target"
   ]
  },
  {
   "cell_type": "code",
   "execution_count": 45,
   "metadata": {},
   "outputs": [
    {
     "data": {
      "text/html": [
       "<div>\n",
       "<style scoped>\n",
       "    .dataframe tbody tr th:only-of-type {\n",
       "        vertical-align: middle;\n",
       "    }\n",
       "\n",
       "    .dataframe tbody tr th {\n",
       "        vertical-align: top;\n",
       "    }\n",
       "\n",
       "    .dataframe thead th {\n",
       "        text-align: right;\n",
       "    }\n",
       "</style>\n",
       "<table border=\"1\" class=\"dataframe\">\n",
       "  <thead>\n",
       "    <tr style=\"text-align: right;\">\n",
       "      <th></th>\n",
       "      <th>AUC Score</th>\n",
       "    </tr>\n",
       "  </thead>\n",
       "  <tbody>\n",
       "    <tr>\n",
       "      <th>Logistic</th>\n",
       "      <td>0.598009</td>\n",
       "    </tr>\n",
       "    <tr>\n",
       "      <th>Naive_Bayes</th>\n",
       "      <td>0.594940</td>\n",
       "    </tr>\n",
       "    <tr>\n",
       "      <th>RandomForest</th>\n",
       "      <td>0.585710</td>\n",
       "    </tr>\n",
       "    <tr>\n",
       "      <th>KNN</th>\n",
       "      <td>0.576109</td>\n",
       "    </tr>\n",
       "    <tr>\n",
       "      <th>DecisionTree</th>\n",
       "      <td>0.564373</td>\n",
       "    </tr>\n",
       "  </tbody>\n",
       "</table>\n",
       "</div>"
      ],
      "text/plain": [
       "              AUC Score\n",
       "Logistic       0.598009\n",
       "Naive_Bayes    0.594940\n",
       "RandomForest   0.585710\n",
       "KNN            0.576109\n",
       "DecisionTree   0.564373"
      ]
     },
     "execution_count": 45,
     "metadata": {},
     "output_type": "execute_result"
    }
   ],
   "source": [
    "Evaluate(Models, x_tests, y_tests)"
   ]
  },
  {
   "cell_type": "code",
   "execution_count": 75,
   "metadata": {},
   "outputs": [
    {
     "data": {
      "text/html": [
       "<div>\n",
       "<style scoped>\n",
       "    .dataframe tbody tr th:only-of-type {\n",
       "        vertical-align: middle;\n",
       "    }\n",
       "\n",
       "    .dataframe tbody tr th {\n",
       "        vertical-align: top;\n",
       "    }\n",
       "\n",
       "    .dataframe thead th {\n",
       "        text-align: right;\n",
       "    }\n",
       "</style>\n",
       "<table border=\"1\" class=\"dataframe\">\n",
       "  <thead>\n",
       "    <tr style=\"text-align: right;\">\n",
       "      <th></th>\n",
       "      <th>AUC Score</th>\n",
       "    </tr>\n",
       "  </thead>\n",
       "  <tbody>\n",
       "    <tr>\n",
       "      <th>Logistic</th>\n",
       "      <td>0.598143</td>\n",
       "    </tr>\n",
       "    <tr>\n",
       "      <th>Naive_Bayes</th>\n",
       "      <td>0.594865</td>\n",
       "    </tr>\n",
       "    <tr>\n",
       "      <th>RandomForest</th>\n",
       "      <td>0.581145</td>\n",
       "    </tr>\n",
       "    <tr>\n",
       "      <th>KNN</th>\n",
       "      <td>0.575025</td>\n",
       "    </tr>\n",
       "    <tr>\n",
       "      <th>DecisionTree</th>\n",
       "      <td>0.563951</td>\n",
       "    </tr>\n",
       "  </tbody>\n",
       "</table>\n",
       "</div>"
      ],
      "text/plain": [
       "              AUC Score\n",
       "Logistic       0.598143\n",
       "Naive_Bayes    0.594865\n",
       "RandomForest   0.581145\n",
       "KNN            0.575025\n",
       "DecisionTree   0.563951"
      ]
     },
     "execution_count": 75,
     "metadata": {},
     "output_type": "execute_result"
    }
   ],
   "source": [
    "# Evaluate(Models, x_normal, y_normal)"
   ]
  },
  {
   "cell_type": "code",
   "execution_count": null,
   "metadata": {},
   "outputs": [],
   "source": []
  },
  {
   "cell_type": "markdown",
   "metadata": {},
   "source": [
    "# Feature Selection"
   ]
  },
  {
   "cell_type": "code",
   "execution_count": 46,
   "metadata": {},
   "outputs": [],
   "source": [
    "select = SelectKBest(k=20)\n",
    "x_best = pd.DataFrame(select.fit_transform(x_tests, y_tests), columns=x_tests.columns[select.get_support()])"
   ]
  },
  {
   "cell_type": "code",
   "execution_count": 47,
   "metadata": {},
   "outputs": [
    {
     "data": {
      "text/html": [
       "<div>\n",
       "<style scoped>\n",
       "    .dataframe tbody tr th:only-of-type {\n",
       "        vertical-align: middle;\n",
       "    }\n",
       "\n",
       "    .dataframe tbody tr th {\n",
       "        vertical-align: top;\n",
       "    }\n",
       "\n",
       "    .dataframe thead th {\n",
       "        text-align: right;\n",
       "    }\n",
       "</style>\n",
       "<table border=\"1\" class=\"dataframe\">\n",
       "  <thead>\n",
       "    <tr style=\"text-align: right;\">\n",
       "      <th></th>\n",
       "      <th>num_lab_procedures</th>\n",
       "      <th>num_medications</th>\n",
       "      <th>number_inpatient</th>\n",
       "      <th>number_diagnoses</th>\n",
       "      <th>A1Cresult</th>\n",
       "      <th>age_15</th>\n",
       "      <th>age_25</th>\n",
       "      <th>age_75</th>\n",
       "      <th>race_Caucasian</th>\n",
       "      <th>admission_type_id_Emergency</th>\n",
       "      <th>discharge_disposition_id_SC_facility</th>\n",
       "      <th>discharge_disposition_id_Unknown</th>\n",
       "      <th>admission_source_id_Emergency</th>\n",
       "      <th>admission_source_id_Referrel</th>\n",
       "      <th>diag_1_Musculoskeletal</th>\n",
       "      <th>diag_1_Other</th>\n",
       "      <th>diag_2_Diabetes</th>\n",
       "      <th>diag_2_Other</th>\n",
       "      <th>diag_3_Diabetes</th>\n",
       "      <th>diag_3_Other</th>\n",
       "    </tr>\n",
       "  </thead>\n",
       "  <tbody>\n",
       "    <tr>\n",
       "      <th>0</th>\n",
       "      <td>11.0</td>\n",
       "      <td>3.605551</td>\n",
       "      <td>1.0</td>\n",
       "      <td>6.0</td>\n",
       "      <td>0.0</td>\n",
       "      <td>0.0</td>\n",
       "      <td>1.0</td>\n",
       "      <td>0.0</td>\n",
       "      <td>0.0</td>\n",
       "      <td>1.0</td>\n",
       "      <td>0.0</td>\n",
       "      <td>0.0</td>\n",
       "      <td>1.0</td>\n",
       "      <td>0.0</td>\n",
       "      <td>0.0</td>\n",
       "      <td>1.0</td>\n",
       "      <td>1.0</td>\n",
       "      <td>0.0</td>\n",
       "      <td>0.0</td>\n",
       "      <td>1.0</td>\n",
       "    </tr>\n",
       "    <tr>\n",
       "      <th>1</th>\n",
       "      <td>44.0</td>\n",
       "      <td>4.000000</td>\n",
       "      <td>0.0</td>\n",
       "      <td>7.0</td>\n",
       "      <td>0.0</td>\n",
       "      <td>0.0</td>\n",
       "      <td>0.0</td>\n",
       "      <td>0.0</td>\n",
       "      <td>1.0</td>\n",
       "      <td>1.0</td>\n",
       "      <td>0.0</td>\n",
       "      <td>0.0</td>\n",
       "      <td>1.0</td>\n",
       "      <td>0.0</td>\n",
       "      <td>0.0</td>\n",
       "      <td>1.0</td>\n",
       "      <td>0.0</td>\n",
       "      <td>1.0</td>\n",
       "      <td>0.0</td>\n",
       "      <td>0.0</td>\n",
       "    </tr>\n",
       "    <tr>\n",
       "      <th>2</th>\n",
       "      <td>55.0</td>\n",
       "      <td>5.567764</td>\n",
       "      <td>0.0</td>\n",
       "      <td>8.0</td>\n",
       "      <td>0.0</td>\n",
       "      <td>0.0</td>\n",
       "      <td>0.0</td>\n",
       "      <td>0.0</td>\n",
       "      <td>1.0</td>\n",
       "      <td>1.0</td>\n",
       "      <td>0.0</td>\n",
       "      <td>0.0</td>\n",
       "      <td>1.0</td>\n",
       "      <td>0.0</td>\n",
       "      <td>0.0</td>\n",
       "      <td>0.0</td>\n",
       "      <td>0.0</td>\n",
       "      <td>0.0</td>\n",
       "      <td>0.0</td>\n",
       "      <td>0.0</td>\n",
       "    </tr>\n",
       "    <tr>\n",
       "      <th>3</th>\n",
       "      <td>75.0</td>\n",
       "      <td>3.605551</td>\n",
       "      <td>0.0</td>\n",
       "      <td>9.0</td>\n",
       "      <td>0.0</td>\n",
       "      <td>0.0</td>\n",
       "      <td>0.0</td>\n",
       "      <td>0.0</td>\n",
       "      <td>0.0</td>\n",
       "      <td>1.0</td>\n",
       "      <td>1.0</td>\n",
       "      <td>0.0</td>\n",
       "      <td>1.0</td>\n",
       "      <td>0.0</td>\n",
       "      <td>0.0</td>\n",
       "      <td>0.0</td>\n",
       "      <td>0.0</td>\n",
       "      <td>0.0</td>\n",
       "      <td>0.0</td>\n",
       "      <td>0.0</td>\n",
       "    </tr>\n",
       "    <tr>\n",
       "      <th>4</th>\n",
       "      <td>29.0</td>\n",
       "      <td>3.316625</td>\n",
       "      <td>0.0</td>\n",
       "      <td>3.0</td>\n",
       "      <td>0.0</td>\n",
       "      <td>0.0</td>\n",
       "      <td>0.0</td>\n",
       "      <td>0.0</td>\n",
       "      <td>1.0</td>\n",
       "      <td>1.0</td>\n",
       "      <td>0.0</td>\n",
       "      <td>0.0</td>\n",
       "      <td>1.0</td>\n",
       "      <td>0.0</td>\n",
       "      <td>0.0</td>\n",
       "      <td>1.0</td>\n",
       "      <td>0.0</td>\n",
       "      <td>0.0</td>\n",
       "      <td>1.0</td>\n",
       "      <td>0.0</td>\n",
       "    </tr>\n",
       "  </tbody>\n",
       "</table>\n",
       "</div>"
      ],
      "text/plain": [
       "   num_lab_procedures  num_medications  number_inpatient  number_diagnoses  \\\n",
       "0                11.0         3.605551               1.0               6.0   \n",
       "1                44.0         4.000000               0.0               7.0   \n",
       "2                55.0         5.567764               0.0               8.0   \n",
       "3                75.0         3.605551               0.0               9.0   \n",
       "4                29.0         3.316625               0.0               3.0   \n",
       "\n",
       "   A1Cresult  age_15  age_25  age_75  race_Caucasian  \\\n",
       "0        0.0     0.0     1.0     0.0             0.0   \n",
       "1        0.0     0.0     0.0     0.0             1.0   \n",
       "2        0.0     0.0     0.0     0.0             1.0   \n",
       "3        0.0     0.0     0.0     0.0             0.0   \n",
       "4        0.0     0.0     0.0     0.0             1.0   \n",
       "\n",
       "   admission_type_id_Emergency  discharge_disposition_id_SC_facility  \\\n",
       "0                          1.0                                   0.0   \n",
       "1                          1.0                                   0.0   \n",
       "2                          1.0                                   0.0   \n",
       "3                          1.0                                   1.0   \n",
       "4                          1.0                                   0.0   \n",
       "\n",
       "   discharge_disposition_id_Unknown  admission_source_id_Emergency  \\\n",
       "0                               0.0                            1.0   \n",
       "1                               0.0                            1.0   \n",
       "2                               0.0                            1.0   \n",
       "3                               0.0                            1.0   \n",
       "4                               0.0                            1.0   \n",
       "\n",
       "   admission_source_id_Referrel  diag_1_Musculoskeletal  diag_1_Other  \\\n",
       "0                           0.0                     0.0           1.0   \n",
       "1                           0.0                     0.0           1.0   \n",
       "2                           0.0                     0.0           0.0   \n",
       "3                           0.0                     0.0           0.0   \n",
       "4                           0.0                     0.0           1.0   \n",
       "\n",
       "   diag_2_Diabetes  diag_2_Other  diag_3_Diabetes  diag_3_Other  \n",
       "0              1.0           0.0              0.0           1.0  \n",
       "1              0.0           1.0              0.0           0.0  \n",
       "2              0.0           0.0              0.0           0.0  \n",
       "3              0.0           0.0              0.0           0.0  \n",
       "4              0.0           0.0              1.0           0.0  "
      ]
     },
     "execution_count": 47,
     "metadata": {},
     "output_type": "execute_result"
    }
   ],
   "source": [
    "x_best.head()"
   ]
  },
  {
   "cell_type": "code",
   "execution_count": 48,
   "metadata": {
    "scrolled": true
   },
   "outputs": [
    {
     "data": {
      "text/html": [
       "<div>\n",
       "<style scoped>\n",
       "    .dataframe tbody tr th:only-of-type {\n",
       "        vertical-align: middle;\n",
       "    }\n",
       "\n",
       "    .dataframe tbody tr th {\n",
       "        vertical-align: top;\n",
       "    }\n",
       "\n",
       "    .dataframe thead th {\n",
       "        text-align: right;\n",
       "    }\n",
       "</style>\n",
       "<table border=\"1\" class=\"dataframe\">\n",
       "  <thead>\n",
       "    <tr style=\"text-align: right;\">\n",
       "      <th></th>\n",
       "      <th>AUC Score</th>\n",
       "    </tr>\n",
       "  </thead>\n",
       "  <tbody>\n",
       "    <tr>\n",
       "      <th>Naive_Bayes</th>\n",
       "      <td>0.593540</td>\n",
       "    </tr>\n",
       "    <tr>\n",
       "      <th>Logistic</th>\n",
       "      <td>0.586975</td>\n",
       "    </tr>\n",
       "    <tr>\n",
       "      <th>RandomForest</th>\n",
       "      <td>0.579090</td>\n",
       "    </tr>\n",
       "    <tr>\n",
       "      <th>KNN</th>\n",
       "      <td>0.573429</td>\n",
       "    </tr>\n",
       "    <tr>\n",
       "      <th>DecisionTree</th>\n",
       "      <td>0.558248</td>\n",
       "    </tr>\n",
       "  </tbody>\n",
       "</table>\n",
       "</div>"
      ],
      "text/plain": [
       "              AUC Score\n",
       "Naive_Bayes    0.593540\n",
       "Logistic       0.586975\n",
       "RandomForest   0.579090\n",
       "KNN            0.573429\n",
       "DecisionTree   0.558248"
      ]
     },
     "execution_count": 48,
     "metadata": {},
     "output_type": "execute_result"
    }
   ],
   "source": [
    "Evaluate(Models, x_best, y_tests)"
   ]
  },
  {
   "cell_type": "markdown",
   "metadata": {},
   "source": [
    "# Balancing"
   ]
  },
  {
   "cell_type": "code",
   "execution_count": 49,
   "metadata": {},
   "outputs": [],
   "source": [
    "from imblearn.over_sampling import SMOTE\n",
    "smt = SMOTE()\n",
    "\n",
    "X_smote, Y_smote = smt.fit_sample(x_best,y_tests)\n",
    "\n",
    "x = pd.DataFrame(X_smote, columns=x_best.columns)\n",
    "y = pd.DataFrame(Y_smote, columns=['target'])"
   ]
  },
  {
   "cell_type": "code",
   "execution_count": 50,
   "metadata": {},
   "outputs": [
    {
     "data": {
      "text/plain": [
       "1    23778\n",
       "0    23778\n",
       "Name: target, dtype: int64"
      ]
     },
     "execution_count": 50,
     "metadata": {},
     "output_type": "execute_result"
    }
   ],
   "source": [
    "y.target.value_counts()"
   ]
  },
  {
   "cell_type": "code",
   "execution_count": 51,
   "metadata": {},
   "outputs": [
    {
     "data": {
      "text/html": [
       "<div>\n",
       "<style scoped>\n",
       "    .dataframe tbody tr th:only-of-type {\n",
       "        vertical-align: middle;\n",
       "    }\n",
       "\n",
       "    .dataframe tbody tr th {\n",
       "        vertical-align: top;\n",
       "    }\n",
       "\n",
       "    .dataframe thead th {\n",
       "        text-align: right;\n",
       "    }\n",
       "</style>\n",
       "<table border=\"1\" class=\"dataframe\">\n",
       "  <thead>\n",
       "    <tr style=\"text-align: right;\">\n",
       "      <th></th>\n",
       "      <th>AUC Score</th>\n",
       "    </tr>\n",
       "  </thead>\n",
       "  <tbody>\n",
       "    <tr>\n",
       "      <th>RandomForest</th>\n",
       "      <td>0.730114</td>\n",
       "    </tr>\n",
       "    <tr>\n",
       "      <th>DecisionTree</th>\n",
       "      <td>0.677928</td>\n",
       "    </tr>\n",
       "    <tr>\n",
       "      <th>KNN</th>\n",
       "      <td>0.673417</td>\n",
       "    </tr>\n",
       "    <tr>\n",
       "      <th>Logistic</th>\n",
       "      <td>0.629319</td>\n",
       "    </tr>\n",
       "    <tr>\n",
       "      <th>Naive_Bayes</th>\n",
       "      <td>0.611099</td>\n",
       "    </tr>\n",
       "  </tbody>\n",
       "</table>\n",
       "</div>"
      ],
      "text/plain": [
       "              AUC Score\n",
       "RandomForest   0.730114\n",
       "DecisionTree   0.677928\n",
       "KNN            0.673417\n",
       "Logistic       0.629319\n",
       "Naive_Bayes    0.611099"
      ]
     },
     "execution_count": 51,
     "metadata": {},
     "output_type": "execute_result"
    }
   ],
   "source": [
    "Evaluate(Models, x,y)"
   ]
  },
  {
   "cell_type": "markdown",
   "metadata": {},
   "source": [
    "## Grid Search Parameter Tuning"
   ]
  },
  {
   "cell_type": "code",
   "execution_count": 52,
   "metadata": {},
   "outputs": [
    {
     "data": {
      "text/plain": [
       "{'criterion': 'entropy', 'max_depth': 14}"
      ]
     },
     "execution_count": 52,
     "metadata": {},
     "output_type": "execute_result"
    }
   ],
   "source": [
    "# Decision Tree\n",
    "\n",
    "grid_dt = DecisionTreeClassifier(random_state=0)\n",
    "tree_parameter  = {'criterion':['gini','entropy'],'max_depth':np.arange(1,30)}\n",
    "Grid(grid_dt, tree_parameter, x, y)"
   ]
  },
  {
   "cell_type": "code",
   "execution_count": 53,
   "metadata": {},
   "outputs": [
    {
     "data": {
      "text/plain": [
       "{'criterion': 'entropy', 'max_depth': 17}"
      ]
     },
     "execution_count": 53,
     "metadata": {},
     "output_type": "execute_result"
    }
   ],
   "source": [
    "# Random Forest\n",
    "\n",
    "grid_rf = RandomForestClassifier(random_state=0)\n",
    "rf_parameter  = {'criterion':['gini','entropy'],'max_depth':np.arange(1,20)}\n",
    "Grid(grid_rf, rf_parameter, x, y)"
   ]
  },
  {
   "cell_type": "code",
   "execution_count": 55,
   "metadata": {},
   "outputs": [
    {
     "data": {
      "text/plain": [
       "{'metric': 'minkowski', 'weights': 'distance'}"
      ]
     },
     "execution_count": 55,
     "metadata": {},
     "output_type": "execute_result"
    }
   ],
   "source": [
    "# KNN\n",
    "\n",
    "grid_knn = KNeighborsClassifier()\n",
    "knn_parameter  = {'weights':['uniform','distance'],'metric':['minkowski','euclidean']}\n",
    "Grid(grid_knn, knn_parameter, x, y)"
   ]
  },
  {
   "cell_type": "code",
   "execution_count": 56,
   "metadata": {},
   "outputs": [
    {
     "data": {
      "text/html": [
       "<div>\n",
       "<style scoped>\n",
       "    .dataframe tbody tr th:only-of-type {\n",
       "        vertical-align: middle;\n",
       "    }\n",
       "\n",
       "    .dataframe tbody tr th {\n",
       "        vertical-align: top;\n",
       "    }\n",
       "\n",
       "    .dataframe thead th {\n",
       "        text-align: right;\n",
       "    }\n",
       "</style>\n",
       "<table border=\"1\" class=\"dataframe\">\n",
       "  <thead>\n",
       "    <tr style=\"text-align: right;\">\n",
       "      <th></th>\n",
       "      <th>AUC Score</th>\n",
       "    </tr>\n",
       "  </thead>\n",
       "  <tbody>\n",
       "    <tr>\n",
       "      <th>RandomForest</th>\n",
       "      <td>0.732764</td>\n",
       "    </tr>\n",
       "    <tr>\n",
       "      <th>KNN</th>\n",
       "      <td>0.705143</td>\n",
       "    </tr>\n",
       "    <tr>\n",
       "      <th>DecisionTree</th>\n",
       "      <td>0.684749</td>\n",
       "    </tr>\n",
       "  </tbody>\n",
       "</table>\n",
       "</div>"
      ],
      "text/plain": [
       "              AUC Score\n",
       "RandomForest   0.732764\n",
       "KNN            0.705143\n",
       "DecisionTree   0.684749"
      ]
     },
     "execution_count": 56,
     "metadata": {},
     "output_type": "execute_result"
    }
   ],
   "source": [
    "dt  = DecisionTreeClassifier(random_state=0, criterion='entropy'   , max_depth=14)\n",
    "rf  = RandomForestClassifier(random_state=0, criterion='entropy', max_depth=17)\n",
    "knn = KNeighborsClassifier(metric= 'minkowski', weights= 'distance')\n",
    "\n",
    "# Models = [['KNN',knn],['DecisionTree',dt],['RandomForest',rf]]\n",
    "Best_Models = [['DecisionTree',dt],['RandomForest',rf],['KNN',knn]]\n",
    "Evaluate(Best_Models, x, y)"
   ]
  },
  {
   "cell_type": "markdown",
   "metadata": {},
   "source": [
    "# PCA and LDA performing poorly"
   ]
  },
  {
   "cell_type": "code",
   "execution_count": 37,
   "metadata": {},
   "outputs": [
    {
     "data": {
      "text/html": [
       "<div>\n",
       "<style scoped>\n",
       "    .dataframe tbody tr th:only-of-type {\n",
       "        vertical-align: middle;\n",
       "    }\n",
       "\n",
       "    .dataframe tbody tr th {\n",
       "        vertical-align: top;\n",
       "    }\n",
       "\n",
       "    .dataframe thead th {\n",
       "        text-align: right;\n",
       "    }\n",
       "</style>\n",
       "<table border=\"1\" class=\"dataframe\">\n",
       "  <thead>\n",
       "    <tr style=\"text-align: right;\">\n",
       "      <th></th>\n",
       "      <th>AUC Score</th>\n",
       "      <th>Accuracy</th>\n",
       "    </tr>\n",
       "  </thead>\n",
       "  <tbody>\n",
       "    <tr>\n",
       "      <th>RandomForest</th>\n",
       "      <td>0.615524</td>\n",
       "      <td>0.615453</td>\n",
       "    </tr>\n",
       "    <tr>\n",
       "      <th>DecisionTree</th>\n",
       "      <td>0.614778</td>\n",
       "      <td>0.614611</td>\n",
       "    </tr>\n",
       "  </tbody>\n",
       "</table>\n",
       "</div>"
      ],
      "text/plain": [
       "              AUC Score  Accuracy\n",
       "RandomForest   0.615524  0.615453\n",
       "DecisionTree   0.614778  0.614611"
      ]
     },
     "execution_count": 37,
     "metadata": {},
     "output_type": "execute_result"
    }
   ],
   "source": [
    "Evaluate(Best_Models, x_lda, y)"
   ]
  },
  {
   "cell_type": "markdown",
   "metadata": {},
   "source": [
    "# Ensemble"
   ]
  },
  {
   "cell_type": "code",
   "execution_count": 61,
   "metadata": {},
   "outputs": [],
   "source": [
    "bag_dt     = BaggingClassifier(base_estimator=dt ,random_state=0)\n",
    "boost_dt   = AdaBoostClassifier(base_estimator=dt ,random_state=0)\n",
    "\n",
    "boost_knn  = BaggingClassifier(base_estimator=knn ,random_state=0)\n",
    "\n",
    "boost_rf   = AdaBoostClassifier(base_estimator=rf, n_estimators=50 ,random_state=0)\n",
    "\n",
    "grad_boost = GradientBoostingClassifier(random_state=0)"
   ]
  },
  {
   "cell_type": "code",
   "execution_count": 62,
   "metadata": {},
   "outputs": [
    {
     "data": {
      "text/html": [
       "<div>\n",
       "<style scoped>\n",
       "    .dataframe tbody tr th:only-of-type {\n",
       "        vertical-align: middle;\n",
       "    }\n",
       "\n",
       "    .dataframe tbody tr th {\n",
       "        vertical-align: top;\n",
       "    }\n",
       "\n",
       "    .dataframe thead th {\n",
       "        text-align: right;\n",
       "    }\n",
       "</style>\n",
       "<table border=\"1\" class=\"dataframe\">\n",
       "  <thead>\n",
       "    <tr style=\"text-align: right;\">\n",
       "      <th></th>\n",
       "      <th>AUC Score</th>\n",
       "    </tr>\n",
       "  </thead>\n",
       "  <tbody>\n",
       "    <tr>\n",
       "      <th>RF_boost</th>\n",
       "      <td>0.750343</td>\n",
       "    </tr>\n",
       "    <tr>\n",
       "      <th>Grad_Boost</th>\n",
       "      <td>0.739201</td>\n",
       "    </tr>\n",
       "    <tr>\n",
       "      <th>Bagged_Tree</th>\n",
       "      <td>0.732760</td>\n",
       "    </tr>\n",
       "    <tr>\n",
       "      <th>Boosted_Tree</th>\n",
       "      <td>0.704196</td>\n",
       "    </tr>\n",
       "    <tr>\n",
       "      <th>Bagged_KNN</th>\n",
       "      <td>0.702279</td>\n",
       "    </tr>\n",
       "  </tbody>\n",
       "</table>\n",
       "</div>"
      ],
      "text/plain": [
       "              AUC Score\n",
       "RF_boost       0.750343\n",
       "Grad_Boost     0.739201\n",
       "Bagged_Tree    0.732760\n",
       "Boosted_Tree   0.704196\n",
       "Bagged_KNN     0.702279"
      ]
     },
     "execution_count": 62,
     "metadata": {},
     "output_type": "execute_result"
    }
   ],
   "source": [
    "Boost_Models = [['Bagged_Tree',bag_dt],['Boosted_Tree',boost_dt],\n",
    "                ['Bagged_KNN',boost_knn],\n",
    "                ['RF_boost',boost_rf],\n",
    "                ['Grad_Boost',grad_boost]]\n",
    "\n",
    "Evaluate(Boost_Models,x,y)"
   ]
  },
  {
   "cell_type": "code",
   "execution_count": 70,
   "metadata": {},
   "outputs": [
    {
     "data": {
      "text/html": [
       "<div>\n",
       "<style scoped>\n",
       "    .dataframe tbody tr th:only-of-type {\n",
       "        vertical-align: middle;\n",
       "    }\n",
       "\n",
       "    .dataframe tbody tr th {\n",
       "        vertical-align: top;\n",
       "    }\n",
       "\n",
       "    .dataframe thead th {\n",
       "        text-align: right;\n",
       "    }\n",
       "</style>\n",
       "<table border=\"1\" class=\"dataframe\">\n",
       "  <thead>\n",
       "    <tr style=\"text-align: right;\">\n",
       "      <th></th>\n",
       "      <th>AUC Score</th>\n",
       "    </tr>\n",
       "  </thead>\n",
       "  <tbody>\n",
       "    <tr>\n",
       "      <th>Bag_Boost_Tree</th>\n",
       "      <td>0.739881</td>\n",
       "    </tr>\n",
       "  </tbody>\n",
       "</table>\n",
       "</div>"
      ],
      "text/plain": [
       "                AUC Score\n",
       "Bag_Boost_Tree   0.739881"
      ]
     },
     "execution_count": 70,
     "metadata": {},
     "output_type": "execute_result"
    }
   ],
   "source": [
    "bag_boost_dt = AdaBoostClassifier(base_estimator=bag_dt ,random_state=0)\n",
    "Evaluate([['Bag_Boost_Tree', bag_boost_dt]], x, y)"
   ]
  },
  {
   "cell_type": "code",
   "execution_count": 63,
   "metadata": {},
   "outputs": [],
   "source": [
    "from catboost import CatBoostClassifier"
   ]
  },
  {
   "cell_type": "code",
   "execution_count": 65,
   "metadata": {},
   "outputs": [
    {
     "data": {
      "text/html": [
       "<div>\n",
       "<style scoped>\n",
       "    .dataframe tbody tr th:only-of-type {\n",
       "        vertical-align: middle;\n",
       "    }\n",
       "\n",
       "    .dataframe tbody tr th {\n",
       "        vertical-align: top;\n",
       "    }\n",
       "\n",
       "    .dataframe thead th {\n",
       "        text-align: right;\n",
       "    }\n",
       "</style>\n",
       "<table border=\"1\" class=\"dataframe\">\n",
       "  <thead>\n",
       "    <tr style=\"text-align: right;\">\n",
       "      <th></th>\n",
       "      <th>AUC Score</th>\n",
       "    </tr>\n",
       "  </thead>\n",
       "  <tbody>\n",
       "    <tr>\n",
       "      <th>CatBoost</th>\n",
       "      <td>0.758774</td>\n",
       "    </tr>\n",
       "  </tbody>\n",
       "</table>\n",
       "</div>"
      ],
      "text/plain": [
       "          AUC Score\n",
       "CatBoost   0.758774"
      ]
     },
     "execution_count": 65,
     "metadata": {},
     "output_type": "execute_result"
    }
   ],
   "source": [
    "cat = CatBoostClassifier(iterations=250, silent=True, random_state=0)\n",
    "Evaluate([['CatBoost', cat]], x, y)"
   ]
  },
  {
   "cell_type": "code",
   "execution_count": 76,
   "metadata": {},
   "outputs": [
    {
     "data": {
      "text/html": [
       "<div>\n",
       "<style scoped>\n",
       "    .dataframe tbody tr th:only-of-type {\n",
       "        vertical-align: middle;\n",
       "    }\n",
       "\n",
       "    .dataframe tbody tr th {\n",
       "        vertical-align: top;\n",
       "    }\n",
       "\n",
       "    .dataframe thead th {\n",
       "        text-align: right;\n",
       "    }\n",
       "</style>\n",
       "<table border=\"1\" class=\"dataframe\">\n",
       "  <thead>\n",
       "    <tr style=\"text-align: right;\">\n",
       "      <th></th>\n",
       "      <th>AUC Score</th>\n",
       "    </tr>\n",
       "  </thead>\n",
       "  <tbody>\n",
       "    <tr>\n",
       "      <th>Stacking</th>\n",
       "      <td>0.764205</td>\n",
       "    </tr>\n",
       "  </tbody>\n",
       "</table>\n",
       "</div>"
      ],
      "text/plain": [
       "          AUC Score\n",
       "Stacking   0.764205"
      ]
     },
     "execution_count": 76,
     "metadata": {},
     "output_type": "execute_result"
    }
   ],
   "source": [
    "stack = VotingClassifier(estimators=[(\"Cat\", cat),('Boost_rf',boost_rf)], voting = 'soft')\n",
    "Evaluate([['Stacking', stack]], x, y)"
   ]
  },
  {
   "cell_type": "code",
   "execution_count": 78,
   "metadata": {},
   "outputs": [
    {
     "data": {
      "text/html": [
       "<div>\n",
       "<style scoped>\n",
       "    .dataframe tbody tr th:only-of-type {\n",
       "        vertical-align: middle;\n",
       "    }\n",
       "\n",
       "    .dataframe tbody tr th {\n",
       "        vertical-align: top;\n",
       "    }\n",
       "\n",
       "    .dataframe thead th {\n",
       "        text-align: right;\n",
       "    }\n",
       "</style>\n",
       "<table border=\"1\" class=\"dataframe\">\n",
       "  <thead>\n",
       "    <tr style=\"text-align: right;\">\n",
       "      <th></th>\n",
       "      <th>AUC Score</th>\n",
       "    </tr>\n",
       "  </thead>\n",
       "  <tbody>\n",
       "    <tr>\n",
       "      <th>Stacking</th>\n",
       "      <td>0.764749</td>\n",
       "    </tr>\n",
       "  </tbody>\n",
       "</table>\n",
       "</div>"
      ],
      "text/plain": [
       "          AUC Score\n",
       "Stacking   0.764749"
      ]
     },
     "execution_count": 78,
     "metadata": {},
     "output_type": "execute_result"
    }
   ],
   "source": [
    "stack = VotingClassifier(estimators=[(\"Cat\", cat),('Boost_rf',boost_rf),('Bag_boost_dt',bag_boost_dt)], voting = 'soft',\n",
    "                        weights=[2,2,1])\n",
    "Evaluate([['Stacking', stack]], x, y)"
   ]
  },
  {
   "cell_type": "markdown",
   "metadata": {},
   "source": [
    "### Based on the AUC Scores, We choose Stacked ensemble of Boosted_Random_forest, Cateegorical_Booster and Gradient_Boost as the best model with an Auc Sore of 76.47 (20% increase from the baseline model)"
   ]
  },
  {
   "cell_type": "code",
   "execution_count": null,
   "metadata": {},
   "outputs": [],
   "source": []
  }
 ],
 "metadata": {
  "kernelspec": {
   "display_name": "Python 3",
   "language": "python",
   "name": "python3"
  },
  "language_info": {
   "codemirror_mode": {
    "name": "ipython",
    "version": 3
   },
   "file_extension": ".py",
   "mimetype": "text/x-python",
   "name": "python",
   "nbconvert_exporter": "python",
   "pygments_lexer": "ipython3",
   "version": "3.8.3"
  }
 },
 "nbformat": 4,
 "nbformat_minor": 2
}
