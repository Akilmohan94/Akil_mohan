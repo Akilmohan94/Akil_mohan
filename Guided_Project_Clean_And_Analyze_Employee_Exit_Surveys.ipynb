{
  "nbformat": 4,
  "nbformat_minor": 0,
  "metadata": {
    "kernelspec": {
      "display_name": "Python 3",
      "language": "python",
      "name": "python3"
    },
    "language_info": {
      "codemirror_mode": {
        "name": "ipython",
        "version": 3
      },
      "file_extension": ".py",
      "mimetype": "text/x-python",
      "name": "python",
      "nbconvert_exporter": "python",
      "pygments_lexer": "ipython3",
      "version": "3.4.3"
    },
    "colab": {
      "name": "Guided Project: Clean And Analyze Employee Exit Surveys",
      "provenance": [],
      "collapsed_sections": []
    }
  },
  "cells": [
    {
      "cell_type": "markdown",
      "metadata": {
        "id": "nDZGg5j8Mxkb",
        "colab_type": "text"
      },
      "source": [
        "# Clean And Analyze Employee Exit Surveys"
      ]
    },
    {
      "cell_type": "markdown",
      "metadata": {
        "collapsed": true,
        "id": "WcJ3zCdhMxkb",
        "colab_type": "text"
      },
      "source": [
        "In this guided project, we'll work with exit surveys from employees of the Department of Education, Training and Employment (DETE) and the Technical and Further Education (TAFE) institute in Queensland, Australia. You can find the TAFE exit survey here and the survey for the DETE here. We've made some slight modifications to these datasets to make them easier to work with, including changing the encoding to UTF-8 (the original ones are encoded using cp1252.)"
      ]
    },
    {
      "cell_type": "markdown",
      "metadata": {
        "id": "WISXqvKZMxkc",
        "colab_type": "text"
      },
      "source": [
        "In this project, we'll play the role of data analyst and pretend our stakeholders want to know the following:\n",
        "\n",
        "- Are employees who only worked for the institutes for a short period of time resigning due to some kind of dissatisfaction? What about employees who have been there longer? <br>\n",
        "- Are younger employees resigning due to some kind of dissatisfaction? What about older employees?"
      ]
    },
    {
      "cell_type": "markdown",
      "metadata": {
        "id": "TKCLl0cmMxkc",
        "colab_type": "text"
      },
      "source": [
        "**Dete_survey dataframe description: <br>**\n",
        "ID: An id used to identify the participant of the survey <br>\n",
        "SeparationType: The reason why the person's employment ended <br>\n",
        "Cease Date: The year or month the person's employment ended <br>\n",
        "DETE Start Date: The year the person began employment with the DETE"
      ]
    },
    {
      "cell_type": "markdown",
      "metadata": {
        "id": "1eFznsFFMxkd",
        "colab_type": "text"
      },
      "source": [
        "**Below is a preview of a couple columns we'll work with from the tafe_survey.csv:<br>**\n",
        "Record ID: An id used to identify the participant of the survey<br>\n",
        "Reason for ceasing employment: The reason why the person's employment ended<br>\n",
        "LengthofServiceOverall. Overall Length of Service at Institute (in years):\n",
        "The length of the person's employment (in years)\n"
      ]
    },
    {
      "cell_type": "code",
      "metadata": {
        "id": "vSV10Pc_Mxkd",
        "colab_type": "code",
        "colab": {}
      },
      "source": [
        "import pandas as pd"
      ],
      "execution_count": 0,
      "outputs": []
    },
    {
      "cell_type": "code",
      "metadata": {
        "id": "KSnLmh6hMxkg",
        "colab_type": "code",
        "colab": {}
      },
      "source": [
        "import numpy as np "
      ],
      "execution_count": 0,
      "outputs": []
    },
    {
      "cell_type": "code",
      "metadata": {
        "id": "poBxUlVTMxki",
        "colab_type": "code",
        "colab": {}
      },
      "source": [
        "dete_survey = pd.read_csv('dete_survey.csv',encoding = 'UTF-8')"
      ],
      "execution_count": 0,
      "outputs": []
    },
    {
      "cell_type": "code",
      "metadata": {
        "scrolled": false,
        "id": "XjLNV8sCMxkl",
        "colab_type": "code",
        "outputId": "c1d316ea-2828-4ca2-ec7b-17bfd3a342ed",
        "colab": {
          "base_uri": "https://localhost:8080/",
          "height": 1000
        }
      },
      "source": [
        "dete_survey.head(15) "
      ],
      "execution_count": 0,
      "outputs": [
        {
          "output_type": "execute_result",
          "data": {
            "text/html": [
              "<div>\n",
              "<style scoped>\n",
              "    .dataframe tbody tr th:only-of-type {\n",
              "        vertical-align: middle;\n",
              "    }\n",
              "\n",
              "    .dataframe tbody tr th {\n",
              "        vertical-align: top;\n",
              "    }\n",
              "\n",
              "    .dataframe thead th {\n",
              "        text-align: right;\n",
              "    }\n",
              "</style>\n",
              "<table border=\"1\" class=\"dataframe\">\n",
              "  <thead>\n",
              "    <tr style=\"text-align: right;\">\n",
              "      <th></th>\n",
              "      <th>ID</th>\n",
              "      <th>SeparationType</th>\n",
              "      <th>Cease Date</th>\n",
              "      <th>DETE Start Date</th>\n",
              "      <th>Role Start Date</th>\n",
              "      <th>Position</th>\n",
              "      <th>Classification</th>\n",
              "      <th>Region</th>\n",
              "      <th>Business Unit</th>\n",
              "      <th>Employment Status</th>\n",
              "      <th>Career move to public sector</th>\n",
              "      <th>Career move to private sector</th>\n",
              "      <th>Interpersonal conflicts</th>\n",
              "      <th>Job dissatisfaction</th>\n",
              "      <th>Dissatisfaction with the department</th>\n",
              "      <th>Physical work environment</th>\n",
              "      <th>Lack of recognition</th>\n",
              "      <th>Lack of job security</th>\n",
              "      <th>Work location</th>\n",
              "      <th>Employment conditions</th>\n",
              "      <th>Maternity/family</th>\n",
              "      <th>Relocation</th>\n",
              "      <th>Study/Travel</th>\n",
              "      <th>Ill Health</th>\n",
              "      <th>Traumatic incident</th>\n",
              "      <th>Work life balance</th>\n",
              "      <th>Workload</th>\n",
              "      <th>None of the above</th>\n",
              "      <th>Professional Development</th>\n",
              "      <th>Opportunities for promotion</th>\n",
              "      <th>Staff morale</th>\n",
              "      <th>Workplace issue</th>\n",
              "      <th>Physical environment</th>\n",
              "      <th>Worklife balance</th>\n",
              "      <th>Stress and pressure support</th>\n",
              "      <th>Performance of supervisor</th>\n",
              "      <th>Peer support</th>\n",
              "      <th>Initiative</th>\n",
              "      <th>Skills</th>\n",
              "      <th>Coach</th>\n",
              "      <th>Career Aspirations</th>\n",
              "      <th>Feedback</th>\n",
              "      <th>Further PD</th>\n",
              "      <th>Communication</th>\n",
              "      <th>My say</th>\n",
              "      <th>Information</th>\n",
              "      <th>Kept informed</th>\n",
              "      <th>Wellness programs</th>\n",
              "      <th>Health &amp; Safety</th>\n",
              "      <th>Gender</th>\n",
              "      <th>Age</th>\n",
              "      <th>Aboriginal</th>\n",
              "      <th>Torres Strait</th>\n",
              "      <th>South Sea</th>\n",
              "      <th>Disability</th>\n",
              "      <th>NESB</th>\n",
              "    </tr>\n",
              "  </thead>\n",
              "  <tbody>\n",
              "    <tr>\n",
              "      <th>0</th>\n",
              "      <td>1</td>\n",
              "      <td>Ill Health Retirement</td>\n",
              "      <td>08/2012</td>\n",
              "      <td>1984</td>\n",
              "      <td>2004</td>\n",
              "      <td>Public Servant</td>\n",
              "      <td>A01-A04</td>\n",
              "      <td>Central Office</td>\n",
              "      <td>Corporate Strategy and Peformance</td>\n",
              "      <td>Permanent Full-time</td>\n",
              "      <td>True</td>\n",
              "      <td>False</td>\n",
              "      <td>False</td>\n",
              "      <td>True</td>\n",
              "      <td>False</td>\n",
              "      <td>False</td>\n",
              "      <td>True</td>\n",
              "      <td>False</td>\n",
              "      <td>False</td>\n",
              "      <td>False</td>\n",
              "      <td>False</td>\n",
              "      <td>False</td>\n",
              "      <td>False</td>\n",
              "      <td>False</td>\n",
              "      <td>False</td>\n",
              "      <td>False</td>\n",
              "      <td>False</td>\n",
              "      <td>True</td>\n",
              "      <td>A</td>\n",
              "      <td>A</td>\n",
              "      <td>N</td>\n",
              "      <td>N</td>\n",
              "      <td>N</td>\n",
              "      <td>A</td>\n",
              "      <td>A</td>\n",
              "      <td>A</td>\n",
              "      <td>A</td>\n",
              "      <td>N</td>\n",
              "      <td>N</td>\n",
              "      <td>N</td>\n",
              "      <td>A</td>\n",
              "      <td>A</td>\n",
              "      <td>A</td>\n",
              "      <td>N</td>\n",
              "      <td>A</td>\n",
              "      <td>A</td>\n",
              "      <td>N</td>\n",
              "      <td>N</td>\n",
              "      <td>N</td>\n",
              "      <td>Male</td>\n",
              "      <td>56-60</td>\n",
              "      <td>NaN</td>\n",
              "      <td>NaN</td>\n",
              "      <td>NaN</td>\n",
              "      <td>NaN</td>\n",
              "      <td>Yes</td>\n",
              "    </tr>\n",
              "    <tr>\n",
              "      <th>1</th>\n",
              "      <td>2</td>\n",
              "      <td>Voluntary Early Retirement (VER)</td>\n",
              "      <td>08/2012</td>\n",
              "      <td>Not Stated</td>\n",
              "      <td>Not Stated</td>\n",
              "      <td>Public Servant</td>\n",
              "      <td>AO5-AO7</td>\n",
              "      <td>Central Office</td>\n",
              "      <td>Corporate Strategy and Peformance</td>\n",
              "      <td>Permanent Full-time</td>\n",
              "      <td>False</td>\n",
              "      <td>False</td>\n",
              "      <td>False</td>\n",
              "      <td>False</td>\n",
              "      <td>False</td>\n",
              "      <td>False</td>\n",
              "      <td>False</td>\n",
              "      <td>False</td>\n",
              "      <td>False</td>\n",
              "      <td>False</td>\n",
              "      <td>False</td>\n",
              "      <td>False</td>\n",
              "      <td>False</td>\n",
              "      <td>False</td>\n",
              "      <td>False</td>\n",
              "      <td>False</td>\n",
              "      <td>False</td>\n",
              "      <td>False</td>\n",
              "      <td>A</td>\n",
              "      <td>A</td>\n",
              "      <td>N</td>\n",
              "      <td>N</td>\n",
              "      <td>N</td>\n",
              "      <td>N</td>\n",
              "      <td>A</td>\n",
              "      <td>A</td>\n",
              "      <td>A</td>\n",
              "      <td>N</td>\n",
              "      <td>N</td>\n",
              "      <td>N</td>\n",
              "      <td>A</td>\n",
              "      <td>A</td>\n",
              "      <td>A</td>\n",
              "      <td>N</td>\n",
              "      <td>A</td>\n",
              "      <td>A</td>\n",
              "      <td>N</td>\n",
              "      <td>N</td>\n",
              "      <td>N</td>\n",
              "      <td>Male</td>\n",
              "      <td>56-60</td>\n",
              "      <td>NaN</td>\n",
              "      <td>NaN</td>\n",
              "      <td>NaN</td>\n",
              "      <td>NaN</td>\n",
              "      <td>NaN</td>\n",
              "    </tr>\n",
              "    <tr>\n",
              "      <th>2</th>\n",
              "      <td>3</td>\n",
              "      <td>Voluntary Early Retirement (VER)</td>\n",
              "      <td>05/2012</td>\n",
              "      <td>2011</td>\n",
              "      <td>2011</td>\n",
              "      <td>Schools Officer</td>\n",
              "      <td>NaN</td>\n",
              "      <td>Central Office</td>\n",
              "      <td>Education Queensland</td>\n",
              "      <td>Permanent Full-time</td>\n",
              "      <td>False</td>\n",
              "      <td>False</td>\n",
              "      <td>False</td>\n",
              "      <td>False</td>\n",
              "      <td>False</td>\n",
              "      <td>False</td>\n",
              "      <td>False</td>\n",
              "      <td>False</td>\n",
              "      <td>False</td>\n",
              "      <td>False</td>\n",
              "      <td>False</td>\n",
              "      <td>False</td>\n",
              "      <td>False</td>\n",
              "      <td>False</td>\n",
              "      <td>False</td>\n",
              "      <td>False</td>\n",
              "      <td>False</td>\n",
              "      <td>True</td>\n",
              "      <td>N</td>\n",
              "      <td>N</td>\n",
              "      <td>N</td>\n",
              "      <td>N</td>\n",
              "      <td>N</td>\n",
              "      <td>N</td>\n",
              "      <td>N</td>\n",
              "      <td>N</td>\n",
              "      <td>N</td>\n",
              "      <td>N</td>\n",
              "      <td>N</td>\n",
              "      <td>N</td>\n",
              "      <td>N</td>\n",
              "      <td>N</td>\n",
              "      <td>N</td>\n",
              "      <td>A</td>\n",
              "      <td>A</td>\n",
              "      <td>N</td>\n",
              "      <td>N</td>\n",
              "      <td>N</td>\n",
              "      <td>N</td>\n",
              "      <td>Male</td>\n",
              "      <td>61 or older</td>\n",
              "      <td>NaN</td>\n",
              "      <td>NaN</td>\n",
              "      <td>NaN</td>\n",
              "      <td>NaN</td>\n",
              "      <td>NaN</td>\n",
              "    </tr>\n",
              "    <tr>\n",
              "      <th>3</th>\n",
              "      <td>4</td>\n",
              "      <td>Resignation-Other reasons</td>\n",
              "      <td>05/2012</td>\n",
              "      <td>2005</td>\n",
              "      <td>2006</td>\n",
              "      <td>Teacher</td>\n",
              "      <td>Primary</td>\n",
              "      <td>Central Queensland</td>\n",
              "      <td>NaN</td>\n",
              "      <td>Permanent Full-time</td>\n",
              "      <td>False</td>\n",
              "      <td>True</td>\n",
              "      <td>False</td>\n",
              "      <td>False</td>\n",
              "      <td>False</td>\n",
              "      <td>False</td>\n",
              "      <td>False</td>\n",
              "      <td>False</td>\n",
              "      <td>False</td>\n",
              "      <td>False</td>\n",
              "      <td>False</td>\n",
              "      <td>False</td>\n",
              "      <td>False</td>\n",
              "      <td>False</td>\n",
              "      <td>False</td>\n",
              "      <td>False</td>\n",
              "      <td>False</td>\n",
              "      <td>False</td>\n",
              "      <td>A</td>\n",
              "      <td>N</td>\n",
              "      <td>N</td>\n",
              "      <td>N</td>\n",
              "      <td>A</td>\n",
              "      <td>A</td>\n",
              "      <td>N</td>\n",
              "      <td>N</td>\n",
              "      <td>A</td>\n",
              "      <td>A</td>\n",
              "      <td>A</td>\n",
              "      <td>A</td>\n",
              "      <td>A</td>\n",
              "      <td>A</td>\n",
              "      <td>A</td>\n",
              "      <td>A</td>\n",
              "      <td>A</td>\n",
              "      <td>A</td>\n",
              "      <td>A</td>\n",
              "      <td>N</td>\n",
              "      <td>A</td>\n",
              "      <td>Female</td>\n",
              "      <td>36-40</td>\n",
              "      <td>NaN</td>\n",
              "      <td>NaN</td>\n",
              "      <td>NaN</td>\n",
              "      <td>NaN</td>\n",
              "      <td>NaN</td>\n",
              "    </tr>\n",
              "    <tr>\n",
              "      <th>4</th>\n",
              "      <td>5</td>\n",
              "      <td>Age Retirement</td>\n",
              "      <td>05/2012</td>\n",
              "      <td>1970</td>\n",
              "      <td>1989</td>\n",
              "      <td>Head of Curriculum/Head of Special Education</td>\n",
              "      <td>NaN</td>\n",
              "      <td>South East</td>\n",
              "      <td>NaN</td>\n",
              "      <td>Permanent Full-time</td>\n",
              "      <td>False</td>\n",
              "      <td>False</td>\n",
              "      <td>False</td>\n",
              "      <td>False</td>\n",
              "      <td>False</td>\n",
              "      <td>False</td>\n",
              "      <td>False</td>\n",
              "      <td>False</td>\n",
              "      <td>False</td>\n",
              "      <td>False</td>\n",
              "      <td>False</td>\n",
              "      <td>False</td>\n",
              "      <td>False</td>\n",
              "      <td>False</td>\n",
              "      <td>False</td>\n",
              "      <td>True</td>\n",
              "      <td>False</td>\n",
              "      <td>False</td>\n",
              "      <td>A</td>\n",
              "      <td>A</td>\n",
              "      <td>N</td>\n",
              "      <td>N</td>\n",
              "      <td>D</td>\n",
              "      <td>D</td>\n",
              "      <td>N</td>\n",
              "      <td>A</td>\n",
              "      <td>A</td>\n",
              "      <td>A</td>\n",
              "      <td>A</td>\n",
              "      <td>A</td>\n",
              "      <td>A</td>\n",
              "      <td>SA</td>\n",
              "      <td>SA</td>\n",
              "      <td>D</td>\n",
              "      <td>D</td>\n",
              "      <td>A</td>\n",
              "      <td>N</td>\n",
              "      <td>A</td>\n",
              "      <td>M</td>\n",
              "      <td>Female</td>\n",
              "      <td>61 or older</td>\n",
              "      <td>NaN</td>\n",
              "      <td>NaN</td>\n",
              "      <td>NaN</td>\n",
              "      <td>NaN</td>\n",
              "      <td>NaN</td>\n",
              "    </tr>\n",
              "    <tr>\n",
              "      <th>5</th>\n",
              "      <td>6</td>\n",
              "      <td>Resignation-Other reasons</td>\n",
              "      <td>05/2012</td>\n",
              "      <td>1994</td>\n",
              "      <td>1997</td>\n",
              "      <td>Guidance Officer</td>\n",
              "      <td>NaN</td>\n",
              "      <td>Central Office</td>\n",
              "      <td>Education Queensland</td>\n",
              "      <td>Permanent Full-time</td>\n",
              "      <td>False</td>\n",
              "      <td>True</td>\n",
              "      <td>False</td>\n",
              "      <td>False</td>\n",
              "      <td>False</td>\n",
              "      <td>False</td>\n",
              "      <td>False</td>\n",
              "      <td>False</td>\n",
              "      <td>False</td>\n",
              "      <td>True</td>\n",
              "      <td>True</td>\n",
              "      <td>False</td>\n",
              "      <td>False</td>\n",
              "      <td>False</td>\n",
              "      <td>False</td>\n",
              "      <td>False</td>\n",
              "      <td>False</td>\n",
              "      <td>False</td>\n",
              "      <td>SD</td>\n",
              "      <td>SD</td>\n",
              "      <td>SD</td>\n",
              "      <td>D</td>\n",
              "      <td>SD</td>\n",
              "      <td>D</td>\n",
              "      <td>D</td>\n",
              "      <td>A</td>\n",
              "      <td>NaN</td>\n",
              "      <td>SA</td>\n",
              "      <td>A</td>\n",
              "      <td>A</td>\n",
              "      <td>N</td>\n",
              "      <td>N</td>\n",
              "      <td>D</td>\n",
              "      <td>A</td>\n",
              "      <td>D</td>\n",
              "      <td>D</td>\n",
              "      <td>D</td>\n",
              "      <td>D</td>\n",
              "      <td>NaN</td>\n",
              "      <td>Female</td>\n",
              "      <td>41-45</td>\n",
              "      <td>NaN</td>\n",
              "      <td>NaN</td>\n",
              "      <td>NaN</td>\n",
              "      <td>NaN</td>\n",
              "      <td>NaN</td>\n",
              "    </tr>\n",
              "    <tr>\n",
              "      <th>6</th>\n",
              "      <td>7</td>\n",
              "      <td>Age Retirement</td>\n",
              "      <td>05/2012</td>\n",
              "      <td>1972</td>\n",
              "      <td>2007</td>\n",
              "      <td>Teacher</td>\n",
              "      <td>Secondary</td>\n",
              "      <td>Darling Downs South West</td>\n",
              "      <td>NaN</td>\n",
              "      <td>Permanent Part-time</td>\n",
              "      <td>False</td>\n",
              "      <td>False</td>\n",
              "      <td>False</td>\n",
              "      <td>True</td>\n",
              "      <td>True</td>\n",
              "      <td>False</td>\n",
              "      <td>False</td>\n",
              "      <td>False</td>\n",
              "      <td>False</td>\n",
              "      <td>False</td>\n",
              "      <td>False</td>\n",
              "      <td>False</td>\n",
              "      <td>False</td>\n",
              "      <td>False</td>\n",
              "      <td>False</td>\n",
              "      <td>False</td>\n",
              "      <td>False</td>\n",
              "      <td>False</td>\n",
              "      <td>SD</td>\n",
              "      <td>N</td>\n",
              "      <td>SD</td>\n",
              "      <td>D</td>\n",
              "      <td>A</td>\n",
              "      <td>A</td>\n",
              "      <td>D</td>\n",
              "      <td>D</td>\n",
              "      <td>SA</td>\n",
              "      <td>D</td>\n",
              "      <td>N</td>\n",
              "      <td>N</td>\n",
              "      <td>D</td>\n",
              "      <td>D</td>\n",
              "      <td>N</td>\n",
              "      <td>N</td>\n",
              "      <td>D</td>\n",
              "      <td>D</td>\n",
              "      <td>D</td>\n",
              "      <td>D</td>\n",
              "      <td>SD</td>\n",
              "      <td>Female</td>\n",
              "      <td>56-60</td>\n",
              "      <td>NaN</td>\n",
              "      <td>NaN</td>\n",
              "      <td>NaN</td>\n",
              "      <td>NaN</td>\n",
              "      <td>NaN</td>\n",
              "    </tr>\n",
              "    <tr>\n",
              "      <th>7</th>\n",
              "      <td>8</td>\n",
              "      <td>Age Retirement</td>\n",
              "      <td>05/2012</td>\n",
              "      <td>1988</td>\n",
              "      <td>1990</td>\n",
              "      <td>Teacher Aide</td>\n",
              "      <td>NaN</td>\n",
              "      <td>North Coast</td>\n",
              "      <td>NaN</td>\n",
              "      <td>Permanent Part-time</td>\n",
              "      <td>False</td>\n",
              "      <td>False</td>\n",
              "      <td>False</td>\n",
              "      <td>False</td>\n",
              "      <td>False</td>\n",
              "      <td>False</td>\n",
              "      <td>False</td>\n",
              "      <td>False</td>\n",
              "      <td>False</td>\n",
              "      <td>False</td>\n",
              "      <td>False</td>\n",
              "      <td>False</td>\n",
              "      <td>False</td>\n",
              "      <td>False</td>\n",
              "      <td>False</td>\n",
              "      <td>False</td>\n",
              "      <td>False</td>\n",
              "      <td>False</td>\n",
              "      <td>A</td>\n",
              "      <td>NaN</td>\n",
              "      <td>A</td>\n",
              "      <td>A</td>\n",
              "      <td>SA</td>\n",
              "      <td>SA</td>\n",
              "      <td>SA</td>\n",
              "      <td>SA</td>\n",
              "      <td>A</td>\n",
              "      <td>SA</td>\n",
              "      <td>SA</td>\n",
              "      <td>A</td>\n",
              "      <td>NaN</td>\n",
              "      <td>A</td>\n",
              "      <td>N</td>\n",
              "      <td>A</td>\n",
              "      <td>SA</td>\n",
              "      <td>A</td>\n",
              "      <td>SA</td>\n",
              "      <td>NaN</td>\n",
              "      <td>SA</td>\n",
              "      <td>Female</td>\n",
              "      <td>61 or older</td>\n",
              "      <td>NaN</td>\n",
              "      <td>NaN</td>\n",
              "      <td>NaN</td>\n",
              "      <td>NaN</td>\n",
              "      <td>NaN</td>\n",
              "    </tr>\n",
              "    <tr>\n",
              "      <th>8</th>\n",
              "      <td>9</td>\n",
              "      <td>Resignation-Other reasons</td>\n",
              "      <td>07/2012</td>\n",
              "      <td>2009</td>\n",
              "      <td>2009</td>\n",
              "      <td>Teacher</td>\n",
              "      <td>Secondary</td>\n",
              "      <td>North Queensland</td>\n",
              "      <td>NaN</td>\n",
              "      <td>Permanent Full-time</td>\n",
              "      <td>False</td>\n",
              "      <td>True</td>\n",
              "      <td>False</td>\n",
              "      <td>False</td>\n",
              "      <td>False</td>\n",
              "      <td>False</td>\n",
              "      <td>False</td>\n",
              "      <td>False</td>\n",
              "      <td>False</td>\n",
              "      <td>False</td>\n",
              "      <td>False</td>\n",
              "      <td>False</td>\n",
              "      <td>False</td>\n",
              "      <td>False</td>\n",
              "      <td>False</td>\n",
              "      <td>False</td>\n",
              "      <td>False</td>\n",
              "      <td>False</td>\n",
              "      <td>D</td>\n",
              "      <td>N</td>\n",
              "      <td>D</td>\n",
              "      <td>D</td>\n",
              "      <td>N</td>\n",
              "      <td>SD</td>\n",
              "      <td>SD</td>\n",
              "      <td>D</td>\n",
              "      <td>D</td>\n",
              "      <td>N</td>\n",
              "      <td>A</td>\n",
              "      <td>NaN</td>\n",
              "      <td>SD</td>\n",
              "      <td>SD</td>\n",
              "      <td>N</td>\n",
              "      <td>D</td>\n",
              "      <td>SD</td>\n",
              "      <td>D</td>\n",
              "      <td>A</td>\n",
              "      <td>D</td>\n",
              "      <td>N</td>\n",
              "      <td>Female</td>\n",
              "      <td>31-35</td>\n",
              "      <td>NaN</td>\n",
              "      <td>NaN</td>\n",
              "      <td>NaN</td>\n",
              "      <td>NaN</td>\n",
              "      <td>NaN</td>\n",
              "    </tr>\n",
              "    <tr>\n",
              "      <th>9</th>\n",
              "      <td>10</td>\n",
              "      <td>Resignation-Other employer</td>\n",
              "      <td>2012</td>\n",
              "      <td>1997</td>\n",
              "      <td>2008</td>\n",
              "      <td>Teacher Aide</td>\n",
              "      <td>NaN</td>\n",
              "      <td>Not Stated</td>\n",
              "      <td>NaN</td>\n",
              "      <td>Permanent Part-time</td>\n",
              "      <td>False</td>\n",
              "      <td>False</td>\n",
              "      <td>True</td>\n",
              "      <td>True</td>\n",
              "      <td>True</td>\n",
              "      <td>False</td>\n",
              "      <td>False</td>\n",
              "      <td>False</td>\n",
              "      <td>False</td>\n",
              "      <td>False</td>\n",
              "      <td>False</td>\n",
              "      <td>False</td>\n",
              "      <td>False</td>\n",
              "      <td>False</td>\n",
              "      <td>False</td>\n",
              "      <td>False</td>\n",
              "      <td>False</td>\n",
              "      <td>False</td>\n",
              "      <td>SD</td>\n",
              "      <td>SD</td>\n",
              "      <td>SD</td>\n",
              "      <td>SD</td>\n",
              "      <td>A</td>\n",
              "      <td>SD</td>\n",
              "      <td>SD</td>\n",
              "      <td>SD</td>\n",
              "      <td>SD</td>\n",
              "      <td>SD</td>\n",
              "      <td>SD</td>\n",
              "      <td>SD</td>\n",
              "      <td>SD</td>\n",
              "      <td>SD</td>\n",
              "      <td>SD</td>\n",
              "      <td>SD</td>\n",
              "      <td>SD</td>\n",
              "      <td>SD</td>\n",
              "      <td>SD</td>\n",
              "      <td>SD</td>\n",
              "      <td>SD</td>\n",
              "      <td>Female</td>\n",
              "      <td>46-50</td>\n",
              "      <td>NaN</td>\n",
              "      <td>NaN</td>\n",
              "      <td>NaN</td>\n",
              "      <td>NaN</td>\n",
              "      <td>NaN</td>\n",
              "    </tr>\n",
              "    <tr>\n",
              "      <th>10</th>\n",
              "      <td>11</td>\n",
              "      <td>Age Retirement</td>\n",
              "      <td>2012</td>\n",
              "      <td>1999</td>\n",
              "      <td>1999</td>\n",
              "      <td>Teacher</td>\n",
              "      <td>Primary</td>\n",
              "      <td>Central Office</td>\n",
              "      <td>Education Queensland</td>\n",
              "      <td>Permanent Full-time</td>\n",
              "      <td>False</td>\n",
              "      <td>False</td>\n",
              "      <td>False</td>\n",
              "      <td>True</td>\n",
              "      <td>False</td>\n",
              "      <td>False</td>\n",
              "      <td>False</td>\n",
              "      <td>False</td>\n",
              "      <td>False</td>\n",
              "      <td>False</td>\n",
              "      <td>False</td>\n",
              "      <td>False</td>\n",
              "      <td>False</td>\n",
              "      <td>False</td>\n",
              "      <td>False</td>\n",
              "      <td>False</td>\n",
              "      <td>False</td>\n",
              "      <td>False</td>\n",
              "      <td>SD</td>\n",
              "      <td>SD</td>\n",
              "      <td>A</td>\n",
              "      <td>A</td>\n",
              "      <td>A</td>\n",
              "      <td>A</td>\n",
              "      <td>D</td>\n",
              "      <td>A</td>\n",
              "      <td>SD</td>\n",
              "      <td>A</td>\n",
              "      <td>A</td>\n",
              "      <td>A</td>\n",
              "      <td>A</td>\n",
              "      <td>A</td>\n",
              "      <td>A</td>\n",
              "      <td>D</td>\n",
              "      <td>A</td>\n",
              "      <td>SD</td>\n",
              "      <td>A</td>\n",
              "      <td>NaN</td>\n",
              "      <td>A</td>\n",
              "      <td>Male</td>\n",
              "      <td>61 or older</td>\n",
              "      <td>NaN</td>\n",
              "      <td>NaN</td>\n",
              "      <td>NaN</td>\n",
              "      <td>NaN</td>\n",
              "      <td>NaN</td>\n",
              "    </tr>\n",
              "    <tr>\n",
              "      <th>11</th>\n",
              "      <td>12</td>\n",
              "      <td>Resignation-Move overseas/interstate</td>\n",
              "      <td>2012</td>\n",
              "      <td>2009</td>\n",
              "      <td>2009</td>\n",
              "      <td>Teacher</td>\n",
              "      <td>Secondary</td>\n",
              "      <td>Far North Queensland</td>\n",
              "      <td>NaN</td>\n",
              "      <td>Permanent Full-time</td>\n",
              "      <td>False</td>\n",
              "      <td>False</td>\n",
              "      <td>False</td>\n",
              "      <td>False</td>\n",
              "      <td>False</td>\n",
              "      <td>False</td>\n",
              "      <td>False</td>\n",
              "      <td>False</td>\n",
              "      <td>False</td>\n",
              "      <td>False</td>\n",
              "      <td>True</td>\n",
              "      <td>True</td>\n",
              "      <td>False</td>\n",
              "      <td>False</td>\n",
              "      <td>False</td>\n",
              "      <td>False</td>\n",
              "      <td>False</td>\n",
              "      <td>False</td>\n",
              "      <td>N</td>\n",
              "      <td>N</td>\n",
              "      <td>N</td>\n",
              "      <td>D</td>\n",
              "      <td>N</td>\n",
              "      <td>N</td>\n",
              "      <td>N</td>\n",
              "      <td>N</td>\n",
              "      <td>A</td>\n",
              "      <td>N</td>\n",
              "      <td>N</td>\n",
              "      <td>N</td>\n",
              "      <td>N</td>\n",
              "      <td>N</td>\n",
              "      <td>N</td>\n",
              "      <td>N</td>\n",
              "      <td>N</td>\n",
              "      <td>N</td>\n",
              "      <td>N</td>\n",
              "      <td>N</td>\n",
              "      <td>N</td>\n",
              "      <td>Male</td>\n",
              "      <td>31-35</td>\n",
              "      <td>NaN</td>\n",
              "      <td>NaN</td>\n",
              "      <td>NaN</td>\n",
              "      <td>NaN</td>\n",
              "      <td>NaN</td>\n",
              "    </tr>\n",
              "    <tr>\n",
              "      <th>12</th>\n",
              "      <td>13</td>\n",
              "      <td>Resignation-Other reasons</td>\n",
              "      <td>2012</td>\n",
              "      <td>1998</td>\n",
              "      <td>1998</td>\n",
              "      <td>Teacher</td>\n",
              "      <td>Primary</td>\n",
              "      <td>Far North Queensland</td>\n",
              "      <td>NaN</td>\n",
              "      <td>Permanent Full-time</td>\n",
              "      <td>False</td>\n",
              "      <td>False</td>\n",
              "      <td>False</td>\n",
              "      <td>False</td>\n",
              "      <td>False</td>\n",
              "      <td>False</td>\n",
              "      <td>False</td>\n",
              "      <td>False</td>\n",
              "      <td>False</td>\n",
              "      <td>False</td>\n",
              "      <td>True</td>\n",
              "      <td>False</td>\n",
              "      <td>False</td>\n",
              "      <td>False</td>\n",
              "      <td>False</td>\n",
              "      <td>False</td>\n",
              "      <td>False</td>\n",
              "      <td>False</td>\n",
              "      <td>A</td>\n",
              "      <td>A</td>\n",
              "      <td>A</td>\n",
              "      <td>A</td>\n",
              "      <td>SA</td>\n",
              "      <td>SA</td>\n",
              "      <td>SA</td>\n",
              "      <td>A</td>\n",
              "      <td>A</td>\n",
              "      <td>SA</td>\n",
              "      <td>SA</td>\n",
              "      <td>SA</td>\n",
              "      <td>A</td>\n",
              "      <td>A</td>\n",
              "      <td>SA</td>\n",
              "      <td>A</td>\n",
              "      <td>A</td>\n",
              "      <td>SA</td>\n",
              "      <td>SA</td>\n",
              "      <td>A</td>\n",
              "      <td>A</td>\n",
              "      <td>Female</td>\n",
              "      <td>36-40</td>\n",
              "      <td>NaN</td>\n",
              "      <td>NaN</td>\n",
              "      <td>NaN</td>\n",
              "      <td>NaN</td>\n",
              "      <td>NaN</td>\n",
              "    </tr>\n",
              "    <tr>\n",
              "      <th>13</th>\n",
              "      <td>14</td>\n",
              "      <td>Age Retirement</td>\n",
              "      <td>2012</td>\n",
              "      <td>1967</td>\n",
              "      <td>2000</td>\n",
              "      <td>Teacher</td>\n",
              "      <td>Primary</td>\n",
              "      <td>Metropolitan</td>\n",
              "      <td>NaN</td>\n",
              "      <td>Permanent Part-time</td>\n",
              "      <td>False</td>\n",
              "      <td>False</td>\n",
              "      <td>False</td>\n",
              "      <td>False</td>\n",
              "      <td>False</td>\n",
              "      <td>False</td>\n",
              "      <td>False</td>\n",
              "      <td>False</td>\n",
              "      <td>False</td>\n",
              "      <td>False</td>\n",
              "      <td>False</td>\n",
              "      <td>False</td>\n",
              "      <td>False</td>\n",
              "      <td>False</td>\n",
              "      <td>False</td>\n",
              "      <td>True</td>\n",
              "      <td>False</td>\n",
              "      <td>False</td>\n",
              "      <td>A</td>\n",
              "      <td>N</td>\n",
              "      <td>A</td>\n",
              "      <td>N</td>\n",
              "      <td>N</td>\n",
              "      <td>A</td>\n",
              "      <td>A</td>\n",
              "      <td>A</td>\n",
              "      <td>A</td>\n",
              "      <td>A</td>\n",
              "      <td>A</td>\n",
              "      <td>A</td>\n",
              "      <td>N</td>\n",
              "      <td>N</td>\n",
              "      <td>A</td>\n",
              "      <td>A</td>\n",
              "      <td>A</td>\n",
              "      <td>A</td>\n",
              "      <td>A</td>\n",
              "      <td>D</td>\n",
              "      <td>A</td>\n",
              "      <td>Female</td>\n",
              "      <td>61 or older</td>\n",
              "      <td>NaN</td>\n",
              "      <td>NaN</td>\n",
              "      <td>NaN</td>\n",
              "      <td>NaN</td>\n",
              "      <td>NaN</td>\n",
              "    </tr>\n",
              "    <tr>\n",
              "      <th>14</th>\n",
              "      <td>15</td>\n",
              "      <td>Resignation-Other employer</td>\n",
              "      <td>2012</td>\n",
              "      <td>2007</td>\n",
              "      <td>2010</td>\n",
              "      <td>Teacher</td>\n",
              "      <td>Secondary</td>\n",
              "      <td>Central Queensland</td>\n",
              "      <td>NaN</td>\n",
              "      <td>Permanent Full-time</td>\n",
              "      <td>False</td>\n",
              "      <td>False</td>\n",
              "      <td>False</td>\n",
              "      <td>True</td>\n",
              "      <td>True</td>\n",
              "      <td>False</td>\n",
              "      <td>False</td>\n",
              "      <td>False</td>\n",
              "      <td>False</td>\n",
              "      <td>False</td>\n",
              "      <td>False</td>\n",
              "      <td>False</td>\n",
              "      <td>False</td>\n",
              "      <td>False</td>\n",
              "      <td>False</td>\n",
              "      <td>False</td>\n",
              "      <td>False</td>\n",
              "      <td>False</td>\n",
              "      <td>SA</td>\n",
              "      <td>N</td>\n",
              "      <td>SA</td>\n",
              "      <td>SA</td>\n",
              "      <td>A</td>\n",
              "      <td>A</td>\n",
              "      <td>A</td>\n",
              "      <td>SA</td>\n",
              "      <td>SA</td>\n",
              "      <td>SA</td>\n",
              "      <td>SA</td>\n",
              "      <td>N</td>\n",
              "      <td>N</td>\n",
              "      <td>A</td>\n",
              "      <td>SA</td>\n",
              "      <td>SA</td>\n",
              "      <td>SA</td>\n",
              "      <td>SA</td>\n",
              "      <td>SA</td>\n",
              "      <td>N</td>\n",
              "      <td>SA</td>\n",
              "      <td>Male</td>\n",
              "      <td>31-35</td>\n",
              "      <td>NaN</td>\n",
              "      <td>NaN</td>\n",
              "      <td>NaN</td>\n",
              "      <td>NaN</td>\n",
              "      <td>NaN</td>\n",
              "    </tr>\n",
              "  </tbody>\n",
              "</table>\n",
              "</div>"
            ],
            "text/plain": [
              "    ID                        SeparationType  ... Disability NESB\n",
              "0    1                 Ill Health Retirement  ...        NaN  Yes\n",
              "1    2      Voluntary Early Retirement (VER)  ...        NaN  NaN\n",
              "2    3      Voluntary Early Retirement (VER)  ...        NaN  NaN\n",
              "3    4             Resignation-Other reasons  ...        NaN  NaN\n",
              "4    5                        Age Retirement  ...        NaN  NaN\n",
              "5    6             Resignation-Other reasons  ...        NaN  NaN\n",
              "6    7                        Age Retirement  ...        NaN  NaN\n",
              "7    8                        Age Retirement  ...        NaN  NaN\n",
              "8    9             Resignation-Other reasons  ...        NaN  NaN\n",
              "9   10            Resignation-Other employer  ...        NaN  NaN\n",
              "10  11                        Age Retirement  ...        NaN  NaN\n",
              "11  12  Resignation-Move overseas/interstate  ...        NaN  NaN\n",
              "12  13             Resignation-Other reasons  ...        NaN  NaN\n",
              "13  14                        Age Retirement  ...        NaN  NaN\n",
              "14  15            Resignation-Other employer  ...        NaN  NaN\n",
              "\n",
              "[15 rows x 56 columns]"
            ]
          },
          "metadata": {
            "tags": []
          },
          "execution_count": 4
        }
      ]
    },
    {
      "cell_type": "code",
      "metadata": {
        "id": "-1qmohAvMxko",
        "colab_type": "code",
        "outputId": "a36106b9-1c89-470c-8336-226554e1871f",
        "colab": {
          "base_uri": "https://localhost:8080/",
          "height": 1000
        }
      },
      "source": [
        "dete_survey.info() "
      ],
      "execution_count": 0,
      "outputs": [
        {
          "output_type": "stream",
          "text": [
            "<class 'pandas.core.frame.DataFrame'>\n",
            "RangeIndex: 822 entries, 0 to 821\n",
            "Data columns (total 56 columns):\n",
            " #   Column                               Non-Null Count  Dtype \n",
            "---  ------                               --------------  ----- \n",
            " 0   ID                                   822 non-null    int64 \n",
            " 1   SeparationType                       822 non-null    object\n",
            " 2   Cease Date                           822 non-null    object\n",
            " 3   DETE Start Date                      822 non-null    object\n",
            " 4   Role Start Date                      822 non-null    object\n",
            " 5   Position                             817 non-null    object\n",
            " 6   Classification                       455 non-null    object\n",
            " 7   Region                               822 non-null    object\n",
            " 8   Business Unit                        126 non-null    object\n",
            " 9   Employment Status                    817 non-null    object\n",
            " 10  Career move to public sector         822 non-null    bool  \n",
            " 11  Career move to private sector        822 non-null    bool  \n",
            " 12  Interpersonal conflicts              822 non-null    bool  \n",
            " 13  Job dissatisfaction                  822 non-null    bool  \n",
            " 14  Dissatisfaction with the department  822 non-null    bool  \n",
            " 15  Physical work environment            822 non-null    bool  \n",
            " 16  Lack of recognition                  822 non-null    bool  \n",
            " 17  Lack of job security                 822 non-null    bool  \n",
            " 18  Work location                        822 non-null    bool  \n",
            " 19  Employment conditions                822 non-null    bool  \n",
            " 20  Maternity/family                     822 non-null    bool  \n",
            " 21  Relocation                           822 non-null    bool  \n",
            " 22  Study/Travel                         822 non-null    bool  \n",
            " 23  Ill Health                           822 non-null    bool  \n",
            " 24  Traumatic incident                   822 non-null    bool  \n",
            " 25  Work life balance                    822 non-null    bool  \n",
            " 26  Workload                             822 non-null    bool  \n",
            " 27  None of the above                    822 non-null    bool  \n",
            " 28  Professional Development             808 non-null    object\n",
            " 29  Opportunities for promotion          735 non-null    object\n",
            " 30  Staff morale                         816 non-null    object\n",
            " 31  Workplace issue                      788 non-null    object\n",
            " 32  Physical environment                 817 non-null    object\n",
            " 33  Worklife balance                     815 non-null    object\n",
            " 34  Stress and pressure support          810 non-null    object\n",
            " 35  Performance of supervisor            813 non-null    object\n",
            " 36  Peer support                         812 non-null    object\n",
            " 37  Initiative                           813 non-null    object\n",
            " 38  Skills                               811 non-null    object\n",
            " 39  Coach                                767 non-null    object\n",
            " 40  Career Aspirations                   746 non-null    object\n",
            " 41  Feedback                             792 non-null    object\n",
            " 42  Further PD                           768 non-null    object\n",
            " 43  Communication                        814 non-null    object\n",
            " 44  My say                               812 non-null    object\n",
            " 45  Information                          816 non-null    object\n",
            " 46  Kept informed                        813 non-null    object\n",
            " 47  Wellness programs                    766 non-null    object\n",
            " 48  Health & Safety                      793 non-null    object\n",
            " 49  Gender                               798 non-null    object\n",
            " 50  Age                                  811 non-null    object\n",
            " 51  Aboriginal                           16 non-null     object\n",
            " 52  Torres Strait                        3 non-null      object\n",
            " 53  South Sea                            7 non-null      object\n",
            " 54  Disability                           23 non-null     object\n",
            " 55  NESB                                 32 non-null     object\n",
            "dtypes: bool(18), int64(1), object(37)\n",
            "memory usage: 258.6+ KB\n"
          ],
          "name": "stdout"
        }
      ]
    },
    {
      "cell_type": "code",
      "metadata": {
        "scrolled": true,
        "id": "J4xuALujMxkq",
        "colab_type": "code",
        "outputId": "21d36ccf-6a0d-48a5-e8a8-1c57274f8dde",
        "colab": {
          "base_uri": "https://localhost:8080/",
          "height": 34
        }
      },
      "source": [
        "dete_survey.shape"
      ],
      "execution_count": 0,
      "outputs": [
        {
          "output_type": "execute_result",
          "data": {
            "text/plain": [
              "(822, 56)"
            ]
          },
          "metadata": {
            "tags": []
          },
          "execution_count": 6
        }
      ]
    },
    {
      "cell_type": "code",
      "metadata": {
        "id": "93ryGbT2Mxks",
        "colab_type": "code",
        "outputId": "85b46486-02f2-4b11-a47c-d3c4a4ab4789",
        "colab": {
          "base_uri": "https://localhost:8080/",
          "height": 974
        }
      },
      "source": [
        "dete_survey.isnull().sum().sort_values() "
      ],
      "execution_count": 0,
      "outputs": [
        {
          "output_type": "execute_result",
          "data": {
            "text/plain": [
              "ID                                       0\n",
              "Workload                                 0\n",
              "Work life balance                        0\n",
              "Traumatic incident                       0\n",
              "Ill Health                               0\n",
              "Study/Travel                             0\n",
              "Relocation                               0\n",
              "Maternity/family                         0\n",
              "Employment conditions                    0\n",
              "Work location                            0\n",
              "Lack of job security                     0\n",
              "Lack of recognition                      0\n",
              "Physical work environment                0\n",
              "Dissatisfaction with the department      0\n",
              "None of the above                        0\n",
              "Interpersonal conflicts                  0\n",
              "Job dissatisfaction                      0\n",
              "SeparationType                           0\n",
              "Cease Date                               0\n",
              "DETE Start Date                          0\n",
              "Role Start Date                          0\n",
              "Career move to public sector             0\n",
              "Career move to private sector            0\n",
              "Region                                   0\n",
              "Position                                 5\n",
              "Employment Status                        5\n",
              "Physical environment                     5\n",
              "Information                              6\n",
              "Staff morale                             6\n",
              "Worklife balance                         7\n",
              "Communication                            8\n",
              "Kept informed                            9\n",
              "Initiative                               9\n",
              "Performance of supervisor                9\n",
              "My say                                  10\n",
              "Peer support                            10\n",
              "Age                                     11\n",
              "Skills                                  11\n",
              "Stress and pressure support             12\n",
              "Professional Development                14\n",
              "Gender                                  24\n",
              "Health & Safety                         29\n",
              "Feedback                                30\n",
              "Workplace issue                         34\n",
              "Further PD                              54\n",
              "Coach                                   55\n",
              "Wellness programs                       56\n",
              "Career Aspirations                      76\n",
              "Opportunities for promotion             87\n",
              "Classification                         367\n",
              "Business Unit                          696\n",
              "NESB                                   790\n",
              "Disability                             799\n",
              "Aboriginal                             806\n",
              "South Sea                              815\n",
              "Torres Strait                          819\n",
              "dtype: int64"
            ]
          },
          "metadata": {
            "tags": []
          },
          "execution_count": 7
        }
      ]
    },
    {
      "cell_type": "markdown",
      "metadata": {
        "id": "VCfrow9jMxku",
        "colab_type": "text"
      },
      "source": [
        "- There are total 822 rows and 56 columns in our dataset\n",
        "- There are Null values present in the dataset. \n",
        "- The columns 'Business Unit', 'NESB', 'Disability','Aboriginal','South Sea','Torres Strait' have about 70-90% of the data missing. \n"
      ]
    },
    {
      "cell_type": "code",
      "metadata": {
        "id": "T2r6oI85Mxkv",
        "colab_type": "code",
        "colab": {}
      },
      "source": [
        "tafe_survey = pd.read_csv(\"tafe_survey.csv\", encoding = 'cp1252')"
      ],
      "execution_count": 0,
      "outputs": []
    },
    {
      "cell_type": "code",
      "metadata": {
        "scrolled": true,
        "id": "tiujCY7zMxkx",
        "colab_type": "code",
        "outputId": "6c471278-9b94-4bf4-de40-4a3d25ce47fd",
        "colab": {
          "base_uri": "https://localhost:8080/",
          "height": 618
        }
      },
      "source": [
        "tafe_survey.head()"
      ],
      "execution_count": 23,
      "outputs": [
        {
          "output_type": "execute_result",
          "data": {
            "text/html": [
              "<div>\n",
              "<style scoped>\n",
              "    .dataframe tbody tr th:only-of-type {\n",
              "        vertical-align: middle;\n",
              "    }\n",
              "\n",
              "    .dataframe tbody tr th {\n",
              "        vertical-align: top;\n",
              "    }\n",
              "\n",
              "    .dataframe thead th {\n",
              "        text-align: right;\n",
              "    }\n",
              "</style>\n",
              "<table border=\"1\" class=\"dataframe\">\n",
              "  <thead>\n",
              "    <tr style=\"text-align: right;\">\n",
              "      <th></th>\n",
              "      <th>Record ID</th>\n",
              "      <th>Institute</th>\n",
              "      <th>WorkArea</th>\n",
              "      <th>CESSATION YEAR</th>\n",
              "      <th>Reason for ceasing employment</th>\n",
              "      <th>Contributing Factors. Career Move - Public Sector</th>\n",
              "      <th>Contributing Factors. Career Move - Private Sector</th>\n",
              "      <th>Contributing Factors. Career Move - Self-employment</th>\n",
              "      <th>Contributing Factors. Ill Health</th>\n",
              "      <th>Contributing Factors. Maternity/Family</th>\n",
              "      <th>Contributing Factors. Dissatisfaction</th>\n",
              "      <th>Contributing Factors. Job Dissatisfaction</th>\n",
              "      <th>Contributing Factors. Interpersonal Conflict</th>\n",
              "      <th>Contributing Factors. Study</th>\n",
              "      <th>Contributing Factors. Travel</th>\n",
              "      <th>Contributing Factors. Other</th>\n",
              "      <th>Contributing Factors. NONE</th>\n",
              "      <th>Main Factor.     Which of these was the main factor for leaving?</th>\n",
              "      <th>InstituteViews. Topic:1. I feel the senior leadership had a clear vision and direction</th>\n",
              "      <th>InstituteViews. Topic:2. I was given access to skills training to help me do my job better</th>\n",
              "      <th>InstituteViews. Topic:3. I was given adequate opportunities for personal development</th>\n",
              "      <th>InstituteViews. Topic:4. I was given adequate opportunities for promotion within %Institute]Q25LBL%</th>\n",
              "      <th>InstituteViews. Topic:5. I felt the salary for the job was right for the responsibilities I had</th>\n",
              "      <th>InstituteViews. Topic:6. The organisation recognised when staff did good work</th>\n",
              "      <th>InstituteViews. Topic:7. Management was generally supportive of me</th>\n",
              "      <th>InstituteViews. Topic:8. Management was generally supportive of my team</th>\n",
              "      <th>InstituteViews. Topic:9. I was kept informed of the changes in the organisation which would affect me</th>\n",
              "      <th>InstituteViews. Topic:10. Staff morale was positive within the Institute</th>\n",
              "      <th>InstituteViews. Topic:11. If I had a workplace issue it was dealt with quickly</th>\n",
              "      <th>InstituteViews. Topic:12. If I had a workplace issue it was dealt with efficiently</th>\n",
              "      <th>InstituteViews. Topic:13. If I had a workplace issue it was dealt with discreetly</th>\n",
              "      <th>WorkUnitViews. Topic:14. I was satisfied with the quality of the management and supervision within my work unit</th>\n",
              "      <th>WorkUnitViews. Topic:15. I worked well with my colleagues</th>\n",
              "      <th>WorkUnitViews. Topic:16. My job was challenging and interesting</th>\n",
              "      <th>WorkUnitViews. Topic:17. I was encouraged to use my initiative in the course of my work</th>\n",
              "      <th>WorkUnitViews. Topic:18. I had sufficient contact with other people in my job</th>\n",
              "      <th>WorkUnitViews. Topic:19. I was given adequate support and co-operation by my peers to enable me to do my job</th>\n",
              "      <th>WorkUnitViews. Topic:20. I was able to use the full range of my skills in my job</th>\n",
              "      <th>WorkUnitViews. Topic:21. I was able to use the full range of my abilities in my job. ; Category:Level of Agreement; Question:YOUR VIEWS ABOUT YOUR WORK UNIT]</th>\n",
              "      <th>WorkUnitViews. Topic:22. I was able to use the full range of my knowledge in my job</th>\n",
              "      <th>WorkUnitViews. Topic:23. My job provided sufficient variety</th>\n",
              "      <th>WorkUnitViews. Topic:24. I was able to cope with the level of stress and pressure in my job</th>\n",
              "      <th>WorkUnitViews. Topic:25. My job allowed me to balance the demands of work and family to my satisfaction</th>\n",
              "      <th>WorkUnitViews. Topic:26. My supervisor gave me adequate personal recognition and feedback on my performance</th>\n",
              "      <th>WorkUnitViews. Topic:27. My working environment was satisfactory e.g. sufficient space, good lighting, suitable seating and working area</th>\n",
              "      <th>WorkUnitViews. Topic:28. I was given the opportunity to mentor and coach others in order for me to pass on my skills and knowledge prior to my cessation date</th>\n",
              "      <th>WorkUnitViews. Topic:29. There was adequate communication between staff in my unit</th>\n",
              "      <th>WorkUnitViews. Topic:30. Staff morale was positive within my work unit</th>\n",
              "      <th>Induction. Did you undertake Workplace Induction?</th>\n",
              "      <th>InductionInfo. Topic:Did you undertake a Corporate Induction?</th>\n",
              "      <th>InductionInfo. Topic:Did you undertake a Institute Induction?</th>\n",
              "      <th>InductionInfo. Topic: Did you undertake Team Induction?</th>\n",
              "      <th>InductionInfo. Face to Face Topic:Did you undertake a Corporate Induction; Category:How it was conducted?</th>\n",
              "      <th>InductionInfo. On-line Topic:Did you undertake a Corporate Induction; Category:How it was conducted?</th>\n",
              "      <th>InductionInfo. Induction Manual Topic:Did you undertake a Corporate Induction?</th>\n",
              "      <th>InductionInfo. Face to Face Topic:Did you undertake a Institute Induction?</th>\n",
              "      <th>InductionInfo. On-line Topic:Did you undertake a Institute Induction?</th>\n",
              "      <th>InductionInfo. Induction Manual Topic:Did you undertake a Institute Induction?</th>\n",
              "      <th>InductionInfo. Face to Face Topic: Did you undertake Team Induction; Category?</th>\n",
              "      <th>InductionInfo. On-line Topic: Did you undertake Team Induction?process you undertook and how it was conducted.]</th>\n",
              "      <th>InductionInfo. Induction Manual Topic: Did you undertake Team Induction?</th>\n",
              "      <th>Workplace. Topic:Did you and your Manager develop a Performance and Professional Development Plan (PPDP)?</th>\n",
              "      <th>Workplace. Topic:Does your workplace promote a work culture free from all forms of unlawful discrimination?</th>\n",
              "      <th>Workplace. Topic:Does your workplace promote and practice the principles of employment equity?</th>\n",
              "      <th>Workplace. Topic:Does your workplace value the diversity of its employees?</th>\n",
              "      <th>Workplace. Topic:Would you recommend the Institute as an employer to others?</th>\n",
              "      <th>Gender.     What is your Gender?</th>\n",
              "      <th>CurrentAge.     Current Age</th>\n",
              "      <th>Employment Type.     Employment Type</th>\n",
              "      <th>Classification.     Classification</th>\n",
              "      <th>LengthofServiceOverall. Overall Length of Service at Institute (in years)</th>\n",
              "      <th>LengthofServiceCurrent. Length of Service at current workplace (in years)</th>\n",
              "    </tr>\n",
              "  </thead>\n",
              "  <tbody>\n",
              "    <tr>\n",
              "      <th>0</th>\n",
              "      <td>634133009996094000</td>\n",
              "      <td>Southern Queensland Institute of TAFE</td>\n",
              "      <td>Non-Delivery (corporate)</td>\n",
              "      <td>2010.0</td>\n",
              "      <td>Contract Expired</td>\n",
              "      <td>NaN</td>\n",
              "      <td>NaN</td>\n",
              "      <td>NaN</td>\n",
              "      <td>NaN</td>\n",
              "      <td>NaN</td>\n",
              "      <td>NaN</td>\n",
              "      <td>NaN</td>\n",
              "      <td>NaN</td>\n",
              "      <td>NaN</td>\n",
              "      <td>NaN</td>\n",
              "      <td>NaN</td>\n",
              "      <td>NaN</td>\n",
              "      <td>NaN</td>\n",
              "      <td>Agree</td>\n",
              "      <td>Agree</td>\n",
              "      <td>Agree</td>\n",
              "      <td>Neutral</td>\n",
              "      <td>Agree</td>\n",
              "      <td>Agree</td>\n",
              "      <td>Agree</td>\n",
              "      <td>Agree</td>\n",
              "      <td>Agree</td>\n",
              "      <td>Agree</td>\n",
              "      <td>Agree</td>\n",
              "      <td>Agree</td>\n",
              "      <td>Agree</td>\n",
              "      <td>Agree</td>\n",
              "      <td>Agree</td>\n",
              "      <td>Agree</td>\n",
              "      <td>Strongly Agree</td>\n",
              "      <td>Agree</td>\n",
              "      <td>Agree</td>\n",
              "      <td>Agree</td>\n",
              "      <td>Agree</td>\n",
              "      <td>Agree</td>\n",
              "      <td>Agree</td>\n",
              "      <td>Agree</td>\n",
              "      <td>Agree</td>\n",
              "      <td>Agree</td>\n",
              "      <td>Agree</td>\n",
              "      <td>Neutral</td>\n",
              "      <td>Agree</td>\n",
              "      <td>Agree</td>\n",
              "      <td>Yes</td>\n",
              "      <td>Yes</td>\n",
              "      <td>Yes</td>\n",
              "      <td>Yes</td>\n",
              "      <td>Face to Face</td>\n",
              "      <td>-</td>\n",
              "      <td>-</td>\n",
              "      <td>Face to Face</td>\n",
              "      <td>-</td>\n",
              "      <td>-</td>\n",
              "      <td>Face to Face</td>\n",
              "      <td>-</td>\n",
              "      <td>-</td>\n",
              "      <td>Yes</td>\n",
              "      <td>Yes</td>\n",
              "      <td>Yes</td>\n",
              "      <td>Yes</td>\n",
              "      <td>Yes</td>\n",
              "      <td>Female</td>\n",
              "      <td>26 – 30</td>\n",
              "      <td>Temporary Full-time</td>\n",
              "      <td>Administration (AO)</td>\n",
              "      <td>1-2</td>\n",
              "      <td>1-2</td>\n",
              "    </tr>\n",
              "    <tr>\n",
              "      <th>1</th>\n",
              "      <td>634133654064531000</td>\n",
              "      <td>Mount Isa Institute of TAFE</td>\n",
              "      <td>Non-Delivery (corporate)</td>\n",
              "      <td>2010.0</td>\n",
              "      <td>Retirement</td>\n",
              "      <td>-</td>\n",
              "      <td>-</td>\n",
              "      <td>-</td>\n",
              "      <td>-</td>\n",
              "      <td>-</td>\n",
              "      <td>-</td>\n",
              "      <td>-</td>\n",
              "      <td>-</td>\n",
              "      <td>-</td>\n",
              "      <td>Travel</td>\n",
              "      <td>-</td>\n",
              "      <td>-</td>\n",
              "      <td>NaN</td>\n",
              "      <td>Agree</td>\n",
              "      <td>Agree</td>\n",
              "      <td>Agree</td>\n",
              "      <td>Agree</td>\n",
              "      <td>Agree</td>\n",
              "      <td>Strongly Agree</td>\n",
              "      <td>Strongly Agree</td>\n",
              "      <td>Agree</td>\n",
              "      <td>Strongly Agree</td>\n",
              "      <td>Agree</td>\n",
              "      <td>Agree</td>\n",
              "      <td>Agree</td>\n",
              "      <td>Disagree</td>\n",
              "      <td>Strongly Agree</td>\n",
              "      <td>Strongly Agree</td>\n",
              "      <td>Strongly Agree</td>\n",
              "      <td>Agree</td>\n",
              "      <td>Agree</td>\n",
              "      <td>Agree</td>\n",
              "      <td>Strongly Agree</td>\n",
              "      <td>Agree</td>\n",
              "      <td>Agree</td>\n",
              "      <td>Agree</td>\n",
              "      <td>Strongly Agree</td>\n",
              "      <td>Agree</td>\n",
              "      <td>Strongly Agree</td>\n",
              "      <td>Strongly Agree</td>\n",
              "      <td>Agree</td>\n",
              "      <td>Agree</td>\n",
              "      <td>Strongly Agree</td>\n",
              "      <td>No</td>\n",
              "      <td>NaN</td>\n",
              "      <td>NaN</td>\n",
              "      <td>NaN</td>\n",
              "      <td>NaN</td>\n",
              "      <td>NaN</td>\n",
              "      <td>NaN</td>\n",
              "      <td>NaN</td>\n",
              "      <td>NaN</td>\n",
              "      <td>NaN</td>\n",
              "      <td>NaN</td>\n",
              "      <td>NaN</td>\n",
              "      <td>NaN</td>\n",
              "      <td>Yes</td>\n",
              "      <td>Yes</td>\n",
              "      <td>Yes</td>\n",
              "      <td>Yes</td>\n",
              "      <td>Yes</td>\n",
              "      <td>NaN</td>\n",
              "      <td>NaN</td>\n",
              "      <td>NaN</td>\n",
              "      <td>NaN</td>\n",
              "      <td>NaN</td>\n",
              "      <td>NaN</td>\n",
              "    </tr>\n",
              "    <tr>\n",
              "      <th>2</th>\n",
              "      <td>634138845606563000</td>\n",
              "      <td>Mount Isa Institute of TAFE</td>\n",
              "      <td>Delivery (teaching)</td>\n",
              "      <td>2010.0</td>\n",
              "      <td>Retirement</td>\n",
              "      <td>-</td>\n",
              "      <td>-</td>\n",
              "      <td>-</td>\n",
              "      <td>-</td>\n",
              "      <td>-</td>\n",
              "      <td>-</td>\n",
              "      <td>-</td>\n",
              "      <td>-</td>\n",
              "      <td>-</td>\n",
              "      <td>-</td>\n",
              "      <td>-</td>\n",
              "      <td>NONE</td>\n",
              "      <td>NaN</td>\n",
              "      <td>Agree</td>\n",
              "      <td>Agree</td>\n",
              "      <td>Agree</td>\n",
              "      <td>Agree</td>\n",
              "      <td>Agree</td>\n",
              "      <td>Agree</td>\n",
              "      <td>Strongly Agree</td>\n",
              "      <td>Agree</td>\n",
              "      <td>Agree</td>\n",
              "      <td>Agree</td>\n",
              "      <td>Agree</td>\n",
              "      <td>Neutral</td>\n",
              "      <td>Neutral</td>\n",
              "      <td>Strongly Agree</td>\n",
              "      <td>Strongly Agree</td>\n",
              "      <td>Agree</td>\n",
              "      <td>Agree</td>\n",
              "      <td>Agree</td>\n",
              "      <td>Agree</td>\n",
              "      <td>Agree</td>\n",
              "      <td>Agree</td>\n",
              "      <td>Agree</td>\n",
              "      <td>Agree</td>\n",
              "      <td>Agree</td>\n",
              "      <td>Agree</td>\n",
              "      <td>Agree</td>\n",
              "      <td>Agree</td>\n",
              "      <td>Agree</td>\n",
              "      <td>Agree</td>\n",
              "      <td>Agree</td>\n",
              "      <td>No</td>\n",
              "      <td>NaN</td>\n",
              "      <td>NaN</td>\n",
              "      <td>NaN</td>\n",
              "      <td>NaN</td>\n",
              "      <td>NaN</td>\n",
              "      <td>NaN</td>\n",
              "      <td>NaN</td>\n",
              "      <td>NaN</td>\n",
              "      <td>NaN</td>\n",
              "      <td>NaN</td>\n",
              "      <td>NaN</td>\n",
              "      <td>NaN</td>\n",
              "      <td>Yes</td>\n",
              "      <td>Yes</td>\n",
              "      <td>Yes</td>\n",
              "      <td>Yes</td>\n",
              "      <td>Yes</td>\n",
              "      <td>NaN</td>\n",
              "      <td>NaN</td>\n",
              "      <td>NaN</td>\n",
              "      <td>NaN</td>\n",
              "      <td>NaN</td>\n",
              "      <td>NaN</td>\n",
              "    </tr>\n",
              "    <tr>\n",
              "      <th>3</th>\n",
              "      <td>634139903350000000</td>\n",
              "      <td>Mount Isa Institute of TAFE</td>\n",
              "      <td>Non-Delivery (corporate)</td>\n",
              "      <td>2010.0</td>\n",
              "      <td>Resignation</td>\n",
              "      <td>-</td>\n",
              "      <td>-</td>\n",
              "      <td>-</td>\n",
              "      <td>-</td>\n",
              "      <td>-</td>\n",
              "      <td>-</td>\n",
              "      <td>-</td>\n",
              "      <td>-</td>\n",
              "      <td>-</td>\n",
              "      <td>Travel</td>\n",
              "      <td>-</td>\n",
              "      <td>-</td>\n",
              "      <td>NaN</td>\n",
              "      <td>Agree</td>\n",
              "      <td>Agree</td>\n",
              "      <td>Agree</td>\n",
              "      <td>Agree</td>\n",
              "      <td>Agree</td>\n",
              "      <td>Agree</td>\n",
              "      <td>Agree</td>\n",
              "      <td>Agree</td>\n",
              "      <td>Agree</td>\n",
              "      <td>Agree</td>\n",
              "      <td>Agree</td>\n",
              "      <td>Agree</td>\n",
              "      <td>Agree</td>\n",
              "      <td>Strongly Agree</td>\n",
              "      <td>Strongly Agree</td>\n",
              "      <td>Strongly Agree</td>\n",
              "      <td>Strongly Agree</td>\n",
              "      <td>Strongly Agree</td>\n",
              "      <td>Strongly Agree</td>\n",
              "      <td>Strongly Agree</td>\n",
              "      <td>Strongly Agree</td>\n",
              "      <td>Strongly Agree</td>\n",
              "      <td>Strongly Agree</td>\n",
              "      <td>Strongly Agree</td>\n",
              "      <td>Strongly Agree</td>\n",
              "      <td>Strongly Agree</td>\n",
              "      <td>Strongly Agree</td>\n",
              "      <td>Strongly Agree</td>\n",
              "      <td>Strongly Agree</td>\n",
              "      <td>Strongly Agree</td>\n",
              "      <td>Yes</td>\n",
              "      <td>No</td>\n",
              "      <td>Yes</td>\n",
              "      <td>Yes</td>\n",
              "      <td>-</td>\n",
              "      <td>-</td>\n",
              "      <td>-</td>\n",
              "      <td>NaN</td>\n",
              "      <td>-</td>\n",
              "      <td>-</td>\n",
              "      <td>-</td>\n",
              "      <td>-</td>\n",
              "      <td>-</td>\n",
              "      <td>Yes</td>\n",
              "      <td>Yes</td>\n",
              "      <td>Yes</td>\n",
              "      <td>Yes</td>\n",
              "      <td>Yes</td>\n",
              "      <td>NaN</td>\n",
              "      <td>NaN</td>\n",
              "      <td>NaN</td>\n",
              "      <td>NaN</td>\n",
              "      <td>NaN</td>\n",
              "      <td>NaN</td>\n",
              "    </tr>\n",
              "    <tr>\n",
              "      <th>4</th>\n",
              "      <td>634146578511788000</td>\n",
              "      <td>Southern Queensland Institute of TAFE</td>\n",
              "      <td>Delivery (teaching)</td>\n",
              "      <td>2010.0</td>\n",
              "      <td>Resignation</td>\n",
              "      <td>-</td>\n",
              "      <td>Career Move - Private Sector</td>\n",
              "      <td>-</td>\n",
              "      <td>-</td>\n",
              "      <td>-</td>\n",
              "      <td>-</td>\n",
              "      <td>-</td>\n",
              "      <td>-</td>\n",
              "      <td>-</td>\n",
              "      <td>-</td>\n",
              "      <td>-</td>\n",
              "      <td>-</td>\n",
              "      <td>NaN</td>\n",
              "      <td>Agree</td>\n",
              "      <td>Agree</td>\n",
              "      <td>Strongly Agree</td>\n",
              "      <td>Agree</td>\n",
              "      <td>Strongly Agree</td>\n",
              "      <td>Strongly Agree</td>\n",
              "      <td>Strongly Agree</td>\n",
              "      <td>Strongly Agree</td>\n",
              "      <td>Agree</td>\n",
              "      <td>Strongly Agree</td>\n",
              "      <td>Strongly Agree</td>\n",
              "      <td>Agree</td>\n",
              "      <td>Strongly Agree</td>\n",
              "      <td>Strongly Agree</td>\n",
              "      <td>Strongly Agree</td>\n",
              "      <td>Strongly Agree</td>\n",
              "      <td>Strongly Agree</td>\n",
              "      <td>Strongly Agree</td>\n",
              "      <td>Strongly Agree</td>\n",
              "      <td>Strongly Agree</td>\n",
              "      <td>Strongly Agree</td>\n",
              "      <td>Strongly Agree</td>\n",
              "      <td>Strongly Agree</td>\n",
              "      <td>Strongly Agree</td>\n",
              "      <td>Strongly Agree</td>\n",
              "      <td>Strongly Agree</td>\n",
              "      <td>Strongly Agree</td>\n",
              "      <td>Strongly Agree</td>\n",
              "      <td>Strongly Agree</td>\n",
              "      <td>Strongly Agree</td>\n",
              "      <td>Yes</td>\n",
              "      <td>Yes</td>\n",
              "      <td>Yes</td>\n",
              "      <td>Yes</td>\n",
              "      <td>-</td>\n",
              "      <td>-</td>\n",
              "      <td>Induction Manual</td>\n",
              "      <td>Face to Face</td>\n",
              "      <td>-</td>\n",
              "      <td>-</td>\n",
              "      <td>Face to Face</td>\n",
              "      <td>-</td>\n",
              "      <td>-</td>\n",
              "      <td>Yes</td>\n",
              "      <td>Yes</td>\n",
              "      <td>Yes</td>\n",
              "      <td>Yes</td>\n",
              "      <td>Yes</td>\n",
              "      <td>Male</td>\n",
              "      <td>41 – 45</td>\n",
              "      <td>Permanent Full-time</td>\n",
              "      <td>Teacher (including LVT)</td>\n",
              "      <td>3-4</td>\n",
              "      <td>3-4</td>\n",
              "    </tr>\n",
              "  </tbody>\n",
              "</table>\n",
              "</div>"
            ],
            "text/plain": [
              "            Record ID  ... LengthofServiceCurrent. Length of Service at current workplace (in years)\n",
              "0  634133009996094000  ...                                                1-2                       \n",
              "1  634133654064531000  ...                                                NaN                       \n",
              "2  634138845606563000  ...                                                NaN                       \n",
              "3  634139903350000000  ...                                                NaN                       \n",
              "4  634146578511788000  ...                                                3-4                       \n",
              "\n",
              "[5 rows x 72 columns]"
            ]
          },
          "metadata": {
            "tags": []
          },
          "execution_count": 23
        }
      ]
    },
    {
      "cell_type": "code",
      "metadata": {
        "scrolled": true,
        "id": "nUdZwrp6Mxk1",
        "colab_type": "code",
        "colab": {
          "base_uri": "https://localhost:8080/",
          "height": 34
        },
        "outputId": "7ad58633-14d1-40f9-8e2e-bdcdd3a5d601"
      },
      "source": [
        "tafe_survey.shape"
      ],
      "execution_count": 24,
      "outputs": [
        {
          "output_type": "execute_result",
          "data": {
            "text/plain": [
              "(702, 72)"
            ]
          },
          "metadata": {
            "tags": []
          },
          "execution_count": 24
        }
      ]
    },
    {
      "cell_type": "code",
      "metadata": {
        "scrolled": false,
        "id": "MkockHkkMxk4",
        "colab_type": "code",
        "colab": {
          "base_uri": "https://localhost:8080/",
          "height": 218
        },
        "outputId": "5ae38a89-f310-4ca5-defe-4ad5da6ed68f"
      },
      "source": [
        "tafe_survey.isnull().sum().sort_values() "
      ],
      "execution_count": 25,
      "outputs": [
        {
          "output_type": "execute_result",
          "data": {
            "text/plain": [
              "Record ID                                                             0\n",
              "Institute                                                             0\n",
              "WorkArea                                                              0\n",
              "Reason for ceasing employment                                         1\n",
              "CESSATION YEAR                                                        7\n",
              "                                                                   ... \n",
              "Contributing Factors. Career Move - Public Sector                   265\n",
              "Contributing Factors. Maternity/Family                              265\n",
              "Contributing Factors. Ill Health                                    265\n",
              "InductionInfo. Topic:Did you undertake a Corporate Induction?       270\n",
              "Main Factor.     Which of these was the main factor for leaving?    589\n",
              "Length: 72, dtype: int64"
            ]
          },
          "metadata": {
            "tags": []
          },
          "execution_count": 25
        }
      ]
    },
    {
      "cell_type": "markdown",
      "metadata": {
        "id": "VfN6PpX6Mxk6",
        "colab_type": "text"
      },
      "source": [
        "From our work in the previous screen, we can first make the following observations:\n",
        "\n",
        "- The dete_survey dataframe contains 'Not Stated' values that indicate values are missing, but they aren't represented as NaN.\n",
        "- Both the dete_survey and tafe_survey dataframes contain many columns that we don't need to complete our analysis.\n",
        "- Each dataframe contains many of the same columns, but the column names are different.\n",
        "- There are multiple columns/answers that indicate an employee resigned because they were dissatisfied"
      ]
    },
    {
      "cell_type": "code",
      "metadata": {
        "id": "UiGJBAIOMxk6",
        "colab_type": "code",
        "colab": {}
      },
      "source": [
        "dete_survey = pd.read_csv('dete_survey.csv', na_values = 'Not Stated') "
      ],
      "execution_count": 0,
      "outputs": []
    },
    {
      "cell_type": "code",
      "metadata": {
        "id": "2Sysq0IoMxk8",
        "colab_type": "code",
        "colab": {}
      },
      "source": [
        "# Then, let's drop some columns from each dataframe that we won't use in our analysis to make the dataframes easier to work with\n",
        "dete_survey_updated = dete_survey.drop(dete_survey.columns[28:49],axis = 1) \n",
        "tafe_survey_updated = tafe_survey.drop(tafe_survey.columns[17:66],axis =1)"
      ],
      "execution_count": 0,
      "outputs": []
    },
    {
      "cell_type": "code",
      "metadata": {
        "id": "JE9224u7Mxk-",
        "colab_type": "code",
        "outputId": "89328112-95b8-4c10-d29b-b266524bcd56",
        "colab": {
          "base_uri": "https://localhost:8080/",
          "height": 50
        }
      },
      "source": [
        "print(dete_survey_updated.shape)\n",
        "print(dete_survey.shape)"
      ],
      "execution_count": 28,
      "outputs": [
        {
          "output_type": "stream",
          "text": [
            "(822, 35)\n",
            "(822, 56)\n"
          ],
          "name": "stdout"
        }
      ]
    },
    {
      "cell_type": "code",
      "metadata": {
        "id": "xnGh4gzZMxlA",
        "colab_type": "code",
        "outputId": "a43fc328-d1ca-4988-df40-4e4865d0124b",
        "colab": {
          "base_uri": "https://localhost:8080/",
          "height": 50
        }
      },
      "source": [
        "print(tafe_survey_updated.shape)\n",
        "print(tafe_survey.shape)"
      ],
      "execution_count": 29,
      "outputs": [
        {
          "output_type": "stream",
          "text": [
            "(702, 23)\n",
            "(702, 72)\n"
          ],
          "name": "stdout"
        }
      ]
    },
    {
      "cell_type": "markdown",
      "metadata": {
        "id": "pd0ujB_0MxlC",
        "colab_type": "text"
      },
      "source": [
        "### Lets check out the columns that are relevant for our analysis and clean their labels. "
      ]
    },
    {
      "cell_type": "code",
      "metadata": {
        "id": "xqyc933KMxlC",
        "colab_type": "code",
        "colab": {}
      },
      "source": [
        "dete_survey_updated.columns = dete_survey_updated.columns.str.lower().str.strip().str.replace(' ', '_')\n"
      ],
      "execution_count": 0,
      "outputs": []
    },
    {
      "cell_type": "code",
      "metadata": {
        "id": "dOfJ87DcMxlE",
        "colab_type": "code",
        "colab": {}
      },
      "source": [
        "tafe_survey_updated = tafe_survey_updated.rename({'Record ID': 'id','CESSATION YEAR': 'cease_date',\n",
        "'Reason for ceasing employment': 'separationtype',\n",
        "'Gender. What is your Gender?': 'gender',\n",
        "'CurrentAge. Current Age': 'age',\n",
        "'Employment Type. Employment Type': 'employment_status',\n",
        "'Classification. Classification': 'position',\n",
        "'LengthofServiceOverall. Overall Length of Service at Institute (in years)': 'institute_service',\n",
        "'LengthofServiceCurrent. Length of Service at current workplace (in years)': 'role_service'},axis = 1)"
      ],
      "execution_count": 0,
      "outputs": []
    },
    {
      "cell_type": "code",
      "metadata": {
        "id": "8OAXAJV-MxlG",
        "colab_type": "code",
        "outputId": "c1e05823-35a3-4727-a783-bb4c8c1d569d",
        "colab": {
          "base_uri": "https://localhost:8080/",
          "height": 218
        }
      },
      "source": [
        "# Let us check if the changes have been implemented. \n",
        "dete_survey_updated.columns"
      ],
      "execution_count": 32,
      "outputs": [
        {
          "output_type": "execute_result",
          "data": {
            "text/plain": [
              "Index(['id', 'separationtype', 'cease_date', 'dete_start_date',\n",
              "       'role_start_date', 'position', 'classification', 'region',\n",
              "       'business_unit', 'employment_status', 'career_move_to_public_sector',\n",
              "       'career_move_to_private_sector', 'interpersonal_conflicts',\n",
              "       'job_dissatisfaction', 'dissatisfaction_with_the_department',\n",
              "       'physical_work_environment', 'lack_of_recognition',\n",
              "       'lack_of_job_security', 'work_location', 'employment_conditions',\n",
              "       'maternity/family', 'relocation', 'study/travel', 'ill_health',\n",
              "       'traumatic_incident', 'work_life_balance', 'workload',\n",
              "       'none_of_the_above', 'gender', 'age', 'aboriginal', 'torres_strait',\n",
              "       'south_sea', 'disability', 'nesb'],\n",
              "      dtype='object')"
            ]
          },
          "metadata": {
            "tags": []
          },
          "execution_count": 32
        }
      ]
    },
    {
      "cell_type": "code",
      "metadata": {
        "id": "FvfqJOI1MxlI",
        "colab_type": "code",
        "outputId": "b49f808d-6897-4ed3-9795-812e251c6fc0",
        "colab": {
          "base_uri": "https://localhost:8080/",
          "height": 286
        }
      },
      "source": [
        "tafe_survey_updated.columns"
      ],
      "execution_count": 33,
      "outputs": [
        {
          "output_type": "execute_result",
          "data": {
            "text/plain": [
              "Index(['id', 'Institute', 'WorkArea', 'cease_date', 'separationtype',\n",
              "       'Contributing Factors. Career Move - Public Sector ',\n",
              "       'Contributing Factors. Career Move - Private Sector ',\n",
              "       'Contributing Factors. Career Move - Self-employment',\n",
              "       'Contributing Factors. Ill Health',\n",
              "       'Contributing Factors. Maternity/Family',\n",
              "       'Contributing Factors. Dissatisfaction',\n",
              "       'Contributing Factors. Job Dissatisfaction',\n",
              "       'Contributing Factors. Interpersonal Conflict',\n",
              "       'Contributing Factors. Study', 'Contributing Factors. Travel',\n",
              "       'Contributing Factors. Other', 'Contributing Factors. NONE',\n",
              "       'Gender.     What is your Gender?', 'CurrentAge.     Current Age',\n",
              "       'Employment Type.     Employment Type',\n",
              "       'Classification.     Classification', 'institute_service',\n",
              "       'role_service'],\n",
              "      dtype='object')"
            ]
          },
          "metadata": {
            "tags": []
          },
          "execution_count": 33
        }
      ]
    },
    {
      "cell_type": "markdown",
      "metadata": {
        "id": "HqpNq9m9MxlK",
        "colab_type": "text"
      },
      "source": [
        "### Filtering the data based on the Separation type. We are focusing on the type - Resignation"
      ]
    },
    {
      "cell_type": "code",
      "metadata": {
        "id": "kgNxCWbyMxlK",
        "colab_type": "code",
        "outputId": "7ee5ce12-dc1d-48af-d68e-fd714733a6a9",
        "colab": {
          "base_uri": "https://localhost:8080/",
          "height": 185
        }
      },
      "source": [
        "dete_survey_updated['separationtype'].value_counts() "
      ],
      "execution_count": 34,
      "outputs": [
        {
          "output_type": "execute_result",
          "data": {
            "text/plain": [
              "Age Retirement                          285\n",
              "Resignation-Other reasons               150\n",
              "Resignation-Other employer               91\n",
              "Resignation-Move overseas/interstate     70\n",
              "Voluntary Early Retirement (VER)         67\n",
              "Ill Health Retirement                    61\n",
              "Other                                    49\n",
              "Contract Expired                         34\n",
              "Termination                              15\n",
              "Name: separationtype, dtype: int64"
            ]
          },
          "metadata": {
            "tags": []
          },
          "execution_count": 34
        }
      ]
    },
    {
      "cell_type": "code",
      "metadata": {
        "id": "bP_Edx1hMxlM",
        "colab_type": "code",
        "outputId": "a1261566-94e2-44d2-b8b6-35abd303ad54",
        "colab": {
          "base_uri": "https://localhost:8080/",
          "height": 134
        }
      },
      "source": [
        "tafe_survey_updated['separationtype'].value_counts() "
      ],
      "execution_count": 35,
      "outputs": [
        {
          "output_type": "execute_result",
          "data": {
            "text/plain": [
              "Resignation                 340\n",
              "Contract Expired            127\n",
              "Retrenchment/ Redundancy    104\n",
              "Retirement                   82\n",
              "Transfer                     25\n",
              "Termination                  23\n",
              "Name: separationtype, dtype: int64"
            ]
          },
          "metadata": {
            "tags": []
          },
          "execution_count": 35
        }
      ]
    },
    {
      "cell_type": "code",
      "metadata": {
        "id": "8dR2jWaOMxlN",
        "colab_type": "code",
        "colab": {}
      },
      "source": [
        "dete_survey_updated['separationtype'] = dete_survey_updated['separationtype'].str.split('-').str[0]"
      ],
      "execution_count": 0,
      "outputs": []
    },
    {
      "cell_type": "code",
      "metadata": {
        "id": "jQS9n-RDMxlP",
        "colab_type": "code",
        "outputId": "4c0bbd58-ddc0-46cd-8c0d-8bf86f6b5b5b",
        "colab": {
          "base_uri": "https://localhost:8080/",
          "height": 151
        }
      },
      "source": [
        "dete_survey_updated['separationtype'].value_counts() "
      ],
      "execution_count": 37,
      "outputs": [
        {
          "output_type": "execute_result",
          "data": {
            "text/plain": [
              "Resignation                         311\n",
              "Age Retirement                      285\n",
              "Voluntary Early Retirement (VER)     67\n",
              "Ill Health Retirement                61\n",
              "Other                                49\n",
              "Contract Expired                     34\n",
              "Termination                          15\n",
              "Name: separationtype, dtype: int64"
            ]
          },
          "metadata": {
            "tags": []
          },
          "execution_count": 37
        }
      ]
    },
    {
      "cell_type": "code",
      "metadata": {
        "id": "OY8XZQZWMxlS",
        "colab_type": "code",
        "colab": {}
      },
      "source": [
        "dete_resignations = dete_survey_updated[dete_survey_updated['separationtype'] == 'Resignation']"
      ],
      "execution_count": 0,
      "outputs": []
    },
    {
      "cell_type": "code",
      "metadata": {
        "id": "Q1J9ipltMxlT",
        "colab_type": "code",
        "colab": {}
      },
      "source": [
        "tafe_resignations = tafe_survey_updated[tafe_survey_updated['separationtype']=='Resignation']"
      ],
      "execution_count": 0,
      "outputs": []
    },
    {
      "cell_type": "markdown",
      "metadata": {
        "id": "nzzKd2icMxlV",
        "colab_type": "text"
      },
      "source": [
        "### Veriying the data"
      ]
    },
    {
      "cell_type": "markdown",
      "metadata": {
        "collapsed": true,
        "id": "Bmn_KSpxMxlV",
        "colab_type": "text"
      },
      "source": [
        "In this step, we'll focus on verifying that the years in the cease_date and dete_start_date columns make sense. However, we encourage you to check the data for other issues as well!"
      ]
    },
    {
      "cell_type": "code",
      "metadata": {
        "id": "gdKhJnlvMxlW",
        "colab_type": "code",
        "colab": {
          "base_uri": "https://localhost:8080/",
          "height": 302
        },
        "outputId": "0ace797b-1ad3-4a47-ac12-353484b9d459"
      },
      "source": [
        "dete_resignations['cease_date'].value_counts() "
      ],
      "execution_count": 40,
      "outputs": [
        {
          "output_type": "execute_result",
          "data": {
            "text/plain": [
              "2012       126\n",
              "2013        74\n",
              "01/2014     22\n",
              "12/2013     17\n",
              "06/2013     14\n",
              "09/2013     11\n",
              "11/2013      9\n",
              "07/2013      9\n",
              "10/2013      6\n",
              "08/2013      4\n",
              "05/2012      2\n",
              "05/2013      2\n",
              "07/2006      1\n",
              "2010         1\n",
              "09/2010      1\n",
              "07/2012      1\n",
              "Name: cease_date, dtype: int64"
            ]
          },
          "metadata": {
            "tags": []
          },
          "execution_count": 40
        }
      ]
    },
    {
      "cell_type": "code",
      "metadata": {
        "id": "PyNinidTOguP",
        "colab_type": "code",
        "colab": {}
      },
      "source": [
        "# To get the years alone from the above data. \n",
        "dete_resignations['cease_date'] = dete_resignations['cease_date'].str.split('/').str[-1]"
      ],
      "execution_count": 0,
      "outputs": []
    },
    {
      "cell_type": "code",
      "metadata": {
        "id": "4otlwMIhO8yV",
        "colab_type": "code",
        "colab": {}
      },
      "source": [
        "dete_resignations['cease_date'] = dete_resignations['cease_date'].astype('float')"
      ],
      "execution_count": 0,
      "outputs": []
    },
    {
      "cell_type": "code",
      "metadata": {
        "id": "fvs6l2LFPEOk",
        "colab_type": "code",
        "colab": {
          "base_uri": "https://localhost:8080/",
          "height": 118
        },
        "outputId": "c3dc2a0f-5103-4fcd-b723-1900dee04488"
      },
      "source": [
        "dete_resignations['cease_date'].value_counts() "
      ],
      "execution_count": 44,
      "outputs": [
        {
          "output_type": "execute_result",
          "data": {
            "text/plain": [
              "2013.0    146\n",
              "2012.0    129\n",
              "2014.0     22\n",
              "2010.0      2\n",
              "2006.0      1\n",
              "Name: cease_date, dtype: int64"
            ]
          },
          "metadata": {
            "tags": []
          },
          "execution_count": 44
        }
      ]
    },
    {
      "cell_type": "code",
      "metadata": {
        "id": "0uKbICP6PGmC",
        "colab_type": "code",
        "colab": {
          "base_uri": "https://localhost:8080/",
          "height": 722
        },
        "outputId": "940de0a6-28c7-4c69-fc20-80c47d3b3fbf"
      },
      "source": [
        "dete_resignations['dete_start_date'].value_counts()"
      ],
      "execution_count": 45,
      "outputs": [
        {
          "output_type": "execute_result",
          "data": {
            "text/plain": [
              "2011.0    24\n",
              "2008.0    22\n",
              "2007.0    21\n",
              "2012.0    21\n",
              "2010.0    17\n",
              "2005.0    15\n",
              "2004.0    14\n",
              "2009.0    13\n",
              "2006.0    13\n",
              "2013.0    10\n",
              "2000.0     9\n",
              "1999.0     8\n",
              "1996.0     6\n",
              "2002.0     6\n",
              "1992.0     6\n",
              "1998.0     6\n",
              "2003.0     6\n",
              "1994.0     6\n",
              "1993.0     5\n",
              "1990.0     5\n",
              "1980.0     5\n",
              "1997.0     5\n",
              "1991.0     4\n",
              "1989.0     4\n",
              "1988.0     4\n",
              "1995.0     4\n",
              "2001.0     3\n",
              "1985.0     3\n",
              "1986.0     3\n",
              "1983.0     2\n",
              "1976.0     2\n",
              "1974.0     2\n",
              "1971.0     1\n",
              "1972.0     1\n",
              "1984.0     1\n",
              "1982.0     1\n",
              "1987.0     1\n",
              "1975.0     1\n",
              "1973.0     1\n",
              "1977.0     1\n",
              "1963.0     1\n",
              "Name: dete_start_date, dtype: int64"
            ]
          },
          "metadata": {
            "tags": []
          },
          "execution_count": 45
        }
      ]
    },
    {
      "cell_type": "code",
      "metadata": {
        "id": "xtLqToWAPbEj",
        "colab_type": "code",
        "colab": {
          "base_uri": "https://localhost:8080/",
          "height": 118
        },
        "outputId": "d755d037-5c9a-4d57-fa17-4a4e38fcca93"
      },
      "source": [
        "tafe_resignations['cease_date'].value_counts()"
      ],
      "execution_count": 46,
      "outputs": [
        {
          "output_type": "execute_result",
          "data": {
            "text/plain": [
              "2011.0    116\n",
              "2012.0     94\n",
              "2010.0     68\n",
              "2013.0     55\n",
              "2009.0      2\n",
              "Name: cease_date, dtype: int64"
            ]
          },
          "metadata": {
            "tags": []
          },
          "execution_count": 46
        }
      ]
    },
    {
      "cell_type": "markdown",
      "metadata": {
        "id": "uqXRX1L5PhXf",
        "colab_type": "text"
      },
      "source": [
        "From the work we did in the last screen, we can verify:\n",
        "\n",
        "- There aren't any major issues with the years.\n",
        "- The years in each dataframe don't span quite the same number of years. We'll leave it up to your discretion to drop any years you don't think are needed for the analysis."
      ]
    },
    {
      "cell_type": "markdown",
      "metadata": {
        "id": "gi3dllVPPsbL",
        "colab_type": "text"
      },
      "source": [
        " **Are employees who have only worked for the institutes for a short period of time resigning due to some kind of dissatisfaction? What about employees who have been at the job longer?**"
      ]
    },
    {
      "cell_type": "code",
      "metadata": {
        "id": "0Y-1peOwQV1s",
        "colab_type": "code",
        "colab": {}
      },
      "source": [
        "dete_resignations['institute_service'] = dete_resignations['cease_date'] - dete_resignations['dete_start_date']"
      ],
      "execution_count": 0,
      "outputs": []
    },
    {
      "cell_type": "markdown",
      "metadata": {
        "id": "lwJ-ltZ8Qu5V",
        "colab_type": "text"
      },
      "source": [
        "### We created a new institute_service column that we'll use to analyze survey respondents according to their length of employment. Next, we'll identify any employees who resigned because they were dissatisfied.\n",
        "\n",
        "below are the columns we'll use to categorize employees as \"dissatisfied\" from each dataframe. If you disagree, feel free to modify them! Just make sure you explain why you made that decision.\n",
        "\n",
        "tafe_survey_updated:<br>\n",
        "Contributing Factors. Dissatisfaction<br>\n",
        "Contributing Factors. Job Dissatisfaction<br>\n",
        "detesurveyupdated:<br>\n",
        "job_dissatisfaction<br>\n",
        "dissatisfaction_with_the_department<br>\n",
        "physical_work_environment<br>\n",
        "lack_of_recognition<br>\n",
        "lack_of_job_security<br>\n",
        "work_location<br>\n",
        "employment_conditions<br>\n",
        "work_life_balance<br>\n",
        "workload<br>\n",
        "If the employee indicated any of the factors above caused them to resign, we'll mark them as dissatisfied in a new column."
      ]
    },
    {
      "cell_type": "code",
      "metadata": {
        "id": "Jz1_UnbnQ3SC",
        "colab_type": "code",
        "colab": {
          "base_uri": "https://localhost:8080/",
          "height": 67
        },
        "outputId": "7fbeea77-df11-4977-a8a8-7bec55a2e403"
      },
      "source": [
        "tafe_resignations['Contributing Factors. Dissatisfaction'].value_counts() "
      ],
      "execution_count": 50,
      "outputs": [
        {
          "output_type": "execute_result",
          "data": {
            "text/plain": [
              "-                                         277\n",
              "Contributing Factors. Dissatisfaction      55\n",
              "Name: Contributing Factors. Dissatisfaction, dtype: int64"
            ]
          },
          "metadata": {
            "tags": []
          },
          "execution_count": 50
        }
      ]
    },
    {
      "cell_type": "code",
      "metadata": {
        "id": "iiF1q8cXSXow",
        "colab_type": "code",
        "colab": {
          "base_uri": "https://localhost:8080/",
          "height": 67
        },
        "outputId": "796996e3-d4cf-4915-a1d7-e9e99826f78d"
      },
      "source": [
        "tafe_resignations['Contributing Factors. Job Dissatisfaction'].value_counts() "
      ],
      "execution_count": 51,
      "outputs": [
        {
          "output_type": "execute_result",
          "data": {
            "text/plain": [
              "-                      270\n",
              "Job Dissatisfaction     62\n",
              "Name: Contributing Factors. Job Dissatisfaction, dtype: int64"
            ]
          },
          "metadata": {
            "tags": []
          },
          "execution_count": 51
        }
      ]
    },
    {
      "cell_type": "code",
      "metadata": {
        "id": "MFvgIuijShp0",
        "colab_type": "code",
        "colab": {}
      },
      "source": [
        "def update_value(x): \n",
        "    if x =='-': \n",
        "        return False\n",
        "    elif pd.isnull(x): \n",
        "        return np.nan\n",
        "    else: \n",
        "        return True"
      ],
      "execution_count": 0,
      "outputs": []
    },
    {
      "cell_type": "code",
      "metadata": {
        "id": "YQlBEoHTTLqA",
        "colab_type": "code",
        "colab": {}
      },
      "source": [
        "tafe_resignations['dissatisfied'] = tafe_resignations[['Contributing Factors. Dissatisfaction', 'Contributing Factors. Job Dissatisfaction']].applymap(update_value).any(1, skipna=False)\n",
        "tafe_resignations_up = tafe_resignations.copy()"
      ],
      "execution_count": 0,
      "outputs": []
    },
    {
      "cell_type": "code",
      "metadata": {
        "id": "KnLoj2CHTQdz",
        "colab_type": "code",
        "colab": {
          "base_uri": "https://localhost:8080/",
          "height": 188
        },
        "outputId": "73630547-7ddd-4736-9a93-78d610b3a680"
      },
      "source": [
        "dete_resignations['dissatisfied'] = dete_resignations[['job_dissatisfaction',\n",
        "       'dissatisfaction_with_the_department', 'physical_work_environment',\n",
        "       'lack_of_recognition', 'lack_of_job_security', 'work_location',\n",
        "       'employment_conditions', 'work_life_balance',\n",
        "       'workload']].any(1, skipna=False)\n",
        "dete_resignations_up = dete_resignations.copy()\n",
        "dete_resignations_up['dissatisfied'].value_counts(dropna=False)"
      ],
      "execution_count": 56,
      "outputs": [
        {
          "output_type": "stream",
          "text": [
            "/usr/local/lib/python3.6/dist-packages/ipykernel_launcher.py:5: SettingWithCopyWarning: \n",
            "A value is trying to be set on a copy of a slice from a DataFrame.\n",
            "Try using .loc[row_indexer,col_indexer] = value instead\n",
            "\n",
            "See the caveats in the documentation: https://pandas.pydata.org/pandas-docs/stable/user_guide/indexing.html#returning-a-view-versus-a-copy\n",
            "  \"\"\"\n"
          ],
          "name": "stderr"
        },
        {
          "output_type": "execute_result",
          "data": {
            "text/plain": [
              "False    162\n",
              "True     149\n",
              "Name: dissatisfied, dtype: int64"
            ]
          },
          "metadata": {
            "tags": []
          },
          "execution_count": 56
        }
      ]
    },
    {
      "cell_type": "markdown",
      "metadata": {
        "id": "cKjNqBuSTZAZ",
        "colab_type": "text"
      },
      "source": [
        "To recap, we've accomplished the following:\n",
        "\n",
        "- Renamed our columns\n",
        "- Dropped any data not needed for our analysis\n",
        "- Verified the quality of our data\n",
        "- Created a new institute_service column\n",
        "- Cleaned the Contributing Factors columns\n",
        "- Created a new column indicating if an employee resigned because they were dissatisfied in some way"
      ]
    },
    {
      "cell_type": "markdown",
      "metadata": {
        "id": "UUh5soY6ToWO",
        "colab_type": "text"
      },
      "source": [
        "### Lets combine the data now "
      ]
    },
    {
      "cell_type": "code",
      "metadata": {
        "id": "PDHAuaPiT1Ii",
        "colab_type": "code",
        "colab": {}
      },
      "source": [
        "dete_resignations_up['institute'] = 'DETE'\n",
        "tafe_resignations_up['institute'] = 'TAFE'"
      ],
      "execution_count": 0,
      "outputs": []
    },
    {
      "cell_type": "code",
      "metadata": {
        "id": "XSpciniUUF8n",
        "colab_type": "code",
        "colab": {}
      },
      "source": [
        "# lets combine the two datasets \n",
        "combined = pd.concat([dete_resignations, tafe_resignations], ignore_index= True)"
      ],
      "execution_count": 0,
      "outputs": []
    },
    {
      "cell_type": "code",
      "metadata": {
        "id": "GMGOAyGvWwMp",
        "colab_type": "code",
        "colab": {
          "base_uri": "https://localhost:8080/",
          "height": 974
        },
        "outputId": "6f53e088-8ffb-4484-b79b-3fb84abb2dba"
      },
      "source": [
        "combined.notnull().sum().sort_values(ascending = True)"
      ],
      "execution_count": 61,
      "outputs": [
        {
          "output_type": "execute_result",
          "data": {
            "text/plain": [
              "torres_strait                                            0\n",
              "south_sea                                                3\n",
              "aboriginal                                               7\n",
              "disability                                               8\n",
              "nesb                                                     9\n",
              "business_unit                                           32\n",
              "classification                                         161\n",
              "region                                                 265\n",
              "role_start_date                                        271\n",
              "dete_start_date                                        283\n",
              "Classification.     Classification                     290\n",
              "role_service                                           290\n",
              "Gender.     What is your Gender?                       290\n",
              "CurrentAge.     Current Age                            290\n",
              "Employment Type.     Employment Type                   290\n",
              "gender                                                 302\n",
              "age                                                    306\n",
              "employment_status                                      307\n",
              "position                                               308\n",
              "workload                                               311\n",
              "work_life_balance                                      311\n",
              "traumatic_incident                                     311\n",
              "ill_health                                             311\n",
              "none_of_the_above                                      311\n",
              "relocation                                             311\n",
              "study/travel                                           311\n",
              "career_move_to_public_sector                           311\n",
              "career_move_to_private_sector                          311\n",
              "job_dissatisfaction                                    311\n",
              "dissatisfaction_with_the_department                    311\n",
              "interpersonal_conflicts                                311\n",
              "lack_of_recognition                                    311\n",
              "lack_of_job_security                                   311\n",
              "work_location                                          311\n",
              "employment_conditions                                  311\n",
              "maternity/family                                       311\n",
              "physical_work_environment                              311\n",
              "Contributing Factors. Job Dissatisfaction              332\n",
              "Contributing Factors. NONE                             332\n",
              "Contributing Factors. Other                            332\n",
              "Contributing Factors. Travel                           332\n",
              "Contributing Factors. Study                            332\n",
              "Contributing Factors. Interpersonal Conflict           332\n",
              "Contributing Factors. Dissatisfaction                  332\n",
              "Contributing Factors. Career Move - Public Sector      332\n",
              "Contributing Factors. Ill Health                       332\n",
              "Contributing Factors. Career Move - Self-employment    332\n",
              "Contributing Factors. Career Move - Private Sector     332\n",
              "Contributing Factors. Maternity/Family                 332\n",
              "WorkArea                                               340\n",
              "Institute                                              340\n",
              "institute_service                                      563\n",
              "cease_date                                             635\n",
              "dissatisfied                                           643\n",
              "separationtype                                         651\n",
              "id                                                     651\n",
              "dtype: int64"
            ]
          },
          "metadata": {
            "tags": []
          },
          "execution_count": 61
        }
      ]
    },
    {
      "cell_type": "code",
      "metadata": {
        "id": "GKzApqd3W21C",
        "colab_type": "code",
        "colab": {}
      },
      "source": [
        "combined = combined.dropna(axis = 1 , thresh = 500 )"
      ],
      "execution_count": 0,
      "outputs": []
    },
    {
      "cell_type": "code",
      "metadata": {
        "id": "VZaea8HEXiNP",
        "colab_type": "code",
        "colab": {}
      },
      "source": [
        "combined_updated = combined.copy()"
      ],
      "execution_count": 0,
      "outputs": []
    },
    {
      "cell_type": "markdown",
      "metadata": {
        "id": "xJZ0Nd5DXnma",
        "colab_type": "text"
      },
      "source": [
        "we're finally ready with our combined datasets! Our end goal is to aggregate the data according to the institute_service column, so when you combine the data, think about how to get the data into a form that's easy to aggregate."
      ]
    },
    {
      "cell_type": "code",
      "metadata": {
        "id": "eZE5XDJ5XyAP",
        "colab_type": "code",
        "colab": {
          "base_uri": "https://localhost:8080/",
          "height": 857
        },
        "outputId": "a1c09c11-d573-4b08-d1ac-9bdaf2afcc97"
      },
      "source": [
        "combined_updated['institute_service'].value_counts() "
      ],
      "execution_count": 65,
      "outputs": [
        {
          "output_type": "execute_result",
          "data": {
            "text/plain": [
              "Less than 1 year      73\n",
              "1-2                   64\n",
              "3-4                   63\n",
              "5-6                   33\n",
              "11-20                 26\n",
              "5.0                   23\n",
              "1.0                   22\n",
              "7-10                  21\n",
              "3.0                   20\n",
              "0.0                   20\n",
              "6.0                   17\n",
              "4.0                   16\n",
              "9.0                   14\n",
              "2.0                   14\n",
              "7.0                   13\n",
              "More than 20 years    10\n",
              "13.0                   8\n",
              "8.0                    8\n",
              "20.0                   7\n",
              "15.0                   7\n",
              "14.0                   6\n",
              "17.0                   6\n",
              "12.0                   6\n",
              "10.0                   6\n",
              "22.0                   6\n",
              "18.0                   5\n",
              "16.0                   5\n",
              "24.0                   4\n",
              "23.0                   4\n",
              "11.0                   4\n",
              "39.0                   3\n",
              "19.0                   3\n",
              "21.0                   3\n",
              "32.0                   3\n",
              "25.0                   2\n",
              "26.0                   2\n",
              "36.0                   2\n",
              "28.0                   2\n",
              "30.0                   2\n",
              "42.0                   1\n",
              "49.0                   1\n",
              "35.0                   1\n",
              "34.0                   1\n",
              "38.0                   1\n",
              "33.0                   1\n",
              "29.0                   1\n",
              "27.0                   1\n",
              "41.0                   1\n",
              "31.0                   1\n",
              "Name: institute_service, dtype: int64"
            ]
          },
          "metadata": {
            "tags": []
          },
          "execution_count": 65
        }
      ]
    },
    {
      "cell_type": "code",
      "metadata": {
        "id": "wET8rdccX_1_",
        "colab_type": "code",
        "colab": {}
      },
      "source": [
        "combined_updated['institute_service']=combined_updated['institute_service'].astype(str)"
      ],
      "execution_count": 0,
      "outputs": []
    },
    {
      "cell_type": "code",
      "metadata": {
        "id": "avpp6FdoYNo_",
        "colab_type": "code",
        "colab": {}
      },
      "source": [
        "combined_updated['institute_service_up'] = combined_updated['institute_service'].str.extract(r'(\\d+)')"
      ],
      "execution_count": 0,
      "outputs": []
    },
    {
      "cell_type": "code",
      "metadata": {
        "id": "JuBtJMBiYalW",
        "colab_type": "code",
        "colab": {}
      },
      "source": [
        "combined_updated['institute_service_up'] = combined_updated['institute_service_up'].astype('float')"
      ],
      "execution_count": 0,
      "outputs": []
    },
    {
      "cell_type": "code",
      "metadata": {
        "id": "xkXnaJeNYc0E",
        "colab_type": "code",
        "colab": {
          "base_uri": "https://localhost:8080/",
          "height": 739
        },
        "outputId": "28ff4169-e495-478d-98bb-b144225d77db"
      },
      "source": [
        "# Check the years extracted are correct\n",
        "combined_updated['institute_service_up'].value_counts()"
      ],
      "execution_count": 69,
      "outputs": [
        {
          "output_type": "execute_result",
          "data": {
            "text/plain": [
              "1.0     159\n",
              "3.0      83\n",
              "5.0      56\n",
              "7.0      34\n",
              "11.0     30\n",
              "0.0      20\n",
              "20.0     17\n",
              "6.0      17\n",
              "4.0      16\n",
              "9.0      14\n",
              "2.0      14\n",
              "13.0      8\n",
              "8.0       8\n",
              "15.0      7\n",
              "17.0      6\n",
              "10.0      6\n",
              "12.0      6\n",
              "14.0      6\n",
              "22.0      6\n",
              "16.0      5\n",
              "18.0      5\n",
              "24.0      4\n",
              "23.0      4\n",
              "39.0      3\n",
              "19.0      3\n",
              "21.0      3\n",
              "32.0      3\n",
              "28.0      2\n",
              "36.0      2\n",
              "25.0      2\n",
              "30.0      2\n",
              "26.0      2\n",
              "29.0      1\n",
              "38.0      1\n",
              "42.0      1\n",
              "27.0      1\n",
              "41.0      1\n",
              "35.0      1\n",
              "49.0      1\n",
              "34.0      1\n",
              "33.0      1\n",
              "31.0      1\n",
              "Name: institute_service_up, dtype: int64"
            ]
          },
          "metadata": {
            "tags": []
          },
          "execution_count": 69
        }
      ]
    },
    {
      "cell_type": "code",
      "metadata": {
        "id": "6geIGMLDYelS",
        "colab_type": "code",
        "colab": {}
      },
      "source": [
        "def transform_service(val): \n",
        "    if val > 11: \n",
        "        return 'Veteran'\n",
        "    elif val < 3 : \n",
        "        return 'New'\n",
        "    elif 7 < val < 10: \n",
        "        return 'Established'\n",
        "    elif 3 < val < 6 : \n",
        "        return 'Experienced'"
      ],
      "execution_count": 0,
      "outputs": []
    },
    {
      "cell_type": "code",
      "metadata": {
        "id": "P0xvgbuTZPdU",
        "colab_type": "code",
        "colab": {}
      },
      "source": [
        "combined_updated['service_cat'] = combined_updated['institute_service_up'].apply(transform_service)"
      ],
      "execution_count": 0,
      "outputs": []
    },
    {
      "cell_type": "code",
      "metadata": {
        "id": "m4fBxx09ZVaA",
        "colab_type": "code",
        "colab": {
          "base_uri": "https://localhost:8080/",
          "height": 101
        },
        "outputId": "049e6726-e4d3-45eb-ada9-9bb8d4786e3f"
      },
      "source": [
        "combined_updated['service_cat'].value_counts() "
      ],
      "execution_count": 72,
      "outputs": [
        {
          "output_type": "execute_result",
          "data": {
            "text/plain": [
              "New            193\n",
              "Veteran        106\n",
              "Experienced     72\n",
              "Established     22\n",
              "Name: service_cat, dtype: int64"
            ]
          },
          "metadata": {
            "tags": []
          },
          "execution_count": 72
        }
      ]
    },
    {
      "cell_type": "code",
      "metadata": {
        "id": "Kje3DKN0Z8wK",
        "colab_type": "code",
        "colab": {}
      },
      "source": [
        "combined_updated['dissatisfied'] = combined_updated['dissatisfied'].fillna(False)"
      ],
      "execution_count": 0,
      "outputs": []
    },
    {
      "cell_type": "code",
      "metadata": {
        "id": "ERBsnLrgZZvc",
        "colab_type": "code",
        "colab": {
          "base_uri": "https://localhost:8080/",
          "height": 195
        },
        "outputId": "5b11aa82-635b-4230-9acb-fe464e6a334a"
      },
      "source": [
        "dis_pct = combined_updated.pivot_table(index = 'service_cat', values = 'dissatisfied') \n",
        "dis_pct"
      ],
      "execution_count": 77,
      "outputs": [
        {
          "output_type": "execute_result",
          "data": {
            "text/html": [
              "<div>\n",
              "<style scoped>\n",
              "    .dataframe tbody tr th:only-of-type {\n",
              "        vertical-align: middle;\n",
              "    }\n",
              "\n",
              "    .dataframe tbody tr th {\n",
              "        vertical-align: top;\n",
              "    }\n",
              "\n",
              "    .dataframe thead th {\n",
              "        text-align: right;\n",
              "    }\n",
              "</style>\n",
              "<table border=\"1\" class=\"dataframe\">\n",
              "  <thead>\n",
              "    <tr style=\"text-align: right;\">\n",
              "      <th></th>\n",
              "      <th>dissatisfied</th>\n",
              "    </tr>\n",
              "    <tr>\n",
              "      <th>service_cat</th>\n",
              "      <th></th>\n",
              "    </tr>\n",
              "  </thead>\n",
              "  <tbody>\n",
              "    <tr>\n",
              "      <th>Established</th>\n",
              "      <td>0.727273</td>\n",
              "    </tr>\n",
              "    <tr>\n",
              "      <th>Experienced</th>\n",
              "      <td>0.361111</td>\n",
              "    </tr>\n",
              "    <tr>\n",
              "      <th>New</th>\n",
              "      <td>0.295337</td>\n",
              "    </tr>\n",
              "    <tr>\n",
              "      <th>Veteran</th>\n",
              "      <td>0.556604</td>\n",
              "    </tr>\n",
              "  </tbody>\n",
              "</table>\n",
              "</div>"
            ],
            "text/plain": [
              "             dissatisfied\n",
              "service_cat              \n",
              "Established      0.727273\n",
              "Experienced      0.361111\n",
              "New              0.295337\n",
              "Veteran          0.556604"
            ]
          },
          "metadata": {
            "tags": []
          },
          "execution_count": 77
        }
      ]
    },
    {
      "cell_type": "code",
      "metadata": {
        "id": "j4HnGAQZZ3hn",
        "colab_type": "code",
        "colab": {
          "base_uri": "https://localhost:8080/",
          "height": 327
        },
        "outputId": "3d8cd43d-a13c-4483-8104-77f2f5bc13aa"
      },
      "source": [
        "dis_pct.plot(kind = 'bar',rot = 30)"
      ],
      "execution_count": 76,
      "outputs": [
        {
          "output_type": "execute_result",
          "data": {
            "text/plain": [
              "<matplotlib.axes._subplots.AxesSubplot at 0x7f5dad8ea048>"
            ]
          },
          "metadata": {
            "tags": []
          },
          "execution_count": 76
        },
        {
          "output_type": "display_data",
          "data": {
            "image/png": "[encoded data removed]",
            "text/plain": [
              "<Figure size 432x288 with 1 Axes>"
            ]
          },
          "metadata": {
            "tags": [],
            "needs_background": "light"
          }
        }
      ]
    },
    {
      "cell_type": "markdown",
      "metadata": {
        "id": "cPySTcCXaGW9",
        "colab_type": "text"
      },
      "source": [
        "\n",
        "From the initial analysis above, we can tentatively conclude that employees with 7 or more years of service are more likely to resign due to some kind of dissatisfaction with the job than employees with less than 7 years of service. However, we need to handle the rest of the missing data to finalize our analysis."
      ]
    }
  ]
}