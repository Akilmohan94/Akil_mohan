{
  "nbformat": 4,
  "nbformat_minor": 0,
  "metadata": {
    "kernelspec": {
      "display_name": "Python 3",
      "language": "python",
      "name": "python3"
    },
    "language_info": {
      "codemirror_mode": {
        "name": "ipython",
        "version": 3
      },
      "file_extension": ".py",
      "mimetype": "text/x-python",
      "name": "python",
      "nbconvert_exporter": "python",
      "pygments_lexer": "ipython3",
      "version": "3.4.3"
    },
    "colab": {
      "name": "Guided Project: Mobile App for Lottery Addiction.ipynb",
      "provenance": [],
      "collapsed_sections": []
    }
  },
  "cells": [
    {
      "cell_type": "markdown",
      "metadata": {
        "id": "a7vI9Iy3Bzza",
        "colab_type": "text"
      },
      "source": [
        "# **Guided Project: Mobile App for Lottery Addiction**\n",
        "\n",
        "In this project, we are going to contribute to the development of a mobile app by writing a couple of functions that are mostly focused on calculating probabilities. The app is aimed to both prevent and treat lottery addiction by helping people better estimate their chances of winning.\n",
        "\n",
        "The app idea comes from a medical institute which is specialized in treating gambling addictions. The institute already has a team of engineers that will build the app, but they need us to create the logical core of the app and calculate probabilities. For the first version of the app, they want us to focus on the 6/49 lottery and build functions that can answer users the following questions:\n",
        "\n",
        "What is the probability of winning the big prize with a single ticket?\n",
        "What is the probability of winning the big prize if we play 40 different tickets (or any other number)?\n",
        "What is the probability of having at least five (or four, or three) winning numbers on a single ticket?\n",
        "The scenario we're following throughout this project is fictional — the main purpose is to practice applying probability and combinatorics (permutations and combinations) concepts in a setting that simulates a real-world scenario."
      ]
    },
    {
      "cell_type": "markdown",
      "metadata": {
        "id": "PURwGMguCI8Z",
        "colab_type": "text"
      },
      "source": [
        "## Core functions"
      ]
    },
    {
      "cell_type": "code",
      "metadata": {
        "id": "ty8m5rdfCGbp",
        "colab_type": "code",
        "colab": {}
      },
      "source": [
        "# Lets define functions for factorial and combinations since we will be using it often in this project. \n",
        "def factorial(n):\n",
        "    final_product = 1\n",
        "    for i in range(n, 0, -1):\n",
        "        final_product *= i\n",
        "    return final_product\n",
        "\n",
        "def combinations(n, k):\n",
        "    numerator = factorial(n)\n",
        "    denominator = factorial(k) * factorial(n-k)\n",
        "    return numerator/denominator"
      ],
      "execution_count": 0,
      "outputs": []
    },
    {
      "cell_type": "markdown",
      "metadata": {
        "id": "lO0hmXfyCvjU",
        "colab_type": "text"
      },
      "source": [
        "### One Ticket probability \n",
        "For the first version of the app, we want players to be able to calculate the probability of winning the big prize with the various numbers they play on a single ticket (for each ticket a player chooses six numbers out of 49). So, we'll start by building a function that calculates the probability of winning the big prize for any given ticket.\n",
        "\n",
        "We discussed with the engineering team of the medical institute, and they told us we need to be aware of the following details when we write the function:\n",
        "\n",
        "1. Inside the app, the user inputs six \n",
        "different numbers from 1 to 49.\n",
        "2. Under the hood, the six numbers will come as a Python list, which will serve as the single input to our function.\n",
        "3. The engineering team wants the function to print the probability value in a friendly way — in a way that people without any probability training are able to understand."
      ]
    },
    {
      "cell_type": "code",
      "metadata": {
        "id": "vRuH8DuIC0QE",
        "colab_type": "code",
        "colab": {}
      },
      "source": [
        "def one_ticket_probability(user_numbers):\n",
        "    \n",
        "    n_combinations = combinations(49, 6)\n",
        "    probability_one_ticket = 1/n_combinations\n",
        "    percentage_form = probability_one_ticket * 100\n",
        "    \n",
        "    print('''Your chances to win the big prize with the numbers {} are {:.7f}%.\n",
        "In other words, you have a 1 in {:,} chances to win.'''.format(user_numbers,\n",
        "                    percentage_form, int(n_combinations)))\n"
      ],
      "execution_count": 0,
      "outputs": []
    },
    {
      "cell_type": "code",
      "metadata": {
        "id": "r-LZBkU7EqeK",
        "colab_type": "code",
        "outputId": "18de64a2-78be-430e-cef3-c9baac833a3b",
        "colab": {
          "base_uri": "https://localhost:8080/",
          "height": 50
        }
      },
      "source": [
        "test_input_1 = [2, 43, 22, 23, 11, 5]\n",
        "one_ticket_probability(test_input_1)"
      ],
      "execution_count": 0,
      "outputs": [
        {
          "output_type": "stream",
          "text": [
            "Your chances to win the big prize with the numbers [2, 43, 22, 23, 11, 5] are 0.0000072%.\n",
            "In other words, you have a 1 in 13,983,816 chances to win.\n"
          ],
          "name": "stdout"
        }
      ]
    },
    {
      "cell_type": "code",
      "metadata": {
        "id": "RHUpwP1jE1SI",
        "colab_type": "code",
        "outputId": "19bedebe-55ac-47f1-e2fb-3253ec12e066",
        "colab": {
          "base_uri": "https://localhost:8080/",
          "height": 50
        }
      },
      "source": [
        "test_input_2 = [9, 26, 41, 7, 15, 6]\n",
        "one_ticket_probability(test_input_2)"
      ],
      "execution_count": 0,
      "outputs": [
        {
          "output_type": "stream",
          "text": [
            "Your chances to win the big prize with the numbers [9, 26, 41, 7, 15, 6] are 0.0000072%.\n",
            "In other words, you have a 1 in 13,983,816 chances to win.\n"
          ],
          "name": "stdout"
        }
      ]
    },
    {
      "cell_type": "markdown",
      "metadata": {
        "id": "FLIEvlMIHTYy",
        "colab_type": "text"
      },
      "source": [
        "### Historical Data Check for Canada Lottery \n",
        "We wrote a function that can tell users what is the probability of winning the big prize with a single ticket. For the first version of the app, however, users should also be able to compare their ticket against the historical lottery data in Canada and determine whether they would have ever won by now.\n",
        "\n",
        "We'll focus on exploring the historical data coming from the Canada 6/49 lottery. The data set can be downloaded from Kaggle and it has the following structure:"
      ]
    },
    {
      "cell_type": "code",
      "metadata": {
        "id": "w1-IBDEKHNEd",
        "colab_type": "code",
        "colab": {}
      },
      "source": [
        "import pandas as pd \n",
        "import numpy as np \n",
        "df = pd.read_csv('649.csv')"
      ],
      "execution_count": 0,
      "outputs": []
    },
    {
      "cell_type": "code",
      "metadata": {
        "id": "-WylhYH_IE4c",
        "colab_type": "code",
        "outputId": "4fed5532-2082-4546-dde6-96e95184fa98",
        "colab": {
          "base_uri": "https://localhost:8080/",
          "height": 190
        }
      },
      "source": [
        "df.head(3) "
      ],
      "execution_count": 0,
      "outputs": [
        {
          "output_type": "execute_result",
          "data": {
            "text/html": [
              "<div>\n",
              "<style scoped>\n",
              "    .dataframe tbody tr th:only-of-type {\n",
              "        vertical-align: middle;\n",
              "    }\n",
              "\n",
              "    .dataframe tbody tr th {\n",
              "        vertical-align: top;\n",
              "    }\n",
              "\n",
              "    .dataframe thead th {\n",
              "        text-align: right;\n",
              "    }\n",
              "</style>\n",
              "<table border=\"1\" class=\"dataframe\">\n",
              "  <thead>\n",
              "    <tr style=\"text-align: right;\">\n",
              "      <th></th>\n",
              "      <th>PRODUCT</th>\n",
              "      <th>DRAW NUMBER</th>\n",
              "      <th>SEQUENCE NUMBER</th>\n",
              "      <th>DRAW DATE</th>\n",
              "      <th>NUMBER DRAWN 1</th>\n",
              "      <th>NUMBER DRAWN 2</th>\n",
              "      <th>NUMBER DRAWN 3</th>\n",
              "      <th>NUMBER DRAWN 4</th>\n",
              "      <th>NUMBER DRAWN 5</th>\n",
              "      <th>NUMBER DRAWN 6</th>\n",
              "      <th>BONUS NUMBER</th>\n",
              "    </tr>\n",
              "  </thead>\n",
              "  <tbody>\n",
              "    <tr>\n",
              "      <th>0</th>\n",
              "      <td>649</td>\n",
              "      <td>1</td>\n",
              "      <td>0</td>\n",
              "      <td>6/12/1982</td>\n",
              "      <td>3</td>\n",
              "      <td>11</td>\n",
              "      <td>12</td>\n",
              "      <td>14</td>\n",
              "      <td>41</td>\n",
              "      <td>43</td>\n",
              "      <td>13</td>\n",
              "    </tr>\n",
              "    <tr>\n",
              "      <th>1</th>\n",
              "      <td>649</td>\n",
              "      <td>2</td>\n",
              "      <td>0</td>\n",
              "      <td>6/19/1982</td>\n",
              "      <td>8</td>\n",
              "      <td>33</td>\n",
              "      <td>36</td>\n",
              "      <td>37</td>\n",
              "      <td>39</td>\n",
              "      <td>41</td>\n",
              "      <td>9</td>\n",
              "    </tr>\n",
              "    <tr>\n",
              "      <th>2</th>\n",
              "      <td>649</td>\n",
              "      <td>3</td>\n",
              "      <td>0</td>\n",
              "      <td>6/26/1982</td>\n",
              "      <td>1</td>\n",
              "      <td>6</td>\n",
              "      <td>23</td>\n",
              "      <td>24</td>\n",
              "      <td>27</td>\n",
              "      <td>39</td>\n",
              "      <td>34</td>\n",
              "    </tr>\n",
              "  </tbody>\n",
              "</table>\n",
              "</div>"
            ],
            "text/plain": [
              "   PRODUCT  DRAW NUMBER  ...  NUMBER DRAWN 6 BONUS NUMBER\n",
              "0      649            1  ...              43           13\n",
              "1      649            2  ...              41            9\n",
              "2      649            3  ...              39           34\n",
              "\n",
              "[3 rows x 11 columns]"
            ]
          },
          "metadata": {
            "tags": []
          },
          "execution_count": 20
        }
      ]
    },
    {
      "cell_type": "code",
      "metadata": {
        "id": "qXBk3cWyIGAg",
        "colab_type": "code",
        "outputId": "a3626ce8-c42b-4e43-d05d-c9384ec9f578",
        "colab": {
          "base_uri": "https://localhost:8080/",
          "height": 190
        }
      },
      "source": [
        "df.tail(3)"
      ],
      "execution_count": 0,
      "outputs": [
        {
          "output_type": "execute_result",
          "data": {
            "text/html": [
              "<div>\n",
              "<style scoped>\n",
              "    .dataframe tbody tr th:only-of-type {\n",
              "        vertical-align: middle;\n",
              "    }\n",
              "\n",
              "    .dataframe tbody tr th {\n",
              "        vertical-align: top;\n",
              "    }\n",
              "\n",
              "    .dataframe thead th {\n",
              "        text-align: right;\n",
              "    }\n",
              "</style>\n",
              "<table border=\"1\" class=\"dataframe\">\n",
              "  <thead>\n",
              "    <tr style=\"text-align: right;\">\n",
              "      <th></th>\n",
              "      <th>PRODUCT</th>\n",
              "      <th>DRAW NUMBER</th>\n",
              "      <th>SEQUENCE NUMBER</th>\n",
              "      <th>DRAW DATE</th>\n",
              "      <th>NUMBER DRAWN 1</th>\n",
              "      <th>NUMBER DRAWN 2</th>\n",
              "      <th>NUMBER DRAWN 3</th>\n",
              "      <th>NUMBER DRAWN 4</th>\n",
              "      <th>NUMBER DRAWN 5</th>\n",
              "      <th>NUMBER DRAWN 6</th>\n",
              "      <th>BONUS NUMBER</th>\n",
              "    </tr>\n",
              "  </thead>\n",
              "  <tbody>\n",
              "    <tr>\n",
              "      <th>3662</th>\n",
              "      <td>649</td>\n",
              "      <td>3589</td>\n",
              "      <td>0</td>\n",
              "      <td>6/13/2018</td>\n",
              "      <td>6</td>\n",
              "      <td>22</td>\n",
              "      <td>24</td>\n",
              "      <td>31</td>\n",
              "      <td>32</td>\n",
              "      <td>34</td>\n",
              "      <td>16</td>\n",
              "    </tr>\n",
              "    <tr>\n",
              "      <th>3663</th>\n",
              "      <td>649</td>\n",
              "      <td>3590</td>\n",
              "      <td>0</td>\n",
              "      <td>6/16/2018</td>\n",
              "      <td>2</td>\n",
              "      <td>15</td>\n",
              "      <td>21</td>\n",
              "      <td>31</td>\n",
              "      <td>38</td>\n",
              "      <td>49</td>\n",
              "      <td>8</td>\n",
              "    </tr>\n",
              "    <tr>\n",
              "      <th>3664</th>\n",
              "      <td>649</td>\n",
              "      <td>3591</td>\n",
              "      <td>0</td>\n",
              "      <td>6/20/2018</td>\n",
              "      <td>14</td>\n",
              "      <td>24</td>\n",
              "      <td>31</td>\n",
              "      <td>35</td>\n",
              "      <td>37</td>\n",
              "      <td>48</td>\n",
              "      <td>17</td>\n",
              "    </tr>\n",
              "  </tbody>\n",
              "</table>\n",
              "</div>"
            ],
            "text/plain": [
              "      PRODUCT  DRAW NUMBER  ...  NUMBER DRAWN 6 BONUS NUMBER\n",
              "3662      649         3589  ...              34           16\n",
              "3663      649         3590  ...              49            8\n",
              "3664      649         3591  ...              48           17\n",
              "\n",
              "[3 rows x 11 columns]"
            ]
          },
          "metadata": {
            "tags": []
          },
          "execution_count": 21
        }
      ]
    },
    {
      "cell_type": "code",
      "metadata": {
        "id": "o9VJcZKyIKmP",
        "colab_type": "code",
        "outputId": "0be7298a-2e31-410a-ff68-38b4724ee3f3",
        "colab": {
          "base_uri": "https://localhost:8080/",
          "height": 34
        }
      },
      "source": [
        "df.shape"
      ],
      "execution_count": 0,
      "outputs": [
        {
          "output_type": "execute_result",
          "data": {
            "text/plain": [
              "(3665, 11)"
            ]
          },
          "metadata": {
            "tags": []
          },
          "execution_count": 22
        }
      ]
    },
    {
      "cell_type": "markdown",
      "metadata": {
        "id": "5T8wFR2UIR2e",
        "colab_type": "text"
      },
      "source": [
        "The Dataset has **3,665** rows and 11 columns "
      ]
    },
    {
      "cell_type": "markdown",
      "metadata": {
        "id": "enDE7Dk9IQAV",
        "colab_type": "text"
      },
      "source": [
        "### Function for Historical Data Check"
      ]
    },
    {
      "cell_type": "markdown",
      "metadata": {
        "id": "zPyPP5vWI4jy",
        "colab_type": "text"
      },
      "source": [
        "We focused on opening and exploring the Canada lottery data set. We're going to write a function that will enable users to compare their ticket against the historical lottery data in Canada and determine whether they would have ever won by now."
      ]
    },
    {
      "cell_type": "markdown",
      "metadata": {
        "id": "xry-IFS1I8qi",
        "colab_type": "text"
      },
      "source": [
        "- Inside the app, the user inputs six different numbers from 1 to 49.\n",
        "- Under the hood, the six numbers will come as a Python list and serve as an input to our function.\n",
        "- The engineering team wants us to write a function that prints:\n",
        "    - the number of times the combination selected occurred in the Canada data set; and\n",
        "    - the probability of winning the big prize in the next drawing with that combination."
      ]
    },
    {
      "cell_type": "code",
      "metadata": {
        "id": "a11LnLf4IqqN",
        "colab_type": "code",
        "colab": {}
      },
      "source": [
        "def extract_numbers(row): \n",
        "    row = row[4:10]\n",
        "    row = set(row.values)\n",
        "    return row \n",
        "\n",
        "winning_numbers = df.apply(extract_numbers, axis =1 )"
      ],
      "execution_count": 0,
      "outputs": []
    },
    {
      "cell_type": "code",
      "metadata": {
        "id": "mXdeMLTeJwtu",
        "colab_type": "code",
        "outputId": "7e9970b3-140e-413d-f8ac-4f415cb7583a",
        "colab": {
          "base_uri": "https://localhost:8080/",
          "height": 101
        }
      },
      "source": [
        "winning_numbers.head(4)"
      ],
      "execution_count": 0,
      "outputs": [
        {
          "output_type": "execute_result",
          "data": {
            "text/plain": [
              "0    {3, 41, 11, 12, 43, 14}\n",
              "1    {33, 36, 37, 39, 8, 41}\n",
              "2     {1, 6, 39, 23, 24, 27}\n",
              "3     {3, 9, 10, 43, 13, 20}\n",
              "dtype: object"
            ]
          },
          "metadata": {
            "tags": []
          },
          "execution_count": 27
        }
      ]
    },
    {
      "cell_type": "code",
      "metadata": {
        "id": "9fjQExLsJ2q1",
        "colab_type": "code",
        "colab": {}
      },
      "source": [
        "def check_historical_occurrence(user_numbers, historical_numbers):   \n",
        "    '''\n",
        "    user_numbers: a Python list\n",
        "    historical numbers: a pandas Series\n",
        "    '''\n",
        "    \n",
        "    user_numbers_set = set(user_numbers)\n",
        "    check_occurrence = historical_numbers == user_numbers_set\n",
        "    n_occurrences = check_occurrence.sum()\n",
        "    \n",
        "    if n_occurrences == 0:\n",
        "        print('''The combination {} has never occured.\n",
        "This doesn't mean it's more likely to occur now. Your chances to win the big prize in the next drawing using the combination {} are 0.0000072%.\n",
        "In other words, you have a 1 in 13,983,816 chances to win.'''.format(user_numbers, user_numbers))\n",
        "        \n",
        "    else:\n",
        "        print('''The number of times combination {} has occured in the past is {}.\n",
        "Your chances to win the big prize in the next drawing using the combination {} are 0.0000072%.\n",
        "In other words, you have a 1 in 13,983,816 chances to win.'''.format(user_numbers, n_occurrences,\n",
        "                                                                            user_numbers))"
      ],
      "execution_count": 0,
      "outputs": []
    },
    {
      "cell_type": "code",
      "metadata": {
        "id": "nvjXol1RLIGa",
        "colab_type": "code",
        "outputId": "8b27eb30-32e5-4cb9-c5bb-78fb5a6bd862",
        "colab": {
          "base_uri": "https://localhost:8080/",
          "height": 87
        }
      },
      "source": [
        "test_input_3 = [33, 36, 37, 39, 8, 41]\n",
        "check_historical_occurrence(test_input_3, winning_numbers)\n"
      ],
      "execution_count": 0,
      "outputs": [
        {
          "output_type": "stream",
          "text": [
            "The number of times combination [33, 36, 37, 39, 8, 41] has occured in the past is 1.\n",
            "Your chances to win the big prize in the next drawing using the combination [33, 36, 37, 39, 8, 41] are 0.0000072%.\n",
            "In other words, you have a 1 in 13,983,816 chances to win.\n"
          ],
          "name": "stdout"
        }
      ]
    },
    {
      "cell_type": "markdown",
      "metadata": {
        "id": "7n_YDFrALNUY",
        "colab_type": "text"
      },
      "source": [
        "### Multi-Ticket probability "
      ]
    },
    {
      "cell_type": "code",
      "metadata": {
        "id": "EVWJzvvOLvxB",
        "colab_type": "code",
        "colab": {}
      },
      "source": [
        "\n",
        "def multi_ticket_probability(n_tickets):\n",
        "    \n",
        "    n_combinations = combinations(49, 6)\n",
        "    \n",
        "    probability = n_tickets / n_combinations\n",
        "    percentage_form = probability * 100\n",
        "    \n",
        "    if n_tickets == 1:\n",
        "        print('''Your chances to win the big prize with one ticket are {:.6f}%.\n",
        "In other words, you have a 1 in {:,} chances to win.'''.format(percentage_form, int(n_combinations)))\n",
        "    \n",
        "    else:\n",
        "        combinations_simplified = round(n_combinations / n_tickets)   \n",
        "        print('''Your chances to win the big prize with {:,} different tickets are {:.6f}%.\n",
        "In other words, you have a 1 in {:,} chances to win.'''.format(n_tickets, percentage_form,\n",
        "                                                               combinations_simplified))"
      ],
      "execution_count": 0,
      "outputs": []
    },
    {
      "cell_type": "code",
      "metadata": {
        "id": "zIgdrXiZLxhm",
        "colab_type": "code",
        "outputId": "cfdd5e8e-a0a2-4197-830f-d3669299eff6",
        "colab": {
          "base_uri": "https://localhost:8080/",
          "height": 390
        }
      },
      "source": [
        "\n",
        "test_inputs = [1, 10, 100, 10000, 1000000, 6991908, 13983816]\n",
        "\n",
        "for test_input in test_inputs:\n",
        "    multi_ticket_probability(test_input)\n",
        "    print('------------------------') # output delimiter"
      ],
      "execution_count": 0,
      "outputs": [
        {
          "output_type": "stream",
          "text": [
            "Your chances to win the big prize with one ticket are 0.000007%.\n",
            "In other words, you have a 1 in 13,983,816 chances to win.\n",
            "------------------------\n",
            "Your chances to win the big prize with 10 different tickets are 0.000072%.\n",
            "In other words, you have a 1 in 1,398,382 chances to win.\n",
            "------------------------\n",
            "Your chances to win the big prize with 100 different tickets are 0.000715%.\n",
            "In other words, you have a 1 in 139,838 chances to win.\n",
            "------------------------\n",
            "Your chances to win the big prize with 10,000 different tickets are 0.071511%.\n",
            "In other words, you have a 1 in 1,398 chances to win.\n",
            "------------------------\n",
            "Your chances to win the big prize with 1,000,000 different tickets are 7.151124%.\n",
            "In other words, you have a 1 in 14 chances to win.\n",
            "------------------------\n",
            "Your chances to win the big prize with 6,991,908 different tickets are 50.000000%.\n",
            "In other words, you have a 1 in 2 chances to win.\n",
            "------------------------\n",
            "Your chances to win the big prize with 13,983,816 different tickets are 100.000000%.\n",
            "In other words, you have a 1 in 1 chances to win.\n",
            "------------------------\n"
          ],
          "name": "stdout"
        }
      ]
    },
    {
      "cell_type": "markdown",
      "metadata": {
        "id": "hu_q9JCcL0Ez",
        "colab_type": "text"
      },
      "source": [
        "### Less winning Numbers - Function"
      ]
    },
    {
      "cell_type": "code",
      "metadata": {
        "id": "8PFQMrRXL6mW",
        "colab_type": "code",
        "colab": {}
      },
      "source": [
        "def probability_less_6(n_winning_numbers):\n",
        "    \n",
        "    n_combinations_ticket = combinations(6, n_winning_numbers)\n",
        "    n_combinations_remaining = combinations(43, 6 - n_winning_numbers)\n",
        "    successful_outcomes = n_combinations_ticket * n_combinations_remaining\n",
        "    \n",
        "    n_combinations_total = combinations(49, 6)    \n",
        "    probability = successful_outcomes / n_combinations_total\n",
        "    \n",
        "    probability_percentage = probability * 100    \n",
        "    combinations_simplified = round(n_combinations_total/successful_outcomes)    \n",
        "    print('''Your chances of having {} winning numbers with this ticket are {:.6f}%.\n",
        "In other words, you have a 1 in {:,} chances to win.'''.format(n_winning_numbers, probability_percentage,\n",
        "                                                               int(combinations_simplified)))"
      ],
      "execution_count": 0,
      "outputs": []
    },
    {
      "cell_type": "code",
      "metadata": {
        "id": "6Dxfgb0TL9BZ",
        "colab_type": "code",
        "outputId": "d45dcb04-4923-413b-af47-5fe1a82c552a",
        "colab": {
          "base_uri": "https://localhost:8080/",
          "height": 218
        }
      },
      "source": [
        "\n",
        "for test_input in [2, 3, 4, 5]:\n",
        "    probability_less_6(test_input)\n",
        "    print('--------------------------') # output delimiter"
      ],
      "execution_count": 0,
      "outputs": [
        {
          "output_type": "stream",
          "text": [
            "Your chances of having 2 winning numbers with this ticket are 13.237803%.\n",
            "In other words, you have a 1 in 8 chances to win.\n",
            "--------------------------\n",
            "Your chances of having 3 winning numbers with this ticket are 1.765040%.\n",
            "In other words, you have a 1 in 57 chances to win.\n",
            "--------------------------\n",
            "Your chances of having 4 winning numbers with this ticket are 0.096862%.\n",
            "In other words, you have a 1 in 1,032 chances to win.\n",
            "--------------------------\n",
            "Your chances of having 5 winning numbers with this ticket are 0.001845%.\n",
            "In other words, you have a 1 in 54,201 chances to win.\n",
            "--------------------------\n"
          ],
          "name": "stdout"
        }
      ]
    },
    {
      "cell_type": "code",
      "metadata": {
        "id": "aOHGoiI5L-nI",
        "colab_type": "code",
        "colab": {}
      },
      "source": [
        ""
      ],
      "execution_count": 0,
      "outputs": []
    }
  ]
}