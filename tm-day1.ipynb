{
 "cells": [
  {
   "cell_type": "markdown",
   "metadata": {},
   "source": [
    "# Text Mining (Day 1)"
   ]
  },
  {
   "cell_type": "markdown",
   "metadata": {},
   "source": [
    "#### Dataset link: https://github.com/skathirmani/datasets"
   ]
  },
  {
   "cell_type": "code",
   "execution_count": 1,
   "metadata": {},
   "outputs": [],
   "source": [
    "import pandas as pd\n",
    "import nltk"
   ]
  },
  {
   "cell_type": "code",
   "execution_count": 2,
   "metadata": {},
   "outputs": [],
   "source": [
    "url = 'https://github.com/skathirmani/datasets/raw/master/narendramodi_tweets.csv'\n",
    "tweets = pd.read_csv(url)"
   ]
  },
  {
   "cell_type": "code",
   "execution_count": 8,
   "metadata": {},
   "outputs": [
    {
     "data": {
      "text/html": [
       "<div>\n",
       "<style scoped>\n",
       "    .dataframe tbody tr th:only-of-type {\n",
       "        vertical-align: middle;\n",
       "    }\n",
       "\n",
       "    .dataframe tbody tr th {\n",
       "        vertical-align: top;\n",
       "    }\n",
       "\n",
       "    .dataframe thead th {\n",
       "        text-align: right;\n",
       "    }\n",
       "</style>\n",
       "<table border=\"1\" class=\"dataframe\">\n",
       "  <thead>\n",
       "    <tr style=\"text-align: right;\">\n",
       "      <th></th>\n",
       "      <th>id</th>\n",
       "      <th>retweets_count</th>\n",
       "      <th>favorite_count</th>\n",
       "      <th>created_at</th>\n",
       "      <th>text</th>\n",
       "      <th>lang</th>\n",
       "      <th>retweeted</th>\n",
       "      <th>followers_count</th>\n",
       "      <th>friends_count</th>\n",
       "      <th>hashtags_count</th>\n",
       "      <th>description</th>\n",
       "      <th>location</th>\n",
       "      <th>background_image_url</th>\n",
       "      <th>source</th>\n",
       "    </tr>\n",
       "  </thead>\n",
       "  <tbody>\n",
       "    <tr>\n",
       "      <th>0</th>\n",
       "      <td>8.263846e+17</td>\n",
       "      <td>1406.0</td>\n",
       "      <td>4903.0</td>\n",
       "      <td>2017-01-31 11:00:07</td>\n",
       "      <td>The President's address wonderfully encapsulat...</td>\n",
       "      <td>en</td>\n",
       "      <td>False</td>\n",
       "      <td>26809964.0</td>\n",
       "      <td>1641.0</td>\n",
       "      <td>1.0</td>\n",
       "      <td>Prime Minister of India</td>\n",
       "      <td>India</td>\n",
       "      <td>http://pbs.twimg.com/profile_background_images...</td>\n",
       "      <td>Twitter Web Client</td>\n",
       "    </tr>\n",
       "  </tbody>\n",
       "</table>\n",
       "</div>"
      ],
      "text/plain": [
       "             id  retweets_count  favorite_count           created_at  \\\n",
       "0  8.263846e+17          1406.0          4903.0  2017-01-31 11:00:07   \n",
       "\n",
       "                                                text lang  retweeted  \\\n",
       "0  The President's address wonderfully encapsulat...   en      False   \n",
       "\n",
       "   followers_count  friends_count  hashtags_count              description  \\\n",
       "0       26809964.0         1641.0             1.0  Prime Minister of India   \n",
       "\n",
       "  location                               background_image_url  \\\n",
       "0    India  http://pbs.twimg.com/profile_background_images...   \n",
       "\n",
       "               source  \n",
       "0  Twitter Web Client  "
      ]
     },
     "execution_count": 8,
     "metadata": {},
     "output_type": "execute_result"
    }
   ],
   "source": [
    "tweets.head(1)"
   ]
  },
  {
   "cell_type": "code",
   "execution_count": 4,
   "metadata": {},
   "outputs": [],
   "source": [
    "tweets.to_csv('tweets.csv', index=False)"
   ]
  },
  {
   "cell_type": "code",
   "execution_count": 9,
   "metadata": {},
   "outputs": [
    {
     "data": {
      "text/plain": [
       "(3220, 14)"
      ]
     },
     "execution_count": 9,
     "metadata": {},
     "output_type": "execute_result"
    }
   ],
   "source": [
    "tweets.shape"
   ]
  },
  {
   "cell_type": "code",
   "execution_count": 10,
   "metadata": {},
   "outputs": [
    {
     "name": "stdout",
     "output_type": "stream",
     "text": [
      "<class 'pandas.core.frame.DataFrame'>\n",
      "RangeIndex: 3220 entries, 0 to 3219\n",
      "Data columns (total 14 columns):\n",
      "id                      3220 non-null float64\n",
      "retweets_count          3220 non-null float64\n",
      "favorite_count          3220 non-null float64\n",
      "created_at              3220 non-null object\n",
      "text                    3220 non-null object\n",
      "lang                    3220 non-null object\n",
      "retweeted               3220 non-null bool\n",
      "followers_count         3220 non-null float64\n",
      "friends_count           3220 non-null float64\n",
      "hashtags_count          3220 non-null float64\n",
      "description             3220 non-null object\n",
      "location                3220 non-null object\n",
      "background_image_url    3220 non-null object\n",
      "source                  3220 non-null object\n",
      "dtypes: bool(1), float64(6), object(7)\n",
      "memory usage: 330.3+ KB\n"
     ]
    }
   ],
   "source": [
    "tweets.info()"
   ]
  },
  {
   "cell_type": "markdown",
   "metadata": {},
   "source": [
    "![modiwordcloud](modi_wordcloud.PNG)"
   ]
  },
  {
   "cell_type": "code",
   "execution_count": null,
   "metadata": {},
   "outputs": [],
   "source": [
    "pd.read_csv('')"
   ]
  },
  {
   "cell_type": "code",
   "execution_count": 11,
   "metadata": {},
   "outputs": [
    {
     "data": {
      "text/plain": [
       "0    The President's address wonderfully encapsulat...\n",
       "1    Rashtrapati Ji's address to both Houses of Par...\n",
       "2    RT @PMOIndia: Empowering the marginalised. htt...\n",
       "3    RT @PMOIndia: Commitment to welfare of farmers...\n",
       "4    RT @PMOIndia: Improving the quality of life fo...\n",
       "Name: text, dtype: object"
      ]
     },
     "execution_count": 11,
     "metadata": {},
     "output_type": "execute_result"
    }
   ],
   "source": [
    "tweets['text'].head()"
   ]
  },
  {
   "cell_type": "markdown",
   "metadata": {},
   "source": [
    "## Building Corpus"
   ]
  },
  {
   "cell_type": "code",
   "execution_count": 40,
   "metadata": {},
   "outputs": [],
   "source": [
    "docs = tweets['text']\n",
    "docs = docs.str.lower()"
   ]
  },
  {
   "cell_type": "markdown",
   "metadata": {},
   "source": [
    "### Regular expression"
   ]
  },
  {
   "cell_type": "code",
   "execution_count": 19,
   "metadata": {},
   "outputs": [
    {
     "data": {
      "text/plain": [
       "\"-- president's address wonderfully encapsulated india's strengths, aspirations, potential &amp; -- efforts towards #transformingindia.\""
      ]
     },
     "execution_count": 19,
     "metadata": {},
     "output_type": "execute_result"
    }
   ],
   "source": [
    "docs[0].replace('the', '--')"
   ]
  },
  {
   "cell_type": "code",
   "execution_count": 20,
   "metadata": {},
   "outputs": [
    {
     "data": {
      "text/plain": [
       "\" president's address wonderfully encapsulated india's strengths, aspirations, potential &amp;  efforts towards #transformingindia.\""
      ]
     },
     "execution_count": 20,
     "metadata": {},
     "output_type": "execute_result"
    }
   ],
   "source": [
    "docs[0].replace('the', '')"
   ]
  },
  {
   "cell_type": "code",
   "execution_count": 24,
   "metadata": {},
   "outputs": [
    {
     "data": {
      "text/plain": [
       "0           '    ' , ,  &;    #.\n",
       "1     '        - &; .  . ://./ @\n",
       "2                 @:   . ://./94\n",
       "3                @:     . ://./7\n",
       "4          @:        . ://./8252\n",
       "Name: text, dtype: object"
      ]
     },
     "execution_count": 24,
     "metadata": {},
     "output_type": "execute_result"
    }
   ],
   "source": [
    "docs.str.replace('[a-z]', '').head()"
   ]
  },
  {
   "cell_type": "code",
   "execution_count": 25,
   "metadata": {},
   "outputs": [
    {
     "data": {
      "text/plain": [
       "0    the president's address wonderfully encapsulat...\n",
       "1    rashtrapati ji's address to both houses of par...\n",
       "2    rt @pmoindia: empowering the marginalised. htt...\n",
       "3    rt @pmoindia: commitment to welfare of farmers...\n",
       "4    rt @pmoindia: improving the quality of life fo...\n",
       "Name: text, dtype: object"
      ]
     },
     "execution_count": 25,
     "metadata": {},
     "output_type": "execute_result"
    }
   ],
   "source": [
    "docs.str.replace('[0-9]', '').head()"
   ]
  },
  {
   "cell_type": "code",
   "execution_count": 27,
   "metadata": {},
   "outputs": [
    {
     "data": {
      "text/plain": [
       "0    the presidents address wonderfully encapsulate...\n",
       "1    rashtrapati jis address to both houses of parl...\n",
       "2    rt pmoindia empowering the marginalised httpst...\n",
       "3    rt pmoindia commitment to welfare of farmers h...\n",
       "4    rt pmoindia improving the quality of life for ...\n",
       "Name: text, dtype: object"
      ]
     },
     "execution_count": 27,
     "metadata": {},
     "output_type": "execute_result"
    }
   ],
   "source": [
    "docs.str.replace('[^a-z ]', '').head()"
   ]
  },
  {
   "cell_type": "code",
   "execution_count": 28,
   "metadata": {},
   "outputs": [
    {
     "data": {
      "text/plain": [
       "0    the presidents address wonderfully encapsulate...\n",
       "1    rashtrapati jis address to both houses of parl...\n",
       "2    rt pmoindia empowering the marginalised httpst...\n",
       "3    rt pmoindia commitment to welfare of farmers h...\n",
       "4    rt pmoindia improving the quality of life for ...\n",
       "Name: text, dtype: object"
      ]
     },
     "execution_count": 28,
     "metadata": {},
     "output_type": "execute_result"
    }
   ],
   "source": [
    "docs.str.replace('[^a-z0-9 ]', '').head()"
   ]
  },
  {
   "cell_type": "code",
   "execution_count": 41,
   "metadata": {},
   "outputs": [
    {
     "data": {
      "text/plain": [
       "0    the presidents address wonderfully encapsulate...\n",
       "1    rashtrapati jis address to both houses of parl...\n",
       "2    rt @pmoindia empowering the marginalised https...\n",
       "3    rt @pmoindia commitment to welfare of farmers ...\n",
       "4    rt @pmoindia improving the quality of life for...\n",
       "Name: text, dtype: object"
      ]
     },
     "execution_count": 41,
     "metadata": {},
     "output_type": "execute_result"
    }
   ],
   "source": [
    "docs = docs.str.replace('[^a-z#@ ]', '')\n",
    "docs.head()"
   ]
  },
  {
   "cell_type": "code",
   "execution_count": 42,
   "metadata": {},
   "outputs": [],
   "source": [
    "docs = docs.str.split(' ')"
   ]
  },
  {
   "cell_type": "code",
   "execution_count": 43,
   "metadata": {},
   "outputs": [],
   "source": [
    "words_rows = docs.tolist()"
   ]
  },
  {
   "cell_type": "code",
   "execution_count": 44,
   "metadata": {},
   "outputs": [
    {
     "data": {
      "text/plain": [
       "3220"
      ]
     },
     "execution_count": 44,
     "metadata": {},
     "output_type": "execute_result"
    }
   ],
   "source": [
    "len(words_rows)"
   ]
  },
  {
   "cell_type": "code",
   "execution_count": 45,
   "metadata": {},
   "outputs": [
    {
     "data": {
      "text/plain": [
       "56862"
      ]
     },
     "execution_count": 45,
     "metadata": {},
     "output_type": "execute_result"
    }
   ],
   "source": [
    "words_all = []\n",
    "for row in words_rows:\n",
    "    words_all.extend(row)\n",
    "len(words_all)"
   ]
  },
  {
   "cell_type": "code",
   "execution_count": 52,
   "metadata": {},
   "outputs": [],
   "source": [
    "#words_all[:30]"
   ]
  },
  {
   "cell_type": "code",
   "execution_count": 53,
   "metadata": {},
   "outputs": [
    {
     "data": {
      "text/plain": [
       "0             the\n",
       "1      presidents\n",
       "2         address\n",
       "3     wonderfully\n",
       "4    encapsulated\n",
       "dtype: object"
      ]
     },
     "execution_count": 53,
     "metadata": {},
     "output_type": "execute_result"
    }
   ],
   "source": [
    "words_all = pd.Series(words_all)\n",
    "words_all.head()"
   ]
  },
  {
   "cell_type": "code",
   "execution_count": 58,
   "metadata": {},
   "outputs": [
    {
     "data": {
      "text/plain": [
       "<matplotlib.axes._subplots.AxesSubplot at 0x1e7cbf3f668>"
      ]
     },
     "execution_count": 58,
     "metadata": {},
     "output_type": "execute_result"
    },
    {
     "data": {
      "image/png": "[encoded data removed]",
      "text/plain": [
       "<Figure size 432x288 with 1 Axes>"
      ]
     },
     "metadata": {},
     "output_type": "display_data"
    }
   ],
   "source": [
    "%matplotlib inline\n",
    "words_all.value_counts().head(20).plot.barh()"
   ]
  },
  {
   "cell_type": "code",
   "execution_count": 73,
   "metadata": {},
   "outputs": [
    {
     "data": {
      "text/plain": [
       "182"
      ]
     },
     "execution_count": 73,
     "metadata": {},
     "output_type": "execute_result"
    }
   ],
   "source": [
    "import numpy as np\n",
    "common_stop_words = nltk.corpus.stopwords.words('english')\n",
    "custom_stop_words = ['', 'amp', 'rt']\n",
    "stop_words_all = np.hstack([common_stop_words, custom_stop_words])\n",
    "len(stop_words_all)"
   ]
  },
  {
   "cell_type": "code",
   "execution_count": 78,
   "metadata": {},
   "outputs": [
    {
     "data": {
      "text/plain": [
       "'play'"
      ]
     },
     "execution_count": 78,
     "metadata": {},
     "output_type": "execute_result"
    }
   ],
   "source": [
    "from nltk.stem import PorterStemmer\n",
    "stemmer = PorterStemmer()\n",
    "stemmer.stem('playing')"
   ]
  },
  {
   "cell_type": "code",
   "execution_count": 103,
   "metadata": {},
   "outputs": [],
   "source": [
    "docs = tweets['text']\n",
    "docs = docs.str.lower()\n",
    "docs = docs.str.replace('[^a-z#@ ]', '')\n",
    "docs = docs.str.split(' ')\n",
    "words_rows = docs.tolist()\n",
    "words_all = []\n",
    "words_rows_clean = []\n",
    "docs_clean = []\n",
    "for row in words_rows:\n",
    "    row_words = [stemmer.stem(word) for word in row if word not in stop_words_all]  \n",
    "    words_rows_clean.append(row_words)\n",
    "    docs_clean.append(' '.join(row_words))\n",
    "    words_all.extend(row_words)\n",
    "words_all = pd.Series(words_all)\n",
    "#words_all.value_counts().head(20).plot.barh()"
   ]
  },
  {
   "cell_type": "code",
   "execution_count": 104,
   "metadata": {},
   "outputs": [
    {
     "data": {
      "text/plain": [
       "32422"
      ]
     },
     "execution_count": 104,
     "metadata": {},
     "output_type": "execute_result"
    }
   ],
   "source": [
    "len(words_all)"
   ]
  },
  {
   "cell_type": "code",
   "execution_count": 106,
   "metadata": {},
   "outputs": [
    {
     "data": {
      "text/plain": [
       "['presid address wonder encapsul india strength aspir potenti effort toward #transformingindia',\n",
       " 'rashtrapati ji address hous parliament indepth extens hear httpstcordkqtjgnnx @rashtrapatibhvn']"
      ]
     },
     "execution_count": 106,
     "metadata": {},
     "output_type": "execute_result"
    }
   ],
   "source": [
    "#words_rows_clean[:2]\n",
    "docs_clean[:2]"
   ]
  },
  {
   "cell_type": "code",
   "execution_count": 66,
   "metadata": {},
   "outputs": [],
   "source": [
    "#nltk.download('stopwords')"
   ]
  },
  {
   "cell_type": "code",
   "execution_count": 108,
   "metadata": {},
   "outputs": [
    {
     "name": "stdout",
     "output_type": "stream",
     "text": [
      "32422\n",
      "3220\n",
      "3220\n"
     ]
    }
   ],
   "source": [
    "print(len(words_all))\n",
    "print(len(words_rows_clean))\n",
    "print(len(docs_clean))"
   ]
  },
  {
   "cell_type": "markdown",
   "metadata": {},
   "source": [
    "## Document Term Matrix\n",
    "\n",
    "Unstructured data to structed data\n",
    "\n",
    "- Documents in Rows\n",
    "- Terms/Words in columns\n",
    "- High dimensional data\n",
    "- Sparse matrix"
   ]
  },
  {
   "cell_type": "code",
   "execution_count": 109,
   "metadata": {},
   "outputs": [],
   "source": [
    "from sklearn.feature_extraction.text import CountVectorizer"
   ]
  },
  {
   "cell_type": "code",
   "execution_count": 112,
   "metadata": {},
   "outputs": [
    {
     "data": {
      "text/plain": [
       "<3220x7340 sparse matrix of type '<class 'numpy.int64'>'\n",
       "\twith 31644 stored elements in Compressed Sparse Row format>"
      ]
     },
     "execution_count": 112,
     "metadata": {},
     "output_type": "execute_result"
    }
   ],
   "source": [
    "model = CountVectorizer()\n",
    "sparse_matrix = model.fit_transform(docs_clean)\n",
    "sparse_matrix"
   ]
  },
  {
   "cell_type": "code",
   "execution_count": 116,
   "metadata": {},
   "outputs": [
    {
     "data": {
      "text/plain": [
       "0.13388731869954473"
      ]
     },
     "execution_count": 116,
     "metadata": {},
     "output_type": "execute_result"
    }
   ],
   "source": [
    "3220 * 7340 #(no. of rows x no. of columns)\n",
    "31644 / (3220 * 7340*1.0) * 100 #Percentage of non zero elements"
   ]
  },
  {
   "cell_type": "code",
   "execution_count": 117,
   "metadata": {},
   "outputs": [
    {
     "data": {
      "text/plain": [
       "array([[0, 0, 0, ..., 0, 0, 0],\n",
       "       [0, 0, 0, ..., 0, 0, 0],\n",
       "       [0, 0, 0, ..., 0, 0, 0],\n",
       "       ...,\n",
       "       [0, 0, 0, ..., 0, 0, 0],\n",
       "       [0, 0, 0, ..., 0, 0, 0],\n",
       "       [0, 0, 0, ..., 0, 0, 0]], dtype=int64)"
      ]
     },
     "execution_count": 117,
     "metadata": {},
     "output_type": "execute_result"
    }
   ],
   "source": [
    "sparse_matrix.toarray()"
   ]
  },
  {
   "cell_type": "code",
   "execution_count": 120,
   "metadata": {},
   "outputs": [
    {
     "data": {
      "text/plain": [
       "['aabhar', 'aadhaar', 'aadhar', 'aajtak', 'aamirkhan']"
      ]
     },
     "execution_count": 120,
     "metadata": {},
     "output_type": "execute_result"
    }
   ],
   "source": [
    "model.get_feature_names()[:5]"
   ]
  },
  {
   "cell_type": "code",
   "execution_count": 132,
   "metadata": {},
   "outputs": [],
   "source": [
    "from sklearn.feature_extraction.text import CountVectorizer\n",
    "model = CountVectorizer()\n",
    "sparse_matrix = model.fit_transform(docs_clean)\n",
    "dtm = pd.DataFrame(sparse_matrix.toarray(),\n",
    "                   columns=model.get_feature_names())\n",
    "#print(dtm.shape)\n",
    "#dtm.head(1)"
   ]
  },
  {
   "cell_type": "code",
   "execution_count": 130,
   "metadata": {},
   "outputs": [
    {
     "data": {
      "text/plain": [
       "<matplotlib.axes._subplots.AxesSubplot at 0x1e7cca64320>"
      ]
     },
     "execution_count": 130,
     "metadata": {},
     "output_type": "execute_result"
    },
    {
     "data": {
      "image/png": "[encoded data removed]",
      "text/plain": [
       "<Figure size 432x288 with 1 Axes>"
      ]
     },
     "metadata": {},
     "output_type": "display_data"
    }
   ],
   "source": [
    "dtm.sum().sort_values(ascending=False).head(20)[::-1].plot.barh()"
   ]
  },
  {
   "cell_type": "markdown",
   "metadata": {},
   "source": [
    "### Bigrams"
   ]
  },
  {
   "cell_type": "code",
   "execution_count": 138,
   "metadata": {},
   "outputs": [
    {
     "data": {
      "text/plain": [
       "<matplotlib.axes._subplots.AxesSubplot at 0x1e7a2167b38>"
      ]
     },
     "execution_count": 138,
     "metadata": {},
     "output_type": "execute_result"
    },
    {
     "data": {
      "image/png": "[encoded data removed]",
      "text/plain": [
       "<Figure size 432x288 with 1 Axes>"
      ]
     },
     "metadata": {},
     "output_type": "display_data"
    }
   ],
   "source": [
    "model2 = CountVectorizer(ngram_range=(2,2))\n",
    "sparse_matrix2 = model2.fit_transform(docs_clean)\n",
    "dtm2 = pd.DataFrame(sparse_matrix2.toarray(),\n",
    "                   columns=model2.get_feature_names())\n",
    "#print(dtm.shape)\n",
    "#dtm2.head()\n",
    "dtm2.sum().sort_values(ascending=False).head(20)[::-1].plot.barh()"
   ]
  },
  {
   "cell_type": "code",
   "execution_count": 140,
   "metadata": {},
   "outputs": [],
   "source": [
    "#help(CountVectorizer)"
   ]
  },
  {
   "cell_type": "markdown",
   "metadata": {},
   "source": [
    "### Analysis on Amazon Reviews"
   ]
  },
  {
   "cell_type": "code",
   "execution_count": 144,
   "metadata": {},
   "outputs": [],
   "source": [
    "amazon_data_path = 'https://github.com/skathirmani/datasets/raw/master/amazon_reviews_11.zip'\n",
    "amazon = pd.read_csv(amazon_data_path)\n",
    "amazon['reviewText'] = amazon['reviewText'].fillna('')\n",
    "#amazon.head(1)"
   ]
  },
  {
   "cell_type": "markdown",
   "metadata": {},
   "source": [
    "### Exercises\n",
    "1. Create word cloud using wordclouds api\n",
    "2. Create a bar chart for bag of word analysis\n",
    "3. Building Document Term Matrix\n",
    "4. Identify top 5 large documents\n",
    "5. Identify percentage of zeros in the document term matrix\n",
    "6. Create a bar chart for top 20 bigrams\n",
    "\n",
    "### Optional\n",
    "7. Correlated Features\n",
    "    - Identify top 50 unigrams\n",
    "    - Extract the relevant columns from DTM\n",
    "    - Create a correlation matrix. Identify highly correlated features"
   ]
  },
  {
   "cell_type": "markdown",
   "metadata": {},
   "source": [
    "## Similarity Analysis"
   ]
  },
  {
   "cell_type": "markdown",
   "metadata": {},
   "source": [
    "- Cos(0) = 1\n",
    "- Cos(90) = 0\n",
    "- Cos(180) = -1"
   ]
  },
  {
   "cell_type": "code",
   "execution_count": 152,
   "metadata": {},
   "outputs": [],
   "source": [
    "docs = amazon['reviewText']\n",
    "docs = docs.str.lower()\n",
    "docs = docs.str.replace('[^a-z#@ ]', '')\n",
    "docs = docs.str.split(' ')\n",
    "words_rows = docs.tolist()\n",
    "words_all = []\n",
    "words_rows_clean = []\n",
    "docs_clean = []\n",
    "for row in words_rows:\n",
    "    row_words = [stemmer.stem(word) for word in row if word not in stop_words_all]  \n",
    "    words_rows_clean.append(row_words)\n",
    "    docs_clean.append(' '.join(row_words))\n",
    "    words_all.extend(row_words)\n",
    "\n",
    "    \n",
    "model = CountVectorizer()\n",
    "sparse_matrix = model.fit_transform(docs_clean)\n",
    "dtm = pd.DataFrame(sparse_matrix.toarray(),\n",
    "                   columns=model.get_feature_names())"
   ]
  },
  {
   "cell_type": "code",
   "execution_count": 148,
   "metadata": {},
   "outputs": [],
   "source": [
    "from sklearn.metrics.pairwise import cosine_similarity"
   ]
  },
  {
   "cell_type": "code",
   "execution_count": 161,
   "metadata": {},
   "outputs": [
    {
     "data": {
      "text/plain": [
       "array([[1.        , 0.47979502],\n",
       "       [0.47979502, 1.        ]])"
      ]
     },
     "execution_count": 161,
     "metadata": {},
     "output_type": "execute_result"
    }
   ],
   "source": [
    "cosine_similarity([dtm['nook'], dtm['amazon']])"
   ]
  },
  {
   "cell_type": "code",
   "execution_count": 160,
   "metadata": {},
   "outputs": [
    {
     "data": {
      "text/plain": [
       "0.4797950195876083"
      ]
     },
     "execution_count": 160,
     "metadata": {},
     "output_type": "execute_result"
    }
   ],
   "source": [
    "cosine_similarity([dtm['nook'], dtm['amazon']])[0][1]"
   ]
  },
  {
   "cell_type": "code",
   "execution_count": 176,
   "metadata": {},
   "outputs": [
    {
     "data": {
      "text/plain": [
       "array(['app', 'android', 'invit', 'version', 'netflix', 'seven', 'music',\n",
       "       'pandora', 'bonusbut', 'membershowev'], dtype=object)"
      ]
     },
     "execution_count": 176,
     "metadata": {},
     "output_type": "execute_result"
    }
   ],
   "source": [
    "def get_similar_words(input_term):\n",
    "    df_cs = pd.DataFrame(columns=['input_term', 'term', 'cs'])\n",
    "    for word in dtm.columns:\n",
    "        cs = cosine_similarity([dtm[word], dtm[input_term]])[0][1]\n",
    "        df_cs = df_cs.append({'input_term': input_term,\n",
    "                              'term': word,\n",
    "                              'cs': cs}, ignore_index=True)\n",
    "    df_cs = df_cs.sort_values(by='cs', ascending=False)\n",
    "    df_cs = df_cs[df_cs['input_term'] != df_cs['term']].head(10)\n",
    "    return df_cs['term'].values\n",
    "\n",
    "get_similar_words('tablet')"
   ]
  },
  {
   "cell_type": "markdown",
   "metadata": {},
   "source": [
    "## Twitter Analysis"
   ]
  },
  {
   "cell_type": "code",
   "execution_count": 178,
   "metadata": {},
   "outputs": [],
   "source": [
    "#tweets.head()"
   ]
  },
  {
   "cell_type": "markdown",
   "metadata": {},
   "source": [
    "1. Identify all hashtags used by Modi"
   ]
  },
  {
   "cell_type": "code",
   "execution_count": 182,
   "metadata": {},
   "outputs": [],
   "source": [
    "docs = tweets['text']\n",
    "docs = docs.str.lower()\n",
    "docs = docs.str.replace('[^a-z#@ ]', '')\n",
    "docs = docs.str.split(' ')\n",
    "words_rows = docs.tolist()\n",
    "hashtags = []\n",
    "for row in words_rows:\n",
    "    row_hashtags = [word for word in row if word.startswith('#')]\n",
    "    hashtags.extend(row_hashtags)"
   ]
  },
  {
   "cell_type": "code",
   "execution_count": 220,
   "metadata": {},
   "outputs": [
    {
     "data": {
      "text/plain": [
       "#sandeshsoldiers      108\n",
       "#mannkibaat            91\n",
       "#tirangayatra          84\n",
       "#yogaday               53\n",
       "#transformingindia     52\n",
       "dtype: int64"
      ]
     },
     "execution_count": 220,
     "metadata": {},
     "output_type": "execute_result"
    }
   ],
   "source": [
    "top_hashtags = pd.Series(hashtags).value_counts().head()\n",
    "top_hashtags"
   ]
  },
  {
   "cell_type": "code",
   "execution_count": 233,
   "metadata": {},
   "outputs": [
    {
     "data": {
      "text/plain": [
       "Index(['#sandeshsoldiers', '#mannkibaat', '#tirangayatra', '#yogaday',\n",
       "       '#transformingindia'],\n",
       "      dtype='object')"
      ]
     },
     "execution_count": 233,
     "metadata": {},
     "output_type": "execute_result"
    }
   ],
   "source": [
    "top_hashtags.index"
   ]
  },
  {
   "cell_type": "code",
   "execution_count": 187,
   "metadata": {},
   "outputs": [
    {
     "data": {
      "text/plain": [
       "0   2017-01-31 11:00:07\n",
       "1   2017-01-31 10:59:12\n",
       "2   2017-01-31 10:52:33\n",
       "3   2017-01-31 10:52:22\n",
       "4   2017-01-31 10:52:16\n",
       "Name: date, dtype: datetime64[ns]"
      ]
     },
     "execution_count": 187,
     "metadata": {},
     "output_type": "execute_result"
    }
   ],
   "source": [
    "tweets['date'] = pd.to_datetime(tweets['created_at'])\n",
    "tweets['date'].head()"
   ]
  },
  {
   "cell_type": "code",
   "execution_count": 193,
   "metadata": {},
   "outputs": [
    {
     "data": {
      "text/plain": [
       "(Timestamp('2016-03-09 12:22:10'), Timestamp('2017-01-31 11:00:07'))"
      ]
     },
     "execution_count": 193,
     "metadata": {},
     "output_type": "execute_result"
    }
   ],
   "source": [
    "tweets['date'].min(), tweets['date'].max()"
   ]
  },
  {
   "cell_type": "code",
   "execution_count": 200,
   "metadata": {},
   "outputs": [],
   "source": [
    "tweets['month'] = tweets['date'].dt.month\n",
    "tweets['day'] = tweets['date'].dt.day\n",
    "tweets['year'] = tweets['date'].dt.year\n",
    "tweets['month_name'] = tweets['date'].dt.strftime('%b')\n",
    "tweets['weekday'] = tweets['date'].dt.strftime('%A')"
   ]
  },
  {
   "cell_type": "code",
   "execution_count": 202,
   "metadata": {},
   "outputs": [
    {
     "data": {
      "text/plain": [
       "Jun    413\n",
       "Oct    393\n",
       "Aug    383\n",
       "May    307\n",
       "Jul    303\n",
       "Name: month_name, dtype: int64"
      ]
     },
     "execution_count": 202,
     "metadata": {},
     "output_type": "execute_result"
    }
   ],
   "source": [
    "tweets['month_name'].value_counts().head()"
   ]
  },
  {
   "cell_type": "code",
   "execution_count": 255,
   "metadata": {},
   "outputs": [
    {
     "data": {
      "text/plain": [
       "0    3129\n",
       "1      91\n",
       "Name: mannkibaat, dtype: int64"
      ]
     },
     "execution_count": 255,
     "metadata": {},
     "output_type": "execute_result"
    }
   ],
   "source": [
    "tweets['text'] = tweets['text'].str.lower().str.replace('[^a-z#@ ]', '')\n",
    "tweets['mannkibaat'] = tweets['text'].apply(lambda v: 1 if '#mannkibaat' in \n",
    "                                                            v.split(' ') else 0)\n",
    "tweets['mannkibaat'].value_counts()"
   ]
  },
  {
   "cell_type": "code",
   "execution_count": 245,
   "metadata": {},
   "outputs": [],
   "source": [
    "#tweets[['date', 'sandesh2soldiers']].head()"
   ]
  },
  {
   "cell_type": "code",
   "execution_count": 246,
   "metadata": {},
   "outputs": [],
   "source": [
    "#tweets.groupby('month')['sandesh2soldiers'].sum()"
   ]
  },
  {
   "cell_type": "code",
   "execution_count": 256,
   "metadata": {},
   "outputs": [
    {
     "data": {
      "text/plain": [
       "<matplotlib.axes._subplots.AxesSubplot at 0x1e7aa5a30b8>"
      ]
     },
     "execution_count": 256,
     "metadata": {},
     "output_type": "execute_result"
    },
    {
     "data": {
      "image/png": "[encoded data removed]",
      "text/plain": [
       "<Figure size 432x288 with 1 Axes>"
      ]
     },
     "metadata": {},
     "output_type": "display_data"
    }
   ],
   "source": [
    "tweets.index = tweets['date']\n",
    "tweets.resample('1M')['mannkibaat'].sum().plot.line()"
   ]
  },
  {
   "cell_type": "code",
   "execution_count": null,
   "metadata": {},
   "outputs": [],
   "source": [
    "nltk.download()"
   ]
  }
 ],
 "metadata": {
  "kernelspec": {
   "display_name": "Python 3",
   "language": "python",
   "name": "python3"
  },
  "language_info": {
   "codemirror_mode": {
    "name": "ipython",
    "version": 3
   },
   "file_extension": ".py",
   "mimetype": "text/x-python",
   "name": "python",
   "nbconvert_exporter": "python",
   "pygments_lexer": "ipython3",
   "version": "3.6.5"
  }
 },
 "nbformat": 4,
 "nbformat_minor": 2
}
