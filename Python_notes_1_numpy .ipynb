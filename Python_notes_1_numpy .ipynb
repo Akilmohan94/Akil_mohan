{
 "cells": [
  {
   "cell_type": "code",
   "execution_count": 1,
   "metadata": {
    "colab": {},
    "colab_type": "code",
    "id": "bxDEhuxYaq84"
   },
   "outputs": [],
   "source": [
    "import numpy as np"
   ]
  },
  {
   "cell_type": "markdown",
   "metadata": {
    "colab_type": "text",
    "id": "68khGiVxYo7H"
   },
   "source": [
    "## Comparing performance with lists, etc."
   ]
  },
  {
   "cell_type": "code",
   "execution_count": 2,
   "metadata": {
    "colab": {},
    "colab_type": "code",
    "id": "Eit9EIf7Ybr6"
   },
   "outputs": [],
   "source": [
    "N = 1000"
   ]
  },
  {
   "cell_type": "code",
   "execution_count": 3,
   "metadata": {
    "colab": {
     "base_uri": "https://localhost:8080/",
     "height": 50
    },
    "colab_type": "code",
    "id": "Db9hU3X_YuVe",
    "outputId": "15fc805f-cfa3-4ecd-8384-742f77154f4e"
   },
   "outputs": [
    {
     "name": "stdout",
     "output_type": "stream",
     "text": [
      "Wall time: 0 ns\n"
     ]
    }
   ],
   "source": [
    "%%time\n",
    "list_ = list(range(N))\n",
    "for i in range(N):\n",
    "    list_[i] = list_[i] * list_[i]"
   ]
  },
  {
   "cell_type": "code",
   "execution_count": 4,
   "metadata": {
    "colab": {
     "base_uri": "https://localhost:8080/",
     "height": 50
    },
    "colab_type": "code",
    "id": "Gv3M483RZAB3",
    "outputId": "3c3784e9-b437-4cf0-ac15-b11964ef46ae"
   },
   "outputs": [
    {
     "name": "stdout",
     "output_type": "stream",
     "text": [
      "Wall time: 0 ns\n"
     ]
    }
   ],
   "source": [
    "%%time\n",
    "list_ = list(range(N))\n",
    "list_ = [item * item for item in list_]"
   ]
  },
  {
   "cell_type": "code",
   "execution_count": 5,
   "metadata": {
    "colab": {
     "base_uri": "https://localhost:8080/",
     "height": 50
    },
    "colab_type": "code",
    "id": "2bcmoyBwZe4r",
    "outputId": "0a2ef9dc-f70f-4916-e5c3-89d3cffe82c6"
   },
   "outputs": [
    {
     "name": "stdout",
     "output_type": "stream",
     "text": [
      "Wall time: 0 ns\n"
     ]
    }
   ],
   "source": [
    "%%time\n",
    "list_ = list(range(N))\n",
    "list_ = map(lambda x: x * x, list_)"
   ]
  },
  {
   "cell_type": "code",
   "execution_count": 6,
   "metadata": {
    "colab": {
     "base_uri": "https://localhost:8080/",
     "height": 50
    },
    "colab_type": "code",
    "id": "JGzpwFZnaCOl",
    "outputId": "2504cb1d-3642-4ae4-c9f7-3e5d47916960"
   },
   "outputs": [
    {
     "name": "stdout",
     "output_type": "stream",
     "text": [
      "Wall time: 0 ns\n"
     ]
    }
   ],
   "source": [
    "%%time\n",
    "list_ = list(range(N))\n",
    "list_sum = 0\n",
    "for item in list_:\n",
    "    list_sum += item"
   ]
  },
  {
   "cell_type": "code",
   "execution_count": 7,
   "metadata": {
    "colab": {
     "base_uri": "https://localhost:8080/",
     "height": 50
    },
    "colab_type": "code",
    "id": "5c4L-NuLacK9",
    "outputId": "6033d14a-6da7-472b-8874-f6ad059d7efc"
   },
   "outputs": [
    {
     "name": "stdout",
     "output_type": "stream",
     "text": [
      "Wall time: 0 ns\n"
     ]
    }
   ],
   "source": [
    "%%time\n",
    "list_ = list(range(N))\n",
    "list_sum = sum(list_)"
   ]
  },
  {
   "cell_type": "code",
   "execution_count": 8,
   "metadata": {
    "colab": {
     "base_uri": "https://localhost:8080/",
     "height": 50
    },
    "colab_type": "code",
    "id": "OwYuugJ2a9dS",
    "outputId": "f532ca51-59b0-4a6e-b78a-98aa15e7e9bb"
   },
   "outputs": [
    {
     "name": "stdout",
     "output_type": "stream",
     "text": [
      "Wall time: 0 ns\n"
     ]
    }
   ],
   "source": [
    "%%time\n",
    "arr = np.arange(N)\n",
    "arr = arr * arr"
   ]
  },
  {
   "cell_type": "code",
   "execution_count": 9,
   "metadata": {
    "colab": {
     "base_uri": "https://localhost:8080/",
     "height": 50
    },
    "colab_type": "code",
    "id": "cjNUo9uhbS0V",
    "outputId": "db14ffa9-e56e-4de7-ebd7-e82ada1012d1"
   },
   "outputs": [
    {
     "name": "stdout",
     "output_type": "stream",
     "text": [
      "Wall time: 1 ms\n"
     ]
    }
   ],
   "source": [
    "%%time\n",
    "arr = np.arange(N)\n",
    "arr_sum = np.sum(arr)"
   ]
  },
  {
   "cell_type": "markdown",
   "metadata": {
    "colab_type": "text",
    "id": "M_mCFv0jvYeA"
   },
   "source": [
    "Converting in to array gives a fast output\n",
    "***"
   ]
  },
  {
   "cell_type": "markdown",
   "metadata": {
    "colab_type": "text",
    "id": "NLGCUANycFKt"
   },
   "source": [
    "# Creating np Arrays"
   ]
  },
  {
   "cell_type": "code",
   "execution_count": 10,
   "metadata": {
    "colab": {
     "base_uri": "https://localhost:8080/",
     "height": 34
    },
    "colab_type": "code",
    "id": "Evm6nUDNbd6M",
    "outputId": "6ef29757-3ff3-4679-b9e2-3301e516ce10"
   },
   "outputs": [
    {
     "data": {
      "text/plain": [
       "array([0, 1, 2, 3, 4])"
      ]
     },
     "execution_count": 10,
     "metadata": {},
     "output_type": "execute_result"
    }
   ],
   "source": [
    "arr = np.arange(5)\n",
    "arr"
   ]
  },
  {
   "cell_type": "code",
   "execution_count": 11,
   "metadata": {
    "colab": {
     "base_uri": "https://localhost:8080/",
     "height": 34
    },
    "colab_type": "code",
    "id": "b3Wx0sQlcKQC",
    "outputId": "369d3929-71ba-4a10-c27b-581931eebf1c"
   },
   "outputs": [
    {
     "name": "stdout",
     "output_type": "stream",
     "text": [
      "[0 1 2 3 4] <class 'numpy.ndarray'>\n"
     ]
    }
   ],
   "source": [
    "print(arr, type(arr))"
   ]
  },
  {
   "cell_type": "code",
   "execution_count": 12,
   "metadata": {
    "colab": {},
    "colab_type": "code",
    "id": "uXufCplPcMIb"
   },
   "outputs": [],
   "source": [
    "arr = np.array([0.0, 2, 4, 6, 8])"
   ]
  },
  {
   "cell_type": "code",
   "execution_count": 13,
   "metadata": {
    "colab": {
     "base_uri": "https://localhost:8080/",
     "height": 34
    },
    "colab_type": "code",
    "id": "XRYdEBlXcYGg",
    "outputId": "e9446bae-af52-44c8-a52d-0865e4136f1c"
   },
   "outputs": [
    {
     "name": "stdout",
     "output_type": "stream",
     "text": [
      "[0. 2. 4. 6. 8.] <class 'numpy.ndarray'>\n"
     ]
    }
   ],
   "source": [
    "print(arr, type(arr))"
   ]
  },
  {
   "cell_type": "code",
   "execution_count": 14,
   "metadata": {
    "colab": {
     "base_uri": "https://localhost:8080/",
     "height": 34
    },
    "colab_type": "code",
    "id": "plOZLyMPcZH8",
    "outputId": "379a64f8-f4e7-4911-f107-5c81ccc46109"
   },
   "outputs": [
    {
     "data": {
      "text/plain": [
       "array([0., 2., 4., 6., 8.])"
      ]
     },
     "execution_count": 14,
     "metadata": {},
     "output_type": "execute_result"
    }
   ],
   "source": [
    "arr"
   ]
  },
  {
   "cell_type": "code",
   "execution_count": 15,
   "metadata": {
    "colab": {
     "base_uri": "https://localhost:8080/",
     "height": 34
    },
    "colab_type": "code",
    "id": "44OjxdEJchb8",
    "outputId": "6a7bf9e3-6583-459d-9719-81d252b44602"
   },
   "outputs": [
    {
     "data": {
      "text/plain": [
       "dtype('float64')"
      ]
     },
     "execution_count": 15,
     "metadata": {},
     "output_type": "execute_result"
    }
   ],
   "source": [
    "arr.dtype"
   ]
  },
  {
   "cell_type": "code",
   "execution_count": 16,
   "metadata": {
    "colab": {
     "base_uri": "https://localhost:8080/",
     "height": 34
    },
    "colab_type": "code",
    "id": "aLs3mkBycnmt",
    "outputId": "7d4994da-c5c7-426a-bdb4-10a6731e77e4"
   },
   "outputs": [
    {
     "data": {
      "text/plain": [
       "1"
      ]
     },
     "execution_count": 16,
     "metadata": {},
     "output_type": "execute_result"
    }
   ],
   "source": [
    "arr.ndim"
   ]
  },
  {
   "cell_type": "code",
   "execution_count": 17,
   "metadata": {
    "colab": {
     "base_uri": "https://localhost:8080/",
     "height": 34
    },
    "colab_type": "code",
    "id": "M_45DXNecwbz",
    "outputId": "29422e4b-331c-4af0-f0e5-19eb6826b916"
   },
   "outputs": [
    {
     "data": {
      "text/plain": [
       "(5,)"
      ]
     },
     "execution_count": 17,
     "metadata": {},
     "output_type": "execute_result"
    }
   ],
   "source": [
    "arr.shape"
   ]
  },
  {
   "cell_type": "code",
   "execution_count": 18,
   "metadata": {
    "colab": {
     "base_uri": "https://localhost:8080/",
     "height": 34
    },
    "colab_type": "code",
    "id": "wyWLuERBcy4W",
    "outputId": "33b62530-5f87-4a11-a253-b3788cb6f6be"
   },
   "outputs": [
    {
     "data": {
      "text/plain": [
       "5"
      ]
     },
     "execution_count": 18,
     "metadata": {},
     "output_type": "execute_result"
    }
   ],
   "source": [
    "arr.size"
   ]
  },
  {
   "cell_type": "code",
   "execution_count": 19,
   "metadata": {
    "colab": {
     "base_uri": "https://localhost:8080/",
     "height": 34
    },
    "colab_type": "code",
    "id": "Fqj2_W-Sc3MG",
    "outputId": "d663e917-c024-4b09-be77-d27f60f2f101"
   },
   "outputs": [
    {
     "data": {
      "text/plain": [
       "8"
      ]
     },
     "execution_count": 19,
     "metadata": {},
     "output_type": "execute_result"
    }
   ],
   "source": [
    "arr.itemsize"
   ]
  },
  {
   "cell_type": "code",
   "execution_count": 20,
   "metadata": {
    "colab": {},
    "colab_type": "code",
    "id": "pLeTXokgc62S"
   },
   "outputs": [],
   "source": [
    "arr2d = np.array([\n",
    "                  [1, 2, 3], \n",
    "                  [4, 5, 6]\n",
    "])"
   ]
  },
  {
   "cell_type": "code",
   "execution_count": 21,
   "metadata": {
    "colab": {
     "base_uri": "https://localhost:8080/",
     "height": 50
    },
    "colab_type": "code",
    "id": "34LVKLSjdanx",
    "outputId": "2b146cac-8aff-4516-bdda-90dc391c3d89"
   },
   "outputs": [
    {
     "data": {
      "text/plain": [
       "array([[1, 2, 3],\n",
       "       [4, 5, 6]])"
      ]
     },
     "execution_count": 21,
     "metadata": {},
     "output_type": "execute_result"
    }
   ],
   "source": [
    "arr2d"
   ]
  },
  {
   "cell_type": "code",
   "execution_count": 22,
   "metadata": {
    "colab": {
     "base_uri": "https://localhost:8080/",
     "height": 34
    },
    "colab_type": "code",
    "id": "LRVMTi7mdcHH",
    "outputId": "8b16ae64-b1ed-4ed2-f60a-561319443e29"
   },
   "outputs": [
    {
     "data": {
      "text/plain": [
       "2"
      ]
     },
     "execution_count": 22,
     "metadata": {},
     "output_type": "execute_result"
    }
   ],
   "source": [
    "arr2d.ndim"
   ]
  },
  {
   "cell_type": "code",
   "execution_count": 23,
   "metadata": {
    "colab": {
     "base_uri": "https://localhost:8080/",
     "height": 34
    },
    "colab_type": "code",
    "id": "Ma9WfzVcdeA5",
    "outputId": "917a238f-eeed-4812-ae47-c1b3d931a0e8"
   },
   "outputs": [
    {
     "data": {
      "text/plain": [
       "(2, 3)"
      ]
     },
     "execution_count": 23,
     "metadata": {},
     "output_type": "execute_result"
    }
   ],
   "source": [
    "arr2d.shape"
   ]
  },
  {
   "cell_type": "code",
   "execution_count": 24,
   "metadata": {
    "colab": {
     "base_uri": "https://localhost:8080/",
     "height": 34
    },
    "colab_type": "code",
    "id": "Gs_AZjoddfHj",
    "outputId": "8850a284-ae1e-4e7d-9dd3-939ff7743c9c"
   },
   "outputs": [
    {
     "data": {
      "text/plain": [
       "6"
      ]
     },
     "execution_count": 24,
     "metadata": {},
     "output_type": "execute_result"
    }
   ],
   "source": [
    "arr2d.size"
   ]
  },
  {
   "cell_type": "code",
   "execution_count": 25,
   "metadata": {
    "colab": {},
    "colab_type": "code",
    "id": "WxJvJYrIdnBf"
   },
   "outputs": [],
   "source": [
    "arr3d = np.array([\n",
    "                  [\n",
    "                   [1, 2, 3],\n",
    "                   [4, 5, 6]\n",
    "                  ],\n",
    "                  [\n",
    "                   [7, 8, 9], \n",
    "                   [10, 11, 12]\n",
    "                  ]\n",
    "])"
   ]
  },
  {
   "cell_type": "code",
   "execution_count": 26,
   "metadata": {
    "colab": {
     "base_uri": "https://localhost:8080/",
     "height": 101
    },
    "colab_type": "code",
    "id": "-MAbEurMd57w",
    "outputId": "51f4eb42-0bbe-430f-ac0e-a5ffad8bdb34"
   },
   "outputs": [
    {
     "data": {
      "text/plain": [
       "array([[[ 1,  2,  3],\n",
       "        [ 4,  5,  6]],\n",
       "\n",
       "       [[ 7,  8,  9],\n",
       "        [10, 11, 12]]])"
      ]
     },
     "execution_count": 26,
     "metadata": {},
     "output_type": "execute_result"
    }
   ],
   "source": [
    "arr3d"
   ]
  },
  {
   "cell_type": "code",
   "execution_count": 27,
   "metadata": {
    "colab": {
     "base_uri": "https://localhost:8080/",
     "height": 34
    },
    "colab_type": "code",
    "id": "dE9OjxSrd638",
    "outputId": "aef2299c-a8e3-42ec-9a9e-dfb74f9fdcf0"
   },
   "outputs": [
    {
     "data": {
      "text/plain": [
       "(2, 2, 3)"
      ]
     },
     "execution_count": 27,
     "metadata": {},
     "output_type": "execute_result"
    }
   ],
   "source": [
    "arr3d.shape"
   ]
  },
  {
   "cell_type": "code",
   "execution_count": 28,
   "metadata": {
    "colab": {
     "base_uri": "https://localhost:8080/",
     "height": 34
    },
    "colab_type": "code",
    "id": "0fa892EEd__8",
    "outputId": "d82c791c-4982-4d11-c4d1-9256bc54f259"
   },
   "outputs": [
    {
     "data": {
      "text/plain": [
       "3"
      ]
     },
     "execution_count": 28,
     "metadata": {},
     "output_type": "execute_result"
    }
   ],
   "source": [
    "arr3d.ndim"
   ]
  },
  {
   "cell_type": "code",
   "execution_count": 29,
   "metadata": {
    "colab": {
     "base_uri": "https://localhost:8080/",
     "height": 34
    },
    "colab_type": "code",
    "id": "j92cN38DeBqQ",
    "outputId": "774f0ee6-a244-4398-a52a-bd0b3168ccd0"
   },
   "outputs": [
    {
     "data": {
      "text/plain": [
       "12"
      ]
     },
     "execution_count": 29,
     "metadata": {},
     "output_type": "execute_result"
    }
   ],
   "source": [
    "arr3d.size"
   ]
  },
  {
   "cell_type": "code",
   "execution_count": 30,
   "metadata": {
    "colab": {
     "base_uri": "https://localhost:8080/",
     "height": 134
    },
    "colab_type": "code",
    "id": "OMN9ucDEeCzz",
    "outputId": "97b7b5a1-3b07-4331-b5ea-8d536b577fb9"
   },
   "outputs": [
    {
     "data": {
      "text/plain": [
       "array([[[1., 1., 1., 1.],\n",
       "        [1., 1., 1., 1.],\n",
       "        [1., 1., 1., 1.]],\n",
       "\n",
       "       [[1., 1., 1., 1.],\n",
       "        [1., 1., 1., 1.],\n",
       "        [1., 1., 1., 1.]]])"
      ]
     },
     "execution_count": 30,
     "metadata": {},
     "output_type": "execute_result"
    }
   ],
   "source": [
    "np.ones((2, 3, 4))  # n,r,c"
   ]
  },
  {
   "cell_type": "code",
   "execution_count": 31,
   "metadata": {
    "colab": {
     "base_uri": "https://localhost:8080/",
     "height": 134
    },
    "colab_type": "code",
    "id": "i52W2q1beS79",
    "outputId": "6fcff18c-bd64-4c9f-dbd0-190b3d6aeef6"
   },
   "outputs": [
    {
     "data": {
      "text/plain": [
       "array([[[1729., 1729., 1729., 1729.],\n",
       "        [1729., 1729., 1729., 1729.],\n",
       "        [1729., 1729., 1729., 1729.]],\n",
       "\n",
       "       [[1729., 1729., 1729., 1729.],\n",
       "        [1729., 1729., 1729., 1729.],\n",
       "        [1729., 1729., 1729., 1729.]]])"
      ]
     },
     "execution_count": 31,
     "metadata": {},
     "output_type": "execute_result"
    }
   ],
   "source": [
    "1729 * np.ones((2, 3, 4))"
   ]
  },
  {
   "cell_type": "code",
   "execution_count": 32,
   "metadata": {
    "colab": {
     "base_uri": "https://localhost:8080/",
     "height": 134
    },
    "colab_type": "code",
    "id": "nvZvkdYUeZiu",
    "outputId": "9edb5129-61e4-4080-b286-9d9c4bfdf0ce"
   },
   "outputs": [
    {
     "data": {
      "text/plain": [
       "array([[[0., 0., 0., 0.],\n",
       "        [0., 0., 0., 0.],\n",
       "        [0., 0., 0., 0.]],\n",
       "\n",
       "       [[0., 0., 0., 0.],\n",
       "        [0., 0., 0., 0.],\n",
       "        [0., 0., 0., 0.]]])"
      ]
     },
     "execution_count": 32,
     "metadata": {},
     "output_type": "execute_result"
    }
   ],
   "source": [
    "np.zeros((2, 3, 4))"
   ]
  },
  {
   "cell_type": "code",
   "execution_count": 33,
   "metadata": {
    "colab": {
     "base_uri": "https://localhost:8080/",
     "height": 50
    },
    "colab_type": "code",
    "id": "GFxPoEK6ef6h",
    "outputId": "6ecd036d-db52-4d39-ba86-fd8969a2c2d7"
   },
   "outputs": [
    {
     "data": {
      "text/plain": [
       "array([[-1.82601733, -0.98699593,  0.28705993],\n",
       "       [-1.8927847 , -1.48095999, -0.00655038]])"
      ]
     },
     "execution_count": 33,
     "metadata": {},
     "output_type": "execute_result"
    }
   ],
   "source": [
    "np.random.randn(2, 3) # Create random number with 2 rows and 3 cols. "
   ]
  },
  {
   "cell_type": "code",
   "execution_count": 34,
   "metadata": {
    "colab": {
     "base_uri": "https://localhost:8080/",
     "height": 50
    },
    "colab_type": "code",
    "id": "8Mpt-djQe2OV",
    "outputId": "6e9b5a29-8ac3-42b2-af8b-c394d088dd8d"
   },
   "outputs": [
    {
     "data": {
      "text/plain": [
       "array([[0.13894564, 0.46026175, 0.62142289],\n",
       "       [0.87000816, 0.13420504, 0.06690909]])"
      ]
     },
     "execution_count": 34,
     "metadata": {},
     "output_type": "execute_result"
    }
   ],
   "source": [
    "np.random.rand(2, 3)"
   ]
  },
  {
   "cell_type": "code",
   "execution_count": 35,
   "metadata": {
    "colab": {
     "base_uri": "https://localhost:8080/",
     "height": 185
    },
    "colab_type": "code",
    "id": "Ymh-OjaNfI9m",
    "outputId": "af96e7c3-0334-418c-b4f5-d9c16af340e2"
   },
   "outputs": [
    {
     "data": {
      "text/plain": [
       "array([[0.82616902],\n",
       "       [0.25607425],\n",
       "       [0.30419213],\n",
       "       [0.78356189],\n",
       "       [0.08529152],\n",
       "       [0.90612762],\n",
       "       [0.62033514],\n",
       "       [0.81574387],\n",
       "       [0.27085198],\n",
       "       [0.46047162]])"
      ]
     },
     "execution_count": 35,
     "metadata": {},
     "output_type": "execute_result"
    }
   ],
   "source": [
    "np.random.rand(10, 1) "
   ]
  },
  {
   "cell_type": "code",
   "execution_count": 36,
   "metadata": {
    "colab": {
     "base_uri": "https://localhost:8080/",
     "height": 50
    },
    "colab_type": "code",
    "id": "4mu-m3IWxHgQ",
    "outputId": "6217f122-e84a-4bae-b846-15fbef963995"
   },
   "outputs": [
    {
     "data": {
      "text/plain": [
       "array([[18, 13, 14],\n",
       "       [10, 13, 15]])"
      ]
     },
     "execution_count": 36,
     "metadata": {},
     "output_type": "execute_result"
    }
   ],
   "source": [
    "np.random.randint(10,20,(2,3)) # Creates random integers between 10 to 20 in the given shape (2,3)"
   ]
  },
  {
   "cell_type": "code",
   "execution_count": 37,
   "metadata": {
    "colab": {
     "base_uri": "https://localhost:8080/",
     "height": 34
    },
    "colab_type": "code",
    "id": "jXlwR9JbfdmT",
    "outputId": "3d9c8bb6-9f46-4ec1-8213-8975203f226c"
   },
   "outputs": [
    {
     "data": {
      "text/plain": [
       "array([ 7, 14, 21, 28, 35, 42, 49, 56, 63, 70])"
      ]
     },
     "execution_count": 37,
     "metadata": {},
     "output_type": "execute_result"
    }
   ],
   "source": [
    "np.arange(7, 71, 7) # creates a range from 7 to 70 not 71 due to the indexing rules with 7 intervals. "
   ]
  },
  {
   "cell_type": "code",
   "execution_count": 38,
   "metadata": {
    "colab": {
     "base_uri": "https://localhost:8080/",
     "height": 34
    },
    "colab_type": "code",
    "id": "X9xL5fSRf0D4",
    "outputId": "d8a1be30-1f10-46b4-e93f-18e98255ba2d"
   },
   "outputs": [
    {
     "data": {
      "text/plain": [
       "array([ 7., 14., 21., 28., 35., 42., 49., 56., 63., 70.])"
      ]
     },
     "execution_count": 38,
     "metadata": {},
     "output_type": "execute_result"
    }
   ],
   "source": [
    "np.linspace(7, 70, 10) # Creates evenly spaced range. "
   ]
  },
  {
   "cell_type": "code",
   "execution_count": 39,
   "metadata": {
    "colab": {
     "base_uri": "https://localhost:8080/",
     "height": 185
    },
    "colab_type": "code",
    "id": "HirzuQn-xsdj",
    "outputId": "860d3ab0-e7e3-4f14-ca34-a4439a8cb1fe"
   },
   "outputs": [
    {
     "data": {
      "text/plain": [
       "array([ 1.        ,  1.18367347,  1.36734694,  1.55102041,  1.73469388,\n",
       "        1.91836735,  2.10204082,  2.28571429,  2.46938776,  2.65306122,\n",
       "        2.83673469,  3.02040816,  3.20408163,  3.3877551 ,  3.57142857,\n",
       "        3.75510204,  3.93877551,  4.12244898,  4.30612245,  4.48979592,\n",
       "        4.67346939,  4.85714286,  5.04081633,  5.2244898 ,  5.40816327,\n",
       "        5.59183673,  5.7755102 ,  5.95918367,  6.14285714,  6.32653061,\n",
       "        6.51020408,  6.69387755,  6.87755102,  7.06122449,  7.24489796,\n",
       "        7.42857143,  7.6122449 ,  7.79591837,  7.97959184,  8.16326531,\n",
       "        8.34693878,  8.53061224,  8.71428571,  8.89795918,  9.08163265,\n",
       "        9.26530612,  9.44897959,  9.63265306,  9.81632653, 10.        ])"
      ]
     },
     "execution_count": 39,
     "metadata": {},
     "output_type": "execute_result"
    }
   ],
   "source": [
    "np.linspace(1,10) # default number of values is 50. "
   ]
  },
  {
   "cell_type": "code",
   "execution_count": 40,
   "metadata": {
    "colab": {
     "base_uri": "https://localhost:8080/",
     "height": 34
    },
    "colab_type": "code",
    "id": "sSvzx7sAf_4O",
    "outputId": "065b0517-a2ec-46ce-83b6-65c89408092f"
   },
   "outputs": [
    {
     "data": {
      "text/plain": [
       "array([ True, False,  True,  True])"
      ]
     },
     "execution_count": 40,
     "metadata": {},
     "output_type": "execute_result"
    }
   ],
   "source": [
    "np.array([True, False, True, True])"
   ]
  },
  {
   "cell_type": "code",
   "execution_count": 41,
   "metadata": {
    "colab": {},
    "colab_type": "code",
    "id": "RFpSPRFWgIqy"
   },
   "outputs": [],
   "source": [
    "str_arr = np.array(['1.4', '2.1', '1.1'])"
   ]
  },
  {
   "cell_type": "code",
   "execution_count": 42,
   "metadata": {
    "colab": {},
    "colab_type": "code",
    "id": "kZGLBBIQgNwu"
   },
   "outputs": [],
   "source": [
    "arr = np.array(str_arr, dtype='float')"
   ]
  },
  {
   "cell_type": "code",
   "execution_count": 43,
   "metadata": {
    "colab": {
     "base_uri": "https://localhost:8080/",
     "height": 34
    },
    "colab_type": "code",
    "id": "TiadxxuigdAb",
    "outputId": "60ddcc65-1907-4cd1-aba8-dce6f445e2dc"
   },
   "outputs": [
    {
     "name": "stdout",
     "output_type": "stream",
     "text": [
      "[1.4 2.1 1.1] <class 'numpy.ndarray'>\n"
     ]
    }
   ],
   "source": [
    "print(arr,type(arr))"
   ]
  },
  {
   "cell_type": "markdown",
   "metadata": {
    "colab_type": "text",
    "id": "ok07o0hHhe0k"
   },
   "source": [
    "## indexing"
   ]
  },
  {
   "cell_type": "code",
   "execution_count": 44,
   "metadata": {
    "colab": {},
    "colab_type": "code",
    "id": "4VMwRGXfgfNL"
   },
   "outputs": [],
   "source": [
    "arr3d = np.array([\n",
    "                  [\n",
    "                   [1, 2, 3],\n",
    "                   [4, 5, 6]\n",
    "                  ],\n",
    "                  [\n",
    "                   [7, 8, 9], \n",
    "                   [10, 11, 12]\n",
    "                  ]\n",
    "])"
   ]
  },
  {
   "cell_type": "code",
   "execution_count": 45,
   "metadata": {
    "colab": {
     "base_uri": "https://localhost:8080/",
     "height": 101
    },
    "colab_type": "code",
    "id": "QWv-Y6XODlR3",
    "outputId": "af1ba8d1-946e-4ade-c91d-da7cf62b5720"
   },
   "outputs": [
    {
     "data": {
      "text/plain": [
       "array([[[ 1,  2,  3],\n",
       "        [ 4,  5,  6]],\n",
       "\n",
       "       [[ 7,  8,  9],\n",
       "        [10, 11, 12]]])"
      ]
     },
     "execution_count": 45,
     "metadata": {},
     "output_type": "execute_result"
    }
   ],
   "source": [
    "arr3d"
   ]
  },
  {
   "cell_type": "code",
   "execution_count": 46,
   "metadata": {
    "colab": {
     "base_uri": "https://localhost:8080/",
     "height": 34
    },
    "colab_type": "code",
    "id": "1SBT8VOChkGi",
    "outputId": "e84fee0d-ffb5-44ea-a097-590a81188591"
   },
   "outputs": [
    {
     "data": {
      "text/plain": [
       "7"
      ]
     },
     "execution_count": 46,
     "metadata": {},
     "output_type": "execute_result"
    }
   ],
   "source": [
    "arr3d[1, 0, 0] # Array indexing "
   ]
  },
  {
   "cell_type": "code",
   "execution_count": 47,
   "metadata": {
    "colab": {
     "base_uri": "https://localhost:8080/",
     "height": 34
    },
    "colab_type": "code",
    "id": "VQJP9lc1Ds0p",
    "outputId": "2abf8403-12e6-43c1-f1c8-e0ee78f93613"
   },
   "outputs": [
    {
     "data": {
      "text/plain": [
       "2"
      ]
     },
     "execution_count": 47,
     "metadata": {},
     "output_type": "execute_result"
    }
   ],
   "source": [
    "arr3d[0,0,1]"
   ]
  },
  {
   "cell_type": "code",
   "execution_count": 48,
   "metadata": {
    "colab": {
     "base_uri": "https://localhost:8080/",
     "height": 34
    },
    "colab_type": "code",
    "id": "rE-cD0LPhrbJ",
    "outputId": "a2f8f414-bdc2-494d-9a65-ce3e545306a5"
   },
   "outputs": [
    {
     "data": {
      "text/plain": [
       "9"
      ]
     },
     "execution_count": 48,
     "metadata": {},
     "output_type": "execute_result"
    }
   ],
   "source": [
    "arr3d[1, 0, 2]"
   ]
  },
  {
   "cell_type": "code",
   "execution_count": 49,
   "metadata": {
    "colab": {
     "base_uri": "https://localhost:8080/",
     "height": 34
    },
    "colab_type": "code",
    "id": "mLFyHS7zht2J",
    "outputId": "57acce29-555e-4f12-8261-d98a9b47f1b7"
   },
   "outputs": [
    {
     "data": {
      "text/plain": [
       "9"
      ]
     },
     "execution_count": 49,
     "metadata": {},
     "output_type": "execute_result"
    }
   ],
   "source": [
    "i = 1\n",
    "j = 0\n",
    "k = 2\n",
    "arr3d[i, j, k]"
   ]
  },
  {
   "cell_type": "code",
   "execution_count": 50,
   "metadata": {
    "colab": {
     "base_uri": "https://localhost:8080/",
     "height": 50
    },
    "colab_type": "code",
    "id": "XmLT4eulh0aH",
    "outputId": "5f15c98e-88ca-4f2b-af25-add7878142aa"
   },
   "outputs": [
    {
     "data": {
      "text/plain": [
       "array([[ 7,  8,  9],\n",
       "       [10, 11, 12]])"
      ]
     },
     "execution_count": 50,
     "metadata": {},
     "output_type": "execute_result"
    }
   ],
   "source": [
    "arr3d[1, :, :] "
   ]
  },
  {
   "cell_type": "code",
   "execution_count": 51,
   "metadata": {
    "colab": {
     "base_uri": "https://localhost:8080/",
     "height": 50
    },
    "colab_type": "code",
    "id": "VnlCRvchh5pU",
    "outputId": "4708fbe8-2800-4084-e333-e8f9f8cedc9a"
   },
   "outputs": [
    {
     "data": {
      "text/plain": [
       "array([[ 4,  5,  6],\n",
       "       [10, 11, 12]])"
      ]
     },
     "execution_count": 51,
     "metadata": {},
     "output_type": "execute_result"
    }
   ],
   "source": [
    "arr3d[:, 1, :]"
   ]
  },
  {
   "cell_type": "code",
   "execution_count": 52,
   "metadata": {
    "colab": {
     "base_uri": "https://localhost:8080/",
     "height": 109
    },
    "colab_type": "code",
    "id": "CpWBFasIh91a",
    "outputId": "f37cb2a8-ee09-4e43-84e3-42e12cff7a70"
   },
   "outputs": [
    {
     "data": {
      "text/plain": [
       "array([[[ 1,  2],\n",
       "        [ 4,  5]],\n",
       "\n",
       "       [[ 7,  8],\n",
       "        [10, 11]]])"
      ]
     },
     "execution_count": 52,
     "metadata": {},
     "output_type": "execute_result"
    }
   ],
   "source": [
    "arr3d[:, :, 0:2]"
   ]
  },
  {
   "cell_type": "code",
   "execution_count": 53,
   "metadata": {
    "colab": {
     "base_uri": "https://localhost:8080/",
     "height": 109
    },
    "colab_type": "code",
    "id": "JB1yfo7LiG8U",
    "outputId": "3d99eb15-76b1-40bf-9b32-4580b1fdb6b7"
   },
   "outputs": [
    {
     "data": {
      "text/plain": [
       "array([[[False,  True, False],\n",
       "        [ True, False,  True]],\n",
       "\n",
       "       [[False,  True, False],\n",
       "        [ True, False,  True]]])"
      ]
     },
     "execution_count": 53,
     "metadata": {},
     "output_type": "execute_result"
    }
   ],
   "source": [
    "arr3d % 2 == 0"
   ]
  },
  {
   "cell_type": "code",
   "execution_count": 54,
   "metadata": {
    "colab": {
     "base_uri": "https://localhost:8080/",
     "height": 35
    },
    "colab_type": "code",
    "id": "nZItXOJTidcC",
    "outputId": "0b9703da-02f1-4cb4-d894-04125faf9106"
   },
   "outputs": [
    {
     "data": {
      "text/plain": [
       "array([ 1,  3,  5,  7,  9, 11])"
      ]
     },
     "execution_count": 54,
     "metadata": {},
     "output_type": "execute_result"
    }
   ],
   "source": [
    "arr3d[arr3d % 2 == 1]"
   ]
  },
  {
   "cell_type": "code",
   "execution_count": 55,
   "metadata": {
    "colab": {
     "base_uri": "https://localhost:8080/",
     "height": 35
    },
    "colab_type": "code",
    "id": "UUMa3DzGisvm",
    "outputId": "9ed7b824-6693-4ed3-c34a-525d883660ff"
   },
   "outputs": [
    {
     "data": {
      "text/plain": [
       "array([ 5,  7,  9, 11])"
      ]
     },
     "execution_count": 55,
     "metadata": {},
     "output_type": "execute_result"
    }
   ],
   "source": [
    "arr3d[(arr3d % 2 == 1) & (arr3d > 3)]"
   ]
  },
  {
   "cell_type": "code",
   "execution_count": 56,
   "metadata": {
    "colab": {},
    "colab_type": "code",
    "id": "sNpho7Fii71I"
   },
   "outputs": [],
   "source": [
    "arr_slice = arr3d[:, :, 0:2]"
   ]
  },
  {
   "cell_type": "code",
   "execution_count": 57,
   "metadata": {
    "colab": {
     "base_uri": "https://localhost:8080/",
     "height": 35
    },
    "colab_type": "code",
    "id": "e0tImPWtjKZq",
    "outputId": "1a2d4df5-ef18-4dca-90ce-1a567ebc1dea"
   },
   "outputs": [
    {
     "name": "stdout",
     "output_type": "stream",
     "text": [
      "<class 'numpy.ndarray'>\n"
     ]
    }
   ],
   "source": [
    "print(type(arr_slice))"
   ]
  },
  {
   "cell_type": "code",
   "execution_count": 58,
   "metadata": {
    "colab": {
     "base_uri": "https://localhost:8080/",
     "height": 35
    },
    "colab_type": "code",
    "id": "wW8qbXG3jMz_",
    "outputId": "783e8263-b5dc-478b-ebe5-3f2e79ab5d16"
   },
   "outputs": [
    {
     "data": {
      "text/plain": [
       "3"
      ]
     },
     "execution_count": 58,
     "metadata": {},
     "output_type": "execute_result"
    }
   ],
   "source": [
    "arr_slice.ndim"
   ]
  },
  {
   "cell_type": "code",
   "execution_count": 59,
   "metadata": {
    "colab": {
     "base_uri": "https://localhost:8080/",
     "height": 35
    },
    "colab_type": "code",
    "id": "vPihxiG5jOlq",
    "outputId": "20d2b611-3d58-49fb-da0a-f32b70e4c2de"
   },
   "outputs": [
    {
     "data": {
      "text/plain": [
       "(2, 2, 2)"
      ]
     },
     "execution_count": 59,
     "metadata": {},
     "output_type": "execute_result"
    }
   ],
   "source": [
    "arr_slice.shape"
   ]
  },
  {
   "cell_type": "code",
   "execution_count": 60,
   "metadata": {
    "colab": {
     "base_uri": "https://localhost:8080/",
     "height": 35
    },
    "colab_type": "code",
    "id": "zaHMiAmjjPxs",
    "outputId": "f9ad936f-0e9a-4970-fd21-8e76f656e274"
   },
   "outputs": [
    {
     "data": {
      "text/plain": [
       "2"
      ]
     },
     "execution_count": 60,
     "metadata": {},
     "output_type": "execute_result"
    }
   ],
   "source": [
    "arr_slice[0, 0, 1]"
   ]
  },
  {
   "cell_type": "code",
   "execution_count": 61,
   "metadata": {
    "colab": {},
    "colab_type": "code",
    "id": "eTlgT-ACjTRu"
   },
   "outputs": [],
   "source": [
    "arr_slice[0, 0, 0] = 1729"
   ]
  },
  {
   "cell_type": "code",
   "execution_count": 62,
   "metadata": {
    "colab": {
     "base_uri": "https://localhost:8080/",
     "height": 109
    },
    "colab_type": "code",
    "id": "mDHn_xdUjYfM",
    "outputId": "7ad9978a-9866-43e2-838d-b2e735686fe1"
   },
   "outputs": [
    {
     "data": {
      "text/plain": [
       "array([[[1729,    2],\n",
       "        [   4,    5]],\n",
       "\n",
       "       [[   7,    8],\n",
       "        [  10,   11]]])"
      ]
     },
     "execution_count": 62,
     "metadata": {},
     "output_type": "execute_result"
    }
   ],
   "source": [
    "arr_slice"
   ]
  },
  {
   "cell_type": "code",
   "execution_count": 63,
   "metadata": {
    "colab": {
     "base_uri": "https://localhost:8080/",
     "height": 109
    },
    "colab_type": "code",
    "id": "OGxEtXe6jZPu",
    "outputId": "d7fe6d0f-606a-4a90-dbe2-974d7895bdd8"
   },
   "outputs": [
    {
     "data": {
      "text/plain": [
       "array([[[1729,    2,    3],\n",
       "        [   4,    5,    6]],\n",
       "\n",
       "       [[   7,    8,    9],\n",
       "        [  10,   11,   12]]])"
      ]
     },
     "execution_count": 63,
     "metadata": {},
     "output_type": "execute_result"
    }
   ],
   "source": [
    "arr3d"
   ]
  },
  {
   "cell_type": "code",
   "execution_count": 64,
   "metadata": {
    "colab": {},
    "colab_type": "code",
    "id": "zrZaEpZLjdna"
   },
   "outputs": [],
   "source": [
    "arr_slice = np.copy(arr3d[:, :, 0:2])"
   ]
  },
  {
   "cell_type": "code",
   "execution_count": 65,
   "metadata": {
    "colab": {},
    "colab_type": "code",
    "id": "0sID_b9bjtIy"
   },
   "outputs": [],
   "source": [
    "arr_slice[0, 0, 0] = 1"
   ]
  },
  {
   "cell_type": "code",
   "execution_count": 66,
   "metadata": {
    "colab": {
     "base_uri": "https://localhost:8080/",
     "height": 109
    },
    "colab_type": "code",
    "id": "LcjLIsrijvUn",
    "outputId": "897e4c61-042a-4cf2-cf1e-f38a32f7d03b"
   },
   "outputs": [
    {
     "data": {
      "text/plain": [
       "array([[[ 1,  2],\n",
       "        [ 4,  5]],\n",
       "\n",
       "       [[ 7,  8],\n",
       "        [10, 11]]])"
      ]
     },
     "execution_count": 66,
     "metadata": {},
     "output_type": "execute_result"
    }
   ],
   "source": [
    "arr_slice"
   ]
  },
  {
   "cell_type": "code",
   "execution_count": 67,
   "metadata": {
    "colab": {
     "base_uri": "https://localhost:8080/",
     "height": 109
    },
    "colab_type": "code",
    "id": "zrGt18rdjwIh",
    "outputId": "c1c1d240-e70a-4935-f651-b41a9550132d"
   },
   "outputs": [
    {
     "data": {
      "text/plain": [
       "array([[[1729,    2,    3],\n",
       "        [   4,    5,    6]],\n",
       "\n",
       "       [[   7,    8,    9],\n",
       "        [  10,   11,   12]]])"
      ]
     },
     "execution_count": 67,
     "metadata": {},
     "output_type": "execute_result"
    }
   ],
   "source": [
    "arr3d"
   ]
  },
  {
   "cell_type": "code",
   "execution_count": 68,
   "metadata": {
    "colab": {},
    "colab_type": "code",
    "id": "l5p33XQMjw43"
   },
   "outputs": [],
   "source": [
    "arr = np.random.randint(0, 10, (5))"
   ]
  },
  {
   "cell_type": "code",
   "execution_count": 69,
   "metadata": {
    "colab": {
     "base_uri": "https://localhost:8080/",
     "height": 35
    },
    "colab_type": "code",
    "id": "ceBichNRj4k7",
    "outputId": "17472078-7bd6-4120-9386-0d06e7accf04"
   },
   "outputs": [
    {
     "data": {
      "text/plain": [
       "array([2, 9, 6, 7, 5])"
      ]
     },
     "execution_count": 69,
     "metadata": {},
     "output_type": "execute_result"
    }
   ],
   "source": [
    "arr"
   ]
  },
  {
   "cell_type": "code",
   "execution_count": 70,
   "metadata": {
    "colab": {},
    "colab_type": "code",
    "id": "E13t8SUBj5Vi"
   },
   "outputs": [],
   "source": [
    "my_indices = [1, 3, 4]"
   ]
  },
  {
   "cell_type": "code",
   "execution_count": 71,
   "metadata": {
    "colab": {
     "base_uri": "https://localhost:8080/",
     "height": 35
    },
    "colab_type": "code",
    "id": "_iOe0XLPkBgw",
    "outputId": "ed2fd99c-20ec-4212-989e-80e3fedfb25f"
   },
   "outputs": [
    {
     "data": {
      "text/plain": [
       "array([9, 7, 5])"
      ]
     },
     "execution_count": 71,
     "metadata": {},
     "output_type": "execute_result"
    }
   ],
   "source": [
    "arr[my_indices]"
   ]
  },
  {
   "cell_type": "markdown",
   "metadata": {
    "colab_type": "text",
    "id": "PDFmEbTwmJyr"
   },
   "source": [
    "# Numpy Operations"
   ]
  },
  {
   "cell_type": "code",
   "execution_count": 72,
   "metadata": {
    "colab": {},
    "colab_type": "code",
    "id": "wS4XMMZykCzn"
   },
   "outputs": [],
   "source": [
    "arr1 = np.random.rand(3, 4)\n",
    "arr2 = np.random.rand(3, 4)"
   ]
  },
  {
   "cell_type": "code",
   "execution_count": 73,
   "metadata": {
    "colab": {
     "base_uri": "https://localhost:8080/",
     "height": 72
    },
    "colab_type": "code",
    "id": "DORY4pHZma5v",
    "outputId": "47d01ef9-4abb-46dc-a6bb-8abada83bf26"
   },
   "outputs": [
    {
     "data": {
      "text/plain": [
       "array([[0.98415429, 0.4956701 , 0.42451341, 0.68551639],\n",
       "       [0.19989403, 0.17883794, 0.18857078, 0.95235493],\n",
       "       [0.29230123, 0.4310251 , 0.75553735, 0.54219263]])"
      ]
     },
     "execution_count": 73,
     "metadata": {},
     "output_type": "execute_result"
    }
   ],
   "source": [
    "arr1"
   ]
  },
  {
   "cell_type": "code",
   "execution_count": 74,
   "metadata": {
    "colab": {
     "base_uri": "https://localhost:8080/",
     "height": 72
    },
    "colab_type": "code",
    "id": "pPVyELXgmcTh",
    "outputId": "54e41baf-4df6-4340-dea1-4109c9182ab5"
   },
   "outputs": [
    {
     "data": {
      "text/plain": [
       "array([[0.62767786, 0.00377217, 0.82403873, 0.11322484],\n",
       "       [0.49133512, 0.70787217, 0.43337593, 0.69069998],\n",
       "       [0.59677129, 0.41835908, 0.75292903, 0.73029736]])"
      ]
     },
     "execution_count": 74,
     "metadata": {},
     "output_type": "execute_result"
    }
   ],
   "source": [
    "arr2"
   ]
  },
  {
   "cell_type": "code",
   "execution_count": 75,
   "metadata": {
    "colab": {
     "base_uri": "https://localhost:8080/",
     "height": 72
    },
    "colab_type": "code",
    "id": "xoPI0KEUmOIN",
    "outputId": "9d257158-267f-4bb6-b515-4cefabaa974d"
   },
   "outputs": [
    {
     "data": {
      "text/plain": [
       "array([[1.61183215, 0.49944227, 1.24855214, 0.79874123],\n",
       "       [0.69122915, 0.8867101 , 0.62194671, 1.6430549 ],\n",
       "       [0.88907252, 0.84938418, 1.50846639, 1.27248999]])"
      ]
     },
     "execution_count": 75,
     "metadata": {},
     "output_type": "execute_result"
    }
   ],
   "source": [
    "arr1 + arr2"
   ]
  },
  {
   "cell_type": "code",
   "execution_count": 76,
   "metadata": {
    "colab": {
     "base_uri": "https://localhost:8080/",
     "height": 72
    },
    "colab_type": "code",
    "id": "Nge4kKKzmUCa",
    "outputId": "a290c5cf-f8f2-48bd-9c4e-58fb8b41886f"
   },
   "outputs": [
    {
     "data": {
      "text/plain": [
       "array([[ 0.35647643,  0.49189793, -0.39952531,  0.57229155],\n",
       "       [-0.29144108, -0.52903423, -0.24480516,  0.26165495],\n",
       "       [-0.30447007,  0.01266602,  0.00260832, -0.18810474]])"
      ]
     },
     "execution_count": 76,
     "metadata": {},
     "output_type": "execute_result"
    }
   ],
   "source": [
    "arr1 - arr2"
   ]
  },
  {
   "cell_type": "code",
   "execution_count": 77,
   "metadata": {
    "colab": {
     "base_uri": "https://localhost:8080/",
     "height": 72
    },
    "colab_type": "code",
    "id": "yqwgwhAlmgiC",
    "outputId": "0c633e6b-bc54-4030-e4d4-4560f0c6f962"
   },
   "outputs": [
    {
     "data": {
      "text/plain": [
       "array([[0.61773186, 0.00186975, 0.34981549, 0.07761748],\n",
       "       [0.09821496, 0.1265944 , 0.08172204, 0.65779153],\n",
       "       [0.17443698, 0.18032327, 0.56886601, 0.39596185]])"
      ]
     },
     "execution_count": 77,
     "metadata": {},
     "output_type": "execute_result"
    }
   ],
   "source": [
    "arr1 * arr2"
   ]
  },
  {
   "cell_type": "code",
   "execution_count": 78,
   "metadata": {
    "colab": {
     "base_uri": "https://localhost:8080/",
     "height": 72
    },
    "colab_type": "code",
    "id": "C_o4c5b7mhs2",
    "outputId": "6a841554-b81f-4e4e-8360-68c64e7dc5f9"
   },
   "outputs": [
    {
     "data": {
      "text/plain": [
       "array([[  1.56792895, 131.401902  ,   0.51516197,   6.05446992],\n",
       "       [  0.40683848,   0.25264157,   0.43512055,   1.37882577],\n",
       "       [  0.48980443,   1.03027547,   1.00346423,   0.7424272 ]])"
      ]
     },
     "execution_count": 78,
     "metadata": {},
     "output_type": "execute_result"
    }
   ],
   "source": [
    "arr1 / arr2"
   ]
  },
  {
   "cell_type": "code",
   "execution_count": 79,
   "metadata": {
    "colab": {
     "base_uri": "https://localhost:8080/",
     "height": 72
    },
    "colab_type": "code",
    "id": "5girn41lmiz5",
    "outputId": "f9ebe092-888f-456c-f36c-b3bbe2ddaad0"
   },
   "outputs": [
    {
     "data": {
      "text/plain": [
       "array([[2.67554818, 1.64159791, 1.52884632, 1.9847965 ],\n",
       "       [1.22127334, 1.19582693, 1.20752254, 2.59180599],\n",
       "       [1.33950645, 1.53883417, 2.12875511, 1.71977356]])"
      ]
     },
     "execution_count": 79,
     "metadata": {},
     "output_type": "execute_result"
    }
   ],
   "source": [
    "np.exp(arr1)"
   ]
  },
  {
   "cell_type": "code",
   "execution_count": 80,
   "metadata": {
    "colab": {
     "base_uri": "https://localhost:8080/",
     "height": 72
    },
    "colab_type": "code",
    "id": "CYMOIqXvmm1E",
    "outputId": "7861960f-32b1-460a-e0b5-58d9a9e352e0"
   },
   "outputs": [
    {
     "data": {
      "text/plain": [
       "array([[0.98415429, 0.4956701 , 0.42451341, 0.68551639],\n",
       "       [0.19989403, 0.17883794, 0.18857078, 0.95235493],\n",
       "       [0.29230123, 0.4310251 , 0.75553735, 0.54219263]])"
      ]
     },
     "execution_count": 80,
     "metadata": {},
     "output_type": "execute_result"
    }
   ],
   "source": [
    "np.log(np.exp(arr1))"
   ]
  },
  {
   "cell_type": "code",
   "execution_count": 81,
   "metadata": {
    "colab": {
     "base_uri": "https://localhost:8080/",
     "height": 72
    },
    "colab_type": "code",
    "id": "V5rtJRhhmq5k",
    "outputId": "ffdae78c-e984-4fbd-ffb4-5711a21d53aa"
   },
   "outputs": [
    {
     "data": {
      "text/plain": [
       "array([[0.83280423, 0.47562121, 0.41187743, 0.63307283],\n",
       "       [0.19856548, 0.17788616, 0.1874552 , 0.81478307],\n",
       "       [0.2881566 , 0.41780236, 0.68567991, 0.51601539]])"
      ]
     },
     "execution_count": 81,
     "metadata": {},
     "output_type": "execute_result"
    }
   ],
   "source": [
    "np.sin(arr1)"
   ]
  },
  {
   "cell_type": "code",
   "execution_count": 82,
   "metadata": {
    "colab": {
     "base_uri": "https://localhost:8080/",
     "height": 72
    },
    "colab_type": "code",
    "id": "haio7RijmyCA",
    "outputId": "db914133-cb88-4280-c0c3-d7bf3e1313e3"
   },
   "outputs": [
    {
     "data": {
      "text/plain": [
       "array([[0.55356762, 0.87965019, 0.91123926, 0.77409224],\n",
       "       [0.98008762, 0.98405107, 0.98227315, 0.57976594],\n",
       "       [0.9575833 , 0.90853794, 0.72790319, 0.85657931]])"
      ]
     },
     "execution_count": 82,
     "metadata": {},
     "output_type": "execute_result"
    }
   ],
   "source": [
    "np.cos(arr1)"
   ]
  },
  {
   "cell_type": "code",
   "execution_count": 83,
   "metadata": {
    "colab": {
     "base_uri": "https://localhost:8080/",
     "height": 72
    },
    "colab_type": "code",
    "id": "XB5NNm2SmzKo",
    "outputId": "3c195c03-2f5a-4c84-f30a-8266987a4301"
   },
   "outputs": [
    {
     "data": {
      "text/plain": [
       "array([[0.99204551, 0.70403842, 0.65154694, 0.82795917],\n",
       "       [0.44709511, 0.42289235, 0.43424737, 0.97588674],\n",
       "       [0.54064889, 0.65652502, 0.86921652, 0.73633731]])"
      ]
     },
     "execution_count": 83,
     "metadata": {},
     "output_type": "execute_result"
    }
   ],
   "source": [
    "np.sqrt(arr1)"
   ]
  },
  {
   "cell_type": "code",
   "execution_count": 84,
   "metadata": {
    "colab": {},
    "colab_type": "code",
    "id": "PmATG2ONm2KE"
   },
   "outputs": [],
   "source": [
    "arr_inv = 1 / arr1"
   ]
  },
  {
   "cell_type": "code",
   "execution_count": 85,
   "metadata": {
    "colab": {
     "base_uri": "https://localhost:8080/",
     "height": 72
    },
    "colab_type": "code",
    "id": "pZMKQOMEnCpu",
    "outputId": "be733056-f6b4-4bed-a8f6-eed4b71c594c"
   },
   "outputs": [
    {
     "data": {
      "text/plain": [
       "array([[1.01610084, 2.01747089, 2.35563817, 1.45875433],\n",
       "       [5.00265056, 5.59165475, 5.30304867, 1.05002869],\n",
       "       [3.42112831, 2.3200505 , 1.3235613 , 1.84436296]])"
      ]
     },
     "execution_count": 85,
     "metadata": {},
     "output_type": "execute_result"
    }
   ],
   "source": [
    "arr_inv"
   ]
  },
  {
   "cell_type": "code",
   "execution_count": 86,
   "metadata": {
    "colab": {},
    "colab_type": "code",
    "id": "lpgGtxC9nFDP"
   },
   "outputs": [],
   "source": [
    "arr1 = np.zeros((3, 5))"
   ]
  },
  {
   "cell_type": "code",
   "execution_count": 87,
   "metadata": {
    "colab": {
     "base_uri": "https://localhost:8080/",
     "height": 74
    },
    "colab_type": "code",
    "id": "6XF8aFa-nG3O",
    "outputId": "c4be97c6-6fa9-415d-806e-4fb5d04783bc"
   },
   "outputs": [
    {
     "name": "stderr",
     "output_type": "stream",
     "text": [
      "C:\\Users\\akilm\\Anaconda3\\lib\\site-packages\\ipykernel_launcher.py:1: RuntimeWarning: divide by zero encountered in true_divide\n",
      "  \"\"\"Entry point for launching an IPython kernel.\n"
     ]
    }
   ],
   "source": [
    "arr_inv = 1/arr1"
   ]
  },
  {
   "cell_type": "code",
   "execution_count": 88,
   "metadata": {
    "colab": {
     "base_uri": "https://localhost:8080/",
     "height": 72
    },
    "colab_type": "code",
    "id": "eJ1dg9DinJi3",
    "outputId": "682bb215-f3b3-4d9c-f7d0-400105b74a9b"
   },
   "outputs": [
    {
     "name": "stdout",
     "output_type": "stream",
     "text": [
      "[[inf inf inf inf inf]\n",
      " [inf inf inf inf inf]\n",
      " [inf inf inf inf inf]]\n"
     ]
    }
   ],
   "source": [
    "print(arr_inv)"
   ]
  },
  {
   "cell_type": "code",
   "execution_count": 89,
   "metadata": {
    "colab": {
     "base_uri": "https://localhost:8080/",
     "height": 35
    },
    "colab_type": "code",
    "id": "IyX2awRPnNPM",
    "outputId": "fac4da50-1ac6-45e5-ede3-73297b700a85"
   },
   "outputs": [
    {
     "data": {
      "text/plain": [
       "True"
      ]
     },
     "execution_count": 89,
     "metadata": {},
     "output_type": "execute_result"
    }
   ],
   "source": [
    "np.isinf(arr_inv[0,0])"
   ]
  },
  {
   "cell_type": "code",
   "execution_count": 90,
   "metadata": {
    "colab": {
     "base_uri": "https://localhost:8080/",
     "height": 72
    },
    "colab_type": "code",
    "id": "Ty_C2cOznVh2",
    "outputId": "a18628c6-64a0-489a-cd5c-4750d16d26e4"
   },
   "outputs": [
    {
     "data": {
      "text/plain": [
       "array([[ True,  True,  True,  True,  True],\n",
       "       [ True,  True,  True,  True,  True],\n",
       "       [ True,  True,  True,  True,  True]])"
      ]
     },
     "execution_count": 90,
     "metadata": {},
     "output_type": "execute_result"
    }
   ],
   "source": [
    "np.isinf(arr_inv)"
   ]
  },
  {
   "cell_type": "markdown",
   "metadata": {
    "colab_type": "text",
    "id": "xPFrKz2xuH5K"
   },
   "source": [
    "# Broadcasting"
   ]
  },
  {
   "cell_type": "code",
   "execution_count": 91,
   "metadata": {
    "colab": {},
    "colab_type": "code",
    "id": "AqW-zutVsaGD"
   },
   "outputs": [],
   "source": [
    "arr1 = np.arange(6)"
   ]
  },
  {
   "cell_type": "code",
   "execution_count": 92,
   "metadata": {},
   "outputs": [
    {
     "data": {
      "text/plain": [
       "array([0, 1, 2, 3, 4, 5])"
      ]
     },
     "execution_count": 92,
     "metadata": {},
     "output_type": "execute_result"
    }
   ],
   "source": [
    "arr1"
   ]
  },
  {
   "cell_type": "code",
   "execution_count": 93,
   "metadata": {
    "colab": {
     "base_uri": "https://localhost:8080/",
     "height": 35
    },
    "colab_type": "code",
    "id": "sqt31ffwuLr1",
    "outputId": "8f72c221-0d08-41c0-eed5-125b68549a53"
   },
   "outputs": [
    {
     "data": {
      "text/plain": [
       "(6,)"
      ]
     },
     "execution_count": 93,
     "metadata": {},
     "output_type": "execute_result"
    }
   ],
   "source": [
    "arr1.shape"
   ]
  },
  {
   "cell_type": "code",
   "execution_count": 96,
   "metadata": {
    "colab": {},
    "colab_type": "code",
    "id": "Xi38O_2kuQr1"
   },
   "outputs": [
    {
     "data": {
      "text/plain": [
       "array([[0, 1],\n",
       "       [2, 3],\n",
       "       [4, 5]])"
      ]
     },
     "execution_count": 96,
     "metadata": {},
     "output_type": "execute_result"
    }
   ],
   "source": [
    "arr1 = arr1.reshape((3, 2))\n",
    "arr1"
   ]
  },
  {
   "cell_type": "code",
   "execution_count": 97,
   "metadata": {
    "colab": {
     "base_uri": "https://localhost:8080/",
     "height": 35
    },
    "colab_type": "code",
    "id": "vL10s1A9uVWe",
    "outputId": "c215f998-73b7-4d91-cef3-181df1d20a5c"
   },
   "outputs": [
    {
     "data": {
      "text/plain": [
       "(3, 2)"
      ]
     },
     "execution_count": 97,
     "metadata": {},
     "output_type": "execute_result"
    }
   ],
   "source": [
    "arr1.shape"
   ]
  },
  {
   "cell_type": "code",
   "execution_count": 99,
   "metadata": {
    "colab": {},
    "colab_type": "code",
    "id": "IPPjvzAxuXei"
   },
   "outputs": [
    {
     "data": {
      "text/plain": [
       "array([[0, 1],\n",
       "       [2, 3],\n",
       "       [4, 5]])"
      ]
     },
     "execution_count": 99,
     "metadata": {},
     "output_type": "execute_result"
    }
   ],
   "source": [
    "arr2 = np.arange(6).reshape((3, 2))\n",
    "arr2"
   ]
  },
  {
   "cell_type": "code",
   "execution_count": 100,
   "metadata": {
    "colab": {
     "base_uri": "https://localhost:8080/",
     "height": 72
    },
    "colab_type": "code",
    "id": "C-r2H2Sjuisn",
    "outputId": "72d24e3d-3e9e-4e6f-d747-f37e57845251"
   },
   "outputs": [
    {
     "data": {
      "text/plain": [
       "array([[ 0,  2],\n",
       "       [ 4,  6],\n",
       "       [ 8, 10]])"
      ]
     },
     "execution_count": 100,
     "metadata": {},
     "output_type": "execute_result"
    }
   ],
   "source": [
    "arr1 + arr2"
   ]
  },
  {
   "cell_type": "code",
   "execution_count": 103,
   "metadata": {},
   "outputs": [
    {
     "data": {
      "text/plain": [
       "array([0, 1])"
      ]
     },
     "execution_count": 103,
     "metadata": {},
     "output_type": "execute_result"
    }
   ],
   "source": [
    "arr2[0]"
   ]
  },
  {
   "cell_type": "code",
   "execution_count": 102,
   "metadata": {
    "colab": {
     "base_uri": "https://localhost:8080/",
     "height": 35
    },
    "colab_type": "code",
    "id": "9oi2bv4hukkP",
    "outputId": "1b0abb37-7106-44c7-b6d3-7ebc25e50ea9"
   },
   "outputs": [
    {
     "data": {
      "text/plain": [
       "array([[0, 1]])"
      ]
     },
     "execution_count": 102,
     "metadata": {},
     "output_type": "execute_result"
    }
   ],
   "source": [
    "arr2[0].reshape((1, 2))"
   ]
  },
  {
   "cell_type": "code",
   "execution_count": 104,
   "metadata": {
    "colab": {
     "base_uri": "https://localhost:8080/",
     "height": 72
    },
    "colab_type": "code",
    "id": "Mh_OJr-buo_W",
    "outputId": "f88a1519-3a92-4e90-cd84-97764cefc0f7"
   },
   "outputs": [
    {
     "data": {
      "text/plain": [
       "array([[0, 2],\n",
       "       [2, 4],\n",
       "       [4, 6]])"
      ]
     },
     "execution_count": 104,
     "metadata": {},
     "output_type": "execute_result"
    }
   ],
   "source": [
    "arr1 + arr2[0].reshape((1, 2)) # (3, 2) + (1, 2)"
   ]
  },
  {
   "cell_type": "code",
   "execution_count": 105,
   "metadata": {
    "colab": {
     "base_uri": "https://localhost:8080/",
     "height": 72
    },
    "colab_type": "code",
    "id": "CjJhZVV0uvW1",
    "outputId": "332a175f-4079-4742-99c5-98afb834206c"
   },
   "outputs": [
    {
     "data": {
      "text/plain": [
       "array([[0],\n",
       "       [2],\n",
       "       [4]])"
      ]
     },
     "execution_count": 105,
     "metadata": {},
     "output_type": "execute_result"
    }
   ],
   "source": [
    "arr2[:, 0].reshape((3, 1))"
   ]
  },
  {
   "cell_type": "code",
   "execution_count": 106,
   "metadata": {
    "colab": {
     "base_uri": "https://localhost:8080/",
     "height": 72
    },
    "colab_type": "code",
    "id": "pi1IdIxvvBP5",
    "outputId": "99382667-3022-4bfe-b396-027309009f29"
   },
   "outputs": [
    {
     "data": {
      "text/plain": [
       "array([[0, 1],\n",
       "       [4, 5],\n",
       "       [8, 9]])"
      ]
     },
     "execution_count": 106,
     "metadata": {},
     "output_type": "execute_result"
    }
   ],
   "source": [
    "arr1 + arr2[:, 0].reshape((3, 1)) # (3, 2) + (3, 1)"
   ]
  },
  {
   "cell_type": "code",
   "execution_count": 107,
   "metadata": {
    "colab": {
     "base_uri": "https://localhost:8080/",
     "height": 72
    },
    "colab_type": "code",
    "id": "7sbIPHp8vF9S",
    "outputId": "3d1a5fde-3570-4172-be1a-3e74587ce2c4"
   },
   "outputs": [
    {
     "data": {
      "text/plain": [
       "array([[1, 2],\n",
       "       [3, 4],\n",
       "       [5, 6]])"
      ]
     },
     "execution_count": 107,
     "metadata": {},
     "output_type": "execute_result"
    }
   ],
   "source": [
    "arr1 + 1"
   ]
  },
  {
   "cell_type": "code",
   "execution_count": 108,
   "metadata": {
    "colab": {},
    "colab_type": "code",
    "id": "A227CltQvQbI"
   },
   "outputs": [],
   "source": [
    "arr1 = np.arange(24).reshape((2, 3, 4))"
   ]
  },
  {
   "cell_type": "code",
   "execution_count": 109,
   "metadata": {
    "colab": {
     "base_uri": "https://localhost:8080/",
     "height": 146
    },
    "colab_type": "code",
    "id": "DiC-4h6uvXBa",
    "outputId": "f07aad9b-58f4-4bc6-85cb-f9d723167af7"
   },
   "outputs": [
    {
     "data": {
      "text/plain": [
       "array([[[ 0,  1,  2,  3],\n",
       "        [ 4,  5,  6,  7],\n",
       "        [ 8,  9, 10, 11]],\n",
       "\n",
       "       [[12, 13, 14, 15],\n",
       "        [16, 17, 18, 19],\n",
       "        [20, 21, 22, 23]]])"
      ]
     },
     "execution_count": 109,
     "metadata": {},
     "output_type": "execute_result"
    }
   ],
   "source": [
    "arr1"
   ]
  },
  {
   "cell_type": "code",
   "execution_count": 110,
   "metadata": {
    "colab": {},
    "colab_type": "code",
    "id": "8Erkp9HFvXao"
   },
   "outputs": [],
   "source": [
    "arr2 = np.ones((1, 4))"
   ]
  },
  {
   "cell_type": "code",
   "execution_count": 111,
   "metadata": {
    "colab": {
     "base_uri": "https://localhost:8080/",
     "height": 146
    },
    "colab_type": "code",
    "id": "2LtMmF9_vbqe",
    "outputId": "dde40933-c4cf-4e01-cbb0-4eed7e4613fc"
   },
   "outputs": [
    {
     "data": {
      "text/plain": [
       "array([[[ 1.,  2.,  3.,  4.],\n",
       "        [ 5.,  6.,  7.,  8.],\n",
       "        [ 9., 10., 11., 12.]],\n",
       "\n",
       "       [[13., 14., 15., 16.],\n",
       "        [17., 18., 19., 20.],\n",
       "        [21., 22., 23., 24.]]])"
      ]
     },
     "execution_count": 111,
     "metadata": {},
     "output_type": "execute_result"
    }
   ],
   "source": [
    "arr1 + arr2   # (2, 3, 4) + (1, 4)"
   ]
  },
  {
   "cell_type": "code",
   "execution_count": 112,
   "metadata": {
    "colab": {},
    "colab_type": "code",
    "id": "lUra2PQWvd-w"
   },
   "outputs": [],
   "source": [
    "arr1 = np.arange(4)"
   ]
  },
  {
   "cell_type": "code",
   "execution_count": 113,
   "metadata": {
    "colab": {},
    "colab_type": "code",
    "id": "Z3B-NNfcvq8j"
   },
   "outputs": [],
   "source": [
    "arr2 = np.arange(5)"
   ]
  },
  {
   "cell_type": "code",
   "execution_count": 114,
   "metadata": {
    "colab": {
     "base_uri": "https://localhost:8080/",
     "height": 35
    },
    "colab_type": "code",
    "id": "4tz_amtEvsAC",
    "outputId": "daf6a047-9999-4484-e470-9ba8aa8c61b1"
   },
   "outputs": [
    {
     "name": "stdout",
     "output_type": "stream",
     "text": [
      "(4,) (5,)\n"
     ]
    }
   ],
   "source": [
    "print(arr1.shape, arr2.shape)"
   ]
  },
  {
   "cell_type": "code",
   "execution_count": 115,
   "metadata": {
    "colab": {
     "base_uri": "https://localhost:8080/",
     "height": 191
    },
    "colab_type": "code",
    "id": "MOuOt1knvtop",
    "outputId": "2c1b1e17-c0d7-466c-9510-408a4eff1017"
   },
   "outputs": [
    {
     "ename": "ValueError",
     "evalue": "operands could not be broadcast together with shapes (4,) (5,) ",
     "output_type": "error",
     "traceback": [
      "\u001b[1;31m---------------------------------------------------------------------------\u001b[0m",
      "\u001b[1;31mValueError\u001b[0m                                Traceback (most recent call last)",
      "\u001b[1;32m<ipython-input-115-e03ca36bf739>\u001b[0m in \u001b[0;36m<module>\u001b[1;34m\u001b[0m\n\u001b[1;32m----> 1\u001b[1;33m \u001b[0marr1\u001b[0m \u001b[1;33m+\u001b[0m \u001b[0marr2\u001b[0m \u001b[1;31m# array needs to be of same size\u001b[0m\u001b[1;33m\u001b[0m\u001b[1;33m\u001b[0m\u001b[0m\n\u001b[0m",
      "\u001b[1;31mValueError\u001b[0m: operands could not be broadcast together with shapes (4,) (5,) "
     ]
    }
   ],
   "source": [
    "arr1 + arr2 # array needs to be of same size "
   ]
  },
  {
   "cell_type": "code",
   "execution_count": 116,
   "metadata": {
    "colab": {
     "base_uri": "https://localhost:8080/",
     "height": 91
    },
    "colab_type": "code",
    "id": "96hmWV1rvun3",
    "outputId": "07c2ae21-ddc9-4f38-c1b2-eed62c81f8a6"
   },
   "outputs": [
    {
     "data": {
      "text/plain": [
       "array([[0, 1, 2, 3, 4],\n",
       "       [1, 2, 3, 4, 5],\n",
       "       [2, 3, 4, 5, 6],\n",
       "       [3, 4, 5, 6, 7]])"
      ]
     },
     "execution_count": 116,
     "metadata": {},
     "output_type": "execute_result"
    }
   ],
   "source": [
    "arr1.reshape(4, 1) + arr2  # (4, 1) + (5)"
   ]
  },
  {
   "cell_type": "code",
   "execution_count": 117,
   "metadata": {
    "colab": {},
    "colab_type": "code",
    "id": "KuXYtTzFv5jX"
   },
   "outputs": [],
   "source": [
    "arr = np.random.rand(3, 3)"
   ]
  },
  {
   "cell_type": "code",
   "execution_count": 118,
   "metadata": {
    "colab": {
     "base_uri": "https://localhost:8080/",
     "height": 72
    },
    "colab_type": "code",
    "id": "1tDchCAZwEqA",
    "outputId": "5ab43c1c-4710-44c6-c01c-4569417ff559"
   },
   "outputs": [
    {
     "data": {
      "text/plain": [
       "array([[0.05842266, 0.02416775, 0.51356518],\n",
       "       [0.42052753, 0.66566039, 0.84476784],\n",
       "       [0.01542207, 0.77557677, 0.48993521]])"
      ]
     },
     "execution_count": 118,
     "metadata": {},
     "output_type": "execute_result"
    }
   ],
   "source": [
    "arr"
   ]
  },
  {
   "cell_type": "code",
   "execution_count": 119,
   "metadata": {
    "colab": {
     "base_uri": "https://localhost:8080/",
     "height": 72
    },
    "colab_type": "code",
    "id": "d8Z9SZFkwL8p",
    "outputId": "bc6ce988-a31c-47ad-8500-7c859287124b"
   },
   "outputs": [
    {
     "data": {
      "text/plain": [
       "array([[0.05842266, 0.42052753, 0.01542207],\n",
       "       [0.02416775, 0.66566039, 0.77557677],\n",
       "       [0.51356518, 0.84476784, 0.48993521]])"
      ]
     },
     "execution_count": 119,
     "metadata": {},
     "output_type": "execute_result"
    }
   ],
   "source": [
    "arr.T"
   ]
  },
  {
   "cell_type": "markdown",
   "metadata": {
    "colab_type": "text",
    "id": "sdv4it47xrkx"
   },
   "source": [
    "# File handling"
   ]
  },
  {
   "cell_type": "code",
   "execution_count": 121,
   "metadata": {
    "colab": {
     "base_uri": "https://localhost:8080/",
     "height": 344
    },
    "colab_type": "code",
    "id": "ppMyzFy8wMlv",
    "outputId": "ba3d66b5-9ff7-41a0-8dc4-b3caa559544b"
   },
   "outputs": [
    {
     "ename": "ValueError",
     "evalue": "could not convert string to float: 'MERCURY'",
     "output_type": "error",
     "traceback": [
      "\u001b[1;31m---------------------------------------------------------------------------\u001b[0m",
      "\u001b[1;31mValueError\u001b[0m                                Traceback (most recent call last)",
      "\u001b[1;32m<ipython-input-121-6f92f0fddb44>\u001b[0m in \u001b[0;36m<module>\u001b[1;34m\u001b[0m\n\u001b[1;32m----> 1\u001b[1;33m \u001b[0mplanets_small\u001b[0m \u001b[1;33m=\u001b[0m \u001b[0mnp\u001b[0m\u001b[1;33m.\u001b[0m\u001b[0mloadtxt\u001b[0m\u001b[1;33m(\u001b[0m\u001b[1;34m\"planets_small.txt\"\u001b[0m\u001b[1;33m)\u001b[0m\u001b[1;33m\u001b[0m\u001b[1;33m\u001b[0m\u001b[0m\n\u001b[0m",
      "\u001b[1;32m~\\Anaconda3\\lib\\site-packages\\numpy\\lib\\npyio.py\u001b[0m in \u001b[0;36mloadtxt\u001b[1;34m(fname, dtype, comments, delimiter, converters, skiprows, usecols, unpack, ndmin, encoding, max_rows)\u001b[0m\n\u001b[0;32m   1132\u001b[0m         \u001b[1;31m# converting the data\u001b[0m\u001b[1;33m\u001b[0m\u001b[1;33m\u001b[0m\u001b[1;33m\u001b[0m\u001b[0m\n\u001b[0;32m   1133\u001b[0m         \u001b[0mX\u001b[0m \u001b[1;33m=\u001b[0m \u001b[1;32mNone\u001b[0m\u001b[1;33m\u001b[0m\u001b[1;33m\u001b[0m\u001b[0m\n\u001b[1;32m-> 1134\u001b[1;33m         \u001b[1;32mfor\u001b[0m \u001b[0mx\u001b[0m \u001b[1;32min\u001b[0m \u001b[0mread_data\u001b[0m\u001b[1;33m(\u001b[0m\u001b[0m_loadtxt_chunksize\u001b[0m\u001b[1;33m)\u001b[0m\u001b[1;33m:\u001b[0m\u001b[1;33m\u001b[0m\u001b[1;33m\u001b[0m\u001b[0m\n\u001b[0m\u001b[0;32m   1135\u001b[0m             \u001b[1;32mif\u001b[0m \u001b[0mX\u001b[0m \u001b[1;32mis\u001b[0m \u001b[1;32mNone\u001b[0m\u001b[1;33m:\u001b[0m\u001b[1;33m\u001b[0m\u001b[1;33m\u001b[0m\u001b[0m\n\u001b[0;32m   1136\u001b[0m                 \u001b[0mX\u001b[0m \u001b[1;33m=\u001b[0m \u001b[0mnp\u001b[0m\u001b[1;33m.\u001b[0m\u001b[0marray\u001b[0m\u001b[1;33m(\u001b[0m\u001b[0mx\u001b[0m\u001b[1;33m,\u001b[0m \u001b[0mdtype\u001b[0m\u001b[1;33m)\u001b[0m\u001b[1;33m\u001b[0m\u001b[1;33m\u001b[0m\u001b[0m\n",
      "\u001b[1;32m~\\Anaconda3\\lib\\site-packages\\numpy\\lib\\npyio.py\u001b[0m in \u001b[0;36mread_data\u001b[1;34m(chunk_size)\u001b[0m\n\u001b[0;32m   1059\u001b[0m \u001b[1;33m\u001b[0m\u001b[0m\n\u001b[0;32m   1060\u001b[0m             \u001b[1;31m# Convert each value according to its column and store\u001b[0m\u001b[1;33m\u001b[0m\u001b[1;33m\u001b[0m\u001b[1;33m\u001b[0m\u001b[0m\n\u001b[1;32m-> 1061\u001b[1;33m             \u001b[0mitems\u001b[0m \u001b[1;33m=\u001b[0m \u001b[1;33m[\u001b[0m\u001b[0mconv\u001b[0m\u001b[1;33m(\u001b[0m\u001b[0mval\u001b[0m\u001b[1;33m)\u001b[0m \u001b[1;32mfor\u001b[0m \u001b[1;33m(\u001b[0m\u001b[0mconv\u001b[0m\u001b[1;33m,\u001b[0m \u001b[0mval\u001b[0m\u001b[1;33m)\u001b[0m \u001b[1;32min\u001b[0m \u001b[0mzip\u001b[0m\u001b[1;33m(\u001b[0m\u001b[0mconverters\u001b[0m\u001b[1;33m,\u001b[0m \u001b[0mvals\u001b[0m\u001b[1;33m)\u001b[0m\u001b[1;33m]\u001b[0m\u001b[1;33m\u001b[0m\u001b[1;33m\u001b[0m\u001b[0m\n\u001b[0m\u001b[0;32m   1062\u001b[0m \u001b[1;33m\u001b[0m\u001b[0m\n\u001b[0;32m   1063\u001b[0m             \u001b[1;31m# Then pack it according to the dtype's nesting\u001b[0m\u001b[1;33m\u001b[0m\u001b[1;33m\u001b[0m\u001b[1;33m\u001b[0m\u001b[0m\n",
      "\u001b[1;32m~\\Anaconda3\\lib\\site-packages\\numpy\\lib\\npyio.py\u001b[0m in \u001b[0;36m<listcomp>\u001b[1;34m(.0)\u001b[0m\n\u001b[0;32m   1059\u001b[0m \u001b[1;33m\u001b[0m\u001b[0m\n\u001b[0;32m   1060\u001b[0m             \u001b[1;31m# Convert each value according to its column and store\u001b[0m\u001b[1;33m\u001b[0m\u001b[1;33m\u001b[0m\u001b[1;33m\u001b[0m\u001b[0m\n\u001b[1;32m-> 1061\u001b[1;33m             \u001b[0mitems\u001b[0m \u001b[1;33m=\u001b[0m \u001b[1;33m[\u001b[0m\u001b[0mconv\u001b[0m\u001b[1;33m(\u001b[0m\u001b[0mval\u001b[0m\u001b[1;33m)\u001b[0m \u001b[1;32mfor\u001b[0m \u001b[1;33m(\u001b[0m\u001b[0mconv\u001b[0m\u001b[1;33m,\u001b[0m \u001b[0mval\u001b[0m\u001b[1;33m)\u001b[0m \u001b[1;32min\u001b[0m \u001b[0mzip\u001b[0m\u001b[1;33m(\u001b[0m\u001b[0mconverters\u001b[0m\u001b[1;33m,\u001b[0m \u001b[0mvals\u001b[0m\u001b[1;33m)\u001b[0m\u001b[1;33m]\u001b[0m\u001b[1;33m\u001b[0m\u001b[1;33m\u001b[0m\u001b[0m\n\u001b[0m\u001b[0;32m   1062\u001b[0m \u001b[1;33m\u001b[0m\u001b[0m\n\u001b[0;32m   1063\u001b[0m             \u001b[1;31m# Then pack it according to the dtype's nesting\u001b[0m\u001b[1;33m\u001b[0m\u001b[1;33m\u001b[0m\u001b[1;33m\u001b[0m\u001b[0m\n",
      "\u001b[1;32m~\\Anaconda3\\lib\\site-packages\\numpy\\lib\\npyio.py\u001b[0m in \u001b[0;36mfloatconv\u001b[1;34m(x)\u001b[0m\n\u001b[0;32m    766\u001b[0m         \u001b[1;32mif\u001b[0m \u001b[1;34m'0x'\u001b[0m \u001b[1;32min\u001b[0m \u001b[0mx\u001b[0m\u001b[1;33m:\u001b[0m\u001b[1;33m\u001b[0m\u001b[1;33m\u001b[0m\u001b[0m\n\u001b[0;32m    767\u001b[0m             \u001b[1;32mreturn\u001b[0m \u001b[0mfloat\u001b[0m\u001b[1;33m.\u001b[0m\u001b[0mfromhex\u001b[0m\u001b[1;33m(\u001b[0m\u001b[0mx\u001b[0m\u001b[1;33m)\u001b[0m\u001b[1;33m\u001b[0m\u001b[1;33m\u001b[0m\u001b[0m\n\u001b[1;32m--> 768\u001b[1;33m         \u001b[1;32mreturn\u001b[0m \u001b[0mfloat\u001b[0m\u001b[1;33m(\u001b[0m\u001b[0mx\u001b[0m\u001b[1;33m)\u001b[0m\u001b[1;33m\u001b[0m\u001b[1;33m\u001b[0m\u001b[0m\n\u001b[0m\u001b[0;32m    769\u001b[0m \u001b[1;33m\u001b[0m\u001b[0m\n\u001b[0;32m    770\u001b[0m     \u001b[0mtyp\u001b[0m \u001b[1;33m=\u001b[0m \u001b[0mdtype\u001b[0m\u001b[1;33m.\u001b[0m\u001b[0mtype\u001b[0m\u001b[1;33m\u001b[0m\u001b[1;33m\u001b[0m\u001b[0m\n",
      "\u001b[1;31mValueError\u001b[0m: could not convert string to float: 'MERCURY'"
     ]
    }
   ],
   "source": [
    "planets_small = np.loadtxt(\"planets_small.txt\")"
   ]
  },
  {
   "cell_type": "code",
   "execution_count": 0,
   "metadata": {
    "colab": {
     "base_uri": "https://localhost:8080/",
     "height": 362
    },
    "colab_type": "code",
    "id": "b1mnLTjDyGus",
    "outputId": "20af8172-1b6e-4e2c-9253-d74625cd29d9"
   },
   "outputs": [
    {
     "ename": "ValueError",
     "evalue": "ignored",
     "output_type": "error",
     "traceback": [
      "\u001b[0;31m---------------------------------------------------------------------------\u001b[0m",
      "\u001b[0;31mValueError\u001b[0m                                Traceback (most recent call last)",
      "\u001b[0;32m<ipython-input-183-6454be431268>\u001b[0m in \u001b[0;36m<module>\u001b[0;34m()\u001b[0m\n\u001b[1;32m      1\u001b[0m planets_small = np.loadtxt(\"planets_small.txt\", \n\u001b[0;32m----> 2\u001b[0;31m                            skiprows = 1)\n\u001b[0m",
      "\u001b[0;32m/usr/local/lib/python3.6/dist-packages/numpy/lib/npyio.py\u001b[0m in \u001b[0;36mloadtxt\u001b[0;34m(fname, dtype, comments, delimiter, converters, skiprows, usecols, unpack, ndmin, encoding, max_rows)\u001b[0m\n\u001b[1;32m   1144\u001b[0m         \u001b[0;31m# converting the data\u001b[0m\u001b[0;34m\u001b[0m\u001b[0;34m\u001b[0m\u001b[0;34m\u001b[0m\u001b[0m\n\u001b[1;32m   1145\u001b[0m         \u001b[0mX\u001b[0m \u001b[0;34m=\u001b[0m \u001b[0;32mNone\u001b[0m\u001b[0;34m\u001b[0m\u001b[0;34m\u001b[0m\u001b[0m\n\u001b[0;32m-> 1146\u001b[0;31m         \u001b[0;32mfor\u001b[0m \u001b[0mx\u001b[0m \u001b[0;32min\u001b[0m \u001b[0mread_data\u001b[0m\u001b[0;34m(\u001b[0m\u001b[0m_loadtxt_chunksize\u001b[0m\u001b[0;34m)\u001b[0m\u001b[0;34m:\u001b[0m\u001b[0;34m\u001b[0m\u001b[0;34m\u001b[0m\u001b[0m\n\u001b[0m\u001b[1;32m   1147\u001b[0m             \u001b[0;32mif\u001b[0m \u001b[0mX\u001b[0m \u001b[0;32mis\u001b[0m \u001b[0;32mNone\u001b[0m\u001b[0;34m:\u001b[0m\u001b[0;34m\u001b[0m\u001b[0;34m\u001b[0m\u001b[0m\n\u001b[1;32m   1148\u001b[0m                 \u001b[0mX\u001b[0m \u001b[0;34m=\u001b[0m \u001b[0mnp\u001b[0m\u001b[0;34m.\u001b[0m\u001b[0marray\u001b[0m\u001b[0;34m(\u001b[0m\u001b[0mx\u001b[0m\u001b[0;34m,\u001b[0m \u001b[0mdtype\u001b[0m\u001b[0;34m)\u001b[0m\u001b[0;34m\u001b[0m\u001b[0;34m\u001b[0m\u001b[0m\n",
      "\u001b[0;32m/usr/local/lib/python3.6/dist-packages/numpy/lib/npyio.py\u001b[0m in \u001b[0;36mread_data\u001b[0;34m(chunk_size)\u001b[0m\n\u001b[1;32m   1072\u001b[0m \u001b[0;34m\u001b[0m\u001b[0m\n\u001b[1;32m   1073\u001b[0m             \u001b[0;31m# Convert each value according to its column and store\u001b[0m\u001b[0;34m\u001b[0m\u001b[0;34m\u001b[0m\u001b[0;34m\u001b[0m\u001b[0m\n\u001b[0;32m-> 1074\u001b[0;31m             \u001b[0mitems\u001b[0m \u001b[0;34m=\u001b[0m \u001b[0;34m[\u001b[0m\u001b[0mconv\u001b[0m\u001b[0;34m(\u001b[0m\u001b[0mval\u001b[0m\u001b[0;34m)\u001b[0m \u001b[0;32mfor\u001b[0m \u001b[0;34m(\u001b[0m\u001b[0mconv\u001b[0m\u001b[0;34m,\u001b[0m \u001b[0mval\u001b[0m\u001b[0;34m)\u001b[0m \u001b[0;32min\u001b[0m \u001b[0mzip\u001b[0m\u001b[0;34m(\u001b[0m\u001b[0mconverters\u001b[0m\u001b[0;34m,\u001b[0m \u001b[0mvals\u001b[0m\u001b[0;34m)\u001b[0m\u001b[0;34m]\u001b[0m\u001b[0;34m\u001b[0m\u001b[0;34m\u001b[0m\u001b[0m\n\u001b[0m\u001b[1;32m   1075\u001b[0m \u001b[0;34m\u001b[0m\u001b[0m\n\u001b[1;32m   1076\u001b[0m             \u001b[0;31m# Then pack it according to the dtype's nesting\u001b[0m\u001b[0;34m\u001b[0m\u001b[0;34m\u001b[0m\u001b[0;34m\u001b[0m\u001b[0m\n",
      "\u001b[0;32m/usr/local/lib/python3.6/dist-packages/numpy/lib/npyio.py\u001b[0m in \u001b[0;36m<listcomp>\u001b[0;34m(.0)\u001b[0m\n\u001b[1;32m   1072\u001b[0m \u001b[0;34m\u001b[0m\u001b[0m\n\u001b[1;32m   1073\u001b[0m             \u001b[0;31m# Convert each value according to its column and store\u001b[0m\u001b[0;34m\u001b[0m\u001b[0;34m\u001b[0m\u001b[0;34m\u001b[0m\u001b[0m\n\u001b[0;32m-> 1074\u001b[0;31m             \u001b[0mitems\u001b[0m \u001b[0;34m=\u001b[0m \u001b[0;34m[\u001b[0m\u001b[0mconv\u001b[0m\u001b[0;34m(\u001b[0m\u001b[0mval\u001b[0m\u001b[0;34m)\u001b[0m \u001b[0;32mfor\u001b[0m \u001b[0;34m(\u001b[0m\u001b[0mconv\u001b[0m\u001b[0;34m,\u001b[0m \u001b[0mval\u001b[0m\u001b[0;34m)\u001b[0m \u001b[0;32min\u001b[0m \u001b[0mzip\u001b[0m\u001b[0;34m(\u001b[0m\u001b[0mconverters\u001b[0m\u001b[0;34m,\u001b[0m \u001b[0mvals\u001b[0m\u001b[0;34m)\u001b[0m\u001b[0;34m]\u001b[0m\u001b[0;34m\u001b[0m\u001b[0;34m\u001b[0m\u001b[0m\n\u001b[0m\u001b[1;32m   1075\u001b[0m \u001b[0;34m\u001b[0m\u001b[0m\n\u001b[1;32m   1076\u001b[0m             \u001b[0;31m# Then pack it according to the dtype's nesting\u001b[0m\u001b[0;34m\u001b[0m\u001b[0;34m\u001b[0m\u001b[0;34m\u001b[0m\u001b[0m\n",
      "\u001b[0;32m/usr/local/lib/python3.6/dist-packages/numpy/lib/npyio.py\u001b[0m in \u001b[0;36mfloatconv\u001b[0;34m(x)\u001b[0m\n\u001b[1;32m    779\u001b[0m         \u001b[0;32mif\u001b[0m \u001b[0;34m'0x'\u001b[0m \u001b[0;32min\u001b[0m \u001b[0mx\u001b[0m\u001b[0;34m:\u001b[0m\u001b[0;34m\u001b[0m\u001b[0;34m\u001b[0m\u001b[0m\n\u001b[1;32m    780\u001b[0m             \u001b[0;32mreturn\u001b[0m \u001b[0mfloat\u001b[0m\u001b[0;34m.\u001b[0m\u001b[0mfromhex\u001b[0m\u001b[0;34m(\u001b[0m\u001b[0mx\u001b[0m\u001b[0;34m)\u001b[0m\u001b[0;34m\u001b[0m\u001b[0;34m\u001b[0m\u001b[0m\n\u001b[0;32m--> 781\u001b[0;31m         \u001b[0;32mreturn\u001b[0m \u001b[0mfloat\u001b[0m\u001b[0;34m(\u001b[0m\u001b[0mx\u001b[0m\u001b[0;34m)\u001b[0m\u001b[0;34m\u001b[0m\u001b[0;34m\u001b[0m\u001b[0m\n\u001b[0m\u001b[1;32m    782\u001b[0m \u001b[0;34m\u001b[0m\u001b[0m\n\u001b[1;32m    783\u001b[0m     \u001b[0mtyp\u001b[0m \u001b[0;34m=\u001b[0m \u001b[0mdtype\u001b[0m\u001b[0;34m.\u001b[0m\u001b[0mtype\u001b[0m\u001b[0;34m\u001b[0m\u001b[0;34m\u001b[0m\u001b[0m\n",
      "\u001b[0;31mValueError\u001b[0m: could not convert string to float: 'Mass'"
     ]
    }
   ],
   "source": [
    "planets_small = np.loadtxt(\"planets_small.txt\", \n",
    "                           skiprows = 1)"
   ]
  },
  {
   "cell_type": "code",
   "execution_count": 122,
   "metadata": {
    "colab": {},
    "colab_type": "code",
    "id": "IRLelnnkyN_H"
   },
   "outputs": [],
   "source": [
    "planets_small = np.loadtxt(\"planets_small.txt\", \n",
    "                           skiprows = 1,\n",
    "                           usecols = (1, 2, 3, 4, 5, 6, 7, 8, 9))"
   ]
  },
  {
   "cell_type": "code",
   "execution_count": 123,
   "metadata": {
    "colab": {
     "base_uri": "https://localhost:8080/",
     "height": 128
    },
    "colab_type": "code",
    "id": "Jo4QP-nxydfF",
    "outputId": "f8c62a7f-c1cd-4051-b878-4411cd2d2b67"
   },
   "outputs": [
    {
     "data": {
      "text/plain": [
       "array([[3.3000e-01, 4.8700e+00, 5.9700e+00, 6.4200e-01, 1.8980e+03,\n",
       "        5.6800e+02, 8.6800e+01, 1.0200e+02, 1.4600e-02],\n",
       "       [5.7900e+01, 1.0820e+02, 1.4960e+02, 2.2790e+02, 7.7860e+02,\n",
       "        1.4335e+03, 2.8725e+03, 4.4951e+03, 5.9064e+03],\n",
       "       [4.2226e+03, 2.8020e+03, 2.4000e+01, 2.4700e+01, 9.9000e+00,\n",
       "        1.0700e+01, 1.7200e+01, 1.6100e+01, 1.5330e+02]])"
      ]
     },
     "execution_count": 123,
     "metadata": {},
     "output_type": "execute_result"
    }
   ],
   "source": [
    "planets_small"
   ]
  },
  {
   "cell_type": "code",
   "execution_count": 126,
   "metadata": {
    "colab": {
     "base_uri": "https://localhost:8080/",
     "height": 35
    },
    "colab_type": "code",
    "id": "WkOAVl0-yhh6",
    "outputId": "9b0362c2-d0e6-4af5-9e0d-803df30b2058"
   },
   "outputs": [
    {
     "data": {
      "text/plain": [
       "array([[3.3000e-01, 4.8700e+00, 5.9700e+00, 6.4200e-01, 1.8980e+03,\n",
       "        5.6800e+02, 8.6800e+01, 1.0200e+02, 1.4600e-02],\n",
       "       [5.7900e+01, 1.0820e+02, 1.4960e+02, 2.2790e+02, 7.7860e+02,\n",
       "        1.4335e+03, 2.8725e+03, 4.4951e+03, 5.9064e+03],\n",
       "       [4.2226e+03, 2.8020e+03, 2.4000e+01, 2.4700e+01, 9.9000e+00,\n",
       "        1.0700e+01, 1.7200e+01, 1.6100e+01, 1.5330e+02]])"
      ]
     },
     "execution_count": 126,
     "metadata": {},
     "output_type": "execute_result"
    }
   ],
   "source": [
    "planets_small.shape\n",
    "planets_small"
   ]
  },
  {
   "cell_type": "markdown",
   "metadata": {
    "colab_type": "text",
    "id": "Gbx0S1afv7J4"
   },
   "source": [
    "# Stats with NumPy"
   ]
  },
  {
   "cell_type": "code",
   "execution_count": 128,
   "metadata": {
    "colab": {},
    "colab_type": "code",
    "id": "hzPZnj7xv8LH"
   },
   "outputs": [],
   "source": [
    "arr = np.random.rand(100,) # randn gives random numbers between the standard distribution."
   ]
  },
  {
   "cell_type": "code",
   "execution_count": 130,
   "metadata": {},
   "outputs": [
    {
     "data": {
      "text/plain": [
       "array([0.90430898, 0.16828103, 0.75238602, 0.83608284, 0.36004341,\n",
       "       0.65930148, 0.55627347, 0.70550565, 0.87428361, 0.4971382 ,\n",
       "       0.98805603, 0.35976365, 0.61741024, 0.02496295, 0.43446519,\n",
       "       0.24249218, 0.03133198, 0.74936736, 0.30926646, 0.95064841,\n",
       "       0.90697432, 0.0776065 , 0.49669774, 0.92084516, 0.64170387,\n",
       "       0.52227375, 0.97571986, 0.14379939, 0.2102494 , 0.93322085,\n",
       "       0.13386082, 0.02839854, 0.56550409, 0.76840902, 0.29191979,\n",
       "       0.5103485 , 0.83278316, 0.72339689, 0.24326109, 0.24508285,\n",
       "       0.91793553, 0.48504498, 0.66077497, 0.49274999, 0.21587472,\n",
       "       0.6272538 , 0.70417772, 0.56709935, 0.15164107, 0.94307164,\n",
       "       0.7874485 , 0.30698479, 0.56513914, 0.02782161, 0.25872118,\n",
       "       0.58546542, 0.07672116, 0.48703944, 0.13926076, 0.8804585 ,\n",
       "       0.94947246, 0.11127637, 0.63343377, 0.79271312, 0.11733247,\n",
       "       0.75660084, 0.19692568, 0.72569494, 0.517704  , 0.3828792 ,\n",
       "       0.34634682, 0.45817875, 0.691804  , 0.09741324, 0.89896282,\n",
       "       0.12376554, 0.03130776, 0.65209651, 0.2498552 , 0.59349133,\n",
       "       0.10057906, 0.44667989, 0.07668211, 0.10028667, 0.81312817,\n",
       "       0.62449407, 0.16640966, 0.86252243, 0.72264327, 0.08733021,\n",
       "       0.90164212, 0.03854817, 0.7623056 , 0.51380095, 0.5331639 ,\n",
       "       0.82790141, 0.72002187, 0.18811084, 0.90083009, 0.72607309])"
      ]
     },
     "execution_count": 130,
     "metadata": {},
     "output_type": "execute_result"
    }
   ],
   "source": [
    "arr"
   ]
  },
  {
   "cell_type": "code",
   "execution_count": 131,
   "metadata": {
    "colab": {
     "base_uri": "https://localhost:8080/",
     "height": 35
    },
    "colab_type": "code",
    "id": "sjOiUCIswBsF",
    "outputId": "6848e15e-d635-44ab-da8e-03345401c23f"
   },
   "outputs": [
    {
     "data": {
      "text/plain": [
       "0.024962948442477817"
      ]
     },
     "execution_count": 131,
     "metadata": {},
     "output_type": "execute_result"
    }
   ],
   "source": [
    "np.amin(arr) # measure of centrality"
   ]
  },
  {
   "cell_type": "code",
   "execution_count": 132,
   "metadata": {
    "colab": {
     "base_uri": "https://localhost:8080/",
     "height": 35
    },
    "colab_type": "code",
    "id": "pJzrvQk6wIBI",
    "outputId": "58d276ce-63cd-499b-e370-ebf46d4b5846"
   },
   "outputs": [
    {
     "data": {
      "text/plain": [
       "0.9880560269043186"
      ]
     },
     "execution_count": 132,
     "metadata": {},
     "output_type": "execute_result"
    }
   ],
   "source": [
    "np.amax(arr) # measure of centrality"
   ]
  },
  {
   "cell_type": "code",
   "execution_count": 134,
   "metadata": {
    "colab": {
     "base_uri": "https://localhost:8080/",
     "height": 35
    },
    "colab_type": "code",
    "id": "Utj3RY5MwLcd",
    "outputId": "a59c2a8b-e3f9-4a77-9754-534b88c48d01"
   },
   "outputs": [
    {
     "data": {
      "text/plain": [
       "0.5051451739590579"
      ]
     },
     "execution_count": 134,
     "metadata": {},
     "output_type": "execute_result"
    }
   ],
   "source": [
    "np.mean(arr) # measure of centrality"
   ]
  },
  {
   "cell_type": "code",
   "execution_count": 135,
   "metadata": {
    "colab": {
     "base_uri": "https://localhost:8080/",
     "height": 35
    },
    "colab_type": "code",
    "id": "QpiM58TDwPsM",
    "outputId": "974879ec-2097-484f-f73b-ca6536abbadc"
   },
   "outputs": [
    {
     "data": {
      "text/plain": [
       "0.08881461201088914"
      ]
     },
     "execution_count": 135,
     "metadata": {},
     "output_type": "execute_result"
    }
   ],
   "source": [
    "np.var(arr) # measure of spread"
   ]
  },
  {
   "cell_type": "code",
   "execution_count": 136,
   "metadata": {
    "colab": {
     "base_uri": "https://localhost:8080/",
     "height": 35
    },
    "colab_type": "code",
    "id": "tPqPqG03wTSC",
    "outputId": "78dfa19a-59e9-4b29-e807-5d8eee04ebb9"
   },
   "outputs": [
    {
     "data": {
      "text/plain": [
       "0.29801780485549706"
      ]
     },
     "execution_count": 136,
     "metadata": {},
     "output_type": "execute_result"
    }
   ],
   "source": [
    "np.std(arr) # measure of spread"
   ]
  },
  {
   "cell_type": "code",
   "execution_count": 137,
   "metadata": {
    "colab": {
     "base_uri": "https://localhost:8080/",
     "height": 35
    },
    "colab_type": "code",
    "id": "zhwze9MnwUqC",
    "outputId": "437c0bcd-4aea-4710-8bcd-bdfd7ac978a9"
   },
   "outputs": [
    {
     "data": {
      "text/plain": [
       "0.5277188262427819"
      ]
     },
     "execution_count": 137,
     "metadata": {},
     "output_type": "execute_result"
    }
   ],
   "source": [
    "np.median(arr) # measure of centrality"
   ]
  },
  {
   "cell_type": "code",
   "execution_count": 138,
   "metadata": {
    "colab": {
     "base_uri": "https://localhost:8080/",
     "height": 35
    },
    "colab_type": "code",
    "id": "DGHAXp1UwYpe",
    "outputId": "61931c52-370a-420a-83e8-e5a1328c542f"
   },
   "outputs": [
    {
     "data": {
      "text/plain": [
       "0.5277188262427819"
      ]
     },
     "execution_count": 138,
     "metadata": {},
     "output_type": "execute_result"
    }
   ],
   "source": [
    "np.percentile(arr, 50) # measure of spread - 50th percentile"
   ]
  },
  {
   "cell_type": "code",
   "execution_count": 139,
   "metadata": {
    "colab": {
     "base_uri": "https://localhost:8080/",
     "height": 35
    },
    "colab_type": "code",
    "id": "hz4lmGUJwdSD",
    "outputId": "b0875be5-ac8a-4b7b-b41b-4a00879da81f"
   },
   "outputs": [
    {
     "data": {
      "text/plain": [
       "0.09640493834246791"
      ]
     },
     "execution_count": 139,
     "metadata": {},
     "output_type": "execute_result"
    }
   ],
   "source": [
    "np.percentile(arr, 10)# measure of spread"
   ]
  },
  {
   "cell_type": "code",
   "execution_count": 140,
   "metadata": {
    "colab": {
     "base_uri": "https://localhost:8080/",
     "height": 35
    },
    "colab_type": "code",
    "id": "dnIG-AJJwfdU",
    "outputId": "3a18a60b-ae82-4c46-bbfd-130e6c051e20"
   },
   "outputs": [
    {
     "data": {
      "text/plain": [
       "0.9019088021799113"
      ]
     },
     "execution_count": 140,
     "metadata": {},
     "output_type": "execute_result"
    }
   ],
   "source": [
    "np.percentile(arr, 90) # measure of spread"
   ]
  },
  {
   "cell_type": "code",
   "execution_count": 146,
   "metadata": {
    "colab": {
     "base_uri": "https://localhost:8080/",
     "height": 54
    },
    "colab_type": "code",
    "id": "dGK2Nv5hwgfm",
    "outputId": "ecd05dfb-dc15-4d40-dea4-323043d399d6"
   },
   "outputs": [
    {
     "name": "stdout",
     "output_type": "stream",
     "text": [
      "0.5389713319895126\n",
      "Wall time: 966 µs\n"
     ]
    }
   ],
   "source": [
    "%%time\n",
    "iqr = np.percentile(arr, 75) - np.percentile(arr, 25)\n",
    "print(iqr)"
   ]
  },
  {
   "cell_type": "code",
   "execution_count": 147,
   "metadata": {
    "colab": {
     "base_uri": "https://localhost:8080/",
     "height": 54
    },
    "colab_type": "code",
    "id": "v523FMvSws4N",
    "outputId": "0063177c-4cee-4a7c-b0de-347e8a801417"
   },
   "outputs": [
    {
     "name": "stdout",
     "output_type": "stream",
     "text": [
      "[0.21446839 0.75343972]\n",
      "0.5389713319895126\n",
      "Wall time: 1 ms\n"
     ]
    }
   ],
   "source": [
    "%%time\n",
    "quartiles = np.percentile(arr, [25, 75])\n",
    "iqr = quartiles[1] - quartiles[0]       # by indexing\n",
    "\n",
    "\n",
    "print(quartiles)\n",
    "\n",
    "print(iqr)"
   ]
  },
  {
   "cell_type": "code",
   "execution_count": 148,
   "metadata": {
    "colab": {
     "base_uri": "https://localhost:8080/",
     "height": 54
    },
    "colab_type": "code",
    "id": "JovlaD8wxGGA",
    "outputId": "442aaedc-b960-4afa-c49b-f325d4dfa1c1"
   },
   "outputs": [
    {
     "data": {
      "text/plain": [
       "array([ 1.33939584, -1.13034907,  0.82961769,  1.11046275, -0.48688958,\n",
       "        0.51727213,  0.17156121,  0.67231042,  1.23864556, -0.02686745,\n",
       "        1.6204094 , -0.48782833,  0.37670591, -1.61125348, -0.23716697,\n",
       "       -0.88133321, -1.58988217,  0.81948857, -0.65727185,  1.49488797,\n",
       "        1.3483394 , -1.43460781, -0.02834541,  1.39488307,  0.45822329,\n",
       "        0.05747501,  1.57901534, -1.21249729, -0.98952403,  1.43640974,\n",
       "       -1.24584621, -1.59972533,  0.2025346 ,  0.88338294, -0.71547867,\n",
       "        0.0174598 ,  1.09939065,  0.73234454, -0.87875313, -0.87264023,\n",
       "        1.38511978, -0.06744628,  0.52221644, -0.0415921 , -0.97064822,\n",
       "        0.40973599,  0.66785455,  0.2078875 , -1.18618453,  1.46946411,\n",
       "        0.94726999, -0.66492801,  0.20131   , -1.60166124, -0.82687675,\n",
       "        0.26951492, -1.43757858, -0.06075385, -1.2277267 ,  1.25936544,\n",
       "        1.49094207, -1.32162843,  0.43047291,  0.96493547, -1.30130717,\n",
       "        0.84376056, -1.03423181,  0.74005566,  0.0421412 , -0.41026398,\n",
       "       -0.53284855, -0.15759603,  0.62633447, -1.36814622,  1.32145677,\n",
       "       -1.27972095, -1.58996345,  0.49309583, -0.85662657,  0.29644589,\n",
       "       -1.35752331, -0.19618049, -1.4377096 , -1.3585044 ,  1.03343825,\n",
       "        0.40047573, -1.13662845,  1.19918089,  0.72981579, -1.40197987,\n",
       "        1.33044716, -1.56566822,  0.86290289,  0.0290445 ,  0.09401696,\n",
       "        1.0830099 ,  0.72101966, -1.06381006,  1.32772241,  0.74132455])"
      ]
     },
     "execution_count": 148,
     "metadata": {},
     "output_type": "execute_result"
    }
   ],
   "source": [
    "(arr - np.mean(arr))/np.std(arr)"
   ]
  },
  {
   "cell_type": "code",
   "execution_count": 149,
   "metadata": {
    "colab": {
     "base_uri": "https://localhost:8080/",
     "height": 109
    },
    "colab_type": "code",
    "id": "zcEfRhZgxhuv",
    "outputId": "d95a2e27-7fec-4c9b-e6c3-cfe07c6163fd"
   },
   "outputs": [
    {
     "data": {
      "text/plain": [
       "(array([15, 11,  8,  4,  8, 11,  9, 14,  7, 13], dtype=int64),\n",
       " array([0.02496295, 0.12127226, 0.21758156, 0.31389087, 0.41020018,\n",
       "        0.50650949, 0.6028188 , 0.6991281 , 0.79543741, 0.89174672,\n",
       "        0.98805603]))"
      ]
     },
     "execution_count": 149,
     "metadata": {},
     "output_type": "execute_result"
    }
   ],
   "source": [
    "np.histogram(arr)"
   ]
  },
  {
   "cell_type": "code",
   "execution_count": 150,
   "metadata": {
    "colab": {
     "base_uri": "https://localhost:8080/",
     "height": 72
    },
    "colab_type": "code",
    "id": "LwtxZSn9xruv",
    "outputId": "d2d21648-af6f-4dde-b2b2-6d74c7f21e0a"
   },
   "outputs": [
    {
     "data": {
      "text/plain": [
       "(array([26, 12, 19, 23, 20], dtype=int64),\n",
       " array([0.02496295, 0.21758156, 0.41020018, 0.6028188 , 0.79543741,\n",
       "        0.98805603]))"
      ]
     },
     "execution_count": 150,
     "metadata": {},
     "output_type": "execute_result"
    }
   ],
   "source": [
    "np.histogram(arr, bins=5)"
   ]
  },
  {
   "cell_type": "code",
   "execution_count": 151,
   "metadata": {
    "colab": {
     "base_uri": "https://localhost:8080/",
     "height": 54
    },
    "colab_type": "code",
    "id": "iTcZBG51x45W",
    "outputId": "13a3af6b-dcc0-4377-eb0b-c9c5c3417916"
   },
   "outputs": [
    {
     "data": {
      "text/plain": [
       "(array([30, 16, 28, 26], dtype=int64), array([0.  , 0.25, 0.5 , 0.75, 1.  ]))"
      ]
     },
     "execution_count": 151,
     "metadata": {},
     "output_type": "execute_result"
    }
   ],
   "source": [
    "np.histogram(arr, bins=[0, 0.25, 0.5, 0.75, 1])"
   ]
  },
  {
   "cell_type": "code",
   "execution_count": 152,
   "metadata": {
    "colab": {},
    "colab_type": "code",
    "id": "U0XTmMKix-Qi"
   },
   "outputs": [],
   "source": [
    "bins = [0, 0.25, 0.5, 0.75, 1]"
   ]
  },
  {
   "cell_type": "code",
   "execution_count": 153,
   "metadata": {
    "colab": {
     "base_uri": "https://localhost:8080/",
     "height": 35
    },
    "colab_type": "code",
    "id": "iDus-okdyG16",
    "outputId": "1e1d99f6-184b-4a42-c16e-0dd091e1202c"
   },
   "outputs": [
    {
     "data": {
      "text/plain": [
       "array([4, 1, 4, 4, 2, 3, 3, 3, 4, 2, 4, 2, 3, 1, 2, 1, 1, 3, 2, 4, 4, 1,\n",
       "       2, 4, 3, 3, 4, 1, 1, 4, 1, 1, 3, 4, 2, 3, 4, 3, 1, 1, 4, 2, 3, 2,\n",
       "       1, 3, 3, 3, 1, 4, 4, 2, 3, 1, 2, 3, 1, 2, 1, 4, 4, 1, 3, 4, 1, 4,\n",
       "       1, 3, 3, 2, 2, 2, 3, 1, 4, 1, 1, 3, 1, 3, 1, 2, 1, 1, 4, 3, 1, 4,\n",
       "       3, 1, 4, 1, 4, 3, 3, 4, 3, 1, 4, 3], dtype=int64)"
      ]
     },
     "execution_count": 153,
     "metadata": {},
     "output_type": "execute_result"
    }
   ],
   "source": [
    "np.digitize(arr, bins)"
   ]
  },
  {
   "cell_type": "code",
   "execution_count": 154,
   "metadata": {
    "colab": {},
    "colab_type": "code",
    "id": "3incboaHyIfV"
   },
   "outputs": [],
   "source": [
    "arr1 = np.random.randint(0, 10, (10))"
   ]
  },
  {
   "cell_type": "code",
   "execution_count": 155,
   "metadata": {
    "colab": {
     "base_uri": "https://localhost:8080/",
     "height": 35
    },
    "colab_type": "code",
    "id": "zV79sa7tyTS0",
    "outputId": "17cba791-8023-46ae-a500-4b5fb0ecce3c"
   },
   "outputs": [
    {
     "data": {
      "text/plain": [
       "array([2, 4, 5, 8, 4, 7, 8, 0, 7, 4])"
      ]
     },
     "execution_count": 155,
     "metadata": {},
     "output_type": "execute_result"
    }
   ],
   "source": [
    "arr1"
   ]
  },
  {
   "cell_type": "code",
   "execution_count": 156,
   "metadata": {
    "colab": {},
    "colab_type": "code",
    "id": "h9HV9Q8RyT5Y"
   },
   "outputs": [],
   "source": [
    "bins = [0, 6, 10]"
   ]
  },
  {
   "cell_type": "code",
   "execution_count": 157,
   "metadata": {
    "colab": {
     "base_uri": "https://localhost:8080/",
     "height": 35
    },
    "colab_type": "code",
    "id": "VTzSC80uyXq0",
    "outputId": "d0f72a98-0c1d-4f26-9397-382895510603"
   },
   "outputs": [
    {
     "data": {
      "text/plain": [
       "array([1, 1, 1, 2, 1, 2, 2, 1, 2, 1], dtype=int64)"
      ]
     },
     "execution_count": 157,
     "metadata": {},
     "output_type": "execute_result"
    }
   ],
   "source": [
    "np.digitize(arr1, bins) # Return the indices of the bins"
   ]
  },
  {
   "cell_type": "code",
   "execution_count": 159,
   "metadata": {
    "colab": {
     "base_uri": "https://localhost:8080/",
     "height": 35
    },
    "colab_type": "code",
    "id": "VhJZ7RpRyY9R",
    "outputId": "034d4c56-5e67-4bbe-f527-d3b3dc0dd551"
   },
   "outputs": [
    {
     "data": {
      "text/plain": [
       "array([1, 1, 1, 2, 1, 2, 2, 0, 2, 1], dtype=int64)"
      ]
     },
     "execution_count": 159,
     "metadata": {},
     "output_type": "execute_result"
    }
   ],
   "source": [
    "np.digitize(arr1, bins, right=True)"
   ]
  },
  {
   "cell_type": "code",
   "execution_count": 160,
   "metadata": {
    "colab": {},
    "colab_type": "code",
    "id": "2PfKNg2Jylbr"
   },
   "outputs": [],
   "source": [
    "arr1 = np.random.randint(50, 80, 100) # weight"
   ]
  },
  {
   "cell_type": "code",
   "execution_count": 161,
   "metadata": {
    "colab": {},
    "colab_type": "code",
    "id": "jhNl-W2ny0Qp"
   },
   "outputs": [],
   "source": [
    "arr2 = np.random.randint(150, 185, 100) # heights"
   ]
  },
  {
   "cell_type": "code",
   "execution_count": 162,
   "metadata": {
    "colab": {},
    "colab_type": "code",
    "id": "0xbdhrDBy4Vx"
   },
   "outputs": [],
   "source": [
    "arr3 = np.random.randint(17, 22, 100) # age"
   ]
  },
  {
   "cell_type": "code",
   "execution_count": 163,
   "metadata": {
    "colab": {
     "base_uri": "https://localhost:8080/",
     "height": 35
    },
    "colab_type": "code",
    "id": "1qT2iCgPy7Hq",
    "outputId": "958b6adf-2348-4053-b498-0bce6d4cb2f0"
   },
   "outputs": [
    {
     "data": {
      "text/plain": [
       "(300,)"
      ]
     },
     "execution_count": 163,
     "metadata": {},
     "output_type": "execute_result"
    }
   ],
   "source": [
    "np.concatenate((arr1, arr2, arr3)).shape"
   ]
  },
  {
   "cell_type": "code",
   "execution_count": 164,
   "metadata": {
    "colab": {
     "base_uri": "https://localhost:8080/",
     "height": 35
    },
    "colab_type": "code",
    "id": "mBpCCPpCzL_8",
    "outputId": "fdc24d03-f447-4e15-aa6e-990f3d3ae3f5"
   },
   "outputs": [
    {
     "data": {
      "text/plain": [
       "(3, 100)"
      ]
     },
     "execution_count": 164,
     "metadata": {},
     "output_type": "execute_result"
    }
   ],
   "source": [
    "np.vstack((arr1, arr2, arr3)).shape"
   ]
  },
  {
   "cell_type": "code",
   "execution_count": 165,
   "metadata": {
    "colab": {},
    "colab_type": "code",
    "id": "WSFsv7K6zcMr"
   },
   "outputs": [],
   "source": [
    "arr2d = np.vstack((arr1, arr2, arr3))"
   ]
  },
  {
   "cell_type": "code",
   "execution_count": 166,
   "metadata": {
    "colab": {
     "base_uri": "https://localhost:8080/",
     "height": 35
    },
    "colab_type": "code",
    "id": "TPyLPXI2zkaR",
    "outputId": "b3903936-e2a1-41fe-f6a8-77968ff759bc"
   },
   "outputs": [
    {
     "data": {
      "text/plain": [
       "array([ 50, 150,  17])"
      ]
     },
     "execution_count": 166,
     "metadata": {},
     "output_type": "execute_result"
    }
   ],
   "source": [
    "np.amin(arr2d, axis=1)"
   ]
  },
  {
   "cell_type": "code",
   "execution_count": 167,
   "metadata": {
    "colab": {
     "base_uri": "https://localhost:8080/",
     "height": 35
    },
    "colab_type": "code",
    "id": "Gs28beuPzmOo",
    "outputId": "8e145e68-60e6-487f-e59a-19a282a69629"
   },
   "outputs": [
    {
     "data": {
      "text/plain": [
       "array([ 79, 184,  21])"
      ]
     },
     "execution_count": 167,
     "metadata": {},
     "output_type": "execute_result"
    }
   ],
   "source": [
    "np.amax(arr2d, axis=1)"
   ]
  },
  {
   "cell_type": "code",
   "execution_count": 168,
   "metadata": {
    "colab": {
     "base_uri": "https://localhost:8080/",
     "height": 35
    },
    "colab_type": "code",
    "id": "dOezzskxz-YP",
    "outputId": "100fb874-5a31-4017-d3ba-59035058048f"
   },
   "outputs": [
    {
     "data": {
      "text/plain": [
       "array([ 64.67, 166.08,  18.96])"
      ]
     },
     "execution_count": 168,
     "metadata": {},
     "output_type": "execute_result"
    }
   ],
   "source": [
    "np.mean(arr2d, axis=1)"
   ]
  },
  {
   "cell_type": "markdown",
   "metadata": {
    "colab_type": "text",
    "id": "VWepKz6S0-6R"
   },
   "source": [
    "# Checking stats rules with numpy"
   ]
  },
  {
   "cell_type": "markdown",
   "metadata": {
    "colab_type": "text",
    "id": "V4H98xu21BC5"
   },
   "source": [
    "## Mean subracted array has zero mean"
   ]
  },
  {
   "cell_type": "code",
   "execution_count": 171,
   "metadata": {
    "colab": {},
    "colab_type": "code",
    "id": "318AUnPqz_w4"
   },
   "outputs": [
    {
     "data": {
      "text/plain": [
       "array([0.40808268, 0.23459066, 0.12643258, 0.60918008, 0.14295822,\n",
       "       0.37066625, 0.64802848, 0.85492856, 0.23622609, 0.4641332 ,\n",
       "       0.13227385, 0.5337433 , 0.12067452, 0.99550501, 0.66121367,\n",
       "       0.4736499 , 0.3127566 , 0.00703105, 0.61764677, 0.50401485,\n",
       "       0.08771751, 0.9954337 , 0.98330233, 0.66821242, 0.09226804,\n",
       "       0.12931166, 0.45558236, 0.75809121, 0.52656366, 0.98943096,\n",
       "       0.70918826, 0.20891337, 0.57206479, 0.65403975, 0.28967052,\n",
       "       0.17317   , 0.2931737 , 0.6829128 , 0.68333436, 0.9238367 ,\n",
       "       0.44352045, 0.55410701, 0.86478682, 0.18642538, 0.54354719,\n",
       "       0.54900884, 0.8304359 , 0.69809541, 0.51287932, 0.33957598,\n",
       "       0.53536251, 0.8100358 , 0.05987634, 0.65729463, 0.4583875 ,\n",
       "       0.07103519, 0.79470887, 0.60372437, 0.44950388, 0.744529  ,\n",
       "       0.64436909, 0.09572082, 0.39225563, 0.58353246, 0.75875314,\n",
       "       0.98702693, 0.16017749, 0.09678427, 0.81119894, 0.31892722,\n",
       "       0.1117118 , 0.54670339, 0.92974634, 0.245798  , 0.98918887,\n",
       "       0.71643574, 0.1130614 , 0.10015038, 0.34299809, 0.18645762,\n",
       "       0.68656421, 0.19292496, 0.40064802, 0.40549718, 0.46155084,\n",
       "       0.69178265, 0.10548482, 0.93015018, 0.52088651, 0.52640807,\n",
       "       0.57478869, 0.94218843, 0.26644498, 0.43266222, 0.10059637,\n",
       "       0.30928521, 0.37653975, 0.46139167, 0.53038517, 0.44979098])"
      ]
     },
     "execution_count": 171,
     "metadata": {},
     "output_type": "execute_result"
    }
   ],
   "source": [
    "arr = np.random.rand(100)\n",
    "arr"
   ]
  },
  {
   "cell_type": "code",
   "execution_count": 173,
   "metadata": {
    "colab": {},
    "colab_type": "code",
    "id": "kENdl4Xi1UGF"
   },
   "outputs": [
    {
     "data": {
      "text/plain": [
       "0.4853376334524343"
      ]
     },
     "execution_count": 173,
     "metadata": {},
     "output_type": "execute_result"
    }
   ],
   "source": [
    "mean = np.mean(arr)\n",
    "mean"
   ]
  },
  {
   "cell_type": "code",
   "execution_count": 177,
   "metadata": {
    "colab": {},
    "colab_type": "code",
    "id": "GRbvx9nh1WKE"
   },
   "outputs": [
    {
     "data": {
      "text/plain": [
       "1.1102230246251566e-17"
      ]
     },
     "execution_count": 177,
     "metadata": {},
     "output_type": "execute_result"
    }
   ],
   "source": [
    "arr1 = arr - mean\n",
    "arr1\n",
    "np.mean(arr1)"
   ]
  },
  {
   "cell_type": "code",
   "execution_count": null,
   "metadata": {
    "colab": {
     "base_uri": "https://localhost:8080/",
     "height": 35
    },
    "colab_type": "code",
    "id": "Dzxf2YGB1XrF",
    "outputId": "f91c9039-d62b-40e8-cf21-4d5361580bda"
   },
   "outputs": [],
   "source": []
  },
  {
   "cell_type": "markdown",
   "metadata": {
    "colab_type": "text",
    "id": "oFy2ji-A1oAn"
   },
   "source": [
    "## Computing mean with smaller set of values"
   ]
  },
  {
   "cell_type": "code",
   "execution_count": 178,
   "metadata": {
    "colab": {},
    "colab_type": "code",
    "id": "w2q417Zw1Y39"
   },
   "outputs": [],
   "source": [
    "arr = np.random.rand(1000)"
   ]
  },
  {
   "cell_type": "code",
   "execution_count": 179,
   "metadata": {
    "colab": {},
    "colab_type": "code",
    "id": "jqKIWVik1yV7"
   },
   "outputs": [
    {
     "name": "stdout",
     "output_type": "stream",
     "text": [
      "1 0.7051072042651707\n",
      "2 0.8235446949294416\n",
      "3 0.7517448290291883\n",
      "4 0.7968726805144799\n",
      "5 0.8217899796844528\n",
      "6 0.7062109849653314\n",
      "7 0.6418112748672024\n",
      "8 0.6732260864541486\n",
      "9 0.6850938724974003\n",
      "10 0.6618681428736412\n",
      "11 0.6691677132262535\n",
      "12 0.6718730358893327\n",
      "13 0.6649276697168685\n",
      "14 0.6865016877888267\n",
      "15 0.6602474453223568\n",
      "16 0.6475243727419788\n",
      "17 0.6474968704249076\n",
      "18 0.6662354661664119\n",
      "19 0.6316030712752272\n",
      "20 0.6040521953252224\n",
      "21 0.5999853329327003\n",
      "22 0.5739940793013365\n",
      "23 0.5604483144630589\n",
      "24 0.5704954242650612\n",
      "25 0.5869583743980246\n",
      "26 0.5851719675375241\n",
      "27 0.587576522135399\n",
      "28 0.5837335612156271\n",
      "29 0.5962371938924811\n",
      "30 0.5825778149974142\n",
      "31 0.5721034887179666\n",
      "32 0.5627582021699297\n",
      "33 0.5541858449037884\n",
      "34 0.5531377098003967\n",
      "35 0.5535512706547004\n",
      "36 0.5428396423390628\n",
      "37 0.5366011190009727\n",
      "38 0.5265335813951211\n",
      "39 0.5315997259876653\n",
      "40 0.5408665309499197\n",
      "41 0.5398424838939466\n",
      "42 0.5455596829506227\n",
      "43 0.5415541445889198\n",
      "44 0.5341531977484985\n",
      "45 0.5272148638566666\n",
      "46 0.5277630500103999\n",
      "47 0.5206334757898898\n",
      "48 0.5156444961138437\n",
      "49 0.5191351819954628\n"
     ]
    }
   ],
   "source": [
    "for k in range(1, 50):\n",
    "    arr1 = arr[0:k]\n",
    "    print(k, np.mean(arr1))"
   ]
  },
  {
   "cell_type": "code",
   "execution_count": 181,
   "metadata": {
    "colab": {},
    "colab_type": "code",
    "id": "d-Oo2bb92TZL"
   },
   "outputs": [
    {
     "data": {
      "text/plain": [
       "<function numpy.cumsum(a, axis=None, dtype=None, out=None)>"
      ]
     },
     "execution_count": 181,
     "metadata": {},
     "output_type": "execute_result"
    }
   ],
   "source": [
    "np.cumsum # cumulative sum "
   ]
  },
  {
   "cell_type": "code",
   "execution_count": 182,
   "metadata": {
    "colab": {},
    "colab_type": "code",
    "id": "PiaXg9-57NHs"
   },
   "outputs": [],
   "source": [
    "means = np.cumsum(arr)/np.arange(1,1001)"
   ]
  },
  {
   "cell_type": "code",
   "execution_count": 183,
   "metadata": {
    "colab": {
     "base_uri": "https://localhost:8080/",
     "height": 72
    },
    "colab_type": "code",
    "id": "kFnc0ECw7QM4",
    "outputId": "c83c514f-5d3d-44fb-caab-a663d3ce689d"
   },
   "outputs": [
    {
     "data": {
      "text/plain": [
       "array([0.7051072 , 0.82354469, 0.75174483, 0.79687268, 0.82178998,\n",
       "       0.70621098, 0.64181127, 0.67322609, 0.68509387, 0.66186814,\n",
       "       0.66916771, 0.67187304, 0.66492767, 0.68650169, 0.66024745])"
      ]
     },
     "execution_count": 183,
     "metadata": {},
     "output_type": "execute_result"
    }
   ],
   "source": [
    "means[0:15]"
   ]
  },
  {
   "cell_type": "markdown",
   "metadata": {
    "colab_type": "text",
    "id": "5LoAAMS28NIG"
   },
   "source": [
    "## Effect of outliers on mean and median"
   ]
  },
  {
   "cell_type": "code",
   "execution_count": 209,
   "metadata": {
    "colab": {},
    "colab_type": "code",
    "id": "qC4adtFU8KXT"
   },
   "outputs": [
    {
     "data": {
      "text/plain": [
       "array([19, 64, 11, 85, 81, 60, 63,  3, 24, 47, 90,  7, 45, 50, 70, 34, 11,\n",
       "       65, 80, 37, 79, 12, 30, 25, 63, 75, 86, 14, 56, 52, 81, 43, 54, 74,\n",
       "       87, 80, 14, 63, 40, 42, 30,  8, 76, 59, 38, 17, 66, 95, 69, 10, 23,\n",
       "       83, 20, 25, 60, 96, 59, 94, 31, 81, 76, 70, 82,  6, 68, 16, 68, 66,\n",
       "       19, 68, 61, 12, 26, 83, 89, 72, 21, 25, 74, 49, 42, 69,  8, 68,  5,\n",
       "       56, 91, 21, 44, 71, 88, 36, 76, 56, 96, 22, 71,  2, 31, 22])"
      ]
     },
     "execution_count": 209,
     "metadata": {},
     "output_type": "execute_result"
    }
   ],
   "source": [
    "arr = np.random.randint(1, 100, 100)\n",
    "arr"
   ]
  },
  {
   "cell_type": "code",
   "execution_count": 210,
   "metadata": {},
   "outputs": [
    {
     "data": {
      "text/plain": [
       "(100,)"
      ]
     },
     "execution_count": 210,
     "metadata": {},
     "output_type": "execute_result"
    }
   ],
   "source": [
    "arr.shape"
   ]
  },
  {
   "cell_type": "code",
   "execution_count": 211,
   "metadata": {
    "colab": {
     "base_uri": "https://localhost:8080/",
     "height": 35
    },
    "colab_type": "code",
    "id": "IneFGRwU8S7H",
    "outputId": "1d97a592-8f7e-4277-8bf3-0e373b0df25b"
   },
   "outputs": [
    {
     "data": {
      "text/plain": [
       "50.82"
      ]
     },
     "execution_count": 211,
     "metadata": {},
     "output_type": "execute_result"
    }
   ],
   "source": [
    "np.mean(arr)"
   ]
  },
  {
   "cell_type": "code",
   "execution_count": 212,
   "metadata": {
    "colab": {
     "base_uri": "https://localhost:8080/",
     "height": 35
    },
    "colab_type": "code",
    "id": "PIiGABZq8Tw8",
    "outputId": "f66e47fa-6ae2-4ba6-c89e-819ac0d07719"
   },
   "outputs": [
    {
     "data": {
      "text/plain": [
       "56.0"
      ]
     },
     "execution_count": 212,
     "metadata": {},
     "output_type": "execute_result"
    }
   ],
   "source": [
    "np.median(arr)"
   ]
  },
  {
   "cell_type": "code",
   "execution_count": 213,
   "metadata": {
    "colab": {},
    "colab_type": "code",
    "id": "YIt0WWPh8U2A"
   },
   "outputs": [],
   "source": [
    "arr_w_outlier = np.append(arr, [1000, 2000])"
   ]
  },
  {
   "cell_type": "code",
   "execution_count": 214,
   "metadata": {
    "colab": {
     "base_uri": "https://localhost:8080/",
     "height": 35
    },
    "colab_type": "code",
    "id": "s0yiwz5P8b9N",
    "outputId": "001c6e40-bedf-414e-e68b-d61a048d6364"
   },
   "outputs": [
    {
     "data": {
      "text/plain": [
       "(102,)"
      ]
     },
     "execution_count": 214,
     "metadata": {},
     "output_type": "execute_result"
    }
   ],
   "source": [
    "arr_w_outlier.shape"
   ]
  },
  {
   "cell_type": "code",
   "execution_count": 215,
   "metadata": {
    "colab": {
     "base_uri": "https://localhost:8080/",
     "height": 35
    },
    "colab_type": "code",
    "id": "gU97HqCo8dzZ",
    "outputId": "710fd48e-8af9-49a8-dc15-bc73a44de015"
   },
   "outputs": [
    {
     "data": {
      "text/plain": [
       "79.23529411764706"
      ]
     },
     "execution_count": 215,
     "metadata": {},
     "output_type": "execute_result"
    }
   ],
   "source": [
    "np.mean(arr_w_outlier) # Outliers affect the mean not the median. "
   ]
  },
  {
   "cell_type": "code",
   "execution_count": 216,
   "metadata": {
    "colab": {
     "base_uri": "https://localhost:8080/",
     "height": 35
    },
    "colab_type": "code",
    "id": "_3X0E37C8gCu",
    "outputId": "42d2651a-3c3e-413a-9ce7-f29a57f33b29"
   },
   "outputs": [
    {
     "data": {
      "text/plain": [
       "57.5"
      ]
     },
     "execution_count": 216,
     "metadata": {},
     "output_type": "execute_result"
    }
   ],
   "source": [
    "np.median(arr_w_outlier) "
   ]
  },
  {
   "cell_type": "markdown",
   "metadata": {
    "colab_type": "text",
    "id": "svLMJcYS8oV1"
   },
   "source": [
    "## Effect of scaling arrays on mean and median"
   ]
  },
  {
   "cell_type": "code",
   "execution_count": 218,
   "metadata": {
    "colab": {},
    "colab_type": "code",
    "id": "tVdjlo3v8ibT"
   },
   "outputs": [
    {
     "data": {
      "text/plain": [
       "array([0.59252671, 0.86708949, 0.421343  , 0.05495776, 0.1375451 ,\n",
       "       0.09549212, 0.4709935 , 0.33165668, 0.64703623, 0.50082042,\n",
       "       0.21503007, 0.51313894, 0.1325744 , 0.572067  , 0.39398331,\n",
       "       0.78109889, 0.47329122, 0.8467751 , 0.56643127, 0.4430911 ,\n",
       "       0.60768507, 0.80747548, 0.6851733 , 0.51046572, 0.93042127,\n",
       "       0.0236477 , 0.44546311, 0.36948843, 0.60392044, 0.63244446,\n",
       "       0.15741849, 0.99457764, 0.14817776, 0.44597596, 0.3723749 ,\n",
       "       0.13273025, 0.69609818, 0.5642858 , 0.48866376, 0.2006253 ,\n",
       "       0.53112111, 0.55484065, 0.923874  , 0.63893561, 0.13175303,\n",
       "       0.15589729, 0.6563592 , 0.38950819, 0.66845615, 0.19508348,\n",
       "       0.81480509, 0.8310767 , 0.95028855, 0.88947364, 0.31543679,\n",
       "       0.96586958, 0.74605075, 0.99320834, 0.29653786, 0.19055782,\n",
       "       0.72859549, 0.06901062, 0.0670685 , 0.20747363, 0.09004778,\n",
       "       0.70081173, 0.85432242, 0.16724042, 0.18570498, 0.39763704,\n",
       "       0.46163824, 0.00143144, 0.57530973, 0.14309162, 0.00820758,\n",
       "       0.84023613, 0.5695457 , 0.76811752, 0.45714246, 0.40842295,\n",
       "       0.06280843, 0.21644199, 0.26728414, 0.54164654, 0.9643788 ,\n",
       "       0.89898734, 0.09446164, 0.73038433, 0.30470576, 0.37627366,\n",
       "       0.37826481, 0.92576269, 0.91787505, 0.99437668, 0.96381522,\n",
       "       0.36849747, 0.18813559, 0.39199959, 0.54439671, 0.92643061])"
      ]
     },
     "execution_count": 218,
     "metadata": {},
     "output_type": "execute_result"
    }
   ],
   "source": [
    "arr = np.random.rand(100)\n",
    "arr"
   ]
  },
  {
   "cell_type": "code",
   "execution_count": 219,
   "metadata": {
    "colab": {
     "base_uri": "https://localhost:8080/",
     "height": 35
    },
    "colab_type": "code",
    "id": "VecKVa0l8vPU",
    "outputId": "c7e23c8f-f5ed-46b1-cabe-046a87c65593"
   },
   "outputs": [
    {
     "data": {
      "text/plain": [
       "0.4947117219565867"
      ]
     },
     "execution_count": 219,
     "metadata": {},
     "output_type": "execute_result"
    }
   ],
   "source": [
    "np.mean(arr)"
   ]
  },
  {
   "cell_type": "code",
   "execution_count": 220,
   "metadata": {
    "colab": {
     "base_uri": "https://localhost:8080/",
     "height": 35
    },
    "colab_type": "code",
    "id": "FjMm5Imq8ww_",
    "outputId": "30ad1ef2-e60b-4f2c-bd23-9d36bd42964d"
   },
   "outputs": [
    {
     "data": {
      "text/plain": [
       "0.4809774912050375"
      ]
     },
     "execution_count": 220,
     "metadata": {},
     "output_type": "execute_result"
    }
   ],
   "source": [
    "np.median(arr)"
   ]
  },
  {
   "cell_type": "code",
   "execution_count": 221,
   "metadata": {
    "colab": {},
    "colab_type": "code",
    "id": "OL5RcaeM8xXd"
   },
   "outputs": [],
   "source": [
    "arr1 = 2.5 * arr + 0.65 # scaling by 2.5 nd shifting by .65."
   ]
  },
  {
   "cell_type": "code",
   "execution_count": 223,
   "metadata": {
    "colab": {
     "base_uri": "https://localhost:8080/",
     "height": 35
    },
    "colab_type": "code",
    "id": "Y32GqKqi83f6",
    "outputId": "2b296231-a177-4ada-80d6-d4d122d072c1"
   },
   "outputs": [
    {
     "name": "stdout",
     "output_type": "stream",
     "text": [
      "1.886779304891467 1.886779304891467\n"
     ]
    }
   ],
   "source": [
    "print(np.mean(2.5 * arr + 0.65), # effect of scaling nd shift. on mean \n",
    "      2.5 * np.mean(arr) + 0.65)"
   ]
  },
  {
   "cell_type": "code",
   "execution_count": 227,
   "metadata": {
    "colab": {
     "base_uri": "https://localhost:8080/",
     "height": 35
    },
    "colab_type": "code",
    "id": "jFOv_ciE9A3_",
    "outputId": "09d1f139-3450-4017-efbb-47a639a80b3c"
   },
   "outputs": [
    {
     "name": "stdout",
     "output_type": "stream",
     "text": [
      "1.8524437280125938 1.8524437280125938\n"
     ]
    }
   ],
   "source": [
    "print(np.median(2.5 * arr + 0.65), # effect of scaling nd shift. on median\n",
    "      2.5 * np.median(arr) + 0.65)"
   ]
  },
  {
   "cell_type": "code",
   "execution_count": 226,
   "metadata": {
    "colab": {
     "base_uri": "https://localhost:8080/",
     "height": 35
    },
    "colab_type": "code",
    "id": "ZNZ-5lZQ9I4h",
    "outputId": "0dcc08f4-329c-48af-9f88-ec339759f2fa"
   },
   "outputs": [
    {
     "name": "stdout",
     "output_type": "stream",
     "text": [
      "0.5237853197148404 0.5237853197148404\n"
     ]
    }
   ],
   "source": [
    "print(np.var(2.5 * arr + 0.65), # effect of scaling nd shift. on var. \n",
    "      2.5*2.5*np.var(arr))"
   ]
  },
  {
   "cell_type": "code",
   "execution_count": 231,
   "metadata": {
    "colab": {
     "base_uri": "https://localhost:8080/",
     "height": 35
    },
    "colab_type": "code",
    "id": "nF_kw4jC9M8I",
    "outputId": "1feeffe6-2d41-4b11-9316-86dccca3de3c"
   },
   "outputs": [
    {
     "name": "stdout",
     "output_type": "stream",
     "text": [
      "0.7237301428811989 0.7237301428811987\n"
     ]
    }
   ],
   "source": [
    "print(np.std(2.5 * arr + 0.65), # effect of scaling nd shift. on std \n",
    "      2.5 * np.std(arr))"
   ]
  },
  {
   "cell_type": "code",
   "execution_count": 232,
   "metadata": {
    "colab": {},
    "colab_type": "code",
    "id": "L4h0dNmr9Y5b"
   },
   "outputs": [],
   "source": [
    "arr1 = np.random.rand(100)\n",
    "arr2 = np.random.rand(100)"
   ]
  },
  {
   "cell_type": "code",
   "execution_count": 233,
   "metadata": {
    "colab": {
     "base_uri": "https://localhost:8080/",
     "height": 35
    },
    "colab_type": "code",
    "id": "y9nRViVf9gPE",
    "outputId": "d9b9bbd5-cf0e-46cd-8fb9-a45ca9ec5e52"
   },
   "outputs": [
    {
     "name": "stdout",
     "output_type": "stream",
     "text": [
      "-0.29793595345881335 -0.2979359534588132\n"
     ]
    }
   ],
   "source": [
    "print( np.mean(0.21 * arr1 - 0.75 * arr2), \n",
    "      0.21 * np.mean(arr1) - 0.75 * np.mean(arr2))"
   ]
  },
  {
   "cell_type": "code",
   "execution_count": null,
   "metadata": {},
   "outputs": [],
   "source": []
  }
 ],
 "metadata": {
  "colab": {
   "collapsed_sections": [
    "PDFmEbTwmJyr",
    "xPFrKz2xuH5K",
    "sdv4it47xrkx",
    "Gbx0S1afv7J4",
    "VWepKz6S0-6R",
    "V4H98xu21BC5",
    "oFy2ji-A1oAn",
    "5LoAAMS28NIG",
    "svLMJcYS8oV1"
   ],
   "name": "PadhAI - Python notes 1 ",
   "provenance": []
  },
  "kernelspec": {
   "display_name": "Python 3",
   "language": "python",
   "name": "python3"
  },
  "language_info": {
   "codemirror_mode": {
    "name": "ipython",
    "version": 3
   },
   "file_extension": ".py",
   "mimetype": "text/x-python",
   "name": "python",
   "nbconvert_exporter": "python",
   "pygments_lexer": "ipython3",
   "version": "3.7.3"
  }
 },
 "nbformat": 4,
 "nbformat_minor": 1
}
